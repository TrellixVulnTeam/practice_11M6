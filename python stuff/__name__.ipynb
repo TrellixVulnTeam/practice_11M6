{
 "cells": [
  {
   "cell_type": "markdown",
   "id": "e207da07",
   "metadata": {},
   "source": [
    "https://www.freecodecamp.org/news/if-name-main-python-example/"
   ]
  },
  {
   "cell_type": "code",
   "execution_count": null,
   "id": "fe33d455",
   "metadata": {},
   "outputs": [],
   "source": [
    "if __name__ == '__main__':    main()"
   ]
  },
  {
   "cell_type": "markdown",
   "id": "c20a064e",
   "metadata": {},
   "source": [
    "Python files are called modules and they are identified by the .py file extension. A module can define functions, classes, and variables.\n",
    "\n",
    "So when the interpreter runs a module, the __name__ variable will be set as  __main__ if the module that is being run is the main program.\n",
    "\n",
    "But if the code is importing the module from another module, then the __name__  variable will be set to that module’s name."
   ]
  },
  {
   "cell_type": "markdown",
   "id": "ad475b2a",
   "metadata": {},
   "source": [
    "The variable __name__ for the file/module that is run will be always __main__. But the __name__ variable for all other modules that are being imported will be set to their module's name.\n",
    "\n"
   ]
  },
  {
   "cell_type": "markdown",
   "id": "3ac1fd25",
   "metadata": {},
   "source": [
    "## run file_one.py"
   ]
  },
  {
   "cell_type": "markdown",
   "id": "dd8dbf5a",
   "metadata": {},
   "source": [
    "- file_two runs on import where __name__ set to module name, then file 1 runs where name set to __name__"
   ]
  },
  {
   "cell_type": "markdown",
   "id": "f26e66e4",
   "metadata": {},
   "source": [
    "## run file1.py"
   ]
  },
  {
   "cell_type": "markdown",
   "id": "3eef2f55",
   "metadata": {},
   "source": [
    "- file2 will execute, print module name as imported. then since __name__ != 'main', print else \n",
    "- file1 only imports function3 so only function3 runs when file1 runs."
   ]
  },
  {
   "cell_type": "code",
   "execution_count": null,
   "id": "a70082cb",
   "metadata": {},
   "outputs": [],
   "source": [
    "File two __name__ is set to: file2\n",
    "File two executed when imported\n",
    "File one __name__ is set to: __main__\n",
    "File one executed when ran directly\n",
    "Function two is executed\n",
    "Function three is executed"
   ]
  },
  {
   "cell_type": "markdown",
   "id": "4a087cdb",
   "metadata": {},
   "source": [
    "## run file3.py"
   ]
  },
  {
   "cell_type": "markdown",
   "id": "a7ffdda9",
   "metadata": {},
   "source": [
    "- file2.py runs as imported by file1.py, while file3.py imports file1.py. thus nested running."
   ]
  },
  {
   "cell_type": "code",
   "execution_count": null,
   "id": "4cf63270",
   "metadata": {},
   "outputs": [],
   "source": [
    "File two __name__ is set to: file2\n",
    "File two executed when imported\n",
    "File one __name__ is set to: file1\n",
    "File one executed when imported\n",
    "File two executed when ran directly"
   ]
  }
 ],
 "metadata": {
  "kernelspec": {
   "display_name": "Python 3",
   "language": "python",
   "name": "python3"
  },
  "language_info": {
   "codemirror_mode": {
    "name": "ipython",
    "version": 3
   },
   "file_extension": ".py",
   "mimetype": "text/x-python",
   "name": "python",
   "nbconvert_exporter": "python",
   "pygments_lexer": "ipython3",
   "version": "3.8.5"
  }
 },
 "nbformat": 4,
 "nbformat_minor": 5
}
