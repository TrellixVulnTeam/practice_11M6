{
 "cells": [
  {
   "cell_type": "markdown",
   "id": "1780df72",
   "metadata": {},
   "source": [
    "## args kwargs"
   ]
  },
  {
   "cell_type": "markdown",
   "id": "47d08096",
   "metadata": {},
   "source": [
    "args -> positional arguments only"
   ]
  },
  {
   "cell_type": "code",
   "execution_count": 61,
   "id": "feb81cc1",
   "metadata": {},
   "outputs": [
    {
     "name": "stdout",
     "output_type": "stream",
     "text": [
      "sum 8\n",
      "sum 22\n"
     ]
    }
   ],
   "source": [
    "def adder(*num):\n",
    "    sum = 0\n",
    "    \n",
    "    for n in num:\n",
    "        sum = sum + n\n",
    "        \n",
    "    print('sum', sum)\n",
    "    \n",
    "adder(3,5)\n",
    "adder(4,5,6,7)"
   ]
  },
  {
   "cell_type": "markdown",
   "id": "8d252d04",
   "metadata": {},
   "source": [
    "**kwargs -->  keyword arguments only"
   ]
  },
  {
   "cell_type": "code",
   "execution_count": 66,
   "id": "436103cf",
   "metadata": {},
   "outputs": [
    {
     "name": "stdout",
     "output_type": "stream",
     "text": [
      "\n",
      " data type of argument <class 'dict'>\n",
      "Firstname is Sita\n",
      "Lastname is Sharma\n",
      "Age is 22\n",
      "Phone is 1234567890\n",
      "\n",
      " data type of argument <class 'dict'>\n",
      "Firstname is John\n",
      "Lastname is Wood\n",
      "Email is johnwood@nomail.com\n",
      "Country is Wakanda\n",
      "Age is 25\n",
      "Phone is 9876543210\n"
     ]
    }
   ],
   "source": [
    "def intro(**data):\n",
    "    print(\"\\n data type of argument\", type(data))\n",
    "    \n",
    "    for key, value in data.items():\n",
    "        print('{} is {}'.format(key,value))\n",
    "\n",
    "\n",
    "intro(Firstname=\"Sita\", Lastname=\"Sharma\", Age=22, Phone=1234567890)\n",
    "intro(Firstname=\"John\", Lastname=\"Wood\", Email=\"johnwood@nomail.com\", Country=\"Wakanda\", Age=25, Phone=9876543210)"
   ]
  },
  {
   "cell_type": "markdown",
   "id": "96810354",
   "metadata": {},
   "source": [
    "## Yield n Generators"
   ]
  },
  {
   "cell_type": "code",
   "execution_count": null,
   "id": "316de7bd",
   "metadata": {},
   "outputs": [],
   "source": []
  },
  {
   "cell_type": "markdown",
   "id": "54720ff8",
   "metadata": {},
   "source": [
    "## Context Manager"
   ]
  },
  {
   "cell_type": "markdown",
   "id": "13536b67",
   "metadata": {},
   "source": [
    "when to use: \n",
    "- need to setup , teardown ressources during use (i.e. open close db connections )\n",
    "\n",
    "<b> with </b>\n",
    "- with keyword is used when working with unmanaged resources (like file streams).\n",
    "- ensure that a resource is \"cleaned up\" when the code that uses it finishes running, even if exceptions are thrown. It provides 'syntactic sugar' for try/finally blocks.\n",
    "- https://stackoverflow.com/questions/1369526/what-is-the-python-keyword-with-used-for\n",
    "\n",
    "\n",
    "- https://www.youtube.com/watch?v=-aKFBoZpiqA"
   ]
  },
  {
   "cell_type": "markdown",
   "id": "467663d1",
   "metadata": {},
   "source": [
    "### via class"
   ]
  },
  {
   "cell_type": "code",
   "execution_count": 6,
   "id": "70881782",
   "metadata": {},
   "outputs": [],
   "source": [
    "class Open_File():\n",
    "    def __init__(self, filename, mode):\n",
    "        self.filename = filename\n",
    "        self.mode = mode\n",
    "        \n",
    "    def __enter__(self):\n",
    "        self.file= open(self.filename, self.mode)\n",
    "        return self.file\n",
    "    \n",
    "    def __exit__(self, exc_type, exc_val, traceback):\n",
    "        self.file.close()"
   ]
  },
  {
   "cell_type": "code",
   "execution_count": 7,
   "id": "9f2a4925",
   "metadata": {},
   "outputs": [
    {
     "name": "stdout",
     "output_type": "stream",
     "text": [
      "True\n"
     ]
    }
   ],
   "source": [
    "with Open_File('sample.txt', 'w') as f:\n",
    "    f.write('Lorem ipsum dolor sit amet, consectetur adipiscing elit.')\n",
    "\n",
    "print(f.closed) # check that closed after written"
   ]
  },
  {
   "cell_type": "markdown",
   "id": "461f8af8",
   "metadata": {},
   "source": [
    "### via function"
   ]
  },
  {
   "cell_type": "code",
   "execution_count": 18,
   "id": "ecfd6de5",
   "metadata": {},
   "outputs": [],
   "source": [
    "from contextlib import contextmanager\n",
    "\n",
    "@contextmanager\n",
    "def open_file(file, mode):\n",
    "    try:\n",
    "        f = open(file, mode)\n",
    "        yield f\n",
    "    finally:\n",
    "        f.close()"
   ]
  },
  {
   "cell_type": "code",
   "execution_count": 19,
   "id": "771ef0c6",
   "metadata": {},
   "outputs": [
    {
     "name": "stdout",
     "output_type": "stream",
     "text": [
      "True\n"
     ]
    }
   ],
   "source": [
    "with open_file('sample1.txt', 'w') as f:\n",
    "    f.write('Lorem ipsum dolor sit amet, consectetur adipiscing elit.')\n",
    "\n",
    "print(f.closed)"
   ]
  },
  {
   "cell_type": "markdown",
   "id": "80516376",
   "metadata": {},
   "source": [
    "### Practical example"
   ]
  },
  {
   "cell_type": "markdown",
   "id": "e42702ed",
   "metadata": {},
   "source": [
    "#### without context manager"
   ]
  },
  {
   "cell_type": "code",
   "execution_count": 24,
   "id": "6434c8ed",
   "metadata": {},
   "outputs": [
    {
     "name": "stdout",
     "output_type": "stream",
     "text": [
      "['to-do.txt', '.ipynb_checkpoints']\n",
      "['testing123.txt', '.ipynb_checkpoints']\n"
     ]
    }
   ],
   "source": [
    "import os\n",
    "from contextlib import contextmanager\n",
    "\n",
    "# get current working directory\n",
    "cwd = os.getcwd()  \n",
    "os.chdir('sample-dir1')\n",
    "# see files in those directory\n",
    "print(os.listdir()) \n",
    "# change back to current directory\n",
    "os.chdir(cwd)\n",
    "\n",
    "\n",
    "#repeat\n",
    "cwd = os.getcwd()\n",
    "os.chdir('sample-dir2')\n",
    "print(os.listdir())\n",
    "os.chdir(cwd)"
   ]
  },
  {
   "cell_type": "markdown",
   "id": "584cd69b",
   "metadata": {},
   "source": [
    "#### with context manager"
   ]
  },
  {
   "cell_type": "code",
   "execution_count": 26,
   "id": "7042edda",
   "metadata": {},
   "outputs": [
    {
     "name": "stdout",
     "output_type": "stream",
     "text": [
      "['to-do.txt', '.ipynb_checkpoints']\n",
      "['testing123.txt', '.ipynb_checkpoints']\n"
     ]
    }
   ],
   "source": [
    "import os\n",
    "from contextlib import contextmanager\n",
    "\n",
    "@contextmanager\n",
    "def change_dir(destination):\n",
    "    try:\n",
    "        cwd = os.getcwd()\n",
    "        os.chdir(destination)\n",
    "        yield\n",
    "    finally:\n",
    "        os.chdir(cwd)\n",
    "\n",
    "\n",
    "with change_dir('sample-dir1'):\n",
    "    print(os.listdir())\n",
    "\n",
    "with change_dir('sample-dir2'):\n",
    "    print(os.listdir())"
   ]
  },
  {
   "cell_type": "markdown",
   "id": "2929e5c2",
   "metadata": {},
   "source": [
    "## Closure"
   ]
  },
  {
   "cell_type": "markdown",
   "id": "634c7914",
   "metadata": {},
   "source": [
    "### when is there closure:\n",
    "- have a nested function \n",
    "- The nested function must refer to a value defined in the enclosing function (sub function)\n",
    "- <b> The enclosing function must return the nested function. </b>\n",
    "- https://www.programiz.com/python-programming/closure"
   ]
  },
  {
   "cell_type": "code",
   "execution_count": 33,
   "id": "3c928048",
   "metadata": {},
   "outputs": [
    {
     "name": "stdout",
     "output_type": "stream",
     "text": [
      "hello\n"
     ]
    }
   ],
   "source": [
    "def print_msg(msg):\n",
    "    def printer():\n",
    "        print(msg)\n",
    "        \n",
    "    return printer\n",
    "\n",
    "another = print_msg(\"hello\")\n",
    "another()"
   ]
  },
  {
   "cell_type": "markdown",
   "id": "140c59d0",
   "metadata": {},
   "source": [
    "The print_msg() function was called with the string \"Hello\" and the returned function was bound to the name another. On calling another(), the message was still remembered although we had already finished executing the print_msg() function. Function scope ended, variable shld be removed. Unless--> closure"
   ]
  },
  {
   "cell_type": "code",
   "execution_count": 34,
   "id": "d1c6226d",
   "metadata": {},
   "outputs": [
    {
     "name": "stdout",
     "output_type": "stream",
     "text": [
      "hello\n"
     ]
    }
   ],
   "source": [
    "del print_msg\n",
    "another()"
   ]
  },
  {
   "cell_type": "markdown",
   "id": "b4a9edec",
   "metadata": {},
   "source": [
    "returned function still works when original function was deleted !"
   ]
  },
  {
   "cell_type": "markdown",
   "id": "cfe3e1a1",
   "metadata": {},
   "source": [
    "### when to use:\n",
    "\n",
    "- can avoid the use of global values and provides some form of data hiding. It can also provide an object oriented solution to the problem.\n",
    "\n",
    "- When there are few methods (one method in most cases) to be implemented in a class, closures can provide an alternate and more elegant solution. But when the number of attributes and methods get larger, it's better to implement a class."
   ]
  },
  {
   "cell_type": "code",
   "execution_count": 43,
   "id": "db08f186",
   "metadata": {},
   "outputs": [
    {
     "name": "stdout",
     "output_type": "stream",
     "text": [
      "27\n"
     ]
    }
   ],
   "source": [
    "def make_multiplier_of(n):\n",
    "    def multiplier(x):\n",
    "        return x * n\n",
    "    return multiplier\n",
    "\n",
    "\n",
    "# Multiplier of 3\n",
    "times3 = make_multiplier_of(3)\n",
    "\n",
    "# Output: 27\n",
    "print(times3(9))"
   ]
  },
  {
   "cell_type": "markdown",
   "id": "e2256bc4",
   "metadata": {},
   "source": [
    "### closure attribute"
   ]
  },
  {
   "cell_type": "markdown",
   "id": "d8f40831",
   "metadata": {},
   "source": [
    "attribute that returns tuple of cell objects if it is closure function"
   ]
  },
  {
   "cell_type": "code",
   "execution_count": 37,
   "id": "06ddada3",
   "metadata": {},
   "outputs": [],
   "source": [
    "make_multiplier_of.__closure__"
   ]
  },
  {
   "cell_type": "code",
   "execution_count": 38,
   "id": "8066b30e",
   "metadata": {},
   "outputs": [
    {
     "data": {
      "text/plain": [
       "(<cell at 0x7fd48c4436d0: int object at 0x954e80>,)"
      ]
     },
     "execution_count": 38,
     "metadata": {},
     "output_type": "execute_result"
    }
   ],
   "source": [
    "times3.__closure__"
   ]
  },
  {
   "cell_type": "code",
   "execution_count": 41,
   "id": "1f17569e",
   "metadata": {},
   "outputs": [
    {
     "data": {
      "text/plain": [
       "3"
      ]
     },
     "execution_count": 41,
     "metadata": {},
     "output_type": "execute_result"
    }
   ],
   "source": [
    "# cell_contents stores closed value\n",
    "times3.__closure__[0].cell_contents"
   ]
  },
  {
   "cell_type": "markdown",
   "id": "6f576e7c",
   "metadata": {},
   "source": [
    "## Decorators"
   ]
  },
  {
   "cell_type": "markdown",
   "id": "ecfc92b2",
   "metadata": {},
   "source": [
    "- add functionality to function (metaprogramming)\n",
    "- Nests functions inside decorator function"
   ]
  },
  {
   "cell_type": "code",
   "execution_count": 44,
   "id": "59e43bfc",
   "metadata": {},
   "outputs": [],
   "source": [
    "def divide(a, b):\n",
    "    return a/b"
   ]
  },
  {
   "cell_type": "code",
   "execution_count": 45,
   "id": "15aac9a5",
   "metadata": {},
   "outputs": [
    {
     "data": {
      "text/plain": [
       "0.4"
      ]
     },
     "execution_count": 45,
     "metadata": {},
     "output_type": "execute_result"
    }
   ],
   "source": [
    "divide(2,5)"
   ]
  },
  {
   "cell_type": "code",
   "execution_count": 59,
   "id": "8842963e",
   "metadata": {},
   "outputs": [],
   "source": [
    "def smart_divide(func):\n",
    "    def inner(a, b):\n",
    "        print('i am going to divide', a , 'and', b)\n",
    "        if b ==0:\n",
    "            print('opps canot divide')\n",
    "            return\n",
    "        return func(a,b)\n",
    "    return inner\n",
    "\n",
    "@smart_divide\n",
    "def divide(a,b):\n",
    "    print(a,b)"
   ]
  },
  {
   "cell_type": "code",
   "execution_count": 60,
   "id": "7fd4b299",
   "metadata": {},
   "outputs": [
    {
     "name": "stdout",
     "output_type": "stream",
     "text": [
      "i am going to divide 2 and 0\n",
      "opps canot divide\n"
     ]
    }
   ],
   "source": [
    "divide(2,0)"
   ]
  },
  {
   "cell_type": "markdown",
   "id": "0cddd76a",
   "metadata": {},
   "source": [
    "### Chaining Decorators"
   ]
  },
  {
   "cell_type": "code",
   "execution_count": 71,
   "id": "510eb5c9",
   "metadata": {},
   "outputs": [
    {
     "name": "stdout",
     "output_type": "stream",
     "text": [
      "******************************\n",
      "%%%%%%%%%%%%%%%%%%%%%%%%%%%%%%\n",
      "Hello\n",
      "%%%%%%%%%%%%%%%%%%%%%%%%%%%%%%\n",
      "******************************\n"
     ]
    }
   ],
   "source": [
    "def star(func):\n",
    "    def inner(*args, **kwargs):\n",
    "        print(\"*\" * 30)\n",
    "        func(*args, **kwargs)\n",
    "        print(\"*\" * 30)\n",
    "    return inner\n",
    "\n",
    "\n",
    "def percent(func):\n",
    "    def inner(*args, **kwargs):\n",
    "        print(\"%\" * 30)\n",
    "        func(*args, **kwargs)\n",
    "        print(\"%\" * 30)\n",
    "    return inner\n",
    "\n",
    "\n",
    "@star\n",
    "@percent\n",
    "def printer(msg):\n",
    "    print(msg)\n",
    "\n",
    "\n",
    "printer(\"Hello\")"
   ]
  },
  {
   "cell_type": "markdown",
   "id": "f85f0c1e",
   "metadata": {},
   "source": [
    "### @property decorator"
   ]
  },
  {
   "cell_type": "markdown",
   "id": "5d8d583a",
   "metadata": {},
   "source": [
    "https://www.programiz.com/python-programming/property"
   ]
  },
  {
   "cell_type": "code",
   "execution_count": 74,
   "id": "40b5732d",
   "metadata": {},
   "outputs": [
    {
     "name": "stdout",
     "output_type": "stream",
     "text": [
      "37\n",
      "98.60000000000001\n"
     ]
    }
   ],
   "source": [
    "# Basic method of setting and getting attributes in Python\n",
    "class Celsius:\n",
    "    def __init__(self, temperature=0):\n",
    "        self.temperature = temperature\n",
    "\n",
    "    def to_fahrenheit(self):\n",
    "        return (self.temperature * 1.8) + 32\n",
    "\n",
    "\n",
    "# Create a new object\n",
    "human = Celsius()\n",
    "\n",
    "# Set the temperature\n",
    "human.temperature = 37\n",
    "\n",
    "# Get the temperature attribute\n",
    "print(human.temperature)\n",
    "\n",
    "# Get the to_fahrenheit method\n",
    "print(human.to_fahrenheit())"
   ]
  },
  {
   "cell_type": "markdown",
   "id": "104b45ed",
   "metadata": {},
   "source": [
    "#### use setters to restrict values to be passed in (>-273.15 temperature)"
   ]
  },
  {
   "cell_type": "code",
   "execution_count": 76,
   "id": "a46c0f9c",
   "metadata": {},
   "outputs": [
    {
     "name": "stdout",
     "output_type": "stream",
     "text": [
      "37\n",
      "98.60000000000001\n"
     ]
    },
    {
     "ename": "ValueError",
     "evalue": "Temperature below -273.15 is not possible.",
     "output_type": "error",
     "traceback": [
      "\u001b[0;31m---------------------------------------------------------------------------\u001b[0m",
      "\u001b[0;31mValueError\u001b[0m                                Traceback (most recent call last)",
      "\u001b[0;32m<ipython-input-76-f7d40ce0c112>\u001b[0m in \u001b[0;36m<module>\u001b[0;34m\u001b[0m\n\u001b[1;32m     28\u001b[0m \u001b[0;34m\u001b[0m\u001b[0m\n\u001b[1;32m     29\u001b[0m \u001b[0;31m# new constraint implementation\u001b[0m\u001b[0;34m\u001b[0m\u001b[0;34m\u001b[0m\u001b[0;34m\u001b[0m\u001b[0m\n\u001b[0;32m---> 30\u001b[0;31m \u001b[0mhuman\u001b[0m\u001b[0;34m.\u001b[0m\u001b[0mset_temperature\u001b[0m\u001b[0;34m(\u001b[0m\u001b[0;34m-\u001b[0m\u001b[0;36m300\u001b[0m\u001b[0;34m)\u001b[0m\u001b[0;34m\u001b[0m\u001b[0;34m\u001b[0m\u001b[0m\n\u001b[0m\u001b[1;32m     31\u001b[0m \u001b[0;34m\u001b[0m\u001b[0m\n\u001b[1;32m     32\u001b[0m \u001b[0;31m# Get the to_fahreheit method\u001b[0m\u001b[0;34m\u001b[0m\u001b[0;34m\u001b[0m\u001b[0;34m\u001b[0m\u001b[0m\n",
      "\u001b[0;32m<ipython-input-76-f7d40ce0c112>\u001b[0m in \u001b[0;36mset_temperature\u001b[0;34m(self, value)\u001b[0m\n\u001b[1;32m     14\u001b[0m     \u001b[0;32mdef\u001b[0m \u001b[0mset_temperature\u001b[0m\u001b[0;34m(\u001b[0m\u001b[0mself\u001b[0m\u001b[0;34m,\u001b[0m \u001b[0mvalue\u001b[0m\u001b[0;34m)\u001b[0m\u001b[0;34m:\u001b[0m\u001b[0;34m\u001b[0m\u001b[0;34m\u001b[0m\u001b[0m\n\u001b[1;32m     15\u001b[0m         \u001b[0;32mif\u001b[0m \u001b[0mvalue\u001b[0m \u001b[0;34m<\u001b[0m \u001b[0;34m-\u001b[0m\u001b[0;36m273.15\u001b[0m\u001b[0;34m:\u001b[0m\u001b[0;34m\u001b[0m\u001b[0;34m\u001b[0m\u001b[0m\n\u001b[0;32m---> 16\u001b[0;31m             \u001b[0;32mraise\u001b[0m \u001b[0mValueError\u001b[0m\u001b[0;34m(\u001b[0m\u001b[0;34m\"Temperature below -273.15 is not possible.\"\u001b[0m\u001b[0;34m)\u001b[0m\u001b[0;34m\u001b[0m\u001b[0;34m\u001b[0m\u001b[0m\n\u001b[0m\u001b[1;32m     17\u001b[0m         \u001b[0mself\u001b[0m\u001b[0;34m.\u001b[0m\u001b[0m_temperature\u001b[0m \u001b[0;34m=\u001b[0m \u001b[0mvalue\u001b[0m\u001b[0;34m\u001b[0m\u001b[0;34m\u001b[0m\u001b[0m\n\u001b[1;32m     18\u001b[0m \u001b[0;34m\u001b[0m\u001b[0m\n",
      "\u001b[0;31mValueError\u001b[0m: Temperature below -273.15 is not possible."
     ]
    }
   ],
   "source": [
    "# Making Getters and Setter methods\n",
    "class Celsius:\n",
    "    def __init__(self, temperature=0):\n",
    "        self.set_temperature(temperature)\n",
    "\n",
    "    def to_fahrenheit(self):\n",
    "        return (self.get_temperature() * 1.8) + 32\n",
    "\n",
    "    # getter method\n",
    "    def get_temperature(self):\n",
    "        return self._temperature\n",
    "\n",
    "    # setter method\n",
    "    def set_temperature(self, value):\n",
    "        if value < -273.15:\n",
    "            raise ValueError(\"Temperature below -273.15 is not possible.\")\n",
    "        self._temperature = value\n",
    "\n",
    "\n",
    "# Create a new object, set_temperature() internally called by __init__\n",
    "human = Celsius(37)\n",
    "\n",
    "# Get the temperature attribute via a getter\n",
    "print(human.get_temperature())\n",
    "\n",
    "# Get the to_fahrenheit method, get_temperature() called by the method itself\n",
    "print(human.to_fahrenheit())\n",
    "\n",
    "# new constraint implementation\n",
    "human.set_temperature(-300)\n",
    "\n",
    "# Get the to_fahreheit method\n",
    "print(human.to_fahrenheit())"
   ]
  },
  {
   "cell_type": "markdown",
   "id": "df88190d",
   "metadata": {},
   "source": [
    "However, the bigger problem with the above update is that all the programs that implemented our previous class have to modify their code from obj.temperature to obj.get_temperature() and all expressions like obj.temperature = val to obj.set_temperature(val).\n",
    "\n",
    "This refactoring can cause problems while dealing with hundreds of thousands of lines of codes.\n",
    "\n",
    "All in all, our new update was not backwards compatible. This is where <b> @property </b> comes to rescue."
   ]
  },
  {
   "cell_type": "markdown",
   "id": "97e1c26c",
   "metadata": {},
   "source": [
    "<b> property(fget=None, fset=None, fdel=None, doc=None) </b> returns property object"
   ]
  },
  {
   "cell_type": "markdown",
   "id": "51f82efc",
   "metadata": {},
   "source": [
    "- fget --> <b> func </b> to get value of attribute\n",
    "- fset --> func to set value of attribute\n",
    "- fdel --> func to delete value of attribute\n",
    "- doc --> string (comment)"
   ]
  },
  {
   "cell_type": "code",
   "execution_count": 79,
   "id": "80ebd51d",
   "metadata": {},
   "outputs": [
    {
     "name": "stdout",
     "output_type": "stream",
     "text": [
      "Setting value...\n",
      "Getting value...\n",
      "37\n",
      "Getting value...\n",
      "98.60000000000001\n",
      "Setting value...\n"
     ]
    },
    {
     "ename": "ValueError",
     "evalue": "Temperature below -273.15 is not possible",
     "output_type": "error",
     "traceback": [
      "\u001b[0;31m---------------------------------------------------------------------------\u001b[0m",
      "\u001b[0;31mValueError\u001b[0m                                Traceback (most recent call last)",
      "\u001b[0;32m<ipython-input-79-c162b16822a8>\u001b[0m in \u001b[0;36m<module>\u001b[0;34m\u001b[0m\n\u001b[1;32m     31\u001b[0m \u001b[0;31m# assign value to temperature will auto call set_temperature()\u001b[0m\u001b[0;34m\u001b[0m\u001b[0;34m\u001b[0m\u001b[0;34m\u001b[0m\u001b[0m\n\u001b[1;32m     32\u001b[0m \u001b[0;34m\u001b[0m\u001b[0m\n\u001b[0;32m---> 33\u001b[0;31m \u001b[0mhuman\u001b[0m\u001b[0;34m.\u001b[0m\u001b[0mtemperature\u001b[0m \u001b[0;34m=\u001b[0m \u001b[0;34m-\u001b[0m\u001b[0;36m300\u001b[0m\u001b[0;34m\u001b[0m\u001b[0;34m\u001b[0m\u001b[0m\n\u001b[0m",
      "\u001b[0;32m<ipython-input-79-c162b16822a8>\u001b[0m in \u001b[0;36mset_temperature\u001b[0;34m(self, value)\u001b[0m\n\u001b[1;32m     16\u001b[0m         \u001b[0mprint\u001b[0m\u001b[0;34m(\u001b[0m\u001b[0;34m\"Setting value...\"\u001b[0m\u001b[0;34m)\u001b[0m\u001b[0;34m\u001b[0m\u001b[0;34m\u001b[0m\u001b[0m\n\u001b[1;32m     17\u001b[0m         \u001b[0;32mif\u001b[0m \u001b[0mvalue\u001b[0m \u001b[0;34m<\u001b[0m \u001b[0;34m-\u001b[0m\u001b[0;36m273.15\u001b[0m\u001b[0;34m:\u001b[0m\u001b[0;34m\u001b[0m\u001b[0;34m\u001b[0m\u001b[0m\n\u001b[0;32m---> 18\u001b[0;31m             \u001b[0;32mraise\u001b[0m \u001b[0mValueError\u001b[0m\u001b[0;34m(\u001b[0m\u001b[0;34m\"Temperature below -273.15 is not possible\"\u001b[0m\u001b[0;34m)\u001b[0m\u001b[0;34m\u001b[0m\u001b[0;34m\u001b[0m\u001b[0m\n\u001b[0m\u001b[1;32m     19\u001b[0m         \u001b[0mself\u001b[0m\u001b[0;34m.\u001b[0m\u001b[0m_temperature\u001b[0m \u001b[0;34m=\u001b[0m \u001b[0mvalue\u001b[0m\u001b[0;34m\u001b[0m\u001b[0;34m\u001b[0m\u001b[0m\n\u001b[1;32m     20\u001b[0m \u001b[0;34m\u001b[0m\u001b[0m\n",
      "\u001b[0;31mValueError\u001b[0m: Temperature below -273.15 is not possible"
     ]
    }
   ],
   "source": [
    "# using property class\n",
    "class Celsius:\n",
    "    def __init__(self, temperature=0):\n",
    "        self.temperature = temperature\n",
    "\n",
    "    def to_fahrenheit(self):\n",
    "        return (self.temperature * 1.8) + 32\n",
    "\n",
    "    # getter\n",
    "    def get_temperature(self):\n",
    "        print(\"Getting value...\")\n",
    "        return self._temperature\n",
    "\n",
    "    # setter\n",
    "    def set_temperature(self, value):\n",
    "        print(\"Setting value...\")\n",
    "        if value < -273.15:\n",
    "            raise ValueError(\"Temperature below -273.15 is not possible\")\n",
    "        self._temperature = value\n",
    "\n",
    "    # creating a property object\n",
    "    temperature = property(get_temperature, set_temperature)\n",
    "    \n",
    "\n",
    "human = Celsius(37)\n",
    "# set_temperature() was called when creating object too, as __init__() is called\n",
    "\n",
    "print(human.temperature) \n",
    "# auto calls get_temperature() instead of __dict__ lookup\n",
    "\n",
    "print(human.to_fahrenheit())\n",
    "# assign value to temperature will auto call set_temperature()\n",
    "\n",
    "human.temperature = -300"
   ]
  },
  {
   "cell_type": "markdown",
   "id": "31bed36e",
   "metadata": {},
   "source": [
    "#### using property decorator"
   ]
  },
  {
   "cell_type": "markdown",
   "id": "494b9c84",
   "metadata": {},
   "source": [
    "- reuse temperature name for getter and setter\n",
    "- @property makes temperature same as method temperature.getter(get_temperature)\n",
    "- @temperature.setter same as the method temperature.setter(set_temperature) "
   ]
  },
  {
   "cell_type": "code",
   "execution_count": 85,
   "id": "5b9e3cee",
   "metadata": {},
   "outputs": [
    {
     "name": "stdout",
     "output_type": "stream",
     "text": [
      "Setting value...\n",
      "Getting value...\n",
      "37\n",
      "Getting value...\n",
      "98.60000000000001\n"
     ]
    }
   ],
   "source": [
    "# Using @property decorator\n",
    "class Celsius:\n",
    "    def __init__(self, temperature=0):\n",
    "        self.temperature = temperature\n",
    "\n",
    "    def to_fahrenheit(self):\n",
    "        return (self.temperature * 1.8) + 32\n",
    "\n",
    "    @property\n",
    "    def temperature(self):\n",
    "        print(\"Getting value...\")\n",
    "        return self._temperature\n",
    "\n",
    "    @temperature.setter\n",
    "    def temperature(self, value):\n",
    "        print(\"Setting value...\")\n",
    "        if value < -273.15:\n",
    "            raise ValueError(\"Temperature below -273 is not possible\")\n",
    "        self._temperature = value\n",
    "\n",
    "\n",
    "# create an object\n",
    "human = Celsius(37)\n",
    "print(human.temperature)\n",
    "print(human.to_fahrenheit())"
   ]
  },
  {
   "cell_type": "code",
   "execution_count": 88,
   "id": "4f30bf20",
   "metadata": {},
   "outputs": [
    {
     "name": "stdout",
     "output_type": "stream",
     "text": [
      "Setting value...\n"
     ]
    },
    {
     "ename": "ValueError",
     "evalue": "Temperature below -273 is not possible",
     "output_type": "error",
     "traceback": [
      "\u001b[0;31m---------------------------------------------------------------------------\u001b[0m",
      "\u001b[0;31mValueError\u001b[0m                                Traceback (most recent call last)",
      "\u001b[0;32m<ipython-input-88-f524b8826138>\u001b[0m in \u001b[0;36m<module>\u001b[0;34m\u001b[0m\n\u001b[0;32m----> 1\u001b[0;31m \u001b[0mcoldest_thing\u001b[0m \u001b[0;34m=\u001b[0m \u001b[0mCelsius\u001b[0m\u001b[0;34m(\u001b[0m\u001b[0;34m-\u001b[0m\u001b[0;36m300\u001b[0m\u001b[0;34m)\u001b[0m\u001b[0;34m\u001b[0m\u001b[0;34m\u001b[0m\u001b[0m\n\u001b[0m",
      "\u001b[0;32m<ipython-input-85-7bfb36a9a54e>\u001b[0m in \u001b[0;36m__init__\u001b[0;34m(self, temperature)\u001b[0m\n\u001b[1;32m      2\u001b[0m \u001b[0;32mclass\u001b[0m \u001b[0mCelsius\u001b[0m\u001b[0;34m:\u001b[0m\u001b[0;34m\u001b[0m\u001b[0;34m\u001b[0m\u001b[0m\n\u001b[1;32m      3\u001b[0m     \u001b[0;32mdef\u001b[0m \u001b[0m__init__\u001b[0m\u001b[0;34m(\u001b[0m\u001b[0mself\u001b[0m\u001b[0;34m,\u001b[0m \u001b[0mtemperature\u001b[0m\u001b[0;34m=\u001b[0m\u001b[0;36m0\u001b[0m\u001b[0;34m)\u001b[0m\u001b[0;34m:\u001b[0m\u001b[0;34m\u001b[0m\u001b[0;34m\u001b[0m\u001b[0m\n\u001b[0;32m----> 4\u001b[0;31m         \u001b[0mself\u001b[0m\u001b[0;34m.\u001b[0m\u001b[0mtemperature\u001b[0m \u001b[0;34m=\u001b[0m \u001b[0mtemperature\u001b[0m\u001b[0;34m\u001b[0m\u001b[0;34m\u001b[0m\u001b[0m\n\u001b[0m\u001b[1;32m      5\u001b[0m \u001b[0;34m\u001b[0m\u001b[0m\n\u001b[1;32m      6\u001b[0m     \u001b[0;32mdef\u001b[0m \u001b[0mto_fahrenheit\u001b[0m\u001b[0;34m(\u001b[0m\u001b[0mself\u001b[0m\u001b[0;34m)\u001b[0m\u001b[0;34m:\u001b[0m\u001b[0;34m\u001b[0m\u001b[0;34m\u001b[0m\u001b[0m\n",
      "\u001b[0;32m<ipython-input-85-7bfb36a9a54e>\u001b[0m in \u001b[0;36mtemperature\u001b[0;34m(self, value)\u001b[0m\n\u001b[1;32m     16\u001b[0m         \u001b[0mprint\u001b[0m\u001b[0;34m(\u001b[0m\u001b[0;34m\"Setting value...\"\u001b[0m\u001b[0;34m)\u001b[0m\u001b[0;34m\u001b[0m\u001b[0;34m\u001b[0m\u001b[0m\n\u001b[1;32m     17\u001b[0m         \u001b[0;32mif\u001b[0m \u001b[0mvalue\u001b[0m \u001b[0;34m<\u001b[0m \u001b[0;34m-\u001b[0m\u001b[0;36m273.15\u001b[0m\u001b[0;34m:\u001b[0m\u001b[0;34m\u001b[0m\u001b[0;34m\u001b[0m\u001b[0m\n\u001b[0;32m---> 18\u001b[0;31m             \u001b[0;32mraise\u001b[0m \u001b[0mValueError\u001b[0m\u001b[0;34m(\u001b[0m\u001b[0;34m\"Temperature below -273 is not possible\"\u001b[0m\u001b[0;34m)\u001b[0m\u001b[0;34m\u001b[0m\u001b[0;34m\u001b[0m\u001b[0m\n\u001b[0m\u001b[1;32m     19\u001b[0m         \u001b[0mself\u001b[0m\u001b[0;34m.\u001b[0m\u001b[0m_temperature\u001b[0m \u001b[0;34m=\u001b[0m \u001b[0mvalue\u001b[0m\u001b[0;34m\u001b[0m\u001b[0;34m\u001b[0m\u001b[0m\n\u001b[1;32m     20\u001b[0m \u001b[0;34m\u001b[0m\u001b[0m\n",
      "\u001b[0;31mValueError\u001b[0m: Temperature below -273 is not possible"
     ]
    }
   ],
   "source": [
    "coldest_thing = Celsius(-300)"
   ]
  },
  {
   "cell_type": "markdown",
   "id": "356e1355",
   "metadata": {},
   "source": [
    "## special methods"
   ]
  },
  {
   "cell_type": "markdown",
   "id": "dca4ea4a",
   "metadata": {},
   "source": [
    "### \\__repr__"
   ]
  },
  {
   "cell_type": "markdown",
   "id": "1e95b198",
   "metadata": {},
   "source": [
    "\\__repr__ used to print string of object\n",
    "\n",
    "- Implement \\__repr__ for any class you implement. This should be second nature. \n",
    "- Implement \\__str__ if you think it would be useful to have a string version which errs on the side of readability.\n",
    "\n",
    "https://stackoverflow.com/questions/1436703/what-is-the-difference-between-str-and-repr"
   ]
  },
  {
   "cell_type": "code",
   "execution_count": 7,
   "id": "e9e4e50f",
   "metadata": {},
   "outputs": [
    {
     "name": "stdout",
     "output_type": "stream",
     "text": [
      "the Person is John, aged 20\n"
     ]
    }
   ],
   "source": [
    "# A simple Person class\n",
    "\n",
    "class Person:\n",
    "    def __init__(self, name, age):\n",
    "        self.name = name\n",
    "        self.age = age\n",
    "\n",
    "    def __repr__(self):\n",
    "        rep = 'the Person is ' + self.name + ',' + ' aged ' + str(self.age) \n",
    "        return rep\n",
    "\n",
    "\n",
    "# Let's make a Person object and print the results of repr()\n",
    "\n",
    "person = Person(\"John\", 20)\n",
    "print(repr(person))"
   ]
  }
 ],
 "metadata": {
  "kernelspec": {
   "display_name": "Python 3",
   "language": "python",
   "name": "python3"
  },
  "language_info": {
   "codemirror_mode": {
    "name": "ipython",
    "version": 3
   },
   "file_extension": ".py",
   "mimetype": "text/x-python",
   "name": "python",
   "nbconvert_exporter": "python",
   "pygments_lexer": "ipython3",
   "version": "3.8.5"
  }
 },
 "nbformat": 4,
 "nbformat_minor": 5
}
