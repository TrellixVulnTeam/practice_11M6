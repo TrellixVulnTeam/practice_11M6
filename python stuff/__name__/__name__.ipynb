{
 "cells": [
  {
   "cell_type": "markdown",
   "id": "3b33da50",
   "metadata": {},
   "source": [
    "https://www.freecodecamp.org/news/whats-in-a-python-s-name-506262fe61e8/"
   ]
  },
  {
   "cell_type": "code",
   "execution_count": null,
   "id": "3410575d",
   "metadata": {},
   "outputs": [],
   "source": [
    "if __name__ == '__main__':    main()"
   ]
  },
  {
   "cell_type": "markdown",
   "id": "e463f791",
   "metadata": {},
   "source": [
    "Python files are called modules and they are identified by the .py file extension. A module can define functions, classes, and variables.\n",
    "\n",
    "So when the interpreter runs a module, the __name__ variable will be set as  __main__ if the module that is being run is the main program.\n",
    "\n",
    "But if the code is importing the module from another module, then the __name__  variable will be set to that module’s name."
   ]
  },
  {
   "cell_type": "markdown",
   "id": "85da72cb",
   "metadata": {},
   "source": [
    "The variable __name__ for the file/module that is run will be always __main__. But the __name__ variable for all other modules that are being imported will be set to their module's name.\n",
    "\n"
   ]
  },
  {
   "cell_type": "markdown",
   "id": "5f0a28ea",
   "metadata": {},
   "source": [
    "scenario 1"
   ]
  }
 ],
 "metadata": {
  "kernelspec": {
   "display_name": "Python 3",
   "language": "python",
   "name": "python3"
  },
  "language_info": {
   "codemirror_mode": {
    "name": "ipython",
    "version": 3
   },
   "file_extension": ".py",
   "mimetype": "text/x-python",
   "name": "python",
   "nbconvert_exporter": "python",
   "pygments_lexer": "ipython3",
   "version": "3.8.5"
  }
 },
 "nbformat": 4,
 "nbformat_minor": 5
}
