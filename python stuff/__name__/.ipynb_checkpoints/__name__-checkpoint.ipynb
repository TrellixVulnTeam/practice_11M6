{
 "cells": [
  {
   "cell_type": "markdown",
   "id": "46a8d8a5",
   "metadata": {},
   "source": [
    "https://www.freecodecamp.org/news/whats-in-a-python-s-name-506262fe61e8/"
   ]
  },
  {
   "cell_type": "code",
   "execution_count": null,
   "id": "cb4a490c",
   "metadata": {},
   "outputs": [],
   "source": [
    "if __name__ == '__main__':    main()"
   ]
  },
  {
   "cell_type": "markdown",
   "id": "ad01dfe8",
   "metadata": {},
   "source": [
    "Python files are called modules and they are identified by the .py file extension. A module can define functions, classes, and variables.\n",
    "\n",
    "So when the interpreter runs a module, the __name__ variable will be set as  __main__ if the module that is being run is the main program.\n",
    "\n",
    "But if the code is importing the module from another module, then the __name__  variable will be set to that module’s name."
   ]
  },
  {
   "cell_type": "markdown",
   "id": "94a77563",
   "metadata": {},
   "source": [
    "The variable __name__ for the file/module that is run will be always __main__. But the __name__ variable for all other modules that are being imported will be set to their module's name.\n",
    "\n"
   ]
  },
  {
   "cell_type": "markdown",
   "id": "1b026e04",
   "metadata": {},
   "source": [
    "scenario 1"
   ]
  },
  {
   "cell_type": "code",
   "execution_count": 5,
   "id": "6034e755",
   "metadata": {},
   "outputs": [
    {
     "name": "stdout",
     "output_type": "stream",
     "text": [
      "The value of __name__ is __main__\n"
     ]
    }
   ],
   "source": [
    "def myFunction():\n",
    "    print('The value of __name__ is ' + __name__)\n",
    "    \n",
    "def main():\n",
    "    myFunction()\n",
    "\n",
    "if __name__ == '__main__':\n",
    "    main()"
   ]
  }
 ],
 "metadata": {
  "kernelspec": {
   "display_name": "Python 3",
   "language": "python",
   "name": "python3"
  },
  "language_info": {
   "codemirror_mode": {
    "name": "ipython",
    "version": 3
   },
   "file_extension": ".py",
   "mimetype": "text/x-python",
   "name": "python",
   "nbconvert_exporter": "python",
   "pygments_lexer": "ipython3",
   "version": "3.8.5"
  }
 },
 "nbformat": 4,
 "nbformat_minor": 5
}
