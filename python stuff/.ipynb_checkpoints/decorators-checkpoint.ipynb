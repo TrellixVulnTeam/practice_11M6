{
 "cells": [
  {
   "cell_type": "markdown",
   "id": "5e7d31f8",
   "metadata": {},
   "source": [
    "## @property"
   ]
  },
  {
   "cell_type": "markdown",
   "id": "ab81afda",
   "metadata": {},
   "source": [
    "https://www.freecodecamp.org/news/python-property-decorator/"
   ]
  },
  {
   "cell_type": "code",
   "execution_count": 13,
   "id": "7fe4b99c",
   "metadata": {},
   "outputs": [],
   "source": [
    "class House1:\n",
    "\n",
    "    def __init__(self, price):\n",
    "        self.price = price"
   ]
  },
  {
   "cell_type": "markdown",
   "id": "3c9fdc51",
   "metadata": {},
   "source": [
    "### defining getters, setters"
   ]
  },
  {
   "cell_type": "code",
   "execution_count": 27,
   "id": "21ef9c3e",
   "metadata": {},
   "outputs": [],
   "source": [
    "class House:\n",
    "     \n",
    "    #make _price private\n",
    "    def __init__(self, price):\n",
    "        self._price = price\n",
    "    \n",
    "    # @property same as defining price.getter\n",
    "    @property\n",
    "    def price(self):\n",
    "        return self._price\n",
    "    \n",
    "    @price.setter\n",
    "    def price(self, new_price):\n",
    "        if new_price > 0 and isinstance(new_price, float):\n",
    "            self._price = new_price\n",
    "        else:\n",
    "            print('please enter valid price')\n",
    "        \n",
    "    @price.deleter\n",
    "    def price(self):\n",
    "        del self._price"
   ]
  },
  {
   "cell_type": "markdown",
   "id": "6f67fc03",
   "metadata": {},
   "source": [
    "\n",
    "- @price.setter - Used to indicate that this is the setter method for the price property. Notice that we are not using @property.setter, we are using @price.setter. The name of the property is included before .setter."
   ]
  },
  {
   "cell_type": "markdown",
   "id": "d786f439",
   "metadata": {},
   "source": [
    "using"
   ]
  },
  {
   "cell_type": "markdown",
   "id": "4aea98f8",
   "metadata": {},
   "source": [
    "### testing"
   ]
  },
  {
   "cell_type": "code",
   "execution_count": 28,
   "id": "8ec5120d",
   "metadata": {},
   "outputs": [
    {
     "data": {
      "text/plain": [
       "5000"
      ]
     },
     "execution_count": 28,
     "metadata": {},
     "output_type": "execute_result"
    }
   ],
   "source": [
    "house = House(5000)\n",
    "house.price"
   ]
  },
  {
   "cell_type": "code",
   "execution_count": 29,
   "id": "b284f85c",
   "metadata": {},
   "outputs": [
    {
     "name": "stdout",
     "output_type": "stream",
     "text": [
      "please enter valid price\n"
     ]
    }
   ],
   "source": [
    "house.price =-50"
   ]
  },
  {
   "cell_type": "code",
   "execution_count": 30,
   "id": "2feadc0a",
   "metadata": {},
   "outputs": [],
   "source": [
    "del house.price"
   ]
  },
  {
   "cell_type": "markdown",
   "id": "c3cfe024",
   "metadata": {},
   "source": [
    "## @Classmethod"
   ]
  },
  {
   "cell_type": "markdown",
   "id": "06fdc154",
   "metadata": {},
   "source": [
    "A class method is a method that is bound to a class rather than its object. It doesn't require creation of a class instance, much like staticmethod.\n",
    "\n",
    "The difference between a static method and a class method is:\n",
    "- Static method knows nothing about the class and just deals with the parameters\n",
    "- Class method works with the class since its parameter is always the class itself."
   ]
  },
  {
   "cell_type": "markdown",
   "id": "1c59533c",
   "metadata": {},
   "source": [
    "But no matter what, the class method is always attached to a class with the first argument as the class itself cls."
   ]
  },
  {
   "cell_type": "code",
   "execution_count": null,
   "id": "213a74d5",
   "metadata": {},
   "outputs": [],
   "source": [
    "def classMethod(cls, args...)"
   ]
  },
  {
   "cell_type": "code",
   "execution_count": 37,
   "id": "e4dc7b70",
   "metadata": {},
   "outputs": [
    {
     "name": "stdout",
     "output_type": "stream",
     "text": [
      "The age is: 25\n"
     ]
    }
   ],
   "source": [
    "class Person:\n",
    "    age = 25\n",
    "    \n",
    "    # We also have a function printAge that takes a single parameter cls and not self we usually take.\n",
    "    @classmethod\n",
    "    def printAge(cls):\n",
    "        print('The age is:', cls.age)\n",
    "\n",
    "# In the final line, we call printAge without creating a Person object like we do for static methods. \n",
    "#This prints the class variable age.\n",
    "Person.printAge()"
   ]
  },
  {
   "cell_type": "markdown",
   "id": "05773108",
   "metadata": {},
   "source": [
    "without creating instance (i.e. person = Person()), can call .printAge()"
   ]
  },
  {
   "cell_type": "markdown",
   "id": "0c4936e2",
   "metadata": {},
   "source": [
    "### when to use"
   ]
  },
  {
   "cell_type": "markdown",
   "id": "91ed4986",
   "metadata": {},
   "source": [
    "#### factory method\n",
    "\n",
    "Factory methods are those methods that return a class object (like constructor) for different use cases. \n",
    "like function overloading"
   ]
  },
  {
   "cell_type": "code",
   "execution_count": 33,
   "id": "c456e4c9",
   "metadata": {},
   "outputs": [
    {
     "name": "stdout",
     "output_type": "stream",
     "text": [
      "Adam's age is: 19\n",
      "John's age is: 36\n"
     ]
    }
   ],
   "source": [
    "from datetime import date\n",
    "\n",
    "# random Person\n",
    "class Person:\n",
    "    def __init__(self, name, age):\n",
    "        self.name = name\n",
    "        self.age = age\n",
    "\n",
    "    @classmethod\n",
    "    def fromBirthYear(cls, name, birthYear):\n",
    "        return cls(name, date.today().year - birthYear)\n",
    "\n",
    "    def display(self):\n",
    "        print(self.name + \"'s age is: \" + str(self.age))\n",
    "\n",
    "person = Person('Adam', 19)\n",
    "person.display()\n",
    "\n",
    "person1 = Person.fromBirthYear('John',  1985)\n",
    "person1.display()"
   ]
  },
  {
   "cell_type": "markdown",
   "id": "79d93fd4",
   "metadata": {},
   "source": [
    "#### ensure correct instance creation in inheritance \n",
    "\n",
    "Whenever you derive a class from implementing a factory method as a class method, it ensures correct instance creation of the derived class.\n",
    "\n",
    "You can create a static method for the above example but the object it creates, will always be hardcoded as Base class."
   ]
  },
  {
   "cell_type": "code",
   "execution_count": 61,
   "id": "5b6b4a01",
   "metadata": {},
   "outputs": [
    {
     "name": "stdout",
     "output_type": "stream",
     "text": [
      "True\n",
      "False\n",
      "True\n"
     ]
    }
   ],
   "source": [
    "from datetime import date\n",
    "\n",
    "# random Person\n",
    "class Person:\n",
    "    def __init__(self, name, age):\n",
    "        self.name = name\n",
    "        self.age = age\n",
    "\n",
    "    @staticmethod\n",
    "    def fromFathersAge(name, fatherAge, fatherPersonAgeDiff):\n",
    "        return Person(name, date.today().year - fatherAge + fatherPersonAgeDiff)\n",
    "\n",
    "    @classmethod\n",
    "    def fromBirthYear(cls, name, birthYear):\n",
    "        return cls(name, date.today().year - birthYear)\n",
    "\n",
    "    def display(self):\n",
    "        print(self.name + \"'s age is: \" + str(self.age))\n",
    "\n",
    "class Man(Person):\n",
    "    sex = 'Male'\n",
    "\n",
    "# classmethod good\n",
    "man = Man.fromBirthYear('John', 1985)\n",
    "print(isinstance(man, Man))\n",
    "\n",
    "# violate OOP. return Person's object instead of Man's object\n",
    "man1 = Man.fromFathersAge('John', 1965, 20)\n",
    "print(isinstance(man1, Man))\n",
    "print(isinstance(man1, Person))"
   ]
  },
  {
   "cell_type": "markdown",
   "id": "9620cd1b",
   "metadata": {},
   "source": [
    "Here, using a static method to create a class instance wants us to hardcode the instance type during creation.\n",
    "\n",
    "This clearly causes a problem when inheriting Person to Man.\n",
    "\n",
    "fromFathersAge method doesn't return a Man object but its base class Person's object.\n",
    "\n",
    "This violates OOP paradigm. Using a class method as fromBirthYear can ensure the OOP-ness of the code since it takes the first parameter as the class itself and calls its factory method."
   ]
  },
  {
   "cell_type": "markdown",
   "id": "cc6dfe3e",
   "metadata": {},
   "source": [
    "## @Staticmethod"
   ]
  },
  {
   "cell_type": "markdown",
   "id": "e79a7b82",
   "metadata": {},
   "source": [
    "Static methods have limited use, because they don't have access to the attributes of an instance of a class (like a regular method does), and they don't have access to the attributes of the class itself (like a class method does).\n",
    "\n",
    "However, they can be useful to group some utility function together with a class - e.g. a simple conversion from one type to another - that doesn't need access to any information apart from the parameters provided (and perhaps some attributes global to the module.)\n",
    "\n",
    "They could be put outside the class, but grouping them inside the class may make sense where they are only applicable there."
   ]
  },
  {
   "cell_type": "markdown",
   "id": "3872810e",
   "metadata": {},
   "source": [
    "#### group utility function to class\n",
    "\n",
    "Static methods have a limited use case because, like class methods or any other methods within a class, they cannot access the properties of the class itself.\n",
    "\n",
    "However, when you need a utility function that doesn't access any properties of a class but makes sense that it belongs to the class, we use static functions."
   ]
  },
  {
   "cell_type": "code",
   "execution_count": 67,
   "id": "cca56ecd",
   "metadata": {},
   "outputs": [
    {
     "name": "stdout",
     "output_type": "stream",
     "text": [
      "Equal\n"
     ]
    }
   ],
   "source": [
    "class Dates:\n",
    "    def __init__(self, date):\n",
    "        self.date = date\n",
    "        \n",
    "    def getDate(self):\n",
    "        return self.date\n",
    "\n",
    "    @staticmethod\n",
    "    def toDashDate(date):\n",
    "        return date.replace(\"/\", \"-\")\n",
    "\n",
    "    \n",
    "date = Dates(\"15-12-2016\")\n",
    "dateFromDB = \"15/12/2016\"\n",
    "dateWithDash = Dates.toDashDate(dateFromDB)\n",
    "\n",
    "if(date.getDate() == dateWithDash):\n",
    "    print(\"Equal\")\n",
    "    \n",
    "else:\n",
    "    print(\"Unequal\")"
   ]
  },
  {
   "cell_type": "markdown",
   "id": "3f329fe1",
   "metadata": {},
   "source": [
    "toDashDate is a static method because it doesn't need to access any properties of Dates itself and only requires the parameters.\n",
    "\n",
    "We can also create toDashDate outside the class, but since it works only for dates, it's logical to keep it inside the Dates class."
   ]
  },
  {
   "cell_type": "markdown",
   "id": "072a8206",
   "metadata": {},
   "source": [
    "#### have single implementation\n",
    "\n",
    "Static methods are used when we don't want subclasses of a class change/override a specific implementation of a method."
   ]
  },
  {
   "cell_type": "code",
   "execution_count": 64,
   "id": "f520f6f0",
   "metadata": {},
   "outputs": [
    {
     "name": "stdout",
     "output_type": "stream",
     "text": [
      "Equal\n"
     ]
    }
   ],
   "source": [
    "class Dates:\n",
    "    def __init__(self, date):\n",
    "        self.date = date\n",
    "        \n",
    "    def getDate(self):\n",
    "        return self.date\n",
    "\n",
    "    @staticmethod\n",
    "    def toDashDate(date):\n",
    "        return date.replace(\"/\", \"-\")\n",
    "\n",
    "class DatesWithSlashes(Dates):\n",
    "    def getDate(self):\n",
    "        return Dates.toDashDate(self.date)\n",
    "\n",
    "date = Dates(\"15-12-2016\")\n",
    "dateFromDB = DatesWithSlashes(\"15/12/2016\")\n",
    "\n",
    "if(date.getDate() == dateFromDB.getDate()):\n",
    "    print(\"Equal\")\n",
    "else:\n",
    "    print(\"Unequal\")"
   ]
  },
  {
   "cell_type": "markdown",
   "id": "7cd707b5",
   "metadata": {},
   "source": [
    "Here, we wouldn't want the subclass DatesWithSlashes to override the static utility method toDashDate because it only has a single use, i.e. change date to dash-dates.\n",
    "\n",
    "We could easily use the static method to our advantage by overriding getDate() method in the subclass so that it works well with the DatesWithSlashes class."
   ]
  }
 ],
 "metadata": {
  "kernelspec": {
   "display_name": "Python 3",
   "language": "python",
   "name": "python3"
  },
  "language_info": {
   "codemirror_mode": {
    "name": "ipython",
    "version": 3
   },
   "file_extension": ".py",
   "mimetype": "text/x-python",
   "name": "python",
   "nbconvert_exporter": "python",
   "pygments_lexer": "ipython3",
   "version": "3.8.5"
  }
 },
 "nbformat": 4,
 "nbformat_minor": 5
}
