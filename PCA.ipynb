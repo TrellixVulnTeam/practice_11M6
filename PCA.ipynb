{
 "cells": [
  {
   "cell_type": "markdown",
   "id": "69f034d7",
   "metadata": {},
   "source": [
    "## Properties"
   ]
  },
  {
   "cell_type": "markdown",
   "id": "b1967827",
   "metadata": {},
   "source": [
    "### Each PC is decorelated to the preceding one. \n",
    "Because PC’s are orthogonal. Remember that orthogonal vectors means that their dot product is equal to 0. You can choose to keep only the first few PC’s, knowing that each PC is a linear combination of the data features. For instance, one PC could be a linear combination of the length of the muscial piece and the number of instruments playing."
   ]
  },
  {
   "cell_type": "code",
   "execution_count": null,
   "id": "b7cf292f",
   "metadata": {},
   "outputs": [],
   "source": []
  }
 ],
 "metadata": {
  "kernelspec": {
   "display_name": "Python 3",
   "language": "python",
   "name": "python3"
  },
  "language_info": {
   "codemirror_mode": {
    "name": "ipython",
    "version": 3
   },
   "file_extension": ".py",
   "mimetype": "text/x-python",
   "name": "python",
   "nbconvert_exporter": "python",
   "pygments_lexer": "ipython3",
   "version": "3.8.5"
  }
 },
 "nbformat": 4,
 "nbformat_minor": 5
}
