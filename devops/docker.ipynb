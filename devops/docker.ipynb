{
 "cells": [
  {
   "cell_type": "markdown",
   "id": "f41498a3",
   "metadata": {},
   "source": [
    "## Install docker"
   ]
  },
  {
   "cell_type": "markdown",
   "id": "0969d565",
   "metadata": {},
   "source": [
    "https://www.youtube.com/watch?v=aMKUuaga85A\n",
    "    "
   ]
  },
  {
   "cell_type": "markdown",
   "id": "f783f890",
   "metadata": {},
   "source": [
    "docker has to be accessed by root user thus sudo"
   ]
  },
  {
   "cell_type": "code",
   "execution_count": null,
   "id": "8cc42617",
   "metadata": {},
   "outputs": [],
   "source": [
    "sudo apt install docker.io"
   ]
  },
  {
   "cell_type": "code",
   "execution_count": 1,
   "id": "ac31a386",
   "metadata": {},
   "outputs": [
    {
     "ename": "NameError",
     "evalue": "name 'docker' is not defined",
     "output_type": "error",
     "traceback": [
      "\u001b[0;31m---------------------------------------------------------------------------\u001b[0m",
      "\u001b[0;31mNameError\u001b[0m                                 Traceback (most recent call last)",
      "\u001b[0;32m<ipython-input-1-80519671a67d>\u001b[0m in \u001b[0;36m<module>\u001b[0;34m\u001b[0m\n\u001b[0;32m----> 1\u001b[0;31m \u001b[0mdocker\u001b[0m \u001b[0;34m-\u001b[0m\u001b[0;34m-\u001b[0m\u001b[0mversion\u001b[0m\u001b[0;34m\u001b[0m\u001b[0;34m\u001b[0m\u001b[0m\n\u001b[0m",
      "\u001b[0;31mNameError\u001b[0m: name 'docker' is not defined"
     ]
    }
   ],
   "source": [
    "docker --version"
   ]
  },
  {
   "cell_type": "markdown",
   "id": "9b2c207d",
   "metadata": {},
   "source": [
    "run docker"
   ]
  },
  {
   "cell_type": "code",
   "execution_count": null,
   "id": "4f72063c",
   "metadata": {},
   "outputs": [],
   "source": [
    "sudo systemctl status docker"
   ]
  },
  {
   "cell_type": "markdown",
   "id": "ad67257f",
   "metadata": {},
   "source": [
    "if inactive, enable"
   ]
  },
  {
   "cell_type": "code",
   "execution_count": null,
   "id": "67014646",
   "metadata": {},
   "outputs": [],
   "source": [
    "sudo systemctl enable --now docker"
   ]
  },
  {
   "cell_type": "code",
   "execution_count": 2,
   "id": "5e8f39ef",
   "metadata": {},
   "outputs": [
    {
     "ename": "SyntaxError",
     "evalue": "invalid syntax (<ipython-input-2-14655177c14f>, line 1)",
     "output_type": "error",
     "traceback": [
      "\u001b[0;36m  File \u001b[0;32m\"<ipython-input-2-14655177c14f>\"\u001b[0;36m, line \u001b[0;32m1\u001b[0m\n\u001b[0;31m    sudo docker run hello-world\u001b[0m\n\u001b[0m         ^\u001b[0m\n\u001b[0;31mSyntaxError\u001b[0m\u001b[0;31m:\u001b[0m invalid syntax\n"
     ]
    }
   ],
   "source": [
    "sudo docker run hello-world"
   ]
  },
  {
   "cell_type": "code",
   "execution_count": 3,
   "id": "00ab0e33",
   "metadata": {},
   "outputs": [
    {
     "ename": "SyntaxError",
     "evalue": "invalid syntax (<ipython-input-3-983428f500c3>, line 1)",
     "output_type": "error",
     "traceback": [
      "\u001b[0;36m  File \u001b[0;32m\"<ipython-input-3-983428f500c3>\"\u001b[0;36m, line \u001b[0;32m1\u001b[0m\n\u001b[0;31m    docker run hello-world\u001b[0m\n\u001b[0m           ^\u001b[0m\n\u001b[0;31mSyntaxError\u001b[0m\u001b[0;31m:\u001b[0m invalid syntax\n"
     ]
    }
   ],
   "source": [
    "docker run hello-world"
   ]
  },
  {
   "cell_type": "markdown",
   "id": "6b0e9d96",
   "metadata": {},
   "source": [
    "# Images"
   ]
  },
  {
   "cell_type": "markdown",
   "id": "405da614",
   "metadata": {},
   "source": [
    "## create image\n",
    "\n",
    "- tag <name>\n",
    "    - can be used for easy access\n",
    "    \n",
    "- image is used as a template/ base to create containers\n",
    "    - https://phoenixnap.com/kb/docker-image-vs-container#:~:text=Images%20can%20exist%20without%20containers,of%20running%20a%20Docker%20container.\n",
    "    "
   ]
  },
  {
   "cell_type": "raw",
   "id": "2bb1014a",
   "metadata": {},
   "source": [
    "docker build <image> --tag <name>"
   ]
  },
  {
   "cell_type": "markdown",
   "id": "084d71bc",
   "metadata": {},
   "source": [
    "##  publish image\n",
    "- internally runing on port 8000 while external running on 8090\n",
    "- p or -publish \n",
    "    - enable external access to port"
   ]
  },
  {
   "cell_type": "code",
   "execution_count": null,
   "id": "da95b870",
   "metadata": {},
   "outputs": [],
   "source": [
    "sudo docker run --publish 8090:8000 python-django"
   ]
  },
  {
   "cell_type": "markdown",
   "id": "04390a46",
   "metadata": {},
   "source": [
    "## check all images"
   ]
  },
  {
   "cell_type": "code",
   "execution_count": null,
   "id": "8b7547cc",
   "metadata": {},
   "outputs": [],
   "source": [
    "sudo docker images"
   ]
  },
  {
   "cell_type": "markdown",
   "id": "eea55982",
   "metadata": {},
   "source": [
    "## remove image"
   ]
  },
  {
   "cell_type": "code",
   "execution_count": null,
   "id": "cfd7518a",
   "metadata": {},
   "outputs": [],
   "source": [
    "sudo docker image rm <image-name>"
   ]
  },
  {
   "cell_type": "markdown",
   "id": "daf6c5a4",
   "metadata": {},
   "source": [
    "# Container"
   ]
  },
  {
   "cell_type": "markdown",
   "id": "b141d12c",
   "metadata": {},
   "source": [
    "## view all containers"
   ]
  },
  {
   "cell_type": "code",
   "execution_count": null,
   "id": "4d081ce6",
   "metadata": {},
   "outputs": [],
   "source": [
    "sudo docker ps -all"
   ]
  },
  {
   "cell_type": "markdown",
   "id": "c29fadc2",
   "metadata": {},
   "source": [
    "## create container (from image)"
   ]
  },
  {
   "cell_type": "code",
   "execution_count": null,
   "id": "37051482",
   "metadata": {},
   "outputs": [],
   "source": [
    "docker create <image>"
   ]
  },
  {
   "cell_type": "markdown",
   "id": "7d4da8b3",
   "metadata": {},
   "source": [
    "## stop container"
   ]
  },
  {
   "cell_type": "markdown",
   "id": "3d0f8705",
   "metadata": {},
   "source": [
    "- pausing container means data still persists"
   ]
  },
  {
   "cell_type": "code",
   "execution_count": null,
   "id": "fc1ee87b",
   "metadata": {},
   "outputs": [],
   "source": [
    "docker kill $(docker ps -q)"
   ]
  },
  {
   "cell_type": "markdown",
   "id": "114c09bb",
   "metadata": {},
   "source": [
    "## remove container"
   ]
  },
  {
   "cell_type": "markdown",
   "id": "4b4ed256",
   "metadata": {},
   "source": [
    "- remove container only possible after stopping container\n",
    "- remove means data wiped out "
   ]
  },
  {
   "cell_type": "code",
   "execution_count": null,
   "id": "2fae4c12",
   "metadata": {},
   "outputs": [],
   "source": [
    "docker rm $(docker ps -a -q)"
   ]
  },
  {
   "cell_type": "markdown",
   "id": "384a4d8f",
   "metadata": {},
   "source": [
    "# docker tutorial"
   ]
  },
  {
   "cell_type": "markdown",
   "id": "783ca902",
   "metadata": {},
   "source": [
    "main\n",
    "\n",
    "https://github.com/veryacademy/docker-mastery-with-django"
   ]
  },
  {
   "cell_type": "markdown",
   "id": "054e9c01",
   "metadata": {},
   "source": [
    "## containerize "
   ]
  },
  {
   "cell_type": "markdown",
   "id": "b3e150c8",
   "metadata": {},
   "source": [
    "https://www.youtube.com/watch?v=W5Ov0H7E_o4&list=RDCMUC1mxuk7tuQT2D0qTMgKji3w&start_radio=1&rv=W5Ov0H7E_o4&t=1182"
   ]
  },
  {
   "cell_type": "markdown",
   "id": "c7c861ab",
   "metadata": {},
   "source": [
    "1. create Dockerfile\n",
    "2. create.dockerignore file\n",
    "3. run commands"
   ]
  },
  {
   "cell_type": "markdown",
   "id": "fe267315",
   "metadata": {},
   "source": [
    "Dockerfile"
   ]
  },
  {
   "cell_type": "markdown",
   "id": "34ab18c1",
   "metadata": {},
   "source": [
    "- run \n",
    "- COPY\n",
    "    - copy from current folder to docker\n",
    "- COPY . . \n",
    "    - copy whole folder to docker\n"
   ]
  },
  {
   "cell_type": "code",
   "execution_count": null,
   "id": "cc5d1b31",
   "metadata": {},
   "outputs": [],
   "source": [
    "FROM python:3.8-slim-buster\n",
    "\n",
    "WORKDIR /app\n",
    "\n",
    "COPY requirements.txt requirements.txt\n",
    "RUN pip install -r requirements.txt\n",
    "\n",
    "COPY . .\n",
    "\n",
    "CMD [\"python3\", \"manage.py\", \"runserver\", \"0.0.0.0:8000\"]"
   ]
  },
  {
   "cell_type": "markdown",
   "id": "768b26a7",
   "metadata": {},
   "source": [
    ".dockerignore"
   ]
  },
  {
   "cell_type": "code",
   "execution_count": null,
   "id": "c541b582",
   "metadata": {},
   "outputs": [],
   "source": [
    "*/venv"
   ]
  },
  {
   "cell_type": "markdown",
   "id": "096629b6",
   "metadata": {},
   "source": [
    "commands.txt"
   ]
  },
  {
   "cell_type": "code",
   "execution_count": null,
   "id": "66ef81be",
   "metadata": {},
   "outputs": [],
   "source": [
    "sudo docker build --tag python-django .\n",
    "sudo docker run --publish 8000:8000 python-django"
   ]
  },
  {
   "cell_type": "markdown",
   "id": "e15581ee",
   "metadata": {},
   "source": [
    "# Docker Volume"
   ]
  },
  {
   "cell_type": "markdown",
   "id": "cdd00bcd",
   "metadata": {},
   "source": [
    "- to persist data. Else all data in containers auto clear when container is removed\n",
    "- Docker volumes are directories (or files) that are outside of the default Docker file system and exist as normal directories and files on the host filesystem. A volume does not increase the size of the containers using it, and the volume’s contents exist outside the lifecycle of a given container."
   ]
  }
 ],
 "metadata": {
  "kernelspec": {
   "display_name": "Python 3",
   "language": "python",
   "name": "python3"
  },
  "language_info": {
   "codemirror_mode": {
    "name": "ipython",
    "version": 3
   },
   "file_extension": ".py",
   "mimetype": "text/x-python",
   "name": "python",
   "nbconvert_exporter": "python",
   "pygments_lexer": "ipython3",
   "version": "3.8.5"
  }
 },
 "nbformat": 4,
 "nbformat_minor": 5
}
