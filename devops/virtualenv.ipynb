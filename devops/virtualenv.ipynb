{
 "cells": [
  {
   "cell_type": "markdown",
   "id": "547956ec",
   "metadata": {},
   "source": [
    "## install"
   ]
  },
  {
   "cell_type": "markdown",
   "id": "f92b4514",
   "metadata": {},
   "source": [
    "python3 comes with virtualenv. do not install with pip else conflict"
   ]
  },
  {
   "cell_type": "markdown",
   "id": "0ba187f9",
   "metadata": {},
   "source": [
    "## create environment"
   ]
  },
  {
   "cell_type": "code",
   "execution_count": null,
   "id": "a09c8fe0",
   "metadata": {},
   "outputs": [],
   "source": [
    "python3 -m virtualenv env"
   ]
  },
  {
   "cell_type": "markdown",
   "id": "2f2e67cc",
   "metadata": {},
   "source": [
    "## activate environment"
   ]
  },
  {
   "cell_type": "code",
   "execution_count": null,
   "id": "b22016b2",
   "metadata": {},
   "outputs": [],
   "source": [
    "source env/bin/activate"
   ]
  }
 ],
 "metadata": {
  "kernelspec": {
   "display_name": "Python 3",
   "language": "python",
   "name": "python3"
  },
  "language_info": {
   "codemirror_mode": {
    "name": "ipython",
    "version": 3
   },
   "file_extension": ".py",
   "mimetype": "text/x-python",
   "name": "python",
   "nbconvert_exporter": "python",
   "pygments_lexer": "ipython3",
   "version": "3.8.5"
  }
 },
 "nbformat": 4,
 "nbformat_minor": 5
}
