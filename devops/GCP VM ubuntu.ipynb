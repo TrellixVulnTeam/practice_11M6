{
 "cells": [
  {
   "cell_type": "markdown",
   "id": "7c2cc5c6",
   "metadata": {},
   "source": [
    "https://www.youtube.com/watch?v=UYLA_fFdciA"
   ]
  },
  {
   "cell_type": "markdown",
   "id": "9643dae6",
   "metadata": {},
   "source": [
    "## create VM instance"
   ]
  },
  {
   "cell_type": "markdown",
   "id": "32dba8db",
   "metadata": {},
   "source": [
    "- boot disk\n",
    "    - select ubuntu\n",
    "    - more than 15GB as ubuntu takes up 2GB\n",
    "- api access\n",
    "    - disable"
   ]
  },
  {
   "cell_type": "markdown",
   "id": "d82f9ad9",
   "metadata": {},
   "source": [
    "## setup ubuntu on instance\n"
   ]
  },
  {
   "cell_type": "code",
   "execution_count": null,
   "id": "7fa2ec54",
   "metadata": {},
   "outputs": [],
   "source": [
    "sudo apt-get update"
   ]
  },
  {
   "cell_type": "code",
   "execution_count": null,
   "id": "84d29412",
   "metadata": {},
   "outputs": [],
   "source": [
    "sudo apt-get upgrade -y"
   ]
  },
  {
   "cell_type": "code",
   "execution_count": null,
   "id": "0a796af8",
   "metadata": {},
   "outputs": [],
   "source": [
    "sudo apt-get install ubuntu-desktop"
   ]
  },
  {
   "cell_type": "markdown",
   "id": "1b1d3218",
   "metadata": {},
   "source": [
    "## Download remote desktop UI for VM (nomachine)"
   ]
  },
  {
   "cell_type": "markdown",
   "id": "51d92b9f",
   "metadata": {},
   "source": [
    "note: get download link from www.nomachine.com, for linux DEB amd64.\n",
    "- right click inspect element for the download button"
   ]
  },
  {
   "cell_type": "code",
   "execution_count": null,
   "id": "1eecfcfd",
   "metadata": {},
   "outputs": [],
   "source": [
    "wget https://download.nomachine.com/download/7.6/Linux/nomachine\n",
    "_7.6.2_4_amd64.deb\n",
    "\n",
    "#output: downloaded nomachine_7.6.2_4_amd64.deb"
   ]
  },
  {
   "cell_type": "code",
   "execution_count": null,
   "id": "dbde7576",
   "metadata": {},
   "outputs": [],
   "source": [
    "sudo apt install ./nomachine_7.6.2_4_amd64.deb"
   ]
  },
  {
   "cell_type": "markdown",
   "id": "6b2b25ce",
   "metadata": {},
   "source": [
    "# firewall"
   ]
  },
  {
   "cell_type": "markdown",
   "id": "be4c2388",
   "metadata": {},
   "source": [
    "### create firewall rule"
   ]
  },
  {
   "cell_type": "markdown",
   "id": "bc1f94d6",
   "metadata": {},
   "source": [
    "Networking> VPC network > firewall\n",
    "- create firewall rule"
   ]
  },
  {
   "cell_type": "markdown",
   "id": "3e7b1b7b",
   "metadata": {},
   "source": [
    "- name: nomachine\n",
    "- priority: 1000\n",
    "- target tags: nomachine\n",
    "- source IP ranges: 0.0.0.0/0\n",
    "- TCP: 4000"
   ]
  },
  {
   "cell_type": "markdown",
   "id": "551c9911",
   "metadata": {},
   "source": [
    "### assign firewall rule to VM instance"
   ]
  },
  {
   "cell_type": "markdown",
   "id": "dd5d367d",
   "metadata": {},
   "source": [
    "Compute engine > VM instance > click on instance > edit\n",
    "\n",
    "- network tags: nomachine  (input the firewall name)"
   ]
  },
  {
   "cell_type": "markdown",
   "id": "11319184",
   "metadata": {},
   "source": [
    "## add password"
   ]
  },
  {
   "cell_type": "markdown",
   "id": "103ff6a6",
   "metadata": {},
   "source": [
    "enter SSH"
   ]
  },
  {
   "cell_type": "code",
   "execution_count": null,
   "id": "2eb7a3cf",
   "metadata": {},
   "outputs": [],
   "source": [
    "sudo -s"
   ]
  },
  {
   "cell_type": "code",
   "execution_count": null,
   "id": "ab712019",
   "metadata": {},
   "outputs": [],
   "source": [
    "nano /etc/ssh/sshd_config "
   ]
  },
  {
   "cell_type": "markdown",
   "id": "4f341eda",
   "metadata": {},
   "source": [
    "change password: no to password: yes in nano file"
   ]
  },
  {
   "cell_type": "markdown",
   "id": "1cf3ca1a",
   "metadata": {},
   "source": [
    "## set user as superuser"
   ]
  },
  {
   "cell_type": "code",
   "execution_count": null,
   "id": "b4d5bcd7",
   "metadata": {},
   "outputs": [],
   "source": [
    "adduser galen"
   ]
  },
  {
   "cell_type": "markdown",
   "id": "6bd1d0b8",
   "metadata": {},
   "source": [
    "output:\n",
    "\n",
    "Adding user `galen' ...\n",
    "\n",
    "Adding new group `galen' (1004) ...\n",
    "\n",
    "Adding new user `galen' (1002) with group `galen' ...\n",
    "\n",
    "Creating home directory `/home/galen' ...\n",
    "\n",
    "Copying files from `/etc/skel' ..."
   ]
  },
  {
   "cell_type": "code",
   "execution_count": null,
   "id": "db0038eb",
   "metadata": {},
   "outputs": [],
   "source": [
    "usermod -a -G sudo,adm galen"
   ]
  },
  {
   "cell_type": "code",
   "execution_count": null,
   "id": "0e39a40d",
   "metadata": {},
   "outputs": [],
   "source": [
    "reboot"
   ]
  },
  {
   "cell_type": "markdown",
   "id": "b5e839c0",
   "metadata": {},
   "source": [
    "-close the 'connection via cloud idetntity-aware proxy failed' message"
   ]
  },
  {
   "cell_type": "markdown",
   "id": "2a8e46da",
   "metadata": {},
   "source": [
    "## install nomachine on local computer"
   ]
  },
  {
   "cell_type": "markdown",
   "id": "ebb617d4",
   "metadata": {},
   "source": [
    "https://www.nomachine.com/download/download&id=3\n",
    "\n",
    "https://websiteforstudents.com/install-nomacine-on-ubuntu-16-04-17-10-18-04/\n",
    "    \n",
    "sudo dpkg -i ~/Downloads/nomachine_*.deb"
   ]
  },
  {
   "cell_type": "markdown",
   "id": "7d07c4f8",
   "metadata": {},
   "source": [
    "## add connection to nomachine"
   ]
  },
  {
   "cell_type": "markdown",
   "id": "6580fcfe",
   "metadata": {},
   "source": [
    "host: 35.247.158.120\n",
    "\n",
    "port: 4000 (same as firewall config)"
   ]
  },
  {
   "cell_type": "markdown",
   "id": "211b8de3",
   "metadata": {},
   "source": [
    "## connect\n",
    "\n",
    "enter superuser and pass"
   ]
  },
  {
   "cell_type": "markdown",
   "id": "6f7d61e7",
   "metadata": {},
   "source": [
    "## ubuntu settings for nomachine"
   ]
  },
  {
   "cell_type": "markdown",
   "id": "fb5edc09",
   "metadata": {},
   "source": [
    "- set display\n",
    "    - ctrl + alt + 0\n",
    "    - display > resize remote display\n",
    "- set power saving to Never\n",
    "     - important, else hard to get back in. A bug on nomachine.\n",
    "     - settings > power > blank screen > never"
   ]
  }
 ],
 "metadata": {
  "kernelspec": {
   "display_name": "Python 3",
   "language": "python",
   "name": "python3"
  },
  "language_info": {
   "codemirror_mode": {
    "name": "ipython",
    "version": 3
   },
   "file_extension": ".py",
   "mimetype": "text/x-python",
   "name": "python",
   "nbconvert_exporter": "python",
   "pygments_lexer": "ipython3",
   "version": "3.8.5"
  }
 },
 "nbformat": 4,
 "nbformat_minor": 5
}
