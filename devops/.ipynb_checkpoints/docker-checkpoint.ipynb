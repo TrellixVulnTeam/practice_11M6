{
 "cells": [
  {
   "cell_type": "markdown",
   "id": "f41498a3",
   "metadata": {},
   "source": [
    "## Install docker"
   ]
  },
  {
   "cell_type": "markdown",
   "id": "0969d565",
   "metadata": {},
   "source": [
    "https://www.youtube.com/watch?v=aMKUuaga85A\n",
    "    "
   ]
  },
  {
   "cell_type": "markdown",
   "id": "f783f890",
   "metadata": {},
   "source": [
    "docker has to be accessed by root user thus sudo"
   ]
  },
  {
   "cell_type": "code",
   "execution_count": null,
   "id": "8cc42617",
   "metadata": {},
   "outputs": [],
   "source": [
    "sudo apt install docker.io"
   ]
  },
  {
   "cell_type": "code",
   "execution_count": null,
   "id": "fbc6512f",
   "metadata": {},
   "outputs": [],
   "source": [
    "docker --version"
   ]
  },
  {
   "cell_type": "markdown",
   "id": "9b2c207d",
   "metadata": {},
   "source": [
    "run docker"
   ]
  },
  {
   "cell_type": "code",
   "execution_count": null,
   "id": "4f72063c",
   "metadata": {},
   "outputs": [],
   "source": [
    "sudo systemctl status docker"
   ]
  },
  {
   "cell_type": "markdown",
   "id": "ad67257f",
   "metadata": {},
   "source": [
    "if inactive, enable"
   ]
  },
  {
   "cell_type": "code",
   "execution_count": null,
   "id": "67014646",
   "metadata": {},
   "outputs": [],
   "source": [
    "sudo systemctl enable --now docker"
   ]
  },
  {
   "cell_type": "code",
   "execution_count": 2,
   "id": "5e8f39ef",
   "metadata": {},
   "outputs": [
    {
     "ename": "SyntaxError",
     "evalue": "invalid syntax (<ipython-input-2-14655177c14f>, line 1)",
     "output_type": "error",
     "traceback": [
      "\u001b[0;36m  File \u001b[0;32m\"<ipython-input-2-14655177c14f>\"\u001b[0;36m, line \u001b[0;32m1\u001b[0m\n\u001b[0;31m    sudo docker run hello-world\u001b[0m\n\u001b[0m         ^\u001b[0m\n\u001b[0;31mSyntaxError\u001b[0m\u001b[0;31m:\u001b[0m invalid syntax\n"
     ]
    }
   ],
   "source": [
    "sudo docker run hello-world"
   ]
  },
  {
   "cell_type": "code",
   "execution_count": 3,
   "id": "00ab0e33",
   "metadata": {},
   "outputs": [
    {
     "ename": "SyntaxError",
     "evalue": "invalid syntax (<ipython-input-3-983428f500c3>, line 1)",
     "output_type": "error",
     "traceback": [
      "\u001b[0;36m  File \u001b[0;32m\"<ipython-input-3-983428f500c3>\"\u001b[0;36m, line \u001b[0;32m1\u001b[0m\n\u001b[0;31m    docker run hello-world\u001b[0m\n\u001b[0m           ^\u001b[0m\n\u001b[0;31mSyntaxError\u001b[0m\u001b[0;31m:\u001b[0m invalid syntax\n"
     ]
    }
   ],
   "source": [
    "docker run hello-world"
   ]
  },
  {
   "cell_type": "markdown",
   "id": "6b0e9d96",
   "metadata": {},
   "source": [
    "# Images"
   ]
  },
  {
   "cell_type": "markdown",
   "id": "405da614",
   "metadata": {},
   "source": [
    "## create image\n",
    "\n",
    "- tag <name>\n",
    "    - can be used for easy access\n",
    "    \n",
    "- image is used as a template/ base to create containers\n",
    "    - https://phoenixnap.com/kb/docker-image-vs-container#:~:text=Images%20can%20exist%20without%20containers,of%20running%20a%20Docker%20container.\n",
    "    "
   ]
  },
  {
   "cell_type": "raw",
   "id": "2bb1014a",
   "metadata": {},
   "source": [
    "docker build <image> --tag <name>"
   ]
  },
  {
   "cell_type": "markdown",
   "id": "084d71bc",
   "metadata": {},
   "source": [
    "##  publish image (container)\n",
    "- internally runing on port 8000 while external running on 8090\n",
    "- p or -publish \n",
    "    - enable external access to port\n",
    "    \n",
    "\n",
    "- #### docker run vs docker create?\n",
    "    - docker run = docker create + docker start.\n",
    "\n",
    "https://stackoverflow.com/questions/37744961/docker-run-vs-create#:~:text=The%20initial%20status%20of%20the%20new%20container%20is%20created.&text=docker%20run%20%3D%20docker%20create%20%2B%20docker%20start%20.&text=docker%20create%20command%20creates%20a%20writeable%20container%20from%20the%20image,docker%20create%20)%20and%20starts%20it."
   ]
  },
  {
   "cell_type": "code",
   "execution_count": null,
   "id": "da95b870",
   "metadata": {},
   "outputs": [],
   "source": [
    "sudo docker run --publish 8090:8000 python-django"
   ]
  },
  {
   "cell_type": "markdown",
   "id": "04390a46",
   "metadata": {},
   "source": [
    "## check all images"
   ]
  },
  {
   "cell_type": "code",
   "execution_count": null,
   "id": "8b7547cc",
   "metadata": {},
   "outputs": [],
   "source": [
    "sudo docker images"
   ]
  },
  {
   "cell_type": "markdown",
   "id": "eea55982",
   "metadata": {},
   "source": [
    "## remove image"
   ]
  },
  {
   "cell_type": "code",
   "execution_count": null,
   "id": "cfd7518a",
   "metadata": {},
   "outputs": [],
   "source": [
    "sudo docker image rm <image-name>"
   ]
  },
  {
   "cell_type": "markdown",
   "id": "daf6c5a4",
   "metadata": {},
   "source": [
    "# Container"
   ]
  },
  {
   "cell_type": "markdown",
   "id": "b141d12c",
   "metadata": {},
   "source": [
    "## view all containers"
   ]
  },
  {
   "cell_type": "code",
   "execution_count": 3,
   "id": "4d081ce6",
   "metadata": {},
   "outputs": [
    {
     "ename": "SyntaxError",
     "evalue": "invalid syntax (<ipython-input-3-576768090c64>, line 1)",
     "output_type": "error",
     "traceback": [
      "\u001b[0;36m  File \u001b[0;32m\"<ipython-input-3-576768090c64>\"\u001b[0;36m, line \u001b[0;32m1\u001b[0m\n\u001b[0;31m    sudo docker ps -all\u001b[0m\n\u001b[0m         ^\u001b[0m\n\u001b[0;31mSyntaxError\u001b[0m\u001b[0;31m:\u001b[0m invalid syntax\n"
     ]
    }
   ],
   "source": [
    "sudo docker ps -all\n",
    "\n",
    "# -all or -a "
   ]
  },
  {
   "cell_type": "markdown",
   "id": "c29fadc2",
   "metadata": {},
   "source": [
    "## create container (from image)"
   ]
  },
  {
   "cell_type": "code",
   "execution_count": null,
   "id": "37051482",
   "metadata": {},
   "outputs": [],
   "source": [
    "docker create <image>"
   ]
  },
  {
   "cell_type": "markdown",
   "id": "7d4da8b3",
   "metadata": {},
   "source": [
    "## stop container"
   ]
  },
  {
   "cell_type": "markdown",
   "id": "3d0f8705",
   "metadata": {},
   "source": [
    "- pausing container means data still persists"
   ]
  },
  {
   "cell_type": "code",
   "execution_count": null,
   "id": "fc1ee87b",
   "metadata": {},
   "outputs": [],
   "source": [
    "docker kill $(docker ps -q)"
   ]
  },
  {
   "cell_type": "markdown",
   "id": "114c09bb",
   "metadata": {},
   "source": [
    "## remove container"
   ]
  },
  {
   "cell_type": "markdown",
   "id": "4b4ed256",
   "metadata": {},
   "source": [
    "- remove container only possible after stopping container\n",
    "- remove means data wiped out "
   ]
  },
  {
   "cell_type": "code",
   "execution_count": null,
   "id": "2fae4c12",
   "metadata": {},
   "outputs": [],
   "source": [
    "docker rm $(docker ps -a -q)"
   ]
  },
  {
   "cell_type": "markdown",
   "id": "384a4d8f",
   "metadata": {},
   "source": [
    "# docker tutorial"
   ]
  },
  {
   "cell_type": "markdown",
   "id": "783ca902",
   "metadata": {},
   "source": [
    "main\n",
    "\n",
    "https://github.com/veryacademy/docker-mastery-with-django"
   ]
  },
  {
   "cell_type": "markdown",
   "id": "054e9c01",
   "metadata": {},
   "source": [
    "## containerize "
   ]
  },
  {
   "cell_type": "markdown",
   "id": "b3e150c8",
   "metadata": {},
   "source": [
    "https://www.youtube.com/watch?v=W5Ov0H7E_o4&list=RDCMUC1mxuk7tuQT2D0qTMgKji3w&start_radio=1&rv=W5Ov0H7E_o4&t=1182"
   ]
  },
  {
   "cell_type": "markdown",
   "id": "c7c861ab",
   "metadata": {},
   "source": [
    "1. create Dockerfile\n",
    "2. create.dockerignore file\n",
    "3. run commands"
   ]
  },
  {
   "cell_type": "markdown",
   "id": "fe267315",
   "metadata": {},
   "source": [
    "Dockerfile"
   ]
  },
  {
   "cell_type": "markdown",
   "id": "34ab18c1",
   "metadata": {},
   "source": [
    "- run \n",
    "- COPY\n",
    "    - copy from current folder to docker\n",
    "- COPY . . \n",
    "    - copy whole folder to docker\n"
   ]
  },
  {
   "cell_type": "code",
   "execution_count": null,
   "id": "cc5d1b31",
   "metadata": {},
   "outputs": [],
   "source": [
    "FROM python:3.8-slim-buster\n",
    "\n",
    "WORKDIR /app\n",
    "\n",
    "COPY requirements.txt requirements.txt\n",
    "RUN pip install -r requirements.txt\n",
    "\n",
    "COPY . .\n",
    "\n",
    "CMD [\"python3\", \"manage.py\", \"runserver\", \"0.0.0.0:8000\"]"
   ]
  },
  {
   "cell_type": "markdown",
   "id": "768b26a7",
   "metadata": {},
   "source": [
    ".dockerignore"
   ]
  },
  {
   "cell_type": "code",
   "execution_count": null,
   "id": "c541b582",
   "metadata": {},
   "outputs": [],
   "source": [
    "*/venv"
   ]
  },
  {
   "cell_type": "markdown",
   "id": "096629b6",
   "metadata": {},
   "source": [
    "commands.txt"
   ]
  },
  {
   "cell_type": "code",
   "execution_count": null,
   "id": "66ef81be",
   "metadata": {},
   "outputs": [],
   "source": [
    "sudo docker build --tag python-django .\n",
    "sudo docker run --publish 8000:8000 python-django"
   ]
  },
  {
   "cell_type": "markdown",
   "id": "e15581ee",
   "metadata": {},
   "source": [
    "# Docker Volume"
   ]
  },
  {
   "cell_type": "markdown",
   "id": "cdd00bcd",
   "metadata": {},
   "source": [
    "- to persist data. Else all data in containers auto clear when container is removed\n",
    "- Docker volumes are directories (or files) that are outside of the default Docker file system and exist as normal directories and files on the host filesystem. A volume does not increase the size of the containers using it, and the volume’s contents exist outside the lifecycle of a given container."
   ]
  },
  {
   "cell_type": "markdown",
   "id": "5473a919",
   "metadata": {},
   "source": [
    "# Push to dockerhub "
   ]
  },
  {
   "cell_type": "markdown",
   "id": "5bec29bb",
   "metadata": {},
   "source": [
    "why dockerhub?\n",
    "\n",
    "- images are large. versioning on git can't cope"
   ]
  },
  {
   "cell_type": "markdown",
   "id": "35150e1a",
   "metadata": {},
   "source": [
    "https://www.youtube.com/watch?v=fdQ7MmQNTa0"
   ]
  },
  {
   "cell_type": "markdown",
   "id": "580f68df",
   "metadata": {},
   "source": [
    "### find image to use"
   ]
  },
  {
   "cell_type": "code",
   "execution_count": null,
   "id": "3e4f5235",
   "metadata": {},
   "outputs": [],
   "source": [
    "sudo docker image ls"
   ]
  },
  {
   "cell_type": "markdown",
   "id": "bde980fd",
   "metadata": {},
   "source": [
    "### else get image"
   ]
  },
  {
   "cell_type": "code",
   "execution_count": null,
   "id": "5f374cc6",
   "metadata": {},
   "outputs": [],
   "source": [
    "docker pull ubuntu"
   ]
  },
  {
   "cell_type": "markdown",
   "id": "39b1f88c",
   "metadata": {},
   "source": [
    "### create container"
   ]
  },
  {
   "cell_type": "code",
   "execution_count": null,
   "id": "6106e414",
   "metadata": {},
   "outputs": [],
   "source": [
    "docker run -it -d ubuntu"
   ]
  },
  {
   "cell_type": "markdown",
   "id": "f10b2e49",
   "metadata": {},
   "source": [
    "### check container running"
   ]
  },
  {
   "cell_type": "code",
   "execution_count": null,
   "id": "cc8f4dcb",
   "metadata": {},
   "outputs": [],
   "source": [
    "sudo docker ps -a"
   ]
  },
  {
   "cell_type": "code",
   "execution_count": 4,
   "id": "9968b931",
   "metadata": {},
   "outputs": [
    {
     "ename": "SyntaxError",
     "evalue": "invalid syntax (<ipython-input-4-e7260a242ccc>, line 1)",
     "output_type": "error",
     "traceback": [
      "\u001b[0;36m  File \u001b[0;32m\"<ipython-input-4-e7260a242ccc>\"\u001b[0;36m, line \u001b[0;32m1\u001b[0m\n\u001b[0;31m    CONTAINER ID   IMAGE         COMMAND    CREATED          STATUS                      PORTS     NAMES\u001b[0m\n\u001b[0m              ^\u001b[0m\n\u001b[0;31mSyntaxError\u001b[0m\u001b[0;31m:\u001b[0m invalid syntax\n"
     ]
    }
   ],
   "source": [
    "# output\n",
    "CONTAINER ID   IMAGE         COMMAND    CREATED          STATUS                      PORTS     NAMES\n",
    "3c1f4480d4a2   hello-world   \"/hello\"   16 seconds ago   Exited (0) 14 seconds ago             elegant_babbage"
   ]
  },
  {
   "cell_type": "markdown",
   "id": "702cf091",
   "metadata": {},
   "source": [
    "### make changes to image (optional)"
   ]
  },
  {
   "cell_type": "code",
   "execution_count": null,
   "id": "d52ff133",
   "metadata": {},
   "outputs": [],
   "source": [
    "docker exec -it 3c1f4480d4a2 bash\n",
    "# cmd line enters root@3c1f4480d4a2:"
   ]
  },
  {
   "cell_type": "code",
   "execution_count": null,
   "id": "08d21aed",
   "metadata": {},
   "outputs": [],
   "source": [
    "mkrdir test-directory"
   ]
  },
  {
   "cell_type": "code",
   "execution_count": null,
   "id": "b1a37577",
   "metadata": {},
   "outputs": [],
   "source": [
    "ls"
   ]
  },
  {
   "cell_type": "code",
   "execution_count": 5,
   "id": "9488c4c3",
   "metadata": {},
   "outputs": [
    {
     "ename": "SyntaxError",
     "evalue": "invalid syntax (<ipython-input-5-48d189694239>, line 1)",
     "output_type": "error",
     "traceback": [
      "\u001b[0;36m  File \u001b[0;32m\"<ipython-input-5-48d189694239>\"\u001b[0;36m, line \u001b[0;32m1\u001b[0m\n\u001b[0;31m    bin   dev\t\t   docker-entrypoint.sh  home  lib64  mnt  proc  run   srv  test-directory  usr\u001b[0m\n\u001b[0m          ^\u001b[0m\n\u001b[0;31mSyntaxError\u001b[0m\u001b[0;31m:\u001b[0m invalid syntax\n"
     ]
    }
   ],
   "source": [
    "#output: test-directory created\n",
    "bin   dev\t\t   docker-entrypoint.sh  home  lib64  mnt  proc  run   srv  test-directory  usr\n",
    "boot  docker-entrypoint.d  etc\t\t\t lib   media  opt  root  sbin  sys  tmp\t\t    var"
   ]
  },
  {
   "cell_type": "code",
   "execution_count": null,
   "id": "d30a00ed",
   "metadata": {},
   "outputs": [],
   "source": [
    "exit"
   ]
  },
  {
   "cell_type": "markdown",
   "id": "a271e2e7",
   "metadata": {},
   "source": [
    "### login, commit and push"
   ]
  },
  {
   "cell_type": "markdown",
   "id": "e827b6dc",
   "metadata": {},
   "source": [
    "login"
   ]
  },
  {
   "cell_type": "code",
   "execution_count": null,
   "id": "80a4e1c3",
   "metadata": {},
   "outputs": [],
   "source": [
    "docker login"
   ]
  },
  {
   "cell_type": "markdown",
   "id": "474db9b8",
   "metadata": {},
   "source": [
    "commit"
   ]
  },
  {
   "cell_type": "code",
   "execution_count": null,
   "id": "ca49d93e",
   "metadata": {},
   "outputs": [],
   "source": [
    "# sudo docker commit <container_id> <username>/<repo_name>:<tag>"
   ]
  },
  {
   "cell_type": "code",
   "execution_count": null,
   "id": "671bdc35",
   "metadata": {},
   "outputs": [],
   "source": [
    "sudo docker commit c2e5ea9ce5bc polobao1/bitbuckets:2"
   ]
  },
  {
   "cell_type": "code",
   "execution_count": null,
   "id": "bbb56e52",
   "metadata": {},
   "outputs": [],
   "source": [
    "#output\n",
    "sha256:724940f2cb9b2f9bdc64c1e15d08b06de2cf6eea6a0b351155c15b8a51504005"
   ]
  },
  {
   "cell_type": "markdown",
   "id": "5ccbbe8c",
   "metadata": {},
   "source": [
    "push"
   ]
  },
  {
   "cell_type": "code",
   "execution_count": null,
   "id": "b281d7db",
   "metadata": {},
   "outputs": [],
   "source": [
    "sudo docker push c2e5ea9ce5bc polobao1/bitbuckets:2"
   ]
  },
  {
   "cell_type": "code",
   "execution_count": null,
   "id": "803c57ec",
   "metadata": {},
   "outputs": [],
   "source": [
    "#output\n",
    "\n",
    "The push refers to repository [docker.io/polobao1/bitbuckets]\n",
    "c9dc7cf056fd: Pushed \n",
    "f0f30197ccf9: Mounted from library/nginx \n",
    "eeb14ff930d4: Mounted from library/nginx \n",
    "c9732df61184: Mounted from library/nginx \n",
    "4b8db2d7f35a: Mounted from library/nginx \n",
    "431f409d4c5a: Mounted from library/nginx \n",
    "02c055ef67f5: Mounted from library/python \n",
    "2: digest: sha256:cd2d006afa3b3aef474e148e5098231f539a6797e8ef3f0d3b93312d6f0d471c size: 1778"
   ]
  }
 ],
 "metadata": {
  "kernelspec": {
   "display_name": "Python 3",
   "language": "python",
   "name": "python3"
  },
  "language_info": {
   "codemirror_mode": {
    "name": "ipython",
    "version": 3
   },
   "file_extension": ".py",
   "mimetype": "text/x-python",
   "name": "python",
   "nbconvert_exporter": "python",
   "pygments_lexer": "ipython3",
   "version": "3.8.5"
  }
 },
 "nbformat": 4,
 "nbformat_minor": 5
}
