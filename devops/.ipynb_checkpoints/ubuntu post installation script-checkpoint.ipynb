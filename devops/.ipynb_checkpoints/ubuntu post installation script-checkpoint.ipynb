{
 "cells": [
  {
   "cell_type": "markdown",
   "id": "1accddcd",
   "metadata": {},
   "source": [
    "## script to install programs\n",
    "\n",
    "https://www.addictivetips.com/ubuntu-linux-tips/make-ubuntu-post-installation-script/"
   ]
  },
  {
   "cell_type": "markdown",
   "id": "32889b5c",
   "metadata": {},
   "source": [
    "## Script"
   ]
  },
  {
   "cell_type": "markdown",
   "id": "3b6def05",
   "metadata": {},
   "source": [
    "ubuntu-post-installer.sh"
   ]
  },
  {
   "cell_type": "markdown",
   "id": "f622ff9a",
   "metadata": {},
   "source": [
    "- shebang\n",
    "    - #!/bin/bash\n",
    "    - to enable commands to be read to bash"
   ]
  },
  {
   "cell_type": "code",
   "execution_count": null,
   "id": "78b8b831",
   "metadata": {},
   "outputs": [],
   "source": [
    "#!/bin/bash\n",
    "\n",
    "#update\n",
    "sudo apt update; sudo apt upgrade -y\n",
    "\n",
    "#install program from snap\n",
    "sudo snap install --classic code"
   ]
  },
  {
   "cell_type": "markdown",
   "id": "cae9a910",
   "metadata": {},
   "source": [
    "## Run script"
   ]
  },
  {
   "cell_type": "markdown",
   "id": "1955d5b9",
   "metadata": {},
   "source": [
    "give permissions to the script"
   ]
  },
  {
   "cell_type": "code",
   "execution_count": null,
   "id": "dc4b5971",
   "metadata": {},
   "outputs": [],
   "source": [
    "sudo chmod +x ~/ubuntu-post-installer.sh"
   ]
  },
  {
   "cell_type": "markdown",
   "id": "e2a4cbc8",
   "metadata": {},
   "source": [
    "run script"
   ]
  },
  {
   "cell_type": "code",
   "execution_count": null,
   "id": "da07cd1d",
   "metadata": {},
   "outputs": [],
   "source": [
    "sudo bash ubuntu-post-installer.sh   "
   ]
  }
 ],
 "metadata": {
  "kernelspec": {
   "display_name": "Python 3",
   "language": "python",
   "name": "python3"
  },
  "language_info": {
   "codemirror_mode": {
    "name": "ipython",
    "version": 3
   },
   "file_extension": ".py",
   "mimetype": "text/x-python",
   "name": "python",
   "nbconvert_exporter": "python",
   "pygments_lexer": "ipython3",
   "version": "3.8.5"
  }
 },
 "nbformat": 4,
 "nbformat_minor": 5
}
