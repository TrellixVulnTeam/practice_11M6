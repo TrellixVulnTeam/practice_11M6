{
 "cells": [
  {
   "cell_type": "markdown",
   "id": "479b099f",
   "metadata": {},
   "source": [
    "sometimes libraries installed, but cmd line cannot use. can be due to path incorrect"
   ]
  },
  {
   "cell_type": "markdown",
   "id": "dadab7a8",
   "metadata": {},
   "source": [
    "## edit bashrc"
   ]
  },
  {
   "cell_type": "code",
   "execution_count": null,
   "id": "2299a7b6",
   "metadata": {},
   "outputs": [],
   "source": [
    "nano ~/.bashrc\n",
    "\n",
    "# tilde ~ represents home directory"
   ]
  },
  {
   "cell_type": "markdown",
   "id": "5759ecee",
   "metadata": {},
   "source": [
    "go to last line and add"
   ]
  },
  {
   "cell_type": "code",
   "execution_count": null,
   "id": "6b60017d",
   "metadata": {},
   "outputs": [],
   "source": [
    "# export virtualenv \n",
    "export PATH = $PATH= \"home/galen/.local/bin/virtualenv\""
   ]
  },
  {
   "cell_type": "markdown",
   "id": "c05ac74a",
   "metadata": {},
   "source": [
    "save, close terminal, new terminal can use virtualenv in cmd line now"
   ]
  }
 ],
 "metadata": {
  "kernelspec": {
   "display_name": "Python 3",
   "language": "python",
   "name": "python3"
  },
  "language_info": {
   "codemirror_mode": {
    "name": "ipython",
    "version": 3
   },
   "file_extension": ".py",
   "mimetype": "text/x-python",
   "name": "python",
   "nbconvert_exporter": "python",
   "pygments_lexer": "ipython3",
   "version": "3.8.5"
  }
 },
 "nbformat": 4,
 "nbformat_minor": 5
}
