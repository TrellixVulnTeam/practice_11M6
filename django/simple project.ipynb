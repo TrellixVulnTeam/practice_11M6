{
 "cells": [
  {
   "cell_type": "markdown",
   "id": "5688b501",
   "metadata": {},
   "source": [
    "Chronological notes"
   ]
  },
  {
   "cell_type": "markdown",
   "id": "44e37733",
   "metadata": {},
   "source": [
    "# VScode setup"
   ]
  },
  {
   "cell_type": "markdown",
   "id": "78eeeab1",
   "metadata": {},
   "source": [
    "### install extensions\n",
    "- Django Template (bibhasdn)\n",
    "- sqlite (alexcvzz) \n",
    "    - need to install: sudo apt install sqlite\n",
    "    - will then be able to see sqlite explorer via cmd + shift + p in vscode"
   ]
  },
  {
   "cell_type": "markdown",
   "id": "585577e6",
   "metadata": {},
   "source": [
    "### enter any commands (cmd + shift + P)\n"
   ]
  },
  {
   "cell_type": "markdown",
   "id": "a7b05106",
   "metadata": {},
   "source": [
    "- to customize vscode\n",
    "    - settings open json"
   ]
  },
  {
   "cell_type": "markdown",
   "id": "350c2eb7",
   "metadata": {},
   "source": [
    "# Create Structure"
   ]
  },
  {
   "cell_type": "markdown",
   "id": "bd495e1d",
   "metadata": {},
   "source": [
    "## Container"
   ]
  },
  {
   "cell_type": "markdown",
   "id": "86a759c4",
   "metadata": {},
   "source": [
    "https://stackoverflow.com/questions/41573587/what-is-the-difference-between-venv-pyvenv-pyenv-virtualenv-virtualenvwrappe"
   ]
  },
  {
   "cell_type": "markdown",
   "id": "326360c8",
   "metadata": {},
   "source": [
    "https://realpython.com/python-virtual-environments-a-primer/"
   ]
  },
  {
   "cell_type": "markdown",
   "id": "a443af59",
   "metadata": {},
   "source": [
    "### 1. create environ"
   ]
  },
  {
   "cell_type": "code",
   "execution_count": 13,
   "id": "36cf10c8",
   "metadata": {},
   "outputs": [],
   "source": [
    "# Python 2:\n",
    "## virtualenv env\n",
    "\n",
    "# Python 3\n",
    "## python3 -m venv env"
   ]
  },
  {
   "cell_type": "markdown",
   "id": "e842be0f",
   "metadata": {},
   "source": [
    "### 2. activate environ"
   ]
  },
  {
   "cell_type": "code",
   "execution_count": 14,
   "id": "4121517c",
   "metadata": {},
   "outputs": [],
   "source": [
    "## source env/bin/activate"
   ]
  },
  {
   "cell_type": "markdown",
   "id": "c12d3b8e",
   "metadata": {},
   "source": [
    "note: \n",
    "- create env in a folder\n",
    "- dont cd into directory, so that can create django project outside of env folder later"
   ]
  },
  {
   "cell_type": "markdown",
   "id": "e0293a44",
   "metadata": {},
   "source": [
    "## Install dependencies"
   ]
  },
  {
   "cell_type": "markdown",
   "id": "bad3ab6f",
   "metadata": {},
   "source": [
    "get requirement.txt"
   ]
  },
  {
   "cell_type": "code",
   "execution_count": 6,
   "id": "a6c2ed44",
   "metadata": {},
   "outputs": [],
   "source": [
    "## pip freeze > requirements.txt"
   ]
  },
  {
   "cell_type": "markdown",
   "id": "6087d08c",
   "metadata": {},
   "source": [
    "to remove all packages"
   ]
  },
  {
   "cell_type": "code",
   "execution_count": 3,
   "id": "949b30d6",
   "metadata": {},
   "outputs": [],
   "source": [
    "##  pip freeze | xargs pip uninstall"
   ]
  },
  {
   "cell_type": "markdown",
   "id": "028079b1",
   "metadata": {},
   "source": [
    "## Create project"
   ]
  },
  {
   "cell_type": "code",
   "execution_count": 7,
   "id": "2942ff35",
   "metadata": {},
   "outputs": [],
   "source": [
    "## django-admin startproject djcrm ."
   ]
  },
  {
   "cell_type": "markdown",
   "id": "e2d47670",
   "metadata": {},
   "source": [
    "## Gitignore file"
   ]
  },
  {
   "cell_type": "markdown",
   "id": "6169c15f",
   "metadata": {},
   "source": [
    "https://github.com/github/gitignore/blob/master/Python.gitignore\n",
    "\n",
    "- create .gitignore file in env folder\n",
    "- copy paste gitignore template"
   ]
  },
  {
   "cell_type": "markdown",
   "id": "dde8f247",
   "metadata": {},
   "source": [
    "## Migrations"
   ]
  },
  {
   "cell_type": "code",
   "execution_count": 17,
   "id": "6838173f",
   "metadata": {},
   "outputs": [],
   "source": [
    "# python manage.py makemigrations"
   ]
  },
  {
   "cell_type": "markdown",
   "id": "05580f80",
   "metadata": {},
   "source": [
    "<b>NOTE: </b>\n",
    "- delete migrations first if necessary\n",
    "- delete db (sqlite) if necessary"
   ]
  },
  {
   "cell_type": "code",
   "execution_count": 18,
   "id": "ba433097",
   "metadata": {},
   "outputs": [],
   "source": [
    "# python manage.py migrate"
   ]
  },
  {
   "cell_type": "markdown",
   "id": "6e444d28",
   "metadata": {},
   "source": [
    "## Run project"
   ]
  },
  {
   "cell_type": "code",
   "execution_count": 16,
   "id": "179dd80f",
   "metadata": {},
   "outputs": [],
   "source": [
    "# python manage.py runserver"
   ]
  },
  {
   "cell_type": "markdown",
   "id": "4cb88c3d",
   "metadata": {},
   "source": [
    "- always reset runserver for template/ html changes to take place"
   ]
  },
  {
   "cell_type": "markdown",
   "id": "2029d38b",
   "metadata": {},
   "source": [
    "## Create app"
   ]
  },
  {
   "cell_type": "code",
   "execution_count": 20,
   "id": "2bddf79f",
   "metadata": {},
   "outputs": [],
   "source": [
    "# python manage.py startapp leads"
   ]
  },
  {
   "cell_type": "markdown",
   "id": "961236a6",
   "metadata": {},
   "source": [
    "## Add app to settings.py"
   ]
  },
  {
   "cell_type": "code",
   "execution_count": 21,
   "id": "7b545b4d",
   "metadata": {},
   "outputs": [],
   "source": [
    "# INSTALLED_APPS = [\n",
    "#     'django.contrib.admin',\n",
    "#     'django.contrib.auth',\n",
    "#     'django.contrib.contenttypes',\n",
    "#     'django.contrib.sessions',\n",
    "#     'django.contrib.messages',\n",
    "#     'django.contrib.staticfiles',\n",
    "#     'leads'\n",
    "# ]"
   ]
  },
  {
   "cell_type": "markdown",
   "id": "0eef6ee4",
   "metadata": {},
   "source": [
    "## Resources"
   ]
  },
  {
   "cell_type": "markdown",
   "id": "dfd2cd0c",
   "metadata": {},
   "source": [
    "https://www.youtube.com/watch?v=fOukA4Qh9QA"
   ]
  },
  {
   "cell_type": "markdown",
   "id": "d97fa60a",
   "metadata": {},
   "source": [
    "# Auth"
   ]
  },
  {
   "cell_type": "markdown",
   "id": "91fb7c59",
   "metadata": {},
   "source": [
    "leads/models.py"
   ]
  },
  {
   "cell_type": "markdown",
   "id": "c8cbe73a",
   "metadata": {},
   "source": [
    "### AbstractUser"
   ]
  },
  {
   "cell_type": "markdown",
   "id": "3ff41a44",
   "metadata": {},
   "source": [
    "-  agent = models.ForeignKey(\"Agent\", on_delete = models.CASCADE) \n",
    "    - \"Agent\" Class"
   ]
  },
  {
   "cell_type": "code",
   "execution_count": 31,
   "id": "ede377e5",
   "metadata": {},
   "outputs": [
    {
     "ename": "ModuleNotFoundError",
     "evalue": "No module named 'django'",
     "output_type": "error",
     "traceback": [
      "\u001b[0;31m---------------------------------------------------------------------------\u001b[0m",
      "\u001b[0;31mModuleNotFoundError\u001b[0m                       Traceback (most recent call last)",
      "\u001b[0;32m<ipython-input-31-caa1cd655be5>\u001b[0m in \u001b[0;36m<module>\u001b[0;34m\u001b[0m\n\u001b[0;32m----> 1\u001b[0;31m \u001b[0;32mfrom\u001b[0m \u001b[0mdjango\u001b[0m\u001b[0;34m.\u001b[0m\u001b[0mdb\u001b[0m \u001b[0;32mimport\u001b[0m \u001b[0mmodels\u001b[0m\u001b[0;34m\u001b[0m\u001b[0;34m\u001b[0m\u001b[0m\n\u001b[0m\u001b[1;32m      2\u001b[0m \u001b[0;32mfrom\u001b[0m \u001b[0mdjango\u001b[0m\u001b[0;34m.\u001b[0m\u001b[0mcontrib\u001b[0m\u001b[0;34m.\u001b[0m\u001b[0mauth\u001b[0m\u001b[0;34m.\u001b[0m\u001b[0mmodels\u001b[0m \u001b[0;32mimport\u001b[0m \u001b[0mAbstractUser\u001b[0m\u001b[0;34m\u001b[0m\u001b[0;34m\u001b[0m\u001b[0m\n\u001b[1;32m      3\u001b[0m \u001b[0;34m\u001b[0m\u001b[0m\n\u001b[1;32m      4\u001b[0m \u001b[0;31m# Create your models here.\u001b[0m\u001b[0;34m\u001b[0m\u001b[0;34m\u001b[0m\u001b[0;34m\u001b[0m\u001b[0m\n\u001b[1;32m      5\u001b[0m \u001b[0;34m\u001b[0m\u001b[0m\n",
      "\u001b[0;31mModuleNotFoundError\u001b[0m: No module named 'django'"
     ]
    }
   ],
   "source": [
    "from django.db import models\n",
    "from django.contrib.auth.models import AbstractUser\n",
    "\n",
    "# Create your models here.\n",
    "\n",
    "class User(AbstractUser):\n",
    "    pass\n",
    "\n",
    "class Lead(models.Model):\n",
    "    first_name = models.CharField(max_length = 20)\n",
    "    last_name = models.CharField(max_length = 20)\n",
    "    age = models.IntegerField(default = 0)\n",
    "    agent = models.ForeignKey(\"Agent\", on_delete = models.CASCADE)\n",
    "\n",
    "    def __str__(self):\n",
    "        return f\"{self.first_name} {self.last_name}\"\n",
    "\n",
    "class Agent(models.Model):\n",
    "    user = models.OneToOneField(User, on_delete= models.CASCADE)\n",
    "\n",
    "    def __str__(self):\n",
    "        return f\"{self.user.email} {self.user.last_name}\""
   ]
  },
  {
   "cell_type": "markdown",
   "id": "500f1d88",
   "metadata": {},
   "source": [
    "settings.py"
   ]
  },
  {
   "cell_type": "code",
   "execution_count": null,
   "id": "22ffec11",
   "metadata": {},
   "outputs": [],
   "source": [
    "# add auth_user_model. \n",
    "# django auto searches for the User class in lead/models.py\n",
    "\n",
    "AUTH_USER_MODEL = 'leads.User'"
   ]
  },
  {
   "cell_type": "markdown",
   "id": "fa480d61",
   "metadata": {},
   "source": [
    "### superuser"
   ]
  },
  {
   "cell_type": "code",
   "execution_count": 28,
   "id": "4238523f",
   "metadata": {},
   "outputs": [],
   "source": [
    "# python manage.py superuser"
   ]
  },
  {
   "cell_type": "markdown",
   "id": "8d4ddb39",
   "metadata": {},
   "source": [
    "to add user to model"
   ]
  },
  {
   "cell_type": "markdown",
   "id": "86b5747d",
   "metadata": {},
   "source": [
    "# Shell"
   ]
  },
  {
   "cell_type": "code",
   "execution_count": 26,
   "id": "dd41f14f",
   "metadata": {},
   "outputs": [],
   "source": [
    "## python manage.py shell"
   ]
  },
  {
   "cell_type": "markdown",
   "id": "85062b39",
   "metadata": {},
   "source": [
    "to lead to specific agent"
   ]
  },
  {
   "cell_type": "code",
   "execution_count": null,
   "id": "fac78c26",
   "metadata": {},
   "outputs": [],
   "source": [
    "from leads.models import Lead, Agent\n",
    "\n",
    "agent1 = Agent.objects.get(user__email = 'galenhew@gmail.com')\n",
    "Lead.objects.create(first_name = 'Joe', last_name = 'Soap', age = 35, agent = agent1)\n",
    "\n",
    "# output: <Lead: Lead object (1)>"
   ]
  },
  {
   "cell_type": "markdown",
   "id": "1030916e",
   "metadata": {},
   "source": [
    "query to check lead added"
   ]
  },
  {
   "cell_type": "code",
   "execution_count": null,
   "id": "c1d6c91a",
   "metadata": {},
   "outputs": [],
   "source": [
    "from leads.models import Lead\n",
    "Lead.objects.all()\n",
    "# output: <QuerySet [<Lead: Joe Soap>]>"
   ]
  },
  {
   "cell_type": "markdown",
   "id": "a22f829c",
   "metadata": {},
   "source": [
    "output displays as per \n",
    "    def __str__(self):\n",
    "        return f\"{self.first_name} {self.last_name}\""
   ]
  },
  {
   "cell_type": "markdown",
   "id": "f23089f6",
   "metadata": {},
   "source": [
    "# Admin"
   ]
  },
  {
   "cell_type": "markdown",
   "id": "6db6169e",
   "metadata": {},
   "source": [
    "register models into admin to see in django admin http://127.0.0.1:8000/admin"
   ]
  },
  {
   "cell_type": "code",
   "execution_count": null,
   "id": "48a6ccc7",
   "metadata": {},
   "outputs": [],
   "source": [
    "from django.contrib import admin\n",
    "\n",
    "# Register your models here.\n",
    "\n",
    "from .models import User, Lead, Agent\n",
    "\n",
    "\n",
    "admin.site.register(User)\n",
    "admin.site.register(Lead)\n",
    "admin.site.register(Agent)"
   ]
  },
  {
   "cell_type": "markdown",
   "id": "cbcabea3",
   "metadata": {},
   "source": [
    "# Views"
   ]
  },
  {
   "cell_type": "code",
   "execution_count": 35,
   "id": "d8a0404e",
   "metadata": {},
   "outputs": [
    {
     "ename": "ModuleNotFoundError",
     "evalue": "No module named 'leads'",
     "output_type": "error",
     "traceback": [
      "\u001b[0;31m---------------------------------------------------------------------------\u001b[0m",
      "\u001b[0;31mModuleNotFoundError\u001b[0m                       Traceback (most recent call last)",
      "\u001b[0;32m<ipython-input-35-d647793ed29c>\u001b[0m in \u001b[0;36m<module>\u001b[0;34m\u001b[0m\n\u001b[0;32m----> 1\u001b[0;31m \u001b[0;32mfrom\u001b[0m \u001b[0mleads\u001b[0m\u001b[0;34m.\u001b[0m\u001b[0mviews\u001b[0m \u001b[0;32mimport\u001b[0m \u001b[0mhome_page\u001b[0m\u001b[0;34m\u001b[0m\u001b[0;34m\u001b[0m\u001b[0m\n\u001b[0m\u001b[1;32m      2\u001b[0m \u001b[0;34m\u001b[0m\u001b[0m\n\u001b[1;32m      3\u001b[0m urlpatterns = [\n\u001b[1;32m      4\u001b[0m     \u001b[0mpath\u001b[0m\u001b[0;34m(\u001b[0m\u001b[0;34m'admin/'\u001b[0m\u001b[0;34m,\u001b[0m \u001b[0madmin\u001b[0m\u001b[0;34m.\u001b[0m\u001b[0msite\u001b[0m\u001b[0;34m.\u001b[0m\u001b[0murls\u001b[0m\u001b[0;34m)\u001b[0m\u001b[0;34m,\u001b[0m\u001b[0;34m\u001b[0m\u001b[0;34m\u001b[0m\u001b[0m\n\u001b[1;32m      5\u001b[0m     \u001b[0mpath\u001b[0m\u001b[0;34m(\u001b[0m\u001b[0;34m''\u001b[0m\u001b[0;34m,\u001b[0m \u001b[0mhome_page\u001b[0m\u001b[0;34m)\u001b[0m\u001b[0;34m\u001b[0m\u001b[0;34m\u001b[0m\u001b[0m\n",
      "\u001b[0;31mModuleNotFoundError\u001b[0m: No module named 'leads'"
     ]
    }
   ],
   "source": [
    "from leads.views import home_page \n",
    "\n",
    "urlpatterns = [\n",
    "    path('admin/', admin.site.urls),\n",
    "    path('', home_page)\n",
    "]"
   ]
  },
  {
   "cell_type": "markdown",
   "id": "0efe72eb",
   "metadata": {},
   "source": [
    "## Structure"
   ]
  },
  {
   "cell_type": "markdown",
   "id": "3f081948",
   "metadata": {},
   "source": [
    "### Structure 1: create directory in app \n",
    "leads/tempaltes/leads/home_page.html"
   ]
  },
  {
   "cell_type": "code",
   "execution_count": 36,
   "id": "1e81013c",
   "metadata": {},
   "outputs": [],
   "source": [
    "# html boiler"
   ]
  },
  {
   "cell_type": "markdown",
   "id": "590e8c1c",
   "metadata": {},
   "source": [
    "leads/views.py"
   ]
  },
  {
   "cell_type": "code",
   "execution_count": null,
   "id": "17747678",
   "metadata": {},
   "outputs": [],
   "source": [
    "def home_page(request):\n",
    "    return render(request, 'leads/home_page.html')"
   ]
  },
  {
   "cell_type": "markdown",
   "id": "443a291d",
   "metadata": {},
   "source": [
    "urls.py"
   ]
  },
  {
   "cell_type": "markdown",
   "id": "9ce61ede",
   "metadata": {},
   "source": [
    "### structure 2: create directory outside app\n",
    "template/second_page.html"
   ]
  },
  {
   "cell_type": "markdown",
   "id": "98409236",
   "metadata": {},
   "source": [
    "settings.py"
   ]
  },
  {
   "cell_type": "code",
   "execution_count": null,
   "id": "3f76d357",
   "metadata": {},
   "outputs": [],
   "source": [
    "TEMPLATES = [\n",
    "    {\n",
    "        'DIRS': [BASE_DIR/ \"templates\"],"
   ]
  },
  {
   "cell_type": "markdown",
   "id": "2aeb5219",
   "metadata": {},
   "source": [
    "leads/views.py"
   ]
  },
  {
   "cell_type": "code",
   "execution_count": null,
   "id": "ac593edb",
   "metadata": {},
   "outputs": [],
   "source": [
    "def home_page(request):\n",
    "    return render(request, 'second_page.html')\n",
    "\n",
    "# don't need app name in front of 'second_page.html' as django recognizes templates/second_page.html"
   ]
  },
  {
   "cell_type": "markdown",
   "id": "c7896d34",
   "metadata": {},
   "source": [
    "## Views with context, template"
   ]
  },
  {
   "cell_type": "markdown",
   "id": "0badb158",
   "metadata": {},
   "source": [
    "leads/views.py"
   ]
  },
  {
   "cell_type": "code",
   "execution_count": null,
   "id": "c9cdbd22",
   "metadata": {},
   "outputs": [],
   "source": [
    "from django.shortcuts import render\n",
    "from django.http import HttpResponse\n",
    "from .models import Lead\n",
    "\n",
    "# Create your views here.\n",
    "\n",
    "def home_page(request):\n",
    "    leads = Lead.objects.all()\n",
    "    context ={\n",
    "        'leads': leads\n",
    "    }\n",
    "\n",
    "    return render(request, 'second_page.html', context)"
   ]
  },
  {
   "cell_type": "markdown",
   "id": "7f25f6a5",
   "metadata": {},
   "source": [
    "template/second_page.html"
   ]
  },
  {
   "cell_type": "code",
   "execution_count": null,
   "id": "553056d3",
   "metadata": {},
   "outputs": [],
   "source": [
    "<!doctype html>\n",
    "\n",
    "<html lang=\"en\">\n",
    "<head>\n",
    "  <meta charset=\"utf-8\">\n",
    "\n",
    "  <title>The HTML5 Herald</title>\n",
    "  <meta name=\"description\" content=\"The HTML5 Herald\">\n",
    "  <meta name=\"author\" content=\"SitePoint\">\n",
    "\n",
    "  <link rel=\"stylesheet\" href=\"css/styles.css?v=1.0\">\n",
    "\n",
    "</head>\n",
    "\n",
    "<body>\n",
    "  <h1>2nd page</h1>\n",
    "  <p> this is the 2nd page </p>\n",
    "  {{leads}}\n",
    "\n",
    "  <ul>\n",
    "    {% for lead in leads%}\n",
    "    <li> {{lead.first_name}} {{lead.last_name}} </li>\n",
    "    {% endfor%}\n",
    "  </ul>\n",
    "  <script src=\"js/scripts.js\"></script>\n",
    "</body>\n",
    "</html>"
   ]
  },
  {
   "cell_type": "markdown",
   "id": "103ab499",
   "metadata": {},
   "source": []
  },
  {
   "cell_type": "markdown",
   "id": "8aec2b63",
   "metadata": {},
   "source": [
    "# Urls"
   ]
  },
  {
   "cell_type": "markdown",
   "id": "0dd94a25",
   "metadata": {},
   "source": [
    "## Structure Urls in each app"
   ]
  },
  {
   "cell_type": "markdown",
   "id": "038d292f",
   "metadata": {},
   "source": [
    "urls.py"
   ]
  },
  {
   "cell_type": "code",
   "execution_count": null,
   "id": "e666e2c0",
   "metadata": {},
   "outputs": [],
   "source": [
    "from django.contrib import admin\n",
    "from django.urls import path, include\n",
    "\n",
    "urlpatterns = [\n",
    "    path('admin/', admin.site.urls),\n",
    "    path('leads/',  include('leads.urls', namespace=\"leads\")),\n",
    "]"
   ]
  },
  {
   "cell_type": "markdown",
   "id": "12d0b214",
   "metadata": {},
   "source": [
    "leads/urls.py"
   ]
  },
  {
   "cell_type": "markdown",
   "id": "c3fa4e4d",
   "metadata": {},
   "source": [
    "- django auto looks for urlpatterns"
   ]
  },
  {
   "cell_type": "code",
   "execution_count": null,
   "id": "401d2ece",
   "metadata": {},
   "outputs": [],
   "source": [
    "from django.urls import path\n",
    "from .views import home_page\n",
    "\n",
    "# app_name links to namespace in urls.py\n",
    "app_name = 'leads'\n",
    "\n",
    "urlpatterns = [\n",
    "    path('all/', home_page)\n",
    "]"
   ]
  },
  {
   "cell_type": "markdown",
   "id": "1912242e",
   "metadata": {},
   "source": [
    "## views with details"
   ]
  },
  {
   "cell_type": "markdown",
   "id": "c3191441",
   "metadata": {},
   "source": [
    "leads/views.py"
   ]
  },
  {
   "cell_type": "code",
   "execution_count": null,
   "id": "bea90e3b",
   "metadata": {},
   "outputs": [],
   "source": [
    "from django.shortcuts import render\n",
    "from django.http import HttpResponse\n",
    "from .models import Lead\n",
    "\n",
    "# Create your views here.\n",
    "\n",
    "def lead_list(request):\n",
    "    leads = Lead.objects.all()\n",
    "    context ={\n",
    "        'leads': leads\n",
    "    }\n",
    "\n",
    "    return render(request, 'leads/lead_list.html', context)\n",
    "\n",
    "\n",
    "def lead_detail(request, pk):\n",
    "    lead= Lead.objects.get(id= pk)\n",
    "    context ={\n",
    "        'lead': lead\n",
    "    }\n",
    "    return render(request, \"leads/lead_detail.html\", context)\n"
   ]
  },
  {
   "cell_type": "markdown",
   "id": "f68f9b39",
   "metadata": {},
   "source": [
    "leads/urls.py"
   ]
  },
  {
   "cell_type": "code",
   "execution_count": 41,
   "id": "9e9eba97",
   "metadata": {},
   "outputs": [
    {
     "ename": "ModuleNotFoundError",
     "evalue": "No module named 'django'",
     "output_type": "error",
     "traceback": [
      "\u001b[0;31m---------------------------------------------------------------------------\u001b[0m",
      "\u001b[0;31mModuleNotFoundError\u001b[0m                       Traceback (most recent call last)",
      "\u001b[0;32m<ipython-input-41-bb427e7d936f>\u001b[0m in \u001b[0;36m<module>\u001b[0;34m\u001b[0m\n\u001b[0;32m----> 1\u001b[0;31m \u001b[0;32mfrom\u001b[0m \u001b[0mdjango\u001b[0m\u001b[0;34m.\u001b[0m\u001b[0murls\u001b[0m \u001b[0;32mimport\u001b[0m \u001b[0mpath\u001b[0m\u001b[0;34m\u001b[0m\u001b[0;34m\u001b[0m\u001b[0m\n\u001b[0m\u001b[1;32m      2\u001b[0m \u001b[0;32mfrom\u001b[0m \u001b[0;34m.\u001b[0m\u001b[0mviews\u001b[0m \u001b[0;32mimport\u001b[0m \u001b[0mlead_list\u001b[0m\u001b[0;34m,\u001b[0m \u001b[0mlead_detail\u001b[0m\u001b[0;34m\u001b[0m\u001b[0;34m\u001b[0m\u001b[0m\n\u001b[1;32m      3\u001b[0m \u001b[0;34m\u001b[0m\u001b[0m\n\u001b[1;32m      4\u001b[0m \u001b[0mapp_name\u001b[0m \u001b[0;34m=\u001b[0m \u001b[0;34m'leads'\u001b[0m\u001b[0;34m\u001b[0m\u001b[0;34m\u001b[0m\u001b[0m\n\u001b[1;32m      5\u001b[0m \u001b[0;34m\u001b[0m\u001b[0m\n",
      "\u001b[0;31mModuleNotFoundError\u001b[0m: No module named 'django'"
     ]
    }
   ],
   "source": [
    "from django.urls import path\n",
    "from .views import lead_list, lead_detail\n",
    "\n",
    "app_name = 'leads'\n",
    "\n",
    "urlpatterns = [\n",
    "    path('', lead_list),\n",
    "    path('<pk>/',lead_detail)\n",
    "]"
   ]
  },
  {
   "cell_type": "markdown",
   "id": "fc673a1d",
   "metadata": {},
   "source": [
    "leads/templates/leads/lead_detail.html"
   ]
  },
  {
   "cell_type": "markdown",
   "id": "d529403d",
   "metadata": {},
   "source": [
    "- get context from lead_detail view"
   ]
  },
  {
   "cell_type": "code",
   "execution_count": null,
   "id": "0f56d2ea",
   "metadata": {},
   "outputs": [],
   "source": [
    "<a href=\"/leads\"> go back to leads</a>\n",
    "<hr/>\n",
    "  <h1>this is the details of {{ lead.first_name}}</h1>\n",
    "  <p> this person's age: {{lead.age}} </p>"
   ]
  },
  {
   "cell_type": "markdown",
   "id": "fd8c827d",
   "metadata": {},
   "source": [
    "leads/templates/leads/lead.html"
   ]
  },
  {
   "cell_type": "markdown",
   "id": "c01a64f2",
   "metadata": {},
   "source": [
    "- lead.pk link to go into lead details"
   ]
  },
  {
   "cell_type": "code",
   "execution_count": null,
   "id": "a483cdf7",
   "metadata": {},
   "outputs": [],
   "source": [
    "  <h1>this is all our leads</h1>\n",
    "  {% for lead in leads%}\n",
    "    <div class= 'lead'>\n",
    "      <a href = \"/leads/{{lead.pk}}/\">\n",
    "      {{ lead.first_name }} \n",
    "      {{ lead.age}}\n",
    "      </a>\n",
    "    </div>\n",
    "  {% endfor %}"
   ]
  },
  {
   "cell_type": "markdown",
   "id": "26a66fd5",
   "metadata": {},
   "source": [
    "# Forms "
   ]
  },
  {
   "cell_type": "markdown",
   "id": "1b1409e9",
   "metadata": {},
   "source": [
    "## Manual Form"
   ]
  },
  {
   "cell_type": "markdown",
   "id": "007e9e15",
   "metadata": {},
   "source": [
    "### Create"
   ]
  },
  {
   "cell_type": "markdown",
   "id": "8870e08c",
   "metadata": {},
   "source": [
    "leads/forms.py"
   ]
  },
  {
   "cell_type": "code",
   "execution_count": null,
   "id": "ad484ac4",
   "metadata": {},
   "outputs": [],
   "source": [
    "from django import forms\n",
    "\n",
    "\n",
    "class LeadForm(forms.Form):\n",
    "    first_name = forms.CharField()\n",
    "    last_name= forms.CharField()\n",
    "    age = forms.IntegerField(min_value =0 )"
   ]
  },
  {
   "cell_type": "markdown",
   "id": "54fd49bb",
   "metadata": {},
   "source": [
    "leads/templates/leads/lead_create.html\n",
    "- form in lead_create.html\n",
    "- csrf tokens needed\n",
    "- .as_p --> django align fields "
   ]
  },
  {
   "cell_type": "code",
   "execution_count": null,
   "id": "9786452b",
   "metadata": {},
   "outputs": [],
   "source": [
    "<a href=\"/leads\"> Create a new lead</a>\n",
    "<hr/>\n",
    "  <h1>create a new lead</h1>\n",
    "  <form method = \"post\">\n",
    "    {% csrf_token%}\n",
    "    {{form.as_p}}\n",
    "    <button>Submit</button>\n",
    "  </form>"
   ]
  },
  {
   "cell_type": "markdown",
   "id": "a2e320e4",
   "metadata": {},
   "source": [
    "leads/urls.py"
   ]
  },
  {
   "cell_type": "code",
   "execution_count": null,
   "id": "217bcf48",
   "metadata": {},
   "outputs": [],
   "source": [
    "from django.urls import path\n",
    "from .views import lead_list, lead_detail, lead_create\n",
    "\n",
    "app_name = 'leads'\n",
    "\n",
    "urlpatterns = [\n",
    "    path('', lead_list),\n",
    "    path('<int:pk>/',lead_detail),\n",
    "    path('create/', lead_create)\n",
    "]"
   ]
  },
  {
   "cell_type": "markdown",
   "id": "2b979bc9",
   "metadata": {},
   "source": [
    "leads/views.py"
   ]
  },
  {
   "cell_type": "markdown",
   "id": "b05b6863",
   "metadata": {},
   "source": [
    "- use print() to check form output\n",
    "- if request -> check if POST, if so post data into form via LeadForm(request.POST) , else form = blank as per context{ LeadForm()}\n",
    "- create Lead objects\n",
    "- redirect to /leads after creation"
   ]
  },
  {
   "cell_type": "code",
   "execution_count": null,
   "id": "5add1db8",
   "metadata": {},
   "outputs": [],
   "source": [
    "from django.http.response import HttpResponseNotAllowed\n",
    "from django.shortcuts import render, redirect\n",
    "from django.http import HttpResponse\n",
    "from .models import Lead, Agent\n",
    "from .forms import LeadForm\n",
    "\n",
    "# Create your views here.\n",
    "\n",
    "def lead_create(request):\n",
    "\n",
    "    form = LeadForm()\n",
    "    if request.method == \"POST\":\n",
    "        print('Receiving a post request')\n",
    "        form = LeadForm(request.POST)\n",
    "        if form.is_valid():\n",
    "            print('the form is valid')\n",
    "            print(form.cleaned_data)\n",
    "            first_name = form.cleaned_data['first_name']\n",
    "            last_name = form.cleaned_data['last_name']\n",
    "            age = form.cleaned_data['age']\n",
    "            agent = Agent.objects.first()\n",
    "            Lead.objects.create(\n",
    "                first_name = first_name,\n",
    "                last_name = last_name,\n",
    "                age = age,\n",
    "                agent = agent\n",
    "            )\n",
    "            print('lead has been created')\n",
    "            return redirect('/leads')\n",
    "\n",
    "    context={\n",
    "        'form': LeadForm()\n",
    "    }\n",
    "\n",
    "    return render(request, \"leads/lead_create.html\", context)"
   ]
  },
  {
   "cell_type": "markdown",
   "id": "c51d1fe5",
   "metadata": {},
   "source": [
    "### Update"
   ]
  },
  {
   "cell_type": "markdown",
   "id": "d93dfaa7",
   "metadata": {},
   "source": [
    "leads/urls.py "
   ]
  },
  {
   "cell_type": "code",
   "execution_count": null,
   "id": "83182bc6",
   "metadata": {},
   "outputs": [],
   "source": [
    "urlpatterns = [\n",
    "    path('', lead_list),\n",
    "    path('<int:pk>/',lead_detail),\n",
    "    path('<int:pk>/update/',lead_update),\n",
    "    path('create/', lead_create),\n",
    "]"
   ]
  },
  {
   "cell_type": "markdown",
   "id": "bb2a96e2",
   "metadata": {},
   "source": [
    "leads/forms.py"
   ]
  },
  {
   "cell_type": "markdown",
   "id": "29c8296c",
   "metadata": {},
   "source": [
    "- Lead.objects.get(id=pk)\n",
    "- lead.save()"
   ]
  },
  {
   "cell_type": "code",
   "execution_count": null,
   "id": "b8560f6c",
   "metadata": {},
   "outputs": [],
   "source": [
    "def lead_update(request, pk):\n",
    "    lead = Lead.objects.get(id = pk)\n",
    "    form = LeadForm()\n",
    "    # form = LeadForm()\n",
    "    if request.method == \"POST\":\n",
    "        print('Receiving a post request')\n",
    "        form = LeadForm(request.POST)\n",
    "        if form.is_valid():\n",
    "            print('the form is valid')\n",
    "            print(form.cleaned_data)\n",
    "            first_name = form.cleaned_data['first_name']\n",
    "            last_name = form.cleaned_data['last_name']\n",
    "            age = form.cleaned_data['age']\n",
    "            lead.first_name = first_name\n",
    "            lead.last_name = last_name\n",
    "            lead.age = age\n",
    "            lead.save()\n",
    "            print('lead has been created')\n",
    "            return redirect('/leads')\n",
    "\n",
    "    context={\n",
    "        'form': form,\n",
    "        'lead': lead\n",
    "    }\n",
    "    return render(request, \"leads/lead_update.html\", context)\n"
   ]
  },
  {
   "cell_type": "markdown",
   "id": "d95a6e55",
   "metadata": {},
   "source": [
    "## ModelForm "
   ]
  },
  {
   "cell_type": "markdown",
   "id": "da7e32ce",
   "metadata": {},
   "source": [
    "### Create"
   ]
  },
  {
   "cell_type": "markdown",
   "id": "e7a71638",
   "metadata": {},
   "source": [
    "leads/forms.py"
   ]
  },
  {
   "cell_type": "code",
   "execution_count": null,
   "id": "05225b7f",
   "metadata": {},
   "outputs": [],
   "source": [
    "class LeadModelForm(forms.ModelForm):\n",
    "    class Meta:\n",
    "        model = Lead\n",
    "        field = (\n",
    "            'first_name',\n",
    "            'last_name',\n",
    "            'age',\n",
    "            'agent',\n",
    "        )"
   ]
  },
  {
   "cell_type": "markdown",
   "id": "ccb8756c",
   "metadata": {},
   "source": [
    "views.py"
   ]
  },
  {
   "cell_type": "markdown",
   "id": "72a5521a",
   "metadata": {},
   "source": [
    "- form.save() \n",
    "    - LeadModelForm class field attributes will autosave, thus no need to manually save cleaned_data, and create Lead.objects"
   ]
  },
  {
   "cell_type": "code",
   "execution_count": null,
   "id": "43d2c557",
   "metadata": {},
   "outputs": [],
   "source": [
    "from .forms import LeadModelForm \n",
    "\n",
    "def lead_create(request):\n",
    "    form = LeadModelForm()\n",
    "    # form = LeadForm()\n",
    "    if request.method == \"POST\":\n",
    "        form = LeadModelForm(request.POST)\n",
    "        if form.is_valid():\n",
    "            form.save()\n",
    "            return redirect('/leads')\n",
    "\n",
    "    context={\n",
    "        'form': LeadModelForm()\n",
    "    }\n",
    "\n",
    "    return render(request, \"leads/lead_create.html\", context)"
   ]
  },
  {
   "cell_type": "markdown",
   "id": "d1a1860f",
   "metadata": {},
   "source": [
    "## Improve Urls name"
   ]
  },
  {
   "cell_type": "markdown",
   "id": "83df0e6e",
   "metadata": {},
   "source": [
    "leads/urls.py"
   ]
  },
  {
   "cell_type": "markdown",
   "id": "67c6d15a",
   "metadata": {},
   "source": [
    "- use name"
   ]
  },
  {
   "cell_type": "code",
   "execution_count": null,
   "id": "7539b6c0",
   "metadata": {},
   "outputs": [],
   "source": [
    "from django.urls import path\n",
    "from .views import lead_list, lead_detail, lead_create, lead_update, lead_delete\n",
    "\n",
    "app_name = 'leads'\n",
    "\n",
    "urlpatterns = [\n",
    "    path('', lead_list, name ='lead-list'),\n",
    "    path('<int:pk>/',lead_detail, name = 'lead-detail'),\n",
    "    path('<int:pk>/update/',lead_update, name = 'lead-update'),\n",
    "    path('<int:pk>/delete/', lead_delete, name = 'lead-delete'),\n",
    "    path('create/', lead_create, name = 'lead-create'),\n",
    "]"
   ]
  },
  {
   "cell_type": "markdown",
   "id": "6972d1b7",
   "metadata": {},
   "source": [
    "template/leads/lead_detail.html"
   ]
  },
  {
   "cell_type": "markdown",
   "id": "4215b262",
   "metadata": {},
   "source": [
    "- {% url 'namespace:name' name.pk %}\n",
    "    - rmb that urls.py, the namespace = 'leads', thus leads:lead-list, or namespace:name "
   ]
  },
  {
   "cell_type": "code",
   "execution_count": null,
   "id": "513c6de2",
   "metadata": {},
   "outputs": [],
   "source": [
    "<a href=\"{% url 'leads:lead-list' %}\"> go back to leads</a>\n",
    "<hr/>\n",
    "<hr/>\n",
    "  <h1>this is the details of {{ lead.first_name}}</h1>\n",
    "  <p> this person's age: {{lead.age}} </p>\n",
    "  <p> agent responsible for the lead is: {{ lead.agent}} </p>\n",
    "  \n",
    "  <hr/>\n",
    "  <a href = \"{% url 'leads:lead-update'  lead.pk %}\"> Update </a>\n",
    "  <a href = \"{% url 'leads:lead-delete' lead.pk %}\"> Delete </a>"
   ]
  },
  {
   "cell_type": "markdown",
   "id": "20c2ca28",
   "metadata": {},
   "source": [
    "urls.py"
   ]
  },
  {
   "cell_type": "code",
   "execution_count": null,
   "id": "101d50b5",
   "metadata": {},
   "outputs": [],
   "source": [
    "urlpatterns = [\n",
    "    path('admin/', admin.site.urls),\n",
    "    path('leads/',  include('leads.urls', namespace=\"leads\")),\n",
    "]\n"
   ]
  },
  {
   "cell_type": "markdown",
   "id": "5dc0ce12",
   "metadata": {},
   "source": [
    "## Template {% block %}"
   ]
  },
  {
   "cell_type": "markdown",
   "id": "1f1a7130",
   "metadata": {},
   "source": [
    "templates/base.html"
   ]
  },
  {
   "cell_type": "code",
   "execution_count": null,
   "id": "77f17df8",
   "metadata": {},
   "outputs": [],
   "source": [
    "<!doctype html>\n",
    "\n",
    "<html lang=\"en\">\n",
    "<head>\n",
    "  <meta charset=\"utf-8\">\n",
    "\n",
    "  <title>The HTML5 Herald</title>\n",
    "  <meta name=\"description\" content=\"The HTML5 Herald\">\n",
    "  <meta name=\"author\" content=\"SitePoint\">\n",
    "\n",
    "  <link rel=\"stylesheet\" href=\"css/styles.css?v=1.0\">\n",
    "  <style>\n",
    "    .lead{\n",
    "      padding-top: 10px;\n",
    "      padding-bottom: 10px;\n",
    "      padding-left: 6px;\n",
    "      padding-right: 6px;\n",
    "      margin-top: 10px;\n",
    "      background-color: #f6f6f6;\n",
    "      width: 100%;\n",
    "    }\n",
    "  </style>\n",
    "</head>\n",
    "\n",
    "<body>\n",
    "    {% block content%}\n",
    "    {% endblock content %}\n",
    "    {% include 'scripts.html' %}\n",
    "  <script src=\"js/scripts.js\"></script>\n",
    "</body>\n",
    "</html>"
   ]
  },
  {
   "cell_type": "markdown",
   "id": "a163bc67",
   "metadata": {},
   "source": [
    "leads/templates/leads/lead_list.html"
   ]
  },
  {
   "cell_type": "markdown",
   "id": "9072a01a",
   "metadata": {},
   "source": [
    "- django auto search for base.html in global template folder"
   ]
  },
  {
   "cell_type": "code",
   "execution_count": null,
   "id": "eaca56ee",
   "metadata": {},
   "outputs": [],
   "source": [
    "{% extends \"base.html\"%}\n",
    "\n",
    "{% block content%}\n",
    "  <a href = \"{% url 'leads:lead-create' %}\" > create a lead</a>\n",
    "\n",
    "  <h1>these are all our leads</h1>\n",
    "  {% for lead in leads%}\n",
    "    <div class= 'lead'>\n",
    "      <a href = \"{% url 'leads:lead-detail' lead.pk %}\">\n",
    "      {{ lead.first_name }} \n",
    "      {{ lead.age}}\n",
    "      </a>\n",
    "    </div>\n",
    "  {% endfor %}\n",
    "\n",
    "{% endblock content%}"
   ]
  },
  {
   "cell_type": "code",
   "execution_count": null,
   "id": "2239bd62",
   "metadata": {},
   "outputs": [],
   "source": []
  }
 ],
 "metadata": {
  "kernelspec": {
   "display_name": "Python 3",
   "language": "python",
   "name": "python3"
  },
  "language_info": {
   "codemirror_mode": {
    "name": "ipython",
    "version": 3
   },
   "file_extension": ".py",
   "mimetype": "text/x-python",
   "name": "python",
   "nbconvert_exporter": "python",
   "pygments_lexer": "ipython3",
   "version": "3.8.5"
  }
 },
 "nbformat": 4,
 "nbformat_minor": 5
}
