{
 "cells": [
  {
   "cell_type": "markdown",
   "id": "de509152",
   "metadata": {},
   "source": [
    "https://www.youtube.com/watch?v=56w8p0goIfs\n",
    "\n",
    "\n",
    "https://django-allauth.readthedocs.io/en/latest/advanced.html"
   ]
  },
  {
   "cell_type": "code",
   "execution_count": null,
   "id": "e68201c7",
   "metadata": {},
   "outputs": [],
   "source": [
    "pip install django-allauth"
   ]
  },
  {
   "cell_type": "markdown",
   "id": "018db538",
   "metadata": {},
   "source": [
    "## configure all-auth "
   ]
  },
  {
   "cell_type": "markdown",
   "id": "a9479377",
   "metadata": {},
   "source": [
    "settings.py"
   ]
  },
  {
   "cell_type": "markdown",
   "id": "91a754ef",
   "metadata": {},
   "source": [
    "- django.contrib.sites \n",
    "    - has site models\n",
    "- SITE_ID \n",
    "    - default as 1. \n",
    "    - change to 2 if you add a site: 127.0.0.1:8000. thus refernce to id 2 of sites\n",
    "    - use superuser to change domain name for sites to 127.0.0.1:8000 so we can access it locally\n",
    "-SOCIALACCOUNT_PROVIDERS\n",
    "    - rmb to set from gcp "
   ]
  },
  {
   "cell_type": "code",
   "execution_count": null,
   "id": "bb5646ab",
   "metadata": {},
   "outputs": [],
   "source": [
    "\n",
    "INSTALLED_APPS = [\n",
    "    'django.contrib.sites',\n",
    "    'blog',\n",
    "    'allauth',\n",
    "    'allauth.account',\n",
    "    'allauth.socialaccount',\n",
    "    'allauth.socialaccount.providers.google',\n",
    "]\n",
    "\n",
    "\n",
    "AUTHENTICATION_BACKENDS = [\n",
    "    # Needed to login by username in Django admin, regardless of `allauth`\n",
    "    'django.contrib.auth.backends.ModelBackend',\n",
    "\n",
    "    # `allauth` specific authentication methods, such as login by e-mail\n",
    "    'allauth.account.auth_backends.AuthenticationBackend',\n",
    "]\n",
    "\n",
    "# points to models.sites\n",
    "SITE_ID = 2\n",
    "\n",
    "LOGIN_REDIRECT_URL = '/'\n",
    "\n",
    "# Provider specific settings\n",
    "SOCIALACCOUNT_PROVIDERS = {\n",
    "    'google': {\n",
    "        # For each OAuth based provider, either add a ``SocialApp``\n",
    "        # (``socialaccount`` app) containing the required client\n",
    "        # credentials, or list them here:\n",
    "        'APP': {\n",
    "            'client_id': ',\n",
    "            'secret': '',\n",
    "            'key': ''\n",
    "        }\n",
    "    }\n",
    "}"
   ]
  },
  {
   "cell_type": "markdown",
   "id": "d3935f41",
   "metadata": {},
   "source": [
    "## get oauth keys from GCP"
   ]
  },
  {
   "cell_type": "markdown",
   "id": "b282c461",
   "metadata": {},
   "source": [
    "- create project\n",
    "- create credentials\n",
    "- API & services\n",
    "    - Authorized JavaScript origins: http://127.0.0.1:8000\n",
    "    - Authorized redirect URIs: http://127.0.0.1:8000/accounts/google/login/callback/"
   ]
  },
  {
   "cell_type": "markdown",
   "id": "804d8ee9",
   "metadata": {},
   "source": [
    "##  add templates"
   ]
  },
  {
   "cell_type": "markdown",
   "id": "e0ef10b7",
   "metadata": {},
   "source": [
    "settings.py\n",
    "- add DIRS"
   ]
  },
  {
   "cell_type": "code",
   "execution_count": null,
   "id": "9df27aa4",
   "metadata": {},
   "outputs": [],
   "source": [
    "TEMPLATES = [\n",
    "    {\n",
    "        'BACKEND': 'django.template.backends.django.DjangoTemplates',\n",
    "        'DIRS': [ BASE_DIR / \"templates\" ],\n",
    "        'APP_DIRS': True,\n",
    "        'OPTIONS': {\n",
    "            'context_processors': [\n",
    "                'django.template.context_processors.debug',\n",
    "                'django.template.context_processors.request',\n",
    "                'django.contrib.auth.context_processors.auth',\n",
    "                'django.contrib.messages.context_processors.messages',\n",
    "            ],\n",
    "        },\n",
    "    },\n",
    "]"
   ]
  },
  {
   "cell_type": "markdown",
   "id": "f6cfe9b0",
   "metadata": {},
   "source": [
    "tempaltes/blog/index.html"
   ]
  },
  {
   "cell_type": "code",
   "execution_count": null,
   "id": "88900c82",
   "metadata": {},
   "outputs": [],
   "source": [
    "<!doctype html>\n",
    "<html lang=\"en\">\n",
    "  <head>\n",
    "    <!-- Required meta tags -->\n",
    "    <meta charset=\"utf-8\">\n",
    "    <meta name=\"viewport\" content=\"width=device-width, initial-scale=1, shrink-to-fit=no\">\n",
    "\n",
    "    <!-- Bootstrap CSS -->\n",
    "    <link rel=\"stylesheet\" href=\"https://stackpath.bootstrapcdn.com/bootstrap/4.5.0/css/bootstrap.min.css\" integrity=\"sha384-9aIt2nRpC12Uk9gS9baDl411NQApFmC26EwAOH8WgZl5MYYxFfc+NcPb1dKGj7Sk\" crossorigin=\"anonymous\">\n",
    "\n",
    "    <title>Hello, world!</title>\n",
    "  </head>\n",
    "  <body>\n",
    "\n",
    "    <div class=\"container text-dark mt-5\">\n",
    "        <div class=\"row justify-content-md-center\">\n",
    "          <div class=\"col-md-5 p-3\">\n",
    "                <h1>My Google Login Project</h1>\n",
    "                {% if user.is_authenticated %}\n",
    "                <p>Welcome, {{ user.username }} !</p>\n",
    "                {% else %}\n",
    "                <h1>Welcome Friend, please log in</h1>\n",
    "                {% endif %}\n",
    "          </div>\n",
    "        </div>\n",
    "      </div>\n",
    "\n",
    "    <!-- Optional JavaScript -->\n",
    "    <!-- jQuery first, then Popper.js, then Bootstrap JS -->\n",
    "    <script src=\"https://code.jquery.com/jquery-3.5.1.slim.min.js\" integrity=\"sha384-DfXdz2htPH0lsSSs5nCTpuj/zy4C+OGpamoFVy38MVBnE+IbbVYUew+OrCXaRkfj\" crossorigin=\"anonymous\"></script>\n",
    "    <script src=\"https://cdn.jsdelivr.net/npm/popper.js@1.16.0/dist/umd/popper.min.js\" integrity=\"sha384-Q6E9RHvbIyZFJoft+2mJbHaEWldlvI9IOYy5n3zV9zzTtmI3UksdQRVvoxMfooAo\" crossorigin=\"anonymous\"></script>\n",
    "    <script src=\"https://stackpath.bootstrapcdn.com/bootstrap/4.5.0/js/bootstrap.min.js\" integrity=\"sha384-OgVRvuATP1z7JjHLkuOU7Xw704+h835Lr+6QL9UvYjZE3Ipu6Tp75j7Bh/kR0JKI\" crossorigin=\"anonymous\"></script>\n",
    "  </body>\n",
    "</html>"
   ]
  },
  {
   "cell_type": "markdown",
   "id": "b98ccc81",
   "metadata": {},
   "source": [
    "urls.py"
   ]
  },
  {
   "cell_type": "markdown",
   "id": "76dead92",
   "metadata": {},
   "source": [
    "- add accounts/ for allauth"
   ]
  },
  {
   "cell_type": "code",
   "execution_count": null,
   "id": "5227ea19",
   "metadata": {},
   "outputs": [],
   "source": [
    "from django.contrib import admin\n",
    "from django.urls import path, include\n",
    "from django.views.generic import TemplateView\n",
    "\n",
    "urlpatterns = [\n",
    "    path('admin/', admin.site.urls),\n",
    "    path('accounts/', include('allauth.urls')),\n",
    "    path('', TemplateView.as_view(template_name = 'blog/index.html'))\n",
    "]"
   ]
  },
  {
   "cell_type": "markdown",
   "id": "67a52178",
   "metadata": {},
   "source": [
    "templates/account/login.html"
   ]
  },
  {
   "cell_type": "markdown",
   "id": "27cf5176",
   "metadata": {},
   "source": [
    "- can override all allauth views with html files, named the same as the allauth html files, in template/account folder\n",
    "- {% provider login_url 'google' %}\n",
    "    - from django-allauth"
   ]
  },
  {
   "cell_type": "code",
   "execution_count": null,
   "id": "10f6ca99",
   "metadata": {},
   "outputs": [],
   "source": [
    "{% load socialaccount %}\n",
    "\n",
    "<!doctype html>\n",
    "<html lang=\"en\">\n",
    "  <head>\n",
    "    <!-- Required meta tags -->\n",
    "    <meta charset=\"utf-8\">\n",
    "    <meta name=\"viewport\" content=\"width=device-width, initial-scale=1, shrink-to-fit=no\">\n",
    "\n",
    "    <!-- Bootstrap CSS -->\n",
    "    <link rel=\"stylesheet\" href=\"https://stackpath.bootstrapcdn.com/bootstrap/4.5.0/css/bootstrap.min.css\" integrity=\"sha384-9aIt2nRpC12Uk9gS9baDl411NQApFmC26EwAOH8WgZl5MYYxFfc+NcPb1dKGj7Sk\" crossorigin=\"anonymous\">\n",
    "\n",
    "    <title>Hello, world!</title>\n",
    "  </head>\n",
    "  <body>\n",
    "\n",
    "    <div class=\"container text-dark mt-5\">\n",
    "        <div class=\"row justify-content-md-center\">\n",
    "          <div class=\"col-md-5 bg-grey p-3\">\n",
    "            <form class=\"form-signin\">\n",
    "                <h1 class=\"h3 mb-3\">Please sign in</h1>\n",
    "                <label for=\"inputEmail\" class=\"sr-only\">Email address</label>\n",
    "                <input type=\"email\" id=\"inputEmail\" class=\"form-control\" placeholder=\"Email address\" required autofocus>\n",
    "                <label for=\"inputPassword\" class=\"sr-only\">Password</label>\n",
    "                <input type=\"password\" id=\"inputPassword\" class=\"form-control\" placeholder=\"Password\" required>\n",
    "                <div class=\"checkbox mb-3\">\n",
    "                  <label>\n",
    "                    <input type=\"checkbox\" value=\"remember-me\"> Remember me\n",
    "                  </label>\n",
    "                </div>\n",
    "                <button class=\"btn btn-lg btn-primary btn-block\" type=\"submit\">Sign in</button>\n",
    "                <a href=\"{% provider_login_url 'google' %}\" class=\"btn btn btn-danger btn-lg btn-block\" role=\"button\" aria-pressed=\"true\">Sign in with Google</a>\n",
    "                <p class=\"mt-5 mb-3 text-muted\">&copy; 2017-2020</p>\n",
    "              </form>\n",
    "          </div>\n",
    "        </div>\n",
    "      </div>\n",
    "\n",
    "    <!-- Optional JavaScript -->\n",
    "    <!-- jQuery first, then Popper.js, then Bootstrap JS -->\n",
    "    <script src=\"https://code.jquery.com/jquery-3.5.1.slim.min.js\" integrity=\"sha384-DfXdz2htPH0lsSSs5nCTpuj/zy4C+OGpamoFVy38MVBnE+IbbVYUew+OrCXaRkfj\" crossorigin=\"anonymous\"></script>\n",
    "    <script src=\"https://cdn.jsdelivr.net/npm/popper.js@1.16.0/dist/umd/popper.min.js\" integrity=\"sha384-Q6E9RHvbIyZFJoft+2mJbHaEWldlvI9IOYy5n3zV9zzTtmI3UksdQRVvoxMfooAo\" crossorigin=\"anonymous\"></script>\n",
    "    <script src=\"https://stackpath.bootstrapcdn.com/bootstrap/4.5.0/js/bootstrap.min.js\" integrity=\"sha384-OgVRvuATP1z7JjHLkuOU7Xw704+h835Lr+6QL9UvYjZE3Ipu6Tp75j7Bh/kR0JKI\" crossorigin=\"anonymous\"></script>\n",
    "  </body>\n",
    "</html>"
   ]
  },
  {
   "cell_type": "markdown",
   "id": "d4964295",
   "metadata": {},
   "source": [
    "## add all-auth to custom user"
   ]
  },
  {
   "cell_type": "markdown",
   "id": "f6412ffb",
   "metadata": {},
   "source": [
    "https://stackoverflow.com/questions/25238425/django-oauth2-provider-with-custom-user-model\n",
    "\n",
    "- Create your new User model and change the AUTH_USER_MODEL setting."
   ]
  }
 ],
 "metadata": {
  "kernelspec": {
   "display_name": "Python 3",
   "language": "python",
   "name": "python3"
  },
  "language_info": {
   "codemirror_mode": {
    "name": "ipython",
    "version": 3
   },
   "file_extension": ".py",
   "mimetype": "text/x-python",
   "name": "python",
   "nbconvert_exporter": "python",
   "pygments_lexer": "ipython3",
   "version": "3.8.5"
  }
 },
 "nbformat": 4,
 "nbformat_minor": 5
}
