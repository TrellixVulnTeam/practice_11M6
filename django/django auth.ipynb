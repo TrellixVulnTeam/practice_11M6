{
 "cells": [
  {
   "cell_type": "markdown",
   "id": "e2c915ca",
   "metadata": {},
   "source": [
    "https://simpleisbetterthancomplex.com/tutorial/2018/01/18/how-to-implement-multiple-user-types-with-django.html"
   ]
  },
  {
   "cell_type": "markdown",
   "id": "4f10792f",
   "metadata": {},
   "source": [
    "1. No matter what strategy you pick, or what is your business model, always use one, and only one Django model to handle the authentication.\n",
    "2. Never user the built-in Django User model directly, even if the built-in Django User implementation fulfill all the requirements of your application."
   ]
  }
 ],
 "metadata": {
  "kernelspec": {
   "display_name": "Python 3",
   "language": "python",
   "name": "python3"
  },
  "language_info": {
   "codemirror_mode": {
    "name": "ipython",
    "version": 3
   },
   "file_extension": ".py",
   "mimetype": "text/x-python",
   "name": "python",
   "nbconvert_exporter": "python",
   "pygments_lexer": "ipython3",
   "version": "3.8.5"
  }
 },
 "nbformat": 4,
 "nbformat_minor": 5
}
