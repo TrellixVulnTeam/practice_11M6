{
 "cells": [
  {
   "cell_type": "markdown",
   "id": "9737e41e",
   "metadata": {},
   "source": [
    "## db queryer, ERD"
   ]
  },
  {
   "cell_type": "markdown",
   "id": "a303bb70",
   "metadata": {},
   "source": [
    "https://app.trevor.io/"
   ]
  },
  {
   "cell_type": "markdown",
   "id": "2f13225c",
   "metadata": {},
   "source": [
    "## DB workspace"
   ]
  },
  {
   "cell_type": "markdown",
   "id": "aa79c546",
   "metadata": {},
   "source": [
    "dBeaver"
   ]
  }
 ],
 "metadata": {
  "kernelspec": {
   "display_name": "Python 3",
   "language": "python",
   "name": "python3"
  },
  "language_info": {
   "codemirror_mode": {
    "name": "ipython",
    "version": 3
   },
   "file_extension": ".py",
   "mimetype": "text/x-python",
   "name": "python",
   "nbconvert_exporter": "python",
   "pygments_lexer": "ipython3",
   "version": "3.8.5"
  }
 },
 "nbformat": 4,
 "nbformat_minor": 5
}
