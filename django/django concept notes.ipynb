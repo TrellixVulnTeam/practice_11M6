{
 "cells": [
  {
   "cell_type": "markdown",
   "id": "82d43a0d",
   "metadata": {},
   "source": [
    "# Models"
   ]
  },
  {
   "cell_type": "markdown",
   "id": "592f327d",
   "metadata": {},
   "source": [
    "## Inheritance\n",
    "\n",
    "https://medium.com/@lokeshsharma596/model-inheritance-styles-in-django-698296f5de06"
   ]
  },
  {
   "cell_type": "markdown",
   "id": "5166b8b8",
   "metadata": {},
   "source": [
    "### abstract base class"
   ]
  },
  {
   "cell_type": "markdown",
   "id": "c988ddd8",
   "metadata": {},
   "source": [
    "This style is used when you only want parents class to hold information that you don’t want to type out for each child model.\n",
    "\n",
    "class Meta:\n",
    "        abstract=True"
   ]
  },
  {
   "cell_type": "code",
   "execution_count": null,
   "id": "ab17abbe",
   "metadata": {},
   "outputs": [],
   "source": [
    "from django.db import models\n",
    "\n",
    "# Create your models here.\n",
    "\n",
    "class ContactInfo(models.Model):\n",
    "    name=models.CharField(max_length=20)\n",
    "    email=models.EmailField(max_length=20)\n",
    "    address=models.TextField(max_length=20)\n",
    "\n",
    "    class Meta:\n",
    "        abstract=True\n",
    "\n",
    "class Customer(ContactInfo):\n",
    "    phone=models.IntegerField(max_length=15)\n",
    "\n",
    "class Staff(ContactInfo):\n",
    "    position=models.CharField(max_length=10)"
   ]
  },
  {
   "cell_type": "markdown",
   "id": "35bc1613",
   "metadata": {},
   "source": [
    "- in Customer Table we have name,email,address and Phone fields.\n",
    "- in Staff Table we have name,email,address and position fields.\n",
    "- Base class Table is not created in This inheritance.\n"
   ]
  },
  {
   "cell_type": "markdown",
   "id": "20757f7a",
   "metadata": {},
   "source": [
    "### multi-table model"
   ]
  },
  {
   "cell_type": "markdown",
   "id": "33e758f9",
   "metadata": {},
   "source": [
    "This style is used if you are sub-classing an existing model and need each model to have its own database table."
   ]
  },
  {
   "cell_type": "code",
   "execution_count": null,
   "id": "656ef869",
   "metadata": {},
   "outputs": [],
   "source": [
    "from django.db import models\n",
    "\n",
    "# Create your models here.\n",
    "\n",
    "class Place(models.Model):\n",
    "    name=models.CharField(max_length=20)\n",
    "    address=models.TextField(max_length=20)\n",
    "\n",
    "    def __str__(self):\n",
    "        return self.name\n",
    "\n",
    "\n",
    "class Restaurants(Place):\n",
    "    serves_pizza=models.BooleanField(default=False)\n",
    "    serves_pasta=models.BooleanField(default=False)\n",
    "\n",
    "    def __str__(self):\n",
    "        return self.serves_pasta"
   ]
  },
  {
   "cell_type": "markdown",
   "id": "0837816b",
   "metadata": {},
   "source": [
    "- Base class table is also created in this inheritance.\n",
    "- it will create a one to one field model relationship for Restaurant table from Place table."
   ]
  },
  {
   "cell_type": "markdown",
   "id": "1d3f1fae",
   "metadata": {},
   "source": [
    "### proxy model"
   ]
  },
  {
   "cell_type": "markdown",
   "id": "94b04296",
   "metadata": {},
   "source": [
    "This style is used, if you only want to modify the Python level behaviour of the model, without changing the model’s fields."
   ]
  },
  {
   "cell_type": "code",
   "execution_count": null,
   "id": "7dc945ea",
   "metadata": {},
   "outputs": [],
   "source": []
  }
 ],
 "metadata": {
  "kernelspec": {
   "display_name": "Python 3",
   "language": "python",
   "name": "python3"
  },
  "language_info": {
   "codemirror_mode": {
    "name": "ipython",
    "version": 3
   },
   "file_extension": ".py",
   "mimetype": "text/x-python",
   "name": "python",
   "nbconvert_exporter": "python",
   "pygments_lexer": "ipython3",
   "version": "3.8.5"
  }
 },
 "nbformat": 4,
 "nbformat_minor": 5
}
