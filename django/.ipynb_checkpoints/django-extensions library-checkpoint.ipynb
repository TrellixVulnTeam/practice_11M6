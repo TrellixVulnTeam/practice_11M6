{
 "cells": [
  {
   "cell_type": "markdown",
   "id": "8b464e9e",
   "metadata": {},
   "source": [
    "## use case: ERD graph of models"
   ]
  },
  {
   "cell_type": "markdown",
   "id": "a539a07a",
   "metadata": {},
   "source": [
    "https://www.youtube.com/watch?v=EPlhAdxXH9I"
   ]
  },
  {
   "cell_type": "markdown",
   "id": "87929e55",
   "metadata": {},
   "source": [
    "### install"
   ]
  },
  {
   "cell_type": "markdown",
   "id": "85a6a700",
   "metadata": {},
   "source": [
    " https://django-extensions.readthedocs.io/en/latest/graph_models.html"
   ]
  },
  {
   "cell_type": "code",
   "execution_count": null,
   "id": "8651c4f6",
   "metadata": {},
   "outputs": [],
   "source": [
    "pip install django-extensions"
   ]
  },
  {
   "cell_type": "code",
   "execution_count": null,
   "id": "1a31d42b",
   "metadata": {},
   "outputs": [],
   "source": [
    "pip install pyparsing pydot"
   ]
  },
  {
   "cell_type": "code",
   "execution_count": null,
   "id": "8e0d8cd6",
   "metadata": {},
   "outputs": [],
   "source": [
    "pip install pygraphviz"
   ]
  },
  {
   "cell_type": "markdown",
   "id": "da4066c9",
   "metadata": {},
   "source": [
    "if error 1 when install pygraphviz\n",
    "\n",
    "https://stackoverflow.com/questions/40266604/pip-install-pygraphviz-fails-failed-building-wheel-for-pygraphviz"
   ]
  },
  {
   "cell_type": "code",
   "execution_count": null,
   "id": "3ecae967",
   "metadata": {},
   "outputs": [],
   "source": [
    "sudo apt-get install python3-dev graphviz libgraphviz-dev pkg-config"
   ]
  },
  {
   "cell_type": "markdown",
   "id": "e96d809c",
   "metadata": {},
   "source": [
    "### settings.py"
   ]
  },
  {
   "cell_type": "code",
   "execution_count": null,
   "id": "f50f52e6",
   "metadata": {},
   "outputs": [],
   "source": [
    "INSTALLED_APPS = [\n",
    "    'django_extensions',\n",
    "]\n",
    "\n",
    "GRAPH_MODELS = {\n",
    "  'all_applications': True,\n",
    "  'group_models': True,\n",
    "}"
   ]
  },
  {
   "cell_type": "markdown",
   "id": "dace3f1c",
   "metadata": {},
   "source": [
    "### generate ERD"
   ]
  },
  {
   "cell_type": "code",
   "execution_count": 4,
   "id": "bd3beb3f",
   "metadata": {},
   "outputs": [
    {
     "ename": "SyntaxError",
     "evalue": "invalid syntax (<ipython-input-4-54e17d194978>, line 1)",
     "output_type": "error",
     "traceback": [
      "\u001b[0;36m  File \u001b[0;32m\"<ipython-input-4-54e17d194978>\"\u001b[0;36m, line \u001b[0;32m1\u001b[0m\n\u001b[0;31m    $ python manage.py graph_models -a > erd.dot\u001b[0m\n\u001b[0m    ^\u001b[0m\n\u001b[0;31mSyntaxError\u001b[0m\u001b[0;31m:\u001b[0m invalid syntax\n"
     ]
    }
   ],
   "source": [
    "$ python manage.py graph_models -a > erd.dot\n"
   ]
  },
  {
   "cell_type": "markdown",
   "id": "b13980ed",
   "metadata": {},
   "source": [
    "## view ERD"
   ]
  },
  {
   "cell_type": "markdown",
   "id": "3660ec3d",
   "metadata": {},
   "source": [
    "- http://graphviz.it/#/gallery/ldbxtried.gv\n",
    "- Or install VScode graphviz extension to see preview"
   ]
  }
 ],
 "metadata": {
  "kernelspec": {
   "display_name": "Python 3",
   "language": "python",
   "name": "python3"
  },
  "language_info": {
   "codemirror_mode": {
    "name": "ipython",
    "version": 3
   },
   "file_extension": ".py",
   "mimetype": "text/x-python",
   "name": "python",
   "nbconvert_exporter": "python",
   "pygments_lexer": "ipython3",
   "version": "3.8.5"
  }
 },
 "nbformat": 4,
 "nbformat_minor": 5
}
