{
 "cells": [
  {
   "cell_type": "markdown",
   "id": "59f3876b",
   "metadata": {},
   "source": [
    "Chronological notes"
   ]
  },
  {
   "cell_type": "markdown",
   "id": "44e37733",
   "metadata": {},
   "source": [
    "# VScode setup"
   ]
  },
  {
   "cell_type": "markdown",
   "id": "78eeeab1",
   "metadata": {},
   "source": [
    "### install extensions\n",
    "- Django Template (bibhasdn)\n",
    "- sqlite (alexcvzz) \n",
    "    - need to install: sudo apt install sqlite\n",
    "    - will then be able to see sqlite explorer via cmd + shift + p in vscode"
   ]
  },
  {
   "cell_type": "markdown",
   "id": "585577e6",
   "metadata": {},
   "source": [
    "### enter any commands (cmd + shift + P)\n"
   ]
  },
  {
   "cell_type": "markdown",
   "id": "a7b05106",
   "metadata": {},
   "source": [
    "- to customize vscode\n",
    "    - settings open json"
   ]
  },
  {
   "cell_type": "markdown",
   "id": "350c2eb7",
   "metadata": {},
   "source": [
    "# Create Structure"
   ]
  },
  {
   "cell_type": "markdown",
   "id": "bd495e1d",
   "metadata": {},
   "source": [
    "## Container"
   ]
  },
  {
   "cell_type": "markdown",
   "id": "86a759c4",
   "metadata": {},
   "source": [
    "https://stackoverflow.com/questions/41573587/what-is-the-difference-between-venv-pyvenv-pyenv-virtualenv-virtualenvwrappe"
   ]
  },
  {
   "cell_type": "markdown",
   "id": "326360c8",
   "metadata": {},
   "source": [
    "https://realpython.com/python-virtual-environments-a-primer/"
   ]
  },
  {
   "cell_type": "markdown",
   "id": "a443af59",
   "metadata": {},
   "source": [
    "### 1. create environ"
   ]
  },
  {
   "cell_type": "code",
   "execution_count": 13,
   "id": "36cf10c8",
   "metadata": {},
   "outputs": [],
   "source": [
    "# Python 2:\n",
    "## virtualenv env\n",
    "\n",
    "# Python 3\n",
    "## python3 -m venv env"
   ]
  },
  {
   "cell_type": "markdown",
   "id": "e842be0f",
   "metadata": {},
   "source": [
    "### 2. activate environ"
   ]
  },
  {
   "cell_type": "code",
   "execution_count": 14,
   "id": "4121517c",
   "metadata": {},
   "outputs": [],
   "source": [
    "## source env/bin/activate"
   ]
  },
  {
   "cell_type": "markdown",
   "id": "c12d3b8e",
   "metadata": {},
   "source": [
    "note: \n",
    "- create env in a folder\n",
    "- dont cd into directory, so that can create django project outside of env folder later"
   ]
  },
  {
   "cell_type": "markdown",
   "id": "e0293a44",
   "metadata": {},
   "source": [
    "## Install dependencies"
   ]
  },
  {
   "cell_type": "markdown",
   "id": "bad3ab6f",
   "metadata": {},
   "source": [
    "get requirement.txt"
   ]
  },
  {
   "cell_type": "code",
   "execution_count": 6,
   "id": "a6c2ed44",
   "metadata": {},
   "outputs": [],
   "source": [
    "## pip freeze > requirements.txt"
   ]
  },
  {
   "cell_type": "markdown",
   "id": "6087d08c",
   "metadata": {},
   "source": [
    "to remove all packages"
   ]
  },
  {
   "cell_type": "code",
   "execution_count": 3,
   "id": "949b30d6",
   "metadata": {},
   "outputs": [],
   "source": [
    "##  pip freeze | xargs pip uninstall"
   ]
  },
  {
   "cell_type": "markdown",
   "id": "028079b1",
   "metadata": {},
   "source": [
    "## Create project"
   ]
  },
  {
   "cell_type": "markdown",
   "id": "cb6a17d1",
   "metadata": {},
   "source": [
    "- . important at the end for manage.py file to be outside folders"
   ]
  },
  {
   "cell_type": "code",
   "execution_count": 7,
   "id": "2942ff35",
   "metadata": {},
   "outputs": [],
   "source": [
    "## django-admin startproject djcrm ."
   ]
  },
  {
   "cell_type": "markdown",
   "id": "e2d47670",
   "metadata": {},
   "source": [
    "## Gitignore file"
   ]
  },
  {
   "cell_type": "markdown",
   "id": "6169c15f",
   "metadata": {},
   "source": [
    "https://github.com/github/gitignore/blob/master/Python.gitignore\n",
    "\n",
    "- create .gitignore file in env folder\n",
    "- copy paste gitignore template"
   ]
  },
  {
   "cell_type": "markdown",
   "id": "dde8f247",
   "metadata": {},
   "source": [
    "## Migrations"
   ]
  },
  {
   "cell_type": "code",
   "execution_count": 17,
   "id": "6838173f",
   "metadata": {},
   "outputs": [],
   "source": [
    "# python manage.py makemigrations"
   ]
  },
  {
   "cell_type": "markdown",
   "id": "05580f80",
   "metadata": {},
   "source": [
    "<b>NOTE: </b>\n",
    "- delete migrations first if necessary\n",
    "- delete db (sqlite) if necessary"
   ]
  },
  {
   "cell_type": "code",
   "execution_count": 18,
   "id": "ba433097",
   "metadata": {},
   "outputs": [],
   "source": [
    "# python manage.py migrate"
   ]
  },
  {
   "cell_type": "markdown",
   "id": "6e444d28",
   "metadata": {},
   "source": [
    "## Run project"
   ]
  },
  {
   "cell_type": "code",
   "execution_count": 16,
   "id": "179dd80f",
   "metadata": {},
   "outputs": [],
   "source": [
    "# python manage.py runserver"
   ]
  },
  {
   "cell_type": "markdown",
   "id": "bc0cc82a",
   "metadata": {},
   "source": [
    "- always reset runserver for template/ html changes to take place"
   ]
  },
  {
   "cell_type": "markdown",
   "id": "2029d38b",
   "metadata": {},
   "source": [
    "## Create app"
   ]
  },
  {
   "cell_type": "code",
   "execution_count": 20,
   "id": "2bddf79f",
   "metadata": {},
   "outputs": [],
   "source": [
    "# python manage.py startapp leads"
   ]
  },
  {
   "cell_type": "markdown",
   "id": "961236a6",
   "metadata": {},
   "source": [
    "## Add app to settings.py"
   ]
  },
  {
   "cell_type": "code",
   "execution_count": 21,
   "id": "7b545b4d",
   "metadata": {},
   "outputs": [],
   "source": [
    "# INSTALLED_APPS = [\n",
    "#     'django.contrib.admin',\n",
    "#     'django.contrib.auth',\n",
    "#     'django.contrib.contenttypes',\n",
    "#     'django.contrib.sessions',\n",
    "#     'django.contrib.messages',\n",
    "#     'django.contrib.staticfiles',\n",
    "#     'leads'\n",
    "# ]"
   ]
  },
  {
   "cell_type": "markdown",
   "id": "0eef6ee4",
   "metadata": {},
   "source": [
    "## Resources"
   ]
  },
  {
   "cell_type": "markdown",
   "id": "dfd2cd0c",
   "metadata": {},
   "source": [
    "https://www.youtube.com/watch?v=fOukA4Qh9QA"
   ]
  },
  {
   "cell_type": "markdown",
   "id": "d97fa60a",
   "metadata": {},
   "source": [
    "# Auth"
   ]
  },
  {
   "cell_type": "markdown",
   "id": "91fb7c59",
   "metadata": {},
   "source": [
    "leads/models.py"
   ]
  },
  {
   "cell_type": "markdown",
   "id": "ec2c4ea5",
   "metadata": {},
   "source": [
    "### AbstractUser"
   ]
  },
  {
   "cell_type": "markdown",
   "id": "3518ff35",
   "metadata": {},
   "source": [
    "-  agent = models.ForeignKey(\"Agent\", on_delete = models.CASCADE) \n",
    "    - \"Agent\" Class"
   ]
  },
  {
   "cell_type": "code",
   "execution_count": 31,
   "id": "ede377e5",
   "metadata": {},
   "outputs": [
    {
     "ename": "ModuleNotFoundError",
     "evalue": "No module named 'django'",
     "output_type": "error",
     "traceback": [
      "\u001b[0;31m---------------------------------------------------------------------------\u001b[0m",
      "\u001b[0;31mModuleNotFoundError\u001b[0m                       Traceback (most recent call last)",
      "\u001b[0;32m<ipython-input-31-caa1cd655be5>\u001b[0m in \u001b[0;36m<module>\u001b[0;34m\u001b[0m\n\u001b[0;32m----> 1\u001b[0;31m \u001b[0;32mfrom\u001b[0m \u001b[0mdjango\u001b[0m\u001b[0;34m.\u001b[0m\u001b[0mdb\u001b[0m \u001b[0;32mimport\u001b[0m \u001b[0mmodels\u001b[0m\u001b[0;34m\u001b[0m\u001b[0;34m\u001b[0m\u001b[0m\n\u001b[0m\u001b[1;32m      2\u001b[0m \u001b[0;32mfrom\u001b[0m \u001b[0mdjango\u001b[0m\u001b[0;34m.\u001b[0m\u001b[0mcontrib\u001b[0m\u001b[0;34m.\u001b[0m\u001b[0mauth\u001b[0m\u001b[0;34m.\u001b[0m\u001b[0mmodels\u001b[0m \u001b[0;32mimport\u001b[0m \u001b[0mAbstractUser\u001b[0m\u001b[0;34m\u001b[0m\u001b[0;34m\u001b[0m\u001b[0m\n\u001b[1;32m      3\u001b[0m \u001b[0;34m\u001b[0m\u001b[0m\n\u001b[1;32m      4\u001b[0m \u001b[0;31m# Create your models here.\u001b[0m\u001b[0;34m\u001b[0m\u001b[0;34m\u001b[0m\u001b[0;34m\u001b[0m\u001b[0m\n\u001b[1;32m      5\u001b[0m \u001b[0;34m\u001b[0m\u001b[0m\n",
      "\u001b[0;31mModuleNotFoundError\u001b[0m: No module named 'django'"
     ]
    }
   ],
   "source": [
    "from django.db import models\n",
    "from django.contrib.auth.models import AbstractUser\n",
    "\n",
    "# Create your models here.\n",
    "\n",
    "class User(AbstractUser):\n",
    "    pass\n",
    "\n",
    "class Lead(models.Model):\n",
    "    first_name = models.CharField(max_length = 20)\n",
    "    last_name = models.CharField(max_length = 20)\n",
    "    age = models.IntegerField(default = 0)\n",
    "    agent = models.ForeignKey(\"Agent\", on_delete = models.CASCADE)\n",
    "\n",
    "    def __str__(self):\n",
    "        return f\"{self.first_name} {self.last_name}\"\n",
    "\n",
    "class Agent(models.Model):\n",
    "    user = models.OneToOneField(User, on_delete= models.CASCADE)\n",
    "\n",
    "    def __str__(self):\n",
    "        return f\"{self.user.email} {self.user.last_name}\""
   ]
  },
  {
   "cell_type": "markdown",
   "id": "500f1d88",
   "metadata": {},
   "source": [
    "settings.py"
   ]
  },
  {
   "cell_type": "code",
   "execution_count": null,
   "id": "22ffec11",
   "metadata": {},
   "outputs": [],
   "source": [
    "# add auth_user_model. \n",
    "# django auto searches for the User class in lead/models.py\n",
    "\n",
    "AUTH_USER_MODEL = 'leads.User'"
   ]
  },
  {
   "cell_type": "markdown",
   "id": "fa480d61",
   "metadata": {},
   "source": [
    "### superuser"
   ]
  },
  {
   "cell_type": "code",
   "execution_count": 28,
   "id": "4238523f",
   "metadata": {},
   "outputs": [],
   "source": [
    "# python manage.py superuser"
   ]
  },
  {
   "cell_type": "markdown",
   "id": "8d4ddb39",
   "metadata": {},
   "source": [
    "to add user to model"
   ]
  },
  {
   "cell_type": "markdown",
   "id": "86b5747d",
   "metadata": {},
   "source": [
    "# Shell"
   ]
  },
  {
   "cell_type": "code",
   "execution_count": 26,
   "id": "dd41f14f",
   "metadata": {},
   "outputs": [],
   "source": [
    "## python manage.py shell"
   ]
  },
  {
   "cell_type": "markdown",
   "id": "85062b39",
   "metadata": {},
   "source": [
    "to lead to specific agent"
   ]
  },
  {
   "cell_type": "code",
   "execution_count": null,
   "id": "fac78c26",
   "metadata": {},
   "outputs": [],
   "source": [
    "from leads.models import Lead, Agent\n",
    "\n",
    "agent1 = Agent.objects.get(user__email = 'galenhew@gmail.com')\n",
    "Lead.objects.create(first_name = 'Joe', last_name = 'Soap', age = 35, agent = agent1)\n",
    "\n",
    "# output: <Lead: Lead object (1)>"
   ]
  },
  {
   "cell_type": "markdown",
   "id": "1030916e",
   "metadata": {},
   "source": [
    "query to check lead added"
   ]
  },
  {
   "cell_type": "code",
   "execution_count": null,
   "id": "c1d6c91a",
   "metadata": {},
   "outputs": [],
   "source": [
    "from leads.models import Lead\n",
    "Lead.objects.all()\n",
    "# output: <QuerySet [<Lead: Joe Soap>]>"
   ]
  },
  {
   "cell_type": "markdown",
   "id": "a22f829c",
   "metadata": {},
   "source": [
    "output displays as per \n",
    "    def __str__(self):\n",
    "        return f\"{self.first_name} {self.last_name}\""
   ]
  },
  {
   "cell_type": "markdown",
   "id": "f23089f6",
   "metadata": {},
   "source": [
    "# Admin"
   ]
  },
  {
   "cell_type": "markdown",
   "id": "6db6169e",
   "metadata": {},
   "source": [
    "register models into admin to see in django admin http://127.0.0.1:8000/admin"
   ]
  },
  {
   "cell_type": "code",
   "execution_count": null,
   "id": "48a6ccc7",
   "metadata": {},
   "outputs": [],
   "source": [
    "from django.contrib import admin\n",
    "\n",
    "# Register your models here.\n",
    "\n",
    "from .models import User, Lead, Agent\n",
    "\n",
    "\n",
    "admin.site.register(User)\n",
    "admin.site.register(Lead)\n",
    "admin.site.register(Agent)"
   ]
  },
  {
   "cell_type": "markdown",
   "id": "8291a5f6",
   "metadata": {},
   "source": [
    "# Views"
   ]
  },
  {
   "cell_type": "code",
   "execution_count": 35,
   "id": "69484e49",
   "metadata": {},
   "outputs": [
    {
     "ename": "ModuleNotFoundError",
     "evalue": "No module named 'leads'",
     "output_type": "error",
     "traceback": [
      "\u001b[0;31m---------------------------------------------------------------------------\u001b[0m",
      "\u001b[0;31mModuleNotFoundError\u001b[0m                       Traceback (most recent call last)",
      "\u001b[0;32m<ipython-input-35-d647793ed29c>\u001b[0m in \u001b[0;36m<module>\u001b[0;34m\u001b[0m\n\u001b[0;32m----> 1\u001b[0;31m \u001b[0;32mfrom\u001b[0m \u001b[0mleads\u001b[0m\u001b[0;34m.\u001b[0m\u001b[0mviews\u001b[0m \u001b[0;32mimport\u001b[0m \u001b[0mhome_page\u001b[0m\u001b[0;34m\u001b[0m\u001b[0;34m\u001b[0m\u001b[0m\n\u001b[0m\u001b[1;32m      2\u001b[0m \u001b[0;34m\u001b[0m\u001b[0m\n\u001b[1;32m      3\u001b[0m urlpatterns = [\n\u001b[1;32m      4\u001b[0m     \u001b[0mpath\u001b[0m\u001b[0;34m(\u001b[0m\u001b[0;34m'admin/'\u001b[0m\u001b[0;34m,\u001b[0m \u001b[0madmin\u001b[0m\u001b[0;34m.\u001b[0m\u001b[0msite\u001b[0m\u001b[0;34m.\u001b[0m\u001b[0murls\u001b[0m\u001b[0;34m)\u001b[0m\u001b[0;34m,\u001b[0m\u001b[0;34m\u001b[0m\u001b[0;34m\u001b[0m\u001b[0m\n\u001b[1;32m      5\u001b[0m     \u001b[0mpath\u001b[0m\u001b[0;34m(\u001b[0m\u001b[0;34m''\u001b[0m\u001b[0;34m,\u001b[0m \u001b[0mhome_page\u001b[0m\u001b[0;34m)\u001b[0m\u001b[0;34m\u001b[0m\u001b[0;34m\u001b[0m\u001b[0m\n",
      "\u001b[0;31mModuleNotFoundError\u001b[0m: No module named 'leads'"
     ]
    }
   ],
   "source": [
    "from leads.views import home_page \n",
    "\n",
    "urlpatterns = [\n",
    "    path('admin/', admin.site.urls),\n",
    "    path('', home_page)\n",
    "]"
   ]
  },
  {
   "cell_type": "markdown",
   "id": "8452e346",
   "metadata": {},
   "source": [
    "## Structure"
   ]
  },
  {
   "cell_type": "markdown",
   "id": "f3f57b00",
   "metadata": {},
   "source": [
    "### Structure 1: create directory in app \n",
    "leads/tempaltes/leads/home_page.html"
   ]
  },
  {
   "cell_type": "code",
   "execution_count": 36,
   "id": "40ae3986",
   "metadata": {},
   "outputs": [],
   "source": [
    "# html boiler"
   ]
  },
  {
   "cell_type": "markdown",
   "id": "0665acfa",
   "metadata": {},
   "source": [
    "leads/views.py"
   ]
  },
  {
   "cell_type": "code",
   "execution_count": null,
   "id": "fb1af644",
   "metadata": {},
   "outputs": [],
   "source": [
    "def home_page(request):\n",
    "    return render(request, 'leads/home_page.html')"
   ]
  },
  {
   "cell_type": "markdown",
   "id": "76fb91da",
   "metadata": {},
   "source": [
    "urls.py"
   ]
  },
  {
   "cell_type": "markdown",
   "id": "85f12bc1",
   "metadata": {},
   "source": [
    "### structure 2: create directory outside app\n",
    "template/second_page.html"
   ]
  },
  {
   "cell_type": "markdown",
   "id": "aecda107",
   "metadata": {},
   "source": [
    "settings.py"
   ]
  },
  {
   "cell_type": "code",
   "execution_count": null,
   "id": "8a54e8ec",
   "metadata": {},
   "outputs": [],
   "source": [
    "TEMPLATES = [\n",
    "    {\n",
    "        'DIRS': [BASE_DIR/ \"templates\"],"
   ]
  },
  {
   "cell_type": "markdown",
   "id": "f5f20d56",
   "metadata": {},
   "source": [
    "leads/views.py"
   ]
  },
  {
   "cell_type": "code",
   "execution_count": null,
   "id": "f5769049",
   "metadata": {},
   "outputs": [],
   "source": [
    "def home_page(request):\n",
    "    return render(request, 'second_page.html')\n",
    "\n",
    "# don't need app name in front of 'second_page.html' as django recognizes templates/second_page.html"
   ]
  },
  {
   "cell_type": "markdown",
   "id": "5bed64eb",
   "metadata": {},
   "source": [
    "## Views with context, template"
   ]
  },
  {
   "cell_type": "markdown",
   "id": "9e36255d",
   "metadata": {},
   "source": [
    "leads/views.py"
   ]
  },
  {
   "cell_type": "code",
   "execution_count": null,
   "id": "893ec274",
   "metadata": {},
   "outputs": [],
   "source": [
    "from django.shortcuts import render\n",
    "from django.http import HttpResponse\n",
    "from .models import Lead\n",
    "\n",
    "# Create your views here.\n",
    "\n",
    "def home_page(request):\n",
    "    leads = Lead.objects.all()\n",
    "    context ={\n",
    "        'leads': leads\n",
    "    }\n",
    "\n",
    "    return render(request, 'second_page.html', context)"
   ]
  },
  {
   "cell_type": "markdown",
   "id": "7e6cbdb0",
   "metadata": {},
   "source": [
    "template/second_page.html"
   ]
  },
  {
   "cell_type": "code",
   "execution_count": null,
   "id": "99efad7d",
   "metadata": {},
   "outputs": [],
   "source": [
    "<!doctype html>\n",
    "\n",
    "<html lang=\"en\">\n",
    "<head>\n",
    "  <meta charset=\"utf-8\">\n",
    "\n",
    "  <title>The HTML5 Herald</title>\n",
    "  <meta name=\"description\" content=\"The HTML5 Herald\">\n",
    "  <meta name=\"author\" content=\"SitePoint\">\n",
    "\n",
    "  <link rel=\"stylesheet\" href=\"css/styles.css?v=1.0\">\n",
    "\n",
    "</head>\n",
    "\n",
    "<body>\n",
    "  <h1>2nd page</h1>\n",
    "  <p> this is the 2nd page </p>\n",
    "  {{leads}}\n",
    "\n",
    "  <ul>\n",
    "    {% for lead in leads%}\n",
    "    <li> {{lead.first_name}} {{lead.last_name}} </li>\n",
    "    {% endfor%}\n",
    "  </ul>\n",
    "  <script src=\"js/scripts.js\"></script>\n",
    "</body>\n",
    "</html>"
   ]
  },
  {
   "cell_type": "markdown",
   "id": "ec016992",
   "metadata": {},
   "source": []
  },
  {
   "cell_type": "markdown",
   "id": "734a617f",
   "metadata": {},
   "source": [
    "# Urls"
   ]
  },
  {
   "cell_type": "markdown",
   "id": "a7c5d2fe",
   "metadata": {},
   "source": [
    "## Structure Urls in each app"
   ]
  },
  {
   "cell_type": "markdown",
   "id": "0e7a8450",
   "metadata": {},
   "source": [
    "urls.py"
   ]
  },
  {
   "cell_type": "code",
   "execution_count": null,
   "id": "03044de0",
   "metadata": {},
   "outputs": [],
   "source": [
    "from django.contrib import admin\n",
    "from django.urls import path, include\n",
    "\n",
    "urlpatterns = [\n",
    "    path('admin/', admin.site.urls),\n",
    "    path('leads/',  include('leads.urls', namespace=\"leads\")),\n",
    "]"
   ]
  },
  {
   "cell_type": "markdown",
   "id": "0b344c6f",
   "metadata": {},
   "source": [
    "leads/urls.py"
   ]
  },
  {
   "cell_type": "markdown",
   "id": "941a832c",
   "metadata": {},
   "source": [
    "- django auto looks for urlpatterns"
   ]
  },
  {
   "cell_type": "code",
   "execution_count": null,
   "id": "7176415c",
   "metadata": {},
   "outputs": [],
   "source": [
    "from django.urls import path\n",
    "from .views import home_page\n",
    "\n",
    "# app_name links to namespace in urls.py\n",
    "app_name = 'leads'\n",
    "\n",
    "urlpatterns = [\n",
    "    path('all/', home_page)\n",
    "]"
   ]
  },
  {
   "cell_type": "markdown",
   "id": "a371634e",
   "metadata": {},
   "source": [
    "## views with details"
   ]
  },
  {
   "cell_type": "markdown",
   "id": "921e269d",
   "metadata": {},
   "source": [
    "leads/views.py"
   ]
  },
  {
   "cell_type": "code",
   "execution_count": null,
   "id": "2f2a2e37",
   "metadata": {},
   "outputs": [],
   "source": [
    "from django.shortcuts import render\n",
    "from django.http import HttpResponse\n",
    "from .models import Lead\n",
    "\n",
    "# Create your views here.\n",
    "\n",
    "def lead_list(request):\n",
    "    leads = Lead.objects.all()\n",
    "    context ={\n",
    "        'leads': leads\n",
    "    }\n",
    "\n",
    "    return render(request, 'leads/lead_list.html', context)\n",
    "\n",
    "\n",
    "def lead_detail(request, pk):\n",
    "    lead= Lead.objects.get(id= pk)\n",
    "    context ={\n",
    "        'lead': lead\n",
    "    }\n",
    "    return render(request, \"leads/lead_detail.html\", context)\n"
   ]
  },
  {
   "cell_type": "markdown",
   "id": "7d6a5300",
   "metadata": {},
   "source": [
    "leads/urls.py"
   ]
  },
  {
   "cell_type": "code",
   "execution_count": 41,
   "id": "b4152f1f",
   "metadata": {},
   "outputs": [
    {
     "ename": "ModuleNotFoundError",
     "evalue": "No module named 'django'",
     "output_type": "error",
     "traceback": [
      "\u001b[0;31m---------------------------------------------------------------------------\u001b[0m",
      "\u001b[0;31mModuleNotFoundError\u001b[0m                       Traceback (most recent call last)",
      "\u001b[0;32m<ipython-input-41-bb427e7d936f>\u001b[0m in \u001b[0;36m<module>\u001b[0;34m\u001b[0m\n\u001b[0;32m----> 1\u001b[0;31m \u001b[0;32mfrom\u001b[0m \u001b[0mdjango\u001b[0m\u001b[0;34m.\u001b[0m\u001b[0murls\u001b[0m \u001b[0;32mimport\u001b[0m \u001b[0mpath\u001b[0m\u001b[0;34m\u001b[0m\u001b[0;34m\u001b[0m\u001b[0m\n\u001b[0m\u001b[1;32m      2\u001b[0m \u001b[0;32mfrom\u001b[0m \u001b[0;34m.\u001b[0m\u001b[0mviews\u001b[0m \u001b[0;32mimport\u001b[0m \u001b[0mlead_list\u001b[0m\u001b[0;34m,\u001b[0m \u001b[0mlead_detail\u001b[0m\u001b[0;34m\u001b[0m\u001b[0;34m\u001b[0m\u001b[0m\n\u001b[1;32m      3\u001b[0m \u001b[0;34m\u001b[0m\u001b[0m\n\u001b[1;32m      4\u001b[0m \u001b[0mapp_name\u001b[0m \u001b[0;34m=\u001b[0m \u001b[0;34m'leads'\u001b[0m\u001b[0;34m\u001b[0m\u001b[0;34m\u001b[0m\u001b[0m\n\u001b[1;32m      5\u001b[0m \u001b[0;34m\u001b[0m\u001b[0m\n",
      "\u001b[0;31mModuleNotFoundError\u001b[0m: No module named 'django'"
     ]
    }
   ],
   "source": [
    "from django.urls import path\n",
    "from .views import lead_list, lead_detail\n",
    "\n",
    "app_name = 'leads'\n",
    "\n",
    "urlpatterns = [\n",
    "    path('', lead_list),\n",
    "    path('<pk>/',lead_detail)\n",
    "]"
   ]
  },
  {
   "cell_type": "markdown",
   "id": "8048949a",
   "metadata": {},
   "source": [
    "leads/templates/leads/lead_detail.html"
   ]
  },
  {
   "cell_type": "markdown",
   "id": "f11f78af",
   "metadata": {},
   "source": [
    "- get context from lead_detail view"
   ]
  },
  {
   "cell_type": "code",
   "execution_count": null,
   "id": "b84b8ba9",
   "metadata": {},
   "outputs": [],
   "source": [
    "<a href=\"/leads\"> go back to leads</a>\n",
    "<hr/>\n",
    "  <h1>this is the details of {{ lead.first_name}}</h1>\n",
    "  <p> this person's age: {{lead.age}} </p>"
   ]
  },
  {
   "cell_type": "markdown",
   "id": "228e4fe5",
   "metadata": {},
   "source": [
    "leads/templates/leads/lead.html"
   ]
  },
  {
   "cell_type": "markdown",
   "id": "08ae1304",
   "metadata": {},
   "source": [
    "- lead.pk link to go into lead details"
   ]
  },
  {
   "cell_type": "code",
   "execution_count": null,
   "id": "a58dd87a",
   "metadata": {},
   "outputs": [],
   "source": [
    "  <h1>this is all our leads</h1>\n",
    "  {% for lead in leads%}\n",
    "    <div class= 'lead'>\n",
    "      <a href = \"/leads/{{lead.pk}}/\">\n",
    "      {{ lead.first_name }} \n",
    "      {{ lead.age}}\n",
    "      </a>\n",
    "    </div>\n",
    "  {% endfor %}"
   ]
  },
  {
   "cell_type": "markdown",
   "id": "e2d8d9fa",
   "metadata": {},
   "source": [
    "# Forms "
   ]
  },
  {
   "cell_type": "markdown",
   "id": "72534b8b",
   "metadata": {},
   "source": [
    "## Manual Form"
   ]
  },
  {
   "cell_type": "markdown",
   "id": "42577ed8",
   "metadata": {},
   "source": [
    "### Create"
   ]
  },
  {
   "cell_type": "markdown",
   "id": "05bea87d",
   "metadata": {},
   "source": [
    "leads/forms.py"
   ]
  },
  {
   "cell_type": "code",
   "execution_count": null,
   "id": "68ee4c03",
   "metadata": {},
   "outputs": [],
   "source": [
    "from django import forms\n",
    "\n",
    "\n",
    "class LeadForm(forms.Form):\n",
    "    first_name = forms.CharField()\n",
    "    last_name= forms.CharField()\n",
    "    age = forms.IntegerField(min_value =0 )"
   ]
  },
  {
   "cell_type": "markdown",
   "id": "72c61dfc",
   "metadata": {},
   "source": [
    "leads/templates/leads/lead_create.html\n",
    "- form in lead_create.html\n",
    "- csrf tokens needed\n",
    "- .as_p --> django align fields "
   ]
  },
  {
   "cell_type": "code",
   "execution_count": null,
   "id": "825c5300",
   "metadata": {},
   "outputs": [],
   "source": [
    "<a href=\"/leads\"> Create a new lead</a>\n",
    "<hr/>\n",
    "  <h1>create a new lead</h1>\n",
    "  <form method = \"post\">\n",
    "    {% csrf_token%}\n",
    "    {{form.as_p}}\n",
    "    <button>Submit</button>\n",
    "  </form>"
   ]
  },
  {
   "cell_type": "markdown",
   "id": "2d991f48",
   "metadata": {},
   "source": [
    "leads/urls.py"
   ]
  },
  {
   "cell_type": "code",
   "execution_count": null,
   "id": "c07c8c27",
   "metadata": {},
   "outputs": [],
   "source": [
    "from django.urls import path\n",
    "from .views import lead_list, lead_detail, lead_create\n",
    "\n",
    "app_name = 'leads'\n",
    "\n",
    "urlpatterns = [\n",
    "    path('', lead_list),\n",
    "    path('<int:pk>/',lead_detail),\n",
    "    path('create/', lead_create)\n",
    "]"
   ]
  },
  {
   "cell_type": "markdown",
   "id": "5b244438",
   "metadata": {},
   "source": [
    "leads/views.py"
   ]
  },
  {
   "cell_type": "markdown",
   "id": "82458762",
   "metadata": {},
   "source": [
    "- use print() to check form output\n",
    "- if request -> check if POST, if so post data into form via LeadForm(request.POST) , else form = blank as per context{ LeadForm()}\n",
    "- create Lead objects\n",
    "- redirect to /leads after creation"
   ]
  },
  {
   "cell_type": "code",
   "execution_count": null,
   "id": "278727aa",
   "metadata": {},
   "outputs": [],
   "source": [
    "from django.http.response import HttpResponseNotAllowed\n",
    "from django.shortcuts import render, redirect\n",
    "from django.http import HttpResponse\n",
    "from .models import Lead, Agent\n",
    "from .forms import LeadForm\n",
    "\n",
    "# Create your views here.\n",
    "\n",
    "def lead_create(request):\n",
    "\n",
    "    form = LeadForm()\n",
    "    if request.method == \"POST\":\n",
    "        print('Receiving a post request')\n",
    "        form = LeadForm(request.POST)\n",
    "        if form.is_valid():\n",
    "            print('the form is valid')\n",
    "            print(form.cleaned_data)\n",
    "            first_name = form.cleaned_data['first_name']\n",
    "            last_name = form.cleaned_data['last_name']\n",
    "            age = form.cleaned_data['age']\n",
    "            agent = Agent.objects.first()\n",
    "            Lead.objects.create(\n",
    "                first_name = first_name,\n",
    "                last_name = last_name,\n",
    "                age = age,\n",
    "                agent = agent\n",
    "            )\n",
    "            print('lead has been created')\n",
    "            return redirect('/leads')\n",
    "\n",
    "    context={\n",
    "        'form': LeadForm()\n",
    "    }\n",
    "\n",
    "    return render(request, \"leads/lead_create.html\", context)"
   ]
  },
  {
   "cell_type": "markdown",
   "id": "8024610d",
   "metadata": {},
   "source": [
    "### Update"
   ]
  },
  {
   "cell_type": "markdown",
   "id": "cdfa2ee1",
   "metadata": {},
   "source": [
    "leads/urls.py "
   ]
  },
  {
   "cell_type": "code",
   "execution_count": null,
   "id": "3cfb891f",
   "metadata": {},
   "outputs": [],
   "source": [
    "urlpatterns = [\n",
    "    path('', lead_list),\n",
    "    path('<int:pk>/',lead_detail),\n",
    "    path('<int:pk>/update/',lead_update),\n",
    "    path('create/', lead_create),\n",
    "]"
   ]
  },
  {
   "cell_type": "markdown",
   "id": "d4b77241",
   "metadata": {},
   "source": [
    "leads/forms.py"
   ]
  },
  {
   "cell_type": "markdown",
   "id": "79e17468",
   "metadata": {},
   "source": [
    "- Lead.objects.get(id=pk)\n",
    "- lead.save()"
   ]
  },
  {
   "cell_type": "code",
   "execution_count": null,
   "id": "442262cf",
   "metadata": {},
   "outputs": [],
   "source": [
    "def lead_update(request, pk):\n",
    "    lead = Lead.objects.get(id = pk)\n",
    "    form = LeadForm()\n",
    "    # form = LeadForm()\n",
    "    if request.method == \"POST\":\n",
    "        print('Receiving a post request')\n",
    "        form = LeadForm(request.POST)\n",
    "        if form.is_valid():\n",
    "            print('the form is valid')\n",
    "            print(form.cleaned_data)\n",
    "            first_name = form.cleaned_data['first_name']\n",
    "            last_name = form.cleaned_data['last_name']\n",
    "            age = form.cleaned_data['age']\n",
    "            lead.first_name = first_name\n",
    "            lead.last_name = last_name\n",
    "            lead.age = age\n",
    "            lead.save()\n",
    "            print('lead has been created')\n",
    "            return redirect('/leads')\n",
    "\n",
    "    context={\n",
    "        'form': form,\n",
    "        'lead': lead\n",
    "    }\n",
    "    return render(request, \"leads/lead_update.html\", context)\n"
   ]
  },
  {
   "cell_type": "markdown",
   "id": "125ff20b",
   "metadata": {},
   "source": [
    "## ModelForm "
   ]
  },
  {
   "cell_type": "markdown",
   "id": "6d1c4c3a",
   "metadata": {},
   "source": [
    "### Create"
   ]
  },
  {
   "cell_type": "markdown",
   "id": "05e5718e",
   "metadata": {},
   "source": [
    "leads/forms.py"
   ]
  },
  {
   "cell_type": "code",
   "execution_count": null,
   "id": "5d9716bd",
   "metadata": {},
   "outputs": [],
   "source": [
    "class LeadModelForm(forms.ModelForm):\n",
    "    class Meta:\n",
    "        model = Lead\n",
    "        field = (\n",
    "            'first_name',\n",
    "            'last_name',\n",
    "            'age',\n",
    "            'agent',\n",
    "        )"
   ]
  },
  {
   "cell_type": "markdown",
   "id": "5b2107d0",
   "metadata": {},
   "source": [
    "views.py"
   ]
  },
  {
   "cell_type": "markdown",
   "id": "452e8562",
   "metadata": {},
   "source": [
    "- form.save() \n",
    "    - LeadModelForm class field attributes will autosave, thus no need to manually save cleaned_data, and create Lead.objects"
   ]
  },
  {
   "cell_type": "code",
   "execution_count": null,
   "id": "d3394543",
   "metadata": {},
   "outputs": [],
   "source": [
    "from .forms import LeadModelForm \n",
    "\n",
    "def lead_create(request):\n",
    "    form = LeadModelForm()\n",
    "    # form = LeadForm()\n",
    "    if request.method == \"POST\":\n",
    "        form = LeadModelForm(request.POST)\n",
    "        if form.is_valid():\n",
    "            form.save()\n",
    "            return redirect('/leads')\n",
    "\n",
    "    context={\n",
    "        'form': LeadModelForm()\n",
    "    }\n",
    "\n",
    "    return render(request, \"leads/lead_create.html\", context)"
   ]
  },
  {
   "cell_type": "markdown",
   "id": "d95af2d0",
   "metadata": {},
   "source": [
    "## Improve Urls name"
   ]
  },
  {
   "cell_type": "markdown",
   "id": "0a7e35e0",
   "metadata": {},
   "source": [
    "leads/urls.py"
   ]
  },
  {
   "cell_type": "markdown",
   "id": "ebbf0373",
   "metadata": {},
   "source": [
    "- use name"
   ]
  },
  {
   "cell_type": "code",
   "execution_count": null,
   "id": "45f6bbac",
   "metadata": {},
   "outputs": [],
   "source": [
    "from django.urls import path\n",
    "from .views import lead_list, lead_detail, lead_create, lead_update, lead_delete\n",
    "\n",
    "app_name = 'leads'\n",
    "\n",
    "urlpatterns = [\n",
    "    path('', lead_list, name ='lead-list'),\n",
    "    path('<int:pk>/',lead_detail, name = 'lead-detail'),\n",
    "    path('<int:pk>/update/',lead_update, name = 'lead-update'),\n",
    "    path('<int:pk>/delete/', lead_delete, name = 'lead-delete'),\n",
    "    path('create/', lead_create, name = 'lead-create'),\n",
    "]"
   ]
  },
  {
   "cell_type": "markdown",
   "id": "4aa235a3",
   "metadata": {},
   "source": [
    "template/leads/lead_detail.html"
   ]
  },
  {
   "cell_type": "markdown",
   "id": "731d88d9",
   "metadata": {},
   "source": [
    "- {% url 'namespace:name' name.pk %}\n",
    "    - rmb that urls.py, the namespace = 'leads', thus leads:lead-list, or namespace:name "
   ]
  },
  {
   "cell_type": "code",
   "execution_count": null,
   "id": "d434dc1d",
   "metadata": {},
   "outputs": [],
   "source": [
    "<a href=\"{% url 'leads:lead-list' %}\"> go back to leads</a>\n",
    "<hr/>\n",
    "<hr/>\n",
    "  <h1>this is the details of {{ lead.first_name}}</h1>\n",
    "  <p> this person's age: {{lead.age}} </p>\n",
    "  <p> agent responsible for the lead is: {{ lead.agent}} </p>\n",
    "  \n",
    "  <hr/>\n",
    "  <a href = \"{% url 'leads:lead-update'  lead.pk %}\"> Update </a>\n",
    "  <a href = \"{% url 'leads:lead-delete' lead.pk %}\"> Delete </a>"
   ]
  },
  {
   "cell_type": "markdown",
   "id": "57f88500",
   "metadata": {},
   "source": [
    "urls.py"
   ]
  },
  {
   "cell_type": "code",
   "execution_count": null,
   "id": "4bae5ea9",
   "metadata": {},
   "outputs": [],
   "source": [
    "urlpatterns = [\n",
    "    path('admin/', admin.site.urls),\n",
    "    path('leads/',  include('leads.urls', namespace=\"leads\")),\n",
    "]\n"
   ]
  },
  {
   "cell_type": "markdown",
   "id": "526d8b53",
   "metadata": {},
   "source": [
    "## Template {% block %}"
   ]
  },
  {
   "cell_type": "markdown",
   "id": "b37e1d9a",
   "metadata": {},
   "source": [
    "templates/base.html"
   ]
  },
  {
   "cell_type": "code",
   "execution_count": null,
   "id": "99c0c653",
   "metadata": {},
   "outputs": [],
   "source": [
    "<!doctype html>\n",
    "\n",
    "<html lang=\"en\">\n",
    "<head>\n",
    "  <meta charset=\"utf-8\">\n",
    "\n",
    "  <title>The HTML5 Herald</title>\n",
    "  <meta name=\"description\" content=\"The HTML5 Herald\">\n",
    "  <meta name=\"author\" content=\"SitePoint\">\n",
    "\n",
    "  <link rel=\"stylesheet\" href=\"css/styles.css?v=1.0\">\n",
    "  <style>\n",
    "    .lead{\n",
    "      padding-top: 10px;\n",
    "      padding-bottom: 10px;\n",
    "      padding-left: 6px;\n",
    "      padding-right: 6px;\n",
    "      margin-top: 10px;\n",
    "      background-color: #f6f6f6;\n",
    "      width: 100%;\n",
    "    }\n",
    "  </style>\n",
    "</head>\n",
    "\n",
    "<body>\n",
    "    {% block content%}\n",
    "    {% endblock content %}\n",
    "    {% include 'scripts.html' %}\n",
    "  <script src=\"js/scripts.js\"></script>\n",
    "</body>\n",
    "</html>"
   ]
  },
  {
   "cell_type": "markdown",
   "id": "9ddc65ad",
   "metadata": {},
   "source": [
    "leads/templates/leads/lead_list.html"
   ]
  },
  {
   "cell_type": "markdown",
   "id": "12a80a21",
   "metadata": {},
   "source": [
    "- django auto search for base.html in global template folder"
   ]
  },
  {
   "cell_type": "code",
   "execution_count": null,
   "id": "0e16b4e1",
   "metadata": {},
   "outputs": [],
   "source": [
    "{% extends \"base.html\"%}\n",
    "\n",
    "{% block content%}\n",
    "  <a href = \"{% url 'leads:lead-create' %}\" > create a lead</a>\n",
    "\n",
    "  <h1>these are all our leads</h1>\n",
    "  {% for lead in leads%}\n",
    "    <div class= 'lead'>\n",
    "      <a href = \"{% url 'leads:lead-detail' lead.pk %}\">\n",
    "      {{ lead.first_name }} \n",
    "      {{ lead.age}}\n",
    "      </a>\n",
    "    </div>\n",
    "  {% endfor %}\n",
    "\n",
    "{% endblock content%}"
   ]
  },
  {
   "cell_type": "markdown",
   "id": "5bc15267",
   "metadata": {},
   "source": [
    "## Generic views"
   ]
  },
  {
   "cell_type": "markdown",
   "id": "0f18121d",
   "metadata": {},
   "source": [
    "leads/views.py"
   ]
  },
  {
   "cell_type": "markdown",
   "id": "c7bee412",
   "metadata": {},
   "source": [
    "- queryset argument\n",
    "    - use to filter list of objects to view\n",
    "    - https://docs.djangoproject.com/en/3.2/topics/class-based-views/generic-display/\n",
    "- context_object_name arguemnt\n",
    "    - need to specify so that html uses the name given, else will use default context name 'object_name' \n",
    "        - i.e. {% for lead in object_name %} instead of  {% for lead in leads %} where context_object_name = 'leads'"
   ]
  },
  {
   "cell_type": "code",
   "execution_count": null,
   "id": "b746201d",
   "metadata": {},
   "outputs": [],
   "source": [
    "from django.views import generic\n",
    "\n",
    "\n",
    "class LeadListView(generic.ListView):\n",
    "    template_name = 'leads/lead_list.html'\n",
    "    queryset= Lead.objects.all()\n",
    "    context_object_name = 'leads'\n",
    "\n",
    "\n",
    "class LeadDetailView(generic.DetailView):\n",
    "    template_name = 'leads/lead_detail.html'\n",
    "    queryset = Lead.objects.all()\n",
    "    context_object_name = 'lead'\n",
    "\n",
    "\n",
    "class LeadCreateView(generic.CreateView):\n",
    "    template_name = 'leads/lead_create.html'\n",
    "    form_class= LeadModelForm  \n",
    "\n",
    "    def get_success_url(self):\n",
    "        return reverse('leads:lead-list')\n",
    "\n",
    "class LeadUpdateView(generic.UpdateView):\n",
    "    template_name = 'leads/lead_update.html'\n",
    "    form_class = LeadModelForm\n",
    "    queryset = Lead.objects.all()\n",
    "\n",
    "    def get_success_url(self):\n",
    "        return reverse('leads:lead-list')\n",
    "\n",
    "\n",
    "class LeadDeleteView(generic.DeleteView):\n",
    "    template_name = 'leads/lead_delete.html'\n",
    "    queryset = Lead.objects.all()\n",
    "\n",
    "    def get_success_url(self):\n",
    "        return reverse('leads:lead-list')"
   ]
  },
  {
   "cell_type": "markdown",
   "id": "2d0d2853",
   "metadata": {},
   "source": [
    "leads/urls.py"
   ]
  },
  {
   "cell_type": "code",
   "execution_count": null,
   "id": "ec0c63e5",
   "metadata": {},
   "outputs": [],
   "source": [
    "from leads.models import Lead\n",
    "from django.urls import path\n",
    "\n",
    "from .views import (\n",
    "    LeadCreateView, LeadDeleteView, LeadUpdateView, lead_list, lead_detail, lead_create, lead_update, lead_delete,\n",
    "    LeadListView, LeadDetailView,\n",
    ")\n",
    "\n",
    "app_name = 'leads'\n",
    "\n",
    "urlpatterns = [\n",
    "    path('', LeadListView.as_view(), name = 'lead-list'),\n",
    "    path('<int:pk>/', LeadDetailView.as_view(), name ='lead-detail'),\n",
    "    path('create/', LeadCreateView.as_view(), name = 'lead-create'),\n",
    "    path('<int:pk>/update/', LeadUpdateView.as_view(), name = 'lead-update'),\n",
    "    path('<int:pk>/delete/', LeadDeleteView.as_view(), name = 'lead-delete'),\n",
    "]"
   ]
  },
  {
   "cell_type": "markdown",
   "id": "9dc75696",
   "metadata": {},
   "source": [
    "# Static files"
   ]
  },
  {
   "cell_type": "markdown",
   "id": "c2921c45",
   "metadata": {},
   "source": [
    "settings.py"
   ]
  },
  {
   "cell_type": "code",
   "execution_count": null,
   "id": "0943024a",
   "metadata": {},
   "outputs": [],
   "source": [
    "STATIC_URL = '/static/'\n",
    "\n",
    "STATICFILES_DIRS = [\n",
    "    BASE_DIR / 'static'\n",
    "]\n",
    "\n",
    "STATIC_ROOT = 'static_root'"
   ]
  },
  {
   "cell_type": "markdown",
   "id": "b99908ee",
   "metadata": {},
   "source": [
    "urls.py"
   ]
  },
  {
   "cell_type": "markdown",
   "id": "a5c4e957",
   "metadata": {},
   "source": [
    "- if settings.debug \n",
    "    - required as in production, will host on other cloud services, thus will not reference own server during production mode"
   ]
  },
  {
   "cell_type": "code",
   "execution_count": null,
   "id": "82481c6a",
   "metadata": {},
   "outputs": [],
   "source": [
    "from django.conf import settings\n",
    "from django.conf.urls.static import static\n",
    "\n",
    "if settings.DEBUG:\n",
    "    urlpatterns += static(settings.STATIC_URL, document_root = settings.STATIC_ROOT)"
   ]
  },
  {
   "cell_type": "markdown",
   "id": "0061cbee",
   "metadata": {},
   "source": [
    "create global static folder containing:\n",
    "- css folder -> styles.css\n",
    "- images folder\n",
    "- js folder "
   ]
  },
  {
   "cell_type": "markdown",
   "id": "7cf1807a",
   "metadata": {},
   "source": [
    "i.e. able to see files via path now:\n",
    "http://127.0.0.1:8000/static/js/main.js"
   ]
  },
  {
   "cell_type": "markdown",
   "id": "0b9972a3",
   "metadata": {},
   "source": [
    "to use css in html file"
   ]
  },
  {
   "cell_type": "code",
   "execution_count": null,
   "id": "f4bd7cd6",
   "metadata": {},
   "outputs": [],
   "source": [
    "{% load static %}\n",
    "    \n",
    "<head>\n",
    "    <link href= \"{% static 'css/styles.css' %}\" rel= 'stylesheet'/>"
   ]
  },
  {
   "cell_type": "markdown",
   "id": "539b84ad",
   "metadata": {},
   "source": [
    "# send emails"
   ]
  },
  {
   "cell_type": "markdown",
   "id": "b713a1fe",
   "metadata": {},
   "source": [
    "- https://docs.djangoproject.com/en/3.2/topics/email/\n"
   ]
  },
  {
   "cell_type": "markdown",
   "id": "0bd70929",
   "metadata": {},
   "source": [
    "leads/views.py"
   ]
  },
  {
   "cell_type": "code",
   "execution_count": null,
   "id": "67f7c043",
   "metadata": {},
   "outputs": [],
   "source": [
    "class LeadCreateView(generic.CreateView):\n",
    "    template_name = 'leads/lead_create.html'\n",
    "    form_class= LeadModelForm  \n",
    "\n",
    "    def get_success_url(self):\n",
    "        return reverse('leads:lead-list')\n",
    "\n",
    "    def form_valid(self, form):\n",
    "        # to do send email\n",
    "        send_mail(\n",
    "            subject = 'A lead has been created',\n",
    "            message ='go to the site to see the new lead',\n",
    "            from_email= 'test@test.com',\n",
    "            recipient_list = ['test2@test.com']\n",
    "        )\n",
    "        # resume LeadCreateView \n",
    "        return super(LeadCreateView, self).form_valid(form)"
   ]
  },
  {
   "cell_type": "markdown",
   "id": "6df20d68",
   "metadata": {},
   "source": [
    "settings.py"
   ]
  },
  {
   "cell_type": "markdown",
   "id": "3f8eb47d",
   "metadata": {},
   "source": [
    "\n",
    "- in production use EMAIL_BACKEND ='django.core.mail.backends.smtp.EmailBackend'"
   ]
  },
  {
   "cell_type": "code",
   "execution_count": null,
   "id": "365ce292",
   "metadata": {},
   "outputs": [],
   "source": [
    "# will log email details to console for dev\n",
    "EMAIL_BACKEND ='django.core.mail.backends.console.EmailBackend'"
   ]
  },
  {
   "cell_type": "markdown",
   "id": "40584ffd",
   "metadata": {},
   "source": [
    "# default login / logout"
   ]
  },
  {
   "cell_type": "markdown",
   "id": "b2f55f4f",
   "metadata": {},
   "source": [
    "templates/registration/login.html"
   ]
  },
  {
   "cell_type": "markdown",
   "id": "b5cf4516",
   "metadata": {},
   "source": [
    "- must be in this folder as the LoginView in django.contrib.auth.views has template_name = 'registration/login.html'\n",
    "- note that there is no default 'registration/login.html' in django.contrib.auth.views."
   ]
  },
  {
   "cell_type": "markdown",
   "id": "bd94e3b5",
   "metadata": {},
   "source": [
    "tempalates/registration/login.html"
   ]
  },
  {
   "cell_type": "markdown",
   "id": "a0af6959",
   "metadata": {},
   "source": [
    "{% extends 'base.html'%}\n",
    "{% block content%}\n",
    "\n",
    "<form method ='post'>\n",
    "    {%csrf_token%}\n",
    "    {{form.as_p}}\n",
    "    <button type = 'submit'> Submit</button>\n",
    "</form>\n",
    "\n",
    "{% endblock content%}"
   ]
  },
  {
   "cell_type": "markdown",
   "id": "77147964",
   "metadata": {},
   "source": [
    "urls.py"
   ]
  },
  {
   "cell_type": "code",
   "execution_count": null,
   "id": "92f12346",
   "metadata": {},
   "outputs": [],
   "source": [
    "from django.contrib.auth.views import LoginView, LogoutView\n",
    "\n",
    "urlpatterns = [\n",
    "    path('admin/', admin.site.urls),\n",
    "    path('', LandingPageView.as_view(), name = 'landing-page'),\n",
    "    path('leads/',  include('leads.urls', namespace=\"leads\")),\n",
    "    path('login/', LoginView.as_view(), name='login'),\n",
    "    path('logout/', LogoutView.as_view(), name = 'logout'),\n",
    "]"
   ]
  },
  {
   "cell_type": "markdown",
   "id": "f80e8d3a",
   "metadata": {},
   "source": [
    "if setup correct, on signing in superuser, will redirect to http://127.0.0.1:8000/accounts/profile/"
   ]
  },
  {
   "cell_type": "markdown",
   "id": "fe636ff5",
   "metadata": {},
   "source": [
    "settings.py"
   ]
  },
  {
   "cell_type": "code",
   "execution_count": null,
   "id": "0354810f",
   "metadata": {},
   "outputs": [],
   "source": [
    "# change redirect to /leads instead of http://127.0.0.1:8000/accounts/profile/\n",
    "LOGIN_REDIRECT_URL= '/leads'"
   ]
  },
  {
   "cell_type": "markdown",
   "id": "9da74c3c",
   "metadata": {},
   "source": [
    "templates/navbar.html"
   ]
  },
  {
   "cell_type": "code",
   "execution_count": null,
   "id": "4c8ef984",
   "metadata": {},
   "outputs": [],
   "source": [
    "{% if not request.user.is_authenticated %}\n",
    "    <a> Signup </a>\n",
    "{% endif %}"
   ]
  },
  {
   "cell_type": "markdown",
   "id": "31f4aa4b",
   "metadata": {},
   "source": [
    "### SignupView"
   ]
  },
  {
   "cell_type": "markdown",
   "id": "3fdadd6b",
   "metadata": {},
   "source": [
    "- no default signup view\n",
    "- has default from django.contrib.auth.forms import UserCreationForm, UsernameField"
   ]
  },
  {
   "cell_type": "markdown",
   "id": "2b67e4f8",
   "metadata": {},
   "source": [
    "leads/views.py"
   ]
  },
  {
   "cell_type": "code",
   "execution_count": null,
   "id": "d39a0fa9",
   "metadata": {},
   "outputs": [],
   "source": [
    "from django.views import generic\n",
    "\n",
    "class SignupView(generic.CreateView):\n",
    "    template_name = 'registration/signup.html'\n",
    "    form_class = CustomUserCreationForm\n",
    "\n",
    "    def get_success_url(self):\n",
    "        return reverse('landing-page')"
   ]
  },
  {
   "cell_type": "markdown",
   "id": "4f87756e",
   "metadata": {},
   "source": [
    "forms.py"
   ]
  },
  {
   "cell_type": "markdown",
   "id": "fbf49180",
   "metadata": {},
   "source": [
    "- can see from django contrib the default User model django uses\n",
    "- need to create CustomUserCreationForm as auth.User swapped for leads.User\n",
    "    - we want to point to our own User model instead of using the Django default User model"
   ]
  },
  {
   "cell_type": "code",
   "execution_count": null,
   "id": "2e6e0fb6",
   "metadata": {},
   "outputs": [],
   "source": [
    "from django.contrib.auth.forms import UserCreationForm, UsernameField\n",
    "from django.contrib.auth import get_user_model\n",
    "\n",
    "\n",
    "User = get_user_model()\n",
    "\n",
    "class CustomUserCreationForm(UserCreationForm):\n",
    "    class Meta:\n",
    "        model = User\n",
    "        fields= (\"username\",)\n",
    "        field_classes = {'username': UsernameField}"
   ]
  },
  {
   "cell_type": "markdown",
   "id": "15e15ebd",
   "metadata": {},
   "source": [
    "## Permissions mixins"
   ]
  },
  {
   "cell_type": "markdown",
   "id": "2c7ed3c0",
   "metadata": {},
   "source": [
    "leads/views.py\n",
    "- add LoginRequiredMixin to all the views"
   ]
  },
  {
   "cell_type": "code",
   "execution_count": null,
   "id": "426546ea",
   "metadata": {},
   "outputs": [],
   "source": [
    "from django.contrib.auth.mixins import LoginRequiredMixin\n",
    "\n",
    "class LeadDetailView(LoginRequiredMixin, generic.DetailView):\n",
    "    template_name = 'leads/lead_detail.html'\n",
    "    queryset = Lead.objects.all()\n",
    "    context_object_name = 'lead'"
   ]
  },
  {
   "cell_type": "code",
   "execution_count": null,
   "id": "e568a7ca",
   "metadata": {},
   "outputs": [],
   "source": []
  }
 ],
 "metadata": {
  "kernelspec": {
   "display_name": "Python 3",
   "language": "python",
   "name": "python3"
  },
  "language_info": {
   "codemirror_mode": {
    "name": "ipython",
    "version": 3
   },
   "file_extension": ".py",
   "mimetype": "text/x-python",
   "name": "python",
   "nbconvert_exporter": "python",
   "pygments_lexer": "ipython3",
   "version": "3.8.5"
  }
 },
 "nbformat": 4,
 "nbformat_minor": 5
}
