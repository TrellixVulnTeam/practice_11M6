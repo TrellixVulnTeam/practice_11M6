{
    "cells": [
        {
            "cell_type": "markdown",
            "metadata": {
                "nbgrader": {
                    "grade": false,
                    "locked": true,
                    "solution": false
                },
                "editable": false,
                "deletable": false
            },
            "source": [
                "# Problem 10: Political Network Connections\n",
                "\n",
                "In this problem, you will analyze the network connections and strength between all persons and organizations in the *Trump World* using a combination of hash tables (i.e., dictionaries) and pandas dataframe.  "
            ]
        },
        {
            "cell_type": "markdown",
            "metadata": {
                "nbgrader": {
                    "grade": false,
                    "locked": true,
                    "solution": false
                },
                "editable": false,
                "deletable": false
            },
            "source": [
                "## The dataset\n",
                "\n",
                "The dataset for this problem is built from public records, news reports, and other sources on the Trump family, his Cabinet picks, and top advisers - more than 1,500 people and organizations altogether. \n",
                "\n",
                "Each row represents a connection between a person and an organization (e.g., The Trump Organization Inc. and Donald J. Trump), a person and another person (e.g., Donald J. Trump and Linda McMahon), or two organizations (e.g., Bedford Hills Corp. and Seven Springs LLC).\n",
                "\n",
                "Source: https:\/\/www.buzzfeednews.com\/article\/johntemplon\/help-us-map-trumpworld\n",
                "\n",
                "Before starting, please run the following cell to set up the environment and import the data to `Network`."
            ]
        },
        {
            "cell_type": "code",
            "execution_count": null,
            "metadata": {
                "nbgrader": {
                    "grade": false,
                    "locked": true,
                    "solution": false
                },
                "editable": false,
                "deletable": false
            },
            "outputs": [],
            "source": [
                "import math\n",
                "import pandas as pd\n",
                "import numpy as np\n",
                "from collections import defaultdict\n",
                "\n",
                "Network = pd.read_csv(\".\/resource\/asnlib\/publicdata\/network\/network.csv\", encoding='latin-1' )\n",
                "assert len(Network) == 3380\n",
                "Network.head()"
            ]
        },
        {
            "cell_type": "markdown",
            "metadata": {
                "nbgrader": {
                    "grade": false,
                    "locked": true,
                    "solution": false
                },
                "editable": false,
                "deletable": false
            },
            "source": [
                "**Exercise 0** (1 points). Create a subset of the data frame named `Network_sub`, keeping only records where `Entity B` contains the keyword \"TRUMP\" (not case sensitive)."
            ]
        },
        {
            "cell_type": "code",
            "execution_count": null,
            "metadata": {
                "collapsed": true
            },
            "outputs": [],
            "source": [
                "# Store the subset in Network_sub\n",
                "###\n",
                "### YOUR CODE HERE\n",
                "###\n"
            ]
        },
        {
            "cell_type": "code",
            "execution_count": null,
            "metadata": {
                "nbgrader": {
                    "grade": true,
                    "grade_id": "test_subset",
                    "locked": true,
                    "points": "1",
                    "solution": false
                },
                "editable": false,
                "deletable": false
            },
            "outputs": [],
            "source": [
                "# Test cell: `test_subset`\n",
                "\n",
                "assert type(Network_sub)==pd.DataFrame, \"Your subset is not a panda dataframe\"\n",
                "assert list(Network_sub)==['Entity A Type','Entity A','Entity B Type','Entity B','Connection_Strength'], \"Your subset columns are not consistent with the master dataset\"\n",
                "assert len(Network_sub)==648, \"The length of your subset is not correct\"\n",
                "\n",
                "test = Network_sub.sort_values(by='Connection_Strength')\n",
                "test.reset_index(drop=True, inplace=True)\n",
                "assert test.loc[0,'Connection_Strength']==0.001315204\n",
                "assert test.loc[200,'Connection_Strength']==0.312599997\n",
                "assert test.loc[400,'Connection_Strength']==0.610184514\n",
                "assert test.loc[647,'Connection_Strength']==0.996641965\n",
                "\n",
                "print(\"\\n(Passed.)\")"
            ]
        },
        {
            "cell_type": "markdown",
            "metadata": {
                "nbgrader": {
                    "grade": false,
                    "locked": true,
                    "solution": false
                },
                "editable": false,
                "deletable": false
            },
            "source": [
                "Now, let's take a look at part of the `Network_sub` data."
            ]
        },
        {
            "cell_type": "code",
            "execution_count": null,
            "metadata": {
                "nbgrader": {
                    "grade": false,
                    "locked": true,
                    "solution": false
                },
                "editable": false,
                "deletable": false
            },
            "outputs": [],
            "source": [
                "Network_sub.iloc[25:36]"
            ]
        },
        {
            "cell_type": "markdown",
            "metadata": {
                "nbgrader": {
                    "grade": false,
                    "locked": true,
                    "solution": false
                },
                "editable": false,
                "deletable": false
            },
            "source": [
                "**Exercise 1** (4 points). Write a function \n",
                "\n",
                "```python\n",
                "def Connection_Strength(Network_sub, Entity_B_Type)\n",
                "```\n",
                "\n",
                "that takes two inputs\n",
                "\n",
                "1. `Network_sub` is the dataset you get from exercise 0\n",
                "2. `Entity_B_Type` can take two values: either `Person` or `Organization`\n",
                "\n",
                "and for every entity A that is connected to entity B, based on the type of entity B, returns a nested dictionary (i.e. dictionary of dictionaries) of the form:\n",
                "\n",
                "```python \n",
                "{Entity A: {Entity B: Connection_Strength, Entity B: Connection_Strength}, ... }```\n",
                "\n",
                "For example: for entity A that is connected to entity B of type person, the function will return something like the following: \n",
                "\n",
                "```python\n",
                "{'DONALD J. TRUMP': {'DONALD TRUMP JR.': 0.453990548,\n",
                "  'ERIC TRUMP': 0.468002101,\n",
                "  'IVANKA TRUMP': 0.773874808,\n",
                "  'MARYANNE TRUMP BARRY': 0.330120053,\n",
                "  'MELANIA TRUMP': 0.5171444000000001},\n",
                " 'DONALD J. TRUMP FOR PRESIDENT, INC.': {'DONALD J. TRUMP': 0.377887355},\n",
                " 'DONALD TRUMP JR.': {'ERIC TRUMP': 0.405052388, 'VANESSA TRUMP': 0.025756815},\n",
                " 'GRACE MURDOCH': {'IVANKA TRUMP': 0.966637541},\n",
                " 'IVANKA M. TRUMP BUSINESS TRUST': {'IVANKA TRUMP': 0.141785871}, ...}```"
            ]
        },
        {
            "cell_type": "code",
            "execution_count": null,
            "metadata": {
                "collapsed": true
            },
            "outputs": [],
            "source": [
                "def Connection_Strength(Network_sub, Entity_B_Type):\n",
                "    assert type(Entity_B_Type) == str\n",
                "    assert Entity_B_Type in ['Person', 'Organization']\n",
                "    ###\n",
                "    ### YOUR CODE HERE\n",
                "    ###\n"
            ]
        },
        {
            "cell_type": "code",
            "execution_count": null,
            "metadata": {
                "nbgrader": {
                    "grade": true,
                    "grade_id": "Connection_Strength",
                    "locked": true,
                    "points": "4",
                    "solution": false
                },
                "editable": false,
                "deletable": false
            },
            "outputs": [],
            "source": [
                "# Test Cell: `Connection_Strength`\n",
                "\n",
                "# Create a dictonary 'Person' for entity B of type person\n",
                "Person = Connection_Strength(Network_sub, 'Person')\n",
                "# Create a dictionary 'Organization' for entity B of type organization\n",
                "Organization = Connection_Strength(Network_sub, 'Organization')\n",
                "\n",
                "assert type(Person)==dict or defaultdict, \"Your function does not return a dictionary\"\n",
                "assert len(Person)==17, \"Your result is wrong for entity B of type person\"\n",
                "assert len(Organization)==296, \"Your result is wrong for entity B of type organization\"\n",
                "\n",
                "assert Person['DONALD J. TRUMP']=={'DONALD TRUMP JR.': 0.453990548,'ERIC TRUMP': 0.468002101,'IVANKA TRUMP': 0.773874808,\n",
                "  'MARYANNE TRUMP BARRY': 0.330120053,'MELANIA TRUMP': 0.5171444000000001}, \"Wrong result\"\n",
                "assert Person['DONALD J. TRUMP FOR PRESIDENT, INC.']=={'DONALD J. TRUMP': 0.377887355}, \"Wrong result\"\n",
                "assert Person['WENDI DENG MURDOCH']=={'IVANKA TRUMP': 0.669636181}, \"Wrong result\"\n",
                "\n",
                "assert Organization['401 MEZZ VENTURE LLC']=={'TRUMP CHICAGO RETAIL LLC': 0.85298544}, \"Wrong result\"\n",
                "assert Organization['ACE ENTERTAINMENT HOLDINGS INC']=={'TRUMP CASINOS INC.': 0.202484568,'TRUMP TAJ MAHAL INC.': 0.48784823299999996}, \"Wrong result\"\n",
                "assert Organization['ANDREW JOBLON']=={'THE ERIC TRUMP FOUNDATION': 0.629688777}, \"Wrong result\"\n",
                "\n",
                "print(\"\\n(Passed.)\")"
            ]
        },
        {
            "cell_type": "markdown",
            "metadata": {
                "nbgrader": {
                    "grade": false,
                    "locked": true,
                    "solution": false
                },
                "editable": false,
                "deletable": false
            },
            "source": [
                "**Exercise 2** (1 point). For the dictionary `Organization` **created in the above test cell**, create another dictionary `Organization_avg` which for every entity A gives the average connection strength (i.e., the average of nested dictionary values). `Organization_avg` should be in the following form:\n",
                "```python\n",
                "{Entity A: avg_Connection_Strength, Entity A: avg_Connection_Strength, ... }```\n"
            ]
        },
        {
            "cell_type": "code",
            "execution_count": null,
            "metadata": {
                "collapsed": true
            },
            "outputs": [],
            "source": [
                "###\n",
                "### YOUR CODE HERE\n",
                "###\n"
            ]
        },
        {
            "cell_type": "code",
            "execution_count": null,
            "metadata": {
                "nbgrader": {
                    "grade": true,
                    "grade_id": "Organization_avg",
                    "locked": true,
                    "points": "1",
                    "solution": false
                },
                "editable": false,
                "deletable": false
            },
            "outputs": [],
            "source": [
                "# Test Cell: `Organization_avg`\n",
                "assert type(Organization_avg)==dict or defaultdict, \"Organization_avg is not a dictionary\"\n",
                "assert len(Organization_avg)==len(Organization)\n",
                "\n",
                "for k_, v_ in {'401 MEZZ VENTURE LLC': 0.85298544,\n",
                "               'DJT HOLDINGS LLC': 0.5855800477222223,\n",
                "               'DONALD J. TRUMP': 0.4878277050144927,\n",
                "               'JAMES BURNHAM': 0.187474088}.items():\n",
                "    print(k_, Organization_avg[k_], v_)\n",
                "    assert math.isclose(Organization_avg[k_], v_, rel_tol=4e-15*len(Organization[k_])), \\\n",
                "           \"Wrong result for '{}': Expected {}, got {}\".format(k_, v_, Organization_avg[k_])\n",
                "\n",
                "print(\"\\n(Passed.)\")"
            ]
        },
        {
            "cell_type": "markdown",
            "metadata": {
                "nbgrader": {
                    "grade": false,
                    "locked": true,
                    "solution": false
                },
                "editable": false,
                "deletable": false
            },
            "source": [
                "**Exercise 3** (4 points). Based on the `Organization_avg` dictionary you just created, determine which organizations have an average connection strength that is strictly greater than a given threshold, `THRESHOLD` (defined in the code cell below). Then, create a new data frame named `Network_strong` that has a subset of the rows of `Network_sub` whose `Entity A` values match these organizations **and** whose `\"Entity B Type\"` equals `\"Organization\"`."
            ]
        },
        {
            "cell_type": "code",
            "execution_count": null,
            "metadata": {
                "collapsed": true
            },
            "outputs": [],
            "source": [
                "THRESHOLD = 0.5\n",
                "###\n",
                "### YOUR CODE HERE\n",
                "###\n"
            ]
        },
        {
            "cell_type": "code",
            "execution_count": null,
            "metadata": {
                "nbgrader": {
                    "grade": true,
                    "grade_id": "Network_strong",
                    "locked": true,
                    "points": "4",
                    "solution": false
                },
                "editable": false,
                "deletable": false
            },
            "outputs": [],
            "source": [
                "# Test Cell: `Network_strong`\n",
                "assert type(Network_strong)==pd.DataFrame, \"Network_strong is not a panda dataframe\"\n",
                "assert list(Network_strong)==['Entity A Type','Entity A','Entity B Type','Entity B','Connection_Strength'], \"Your Network_strong columns are not consistent with the master dataset\"\n",
                "assert len(Network_strong)==194, \"The length of your Network_strong is not correct. Correct length should be 194.\"\n",
                "test2 = Network_strong.sort_values(by='Connection_Strength')\n",
                "test2.reset_index(drop=True, inplace=True)\n",
                "assert math.isclose(test2.loc[0, 'Connection_Strength'], 0.039889119, rel_tol=1e-13)\n",
                "assert math.isclose(test2.loc[100, 'Connection_Strength'], 0.744171895, rel_tol=1e-13)\n",
                "assert math.isclose(test2.loc[193, 'Connection_Strength'], 0.996641965, rel_tol=1e-13)\n",
                "\n",
                "print(\"\\n(Passed.)\")"
            ]
        },
        {
            "cell_type": "markdown",
            "metadata": {
                "collapsed": true,
                "nbgrader": {
                    "grade": false,
                    "locked": true,
                    "solution": false
                },
                "editable": false,
                "deletable": false
            },
            "source": [
                "**Fin!** Remember to test your solutions by running them as the autograder will: restart the kernel and run all cells from \"top-to-bottom.\" Also remember to submit to the autograder; otherwise, you will **not** get credit for your hard work!"
            ]
        }
    ],
    "metadata": {
        "kernel_info": {
            "name": "python3"
        },
        "kernelspec": {
            "display_name": "Python 3.7",
            "language": "python",
            "name": "python37"
        },
        "language_info": {
            "codemirror_mode": {
                "name": "ipython",
                "version": 3
            },
            "file_extension": ".py",
            "mimetype": "text\/x-python",
            "name": "python",
            "nbconvert_exporter": "python",
            "pygments_lexer": "ipython3",
            "version": "3.7.5"
        },
        "nteract": {
            "version": "0.11.9"
        }
    },
    "nbformat": 4,
    "nbformat_minor": 2
}