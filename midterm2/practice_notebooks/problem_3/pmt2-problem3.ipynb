{
    "cells": [
        {
            "cell_type": "markdown",
            "metadata": {
                "nbgrader": {
                    "grade": false,
                    "locked": true,
                    "solution": false
                },
                "editable": false,
                "deletable": false
            },
            "source": [
                "**Important note**! Before you turn in this lab notebook, make sure everything runs as expected:\n",
                "\n",
                "- First, restart the kernel -- in the menubar, select Kernel \u2192 Restart.\n",
                "- Then run all cells -- in the menubar, select Cell \u2192 Run All.\n",
                "\n",
                "Make sure you fill in any place that says YOUR CODE HERE or \"YOUR ANSWER HERE.\""
            ]
        },
        {
            "cell_type": "markdown",
            "metadata": {
                "nbgrader": {
                    "grade": false,
                    "locked": true,
                    "solution": false
                },
                "editable": false,
                "deletable": false
            },
            "source": [
                "# Problem 3: Movie Revenue Analysis"
            ]
        },
        {
            "cell_type": "markdown",
            "metadata": {
                "nbgrader": {
                    "grade": false,
                    "locked": true,
                    "solution": false
                },
                "editable": false,
                "deletable": false
            },
            "source": [
                "In this problem you are required to get your hands dirty with a (fairly clean) dataset. It contains information for about 5000 Hollywood movies. We will try to find how the movie revenue are related with budgets, ratings and genres.\n",
                "\n",
                "This dataset is sourced from https:\/\/www.kaggle.com\/makray\/tmdb-5000-movies\/data.\n",
                "\n",
                "The original source for the data is the movie database is https:\/\/www.themoviedb.org\n",
                "\n",
                "Let's start by inspecting the dataset."
            ]
        },
        {
            "cell_type": "code",
            "execution_count": null,
            "metadata": {
                "inputHidden": false,
                "outputHidden": false
            },
            "outputs": [],
            "source": [
                "from cse6040utils import download_all\n",
                "datasets = {'tmdb_5000_movies.csv': '64346a71897b5741d553d34b86088603'}\n",
                "datapaths = download_all(datasets, local_suffix=\"tmdb\/\", url_suffix=\"tmdb\/\")"
            ]
        },
        {
            "cell_type": "code",
            "execution_count": null,
            "metadata": {
                "nbgrader": {
                    "grade": false,
                    "locked": true,
                    "solution": false
                },
                "editable": false,
                "deletable": false
            },
            "outputs": [],
            "source": [
                "import pandas as pd\n",
                "from IPython.display import display\n",
                "import ast\n",
                "\n",
                "# Import the dataset\n",
                "data = pd.read_csv(datapaths[\"tmdb_5000_movies.csv\"])\n",
                "\n",
                "# Display the data\n",
                "display(data.head())"
            ]
        },
        {
            "cell_type": "markdown",
            "metadata": {
                "nbgrader": {
                    "grade": false,
                    "locked": true,
                    "solution": false
                },
                "editable": false,
                "deletable": false
            },
            "source": [
                "Here are the available variables:"
            ]
        },
        {
            "cell_type": "code",
            "execution_count": null,
            "metadata": {
                "nbgrader": {
                    "grade": false,
                    "locked": true,
                    "solution": false
                },
                "scrolled": true,
                "editable": false,
                "deletable": false
            },
            "outputs": [],
            "source": [
                "list(data.columns)"
            ]
        },
        {
            "cell_type": "markdown",
            "metadata": {
                "nbgrader": {
                    "grade": false,
                    "locked": true,
                    "solution": false
                },
                "editable": false,
                "deletable": false
            },
            "source": [
                "That's a lot of variables! How many have missing values?"
            ]
        },
        {
            "cell_type": "markdown",
            "metadata": {
                "nbgrader": {
                    "grade": false,
                    "locked": true,
                    "solution": false
                },
                "editable": false,
                "deletable": false
            },
            "source": [
                "**Exercise 0** (1 point). Write a function,\n",
                "\n",
                "```python\n",
                "    def find_missing_vals(df, colname):\n",
                "        ...\n",
                "```\n",
                "\n",
                "which should return the number of missing values given a dataframe `df` and column name `colname`.\n",
                "\n",
                "For example, observe that the row at offset 15 has a `NaN` in the `homepage` field:"
            ]
        },
        {
            "cell_type": "code",
            "execution_count": null,
            "metadata": {
                "nbgrader": {
                    "grade": false,
                    "locked": true,
                    "solution": false
                },
                "editable": false,
                "deletable": false
            },
            "outputs": [],
            "source": [
                "data.iloc[15]"
            ]
        },
        {
            "cell_type": "markdown",
            "metadata": {
                "nbgrader": {
                    "grade": false,
                    "locked": true,
                    "solution": false
                },
                "editable": false,
                "deletable": false
            },
            "source": [
                "Therefore, a call to `find_missing_vals(data, 'homepage')` should include this row in its returned count."
            ]
        },
        {
            "cell_type": "code",
            "execution_count": null,
            "metadata": {
                "collapsed": true,
                "nbgrader": {
                    "grade": false,
                    "grade_id": "Exercise0_response",
                    "locked": false,
                    "solution": true
                },
                "scrolled": true
            },
            "outputs": [],
            "source": [
                "def find_missing_vals(df, colname):\n",
                "    ###\n",
                "    ### YOUR CODE HERE\n",
                "    ###\n"
            ]
        },
        {
            "cell_type": "code",
            "execution_count": null,
            "metadata": {
                "nbgrader": {
                    "grade": true,
                    "grade_id": "exercise0",
                    "locked": true,
                    "points": "1",
                    "solution": false
                },
                "editable": false,
                "deletable": false
            },
            "outputs": [],
            "source": [
                "# Test Cell: Exercise 0\n",
                "\n",
                "col_null = {'budget': 0,\n",
                " 'genres': 0,\n",
                " 'homepage': 3091,\n",
                " 'id': 0,\n",
                " 'keywords': 0,\n",
                " 'original_language': 0,\n",
                " 'original_title': 0,\n",
                " 'overview': 3,\n",
                " 'popularity': 0,\n",
                " 'production_companies': 0,\n",
                " 'production_countries': 0,\n",
                " 'release_date': 1,\n",
                " 'revenue': 0,\n",
                " 'runtime': 2,\n",
                " 'spoken_languages': 0,\n",
                " 'status': 0,\n",
                " 'tagline': 844,\n",
                " 'title': 0,\n",
                " 'vote_average': 0,\n",
                " 'vote_count': 0}\n",
                "for col in data.columns:\n",
                "    assert find_missing_vals(data, col) == col_null[col], \"Looks like you don't have the right count for at least one of the columns\"\n",
                "    \n",
                "print(\"\\n(Passed!)\")"
            ]
        },
        {
            "cell_type": "markdown",
            "metadata": {
                "nbgrader": {
                    "grade": false,
                    "locked": true,
                    "solution": false
                },
                "editable": false,
                "deletable": false
            },
            "source": [
                "How many missing values do the columns have?"
            ]
        },
        {
            "cell_type": "code",
            "execution_count": null,
            "metadata": {
                "nbgrader": {
                    "grade": false,
                    "locked": true,
                    "solution": false
                },
                "editable": false,
                "deletable": false
            },
            "outputs": [],
            "source": [
                "for col in data.columns:\n",
                "    if find_missing_vals(data, col):\n",
                "        print(\"{} has {} missing values out of {}\".format(col,find_missing_vals(data,col),len(data)))"
            ]
        },
        {
            "cell_type": "markdown",
            "metadata": {
                "nbgrader": {
                    "grade": false,
                    "locked": true,
                    "solution": false
                },
                "editable": false,
                "deletable": false
            },
            "source": [
                "It looks like there are not any missing values except in these 5 columns. Let's plot a histogram of the budgets, revenues and vote counts."
            ]
        },
        {
            "cell_type": "code",
            "execution_count": null,
            "metadata": {
                "nbgrader": {
                    "grade": false,
                    "locked": true,
                    "solution": false
                },
                "editable": false,
                "deletable": false
            },
            "outputs": [],
            "source": [
                "import matplotlib.pyplot as plt\n",
                "import numpy as np\n",
                "\n",
                "%matplotlib inline\n",
                "\n",
                "plt.hist(x = data['budget'],bins = 50)\n",
                "plt.ylabel('Number of movies')\n",
                "plt.xlabel('Budget');"
            ]
        },
        {
            "cell_type": "code",
            "execution_count": null,
            "metadata": {
                "nbgrader": {
                    "grade": false,
                    "locked": true,
                    "solution": false
                },
                "editable": false,
                "deletable": false
            },
            "outputs": [],
            "source": [
                "plt.hist(x = data['revenue'],bins = 50)\n",
                "plt.ylabel('Number of movies')\n",
                "plt.xlabel('Revenue');"
            ]
        },
        {
            "cell_type": "code",
            "execution_count": null,
            "metadata": {
                "nbgrader": {
                    "grade": false,
                    "locked": true,
                    "solution": false
                },
                "editable": false,
                "deletable": false
            },
            "outputs": [],
            "source": [
                "plt.hist(x = data['vote_count'],bins = 50)\n",
                "plt.ylabel('Number of movies')\n",
                "plt.xlabel('Number of votes ');"
            ]
        },
        {
            "cell_type": "markdown",
            "metadata": {
                "nbgrader": {
                    "grade": false,
                    "locked": true,
                    "solution": false
                },
                "editable": false,
                "deletable": false
            },
            "source": [
                "Observe the following:\n",
                "\n",
                "* There is a huge spike in near zero. The budget and revenue values are likely zero. In the industry from which these data are gathered, budget and revenue values below $100,000 don't make much sense.\n",
                "* We should also have a minimum vote count to consider the vote average an effective way to measure the quality of a movie. Let's filter the data to get more rows that have \"good\" budget, revenue and user ratings data."
            ]
        },
        {
            "cell_type": "markdown",
            "metadata": {
                "nbgrader": {
                    "grade": false,
                    "locked": true,
                    "solution": false
                },
                "editable": false,
                "deletable": false
            },
            "source": [
                "**Exercise 1** (2 points): Write some code to create a new pandas dataframe **filtered_data** that implements the following\n",
                "\n",
                "0. Keep only the columns of interest for our analysis i.e. id, budget, revenue, vote_average, vote_count, genres, original_title, popularity\n",
                "1. keep rows with budget > 100,000\n",
                "2. keep rows with revenue > 100,000\n",
                "2. Keep movies with number of votes (vote_count) > 20\n"
            ]
        },
        {
            "cell_type": "code",
            "execution_count": null,
            "metadata": {
                "nbgrader": {
                    "grade": false,
                    "grade_id": "Exercise1_response",
                    "locked": false,
                    "solution": true
                },
                "scrolled": false
            },
            "outputs": [],
            "source": [
                "filtered_data = pd.DataFrame()\n",
                "\n",
                "###\n",
                "### YOUR CODE HERE\n",
                "###\n",
                "\n",
                "# Display the data and count the number of movies remaining\n",
                "print(\"Rows remaining: {}\".format(len(filtered_data)))\n",
                "display(filtered_data.head())"
            ]
        },
        {
            "cell_type": "code",
            "execution_count": null,
            "metadata": {
                "nbgrader": {
                    "grade": true,
                    "grade_id": "Exercise1",
                    "locked": true,
                    "points": "2",
                    "solution": false
                },
                "editable": false,
                "deletable": false
            },
            "outputs": [],
            "source": [
                "# Test cell: Exercise 1\n",
                "\n",
                "columns = ['id','original_title','genres','budget','revenue','vote_average','vote_count','popularity']\n",
                "for col in columns:\n",
                "    assert col in filtered_data.columns, \"You're missing a column\"\n",
                "\n",
                "assert len(filtered_data) == 3065, \"Hmm, your filtered data doesn't have the correct number of rows\"\n",
                "\n",
                "assert min(filtered_data.budget) > 100000, \"Hmm, you have some budget values less the required\"\n",
                "assert min(filtered_data.revenue) > 100000, \"Uh-oh, you have some revenue values less than the required\"\n",
                "assert min(filtered_data.vote_count) > 20, \"some vote_counts are less than required\"\n",
                "\n",
                "\n",
                "print(\"\\n(Passed!)\")"
            ]
        },
        {
            "cell_type": "markdown",
            "metadata": {
                "nbgrader": {
                    "grade": false,
                    "locked": true,
                    "solution": false
                },
                "editable": false,
                "deletable": false
            },
            "source": [
                "Let's look at a paiwise plot for all the numerical variables to see if we see any obvious relationships."
            ]
        },
        {
            "cell_type": "code",
            "execution_count": null,
            "metadata": {
                "nbgrader": {
                    "grade": false,
                    "locked": true,
                    "solution": false
                },
                "editable": false,
                "deletable": false
            },
            "outputs": [],
            "source": [
                "import seaborn as sns\n",
                "sns.pairplot(filtered_data[['revenue','budget','popularity', 'vote_average','vote_count']])"
            ]
        },
        {
            "cell_type": "markdown",
            "metadata": {
                "nbgrader": {
                    "grade": false,
                    "locked": true,
                    "solution": false
                },
                "editable": false,
                "deletable": false
            },
            "source": [
                "It appears that revenue is correlated with budget, popularity and vote count. Let's back this visual analysis with correlation coefficients."
            ]
        },
        {
            "cell_type": "markdown",
            "metadata": {
                "nbgrader": {
                    "grade": false,
                    "locked": true,
                    "solution": false
                },
                "editable": false,
                "deletable": false
            },
            "source": [
                "**Exercise 2** (1 point). Write a function,\n",
                "\n",
                "```python\n",
                "    def corr_coeff(col1, col2):\n",
                "        ...\n",
                "```\n",
                "\n",
                "which takes two **Pandas Series objects** (`col1` and `col2`) as an input and returns their [(Pearson) correlation coefficient](https:\/\/en.wikipedia.org\/wiki\/Correlation_coefficient)."
            ]
        },
        {
            "cell_type": "code",
            "execution_count": null,
            "metadata": {
                "collapsed": true,
                "nbgrader": {
                    "grade": false,
                    "grade_id": "Exercise2_response",
                    "locked": false,
                    "solution": true
                }
            },
            "outputs": [],
            "source": [
                "def corr_coeff(col1,col2):\n",
                "###\n",
                "### YOUR CODE HERE\n",
                "###\n"
            ]
        },
        {
            "cell_type": "markdown",
            "metadata": {
                "nbgrader": {
                    "grade": false,
                    "locked": true,
                    "solution": false
                },
                "editable": false,
                "deletable": false
            },
            "source": [
                "Let's check what are the correlation coefficients between the different variables we have"
            ]
        },
        {
            "cell_type": "code",
            "execution_count": null,
            "metadata": {
                "nbgrader": {
                    "grade": true,
                    "grade_id": "Exercise2",
                    "locked": true,
                    "points": "1",
                    "solution": false
                },
                "editable": false,
                "deletable": false
            },
            "outputs": [],
            "source": [
                "# Test Cell: Exercise 2\n",
                "import numpy.testing as npt\n",
                "\n",
                "npt.assert_almost_equal(corr_coeff(filtered_data.revenue, filtered_data.vote_count), 0.751209931882, decimal=5)\n",
                "npt.assert_almost_equal(corr_coeff(filtered_data.revenue, filtered_data.budget), 0.699955328476, decimal=5)\n",
                "npt.assert_almost_equal(corr_coeff(filtered_data.revenue, filtered_data.popularity), 0.593541205556, decimal=5)\n",
                "npt.assert_almost_equal(corr_coeff(filtered_data.revenue, filtered_data.vote_average), 0.181083687401, decimal=5)\n",
                "\n",
                "print(\"\\n(Passed!)\")"
            ]
        },
        {
            "cell_type": "code",
            "execution_count": null,
            "metadata": {
                "nbgrader": {
                    "grade": false,
                    "locked": true,
                    "solution": false
                },
                "editable": false,
                "deletable": false
            },
            "outputs": [],
            "source": [
                "for col in ['vote_count','budget','popularity','vote_average']:\n",
                "    print(\"correleation coefficient for revenue and {} = {}\".format(col,\n",
                "                                                                    corr_coeff(filtered_data['revenue'],\n",
                "                                                                               filtered_data[col])))"
            ]
        },
        {
            "cell_type": "markdown",
            "metadata": {
                "nbgrader": {
                    "grade": false,
                    "locked": true,
                    "solution": false
                },
                "editable": false,
                "deletable": false
            },
            "source": [
                "This confirms our speculation that budget, popularity, vote_average are highly correlated with the revenue.\n",
                "\n",
                "What about genre -- is it also a driver for movie revenues? And are some genres more popular than others? Let's look at the `genres` column for one specific movie:"
            ]
        },
        {
            "cell_type": "code",
            "execution_count": null,
            "metadata": {
                "nbgrader": {
                    "grade": false,
                    "locked": true,
                    "solution": false
                },
                "editable": false,
                "deletable": false
            },
            "outputs": [],
            "source": [
                "filtered_data['genres'][0]"
            ]
        },
        {
            "cell_type": "markdown",
            "metadata": {
                "nbgrader": {
                    "grade": false,
                    "locked": true,
                    "solution": false
                },
                "editable": false,
                "deletable": false
            },
            "source": [
                "It looks like a movie has multiple genres: each entry of a genre is stored as a list of dictionaries, with each dictionary having a genre ID and name. In the example above, the corresponding movie has 4 genres, namely, _Action_, _Adventure_, _Fantasy_, and _Science Fiction_. Let's clean this up to find average revenue made by a movie in each genre."
            ]
        },
        {
            "cell_type": "markdown",
            "metadata": {
                "nbgrader": {
                    "grade": false,
                    "locked": true,
                    "solution": false
                },
                "editable": false,
                "deletable": false
            },
            "source": [
                "**Instructions for Exercise 3 & 4** (6 points). You need to write some code to create a dataframe named **`avg_revenue_by_genre`** from `filtered_data`. The dataframe should have the following columns:\n",
                "\n",
                "- `'genre'`: a unique identifier in the dataframe\n",
                "- `'average_revenue'`: the average revenue for a genre (see below for instructions on how calculate this value)\n",
                "- `'movie_count'`: the number of movies that list this genre as one of its genres\n",
                "\n",
                "Here is an example of how to calculate the average revenue by genre.\n",
                "\n",
                "- If a movie has multiple genres, split the revenue equally to each assigned genre.\n",
                "\n",
                "For instance, consider the first entry in the row below for _Avatar_, which has 4 genres and a total revenue of $2,787,965,087. Since it is associated with 4 genres, each one will get a 1\/4 share of the revenue, $2,787,965,087\/4 = $696,991,271.75.\n",
                "\n",
                "- So, consider this input:\n",
                "\n",
                "|original_title|genres|revenue|\n",
                "|--------------|------|-------|\n",
                "|Avatar|[{\"id\": 28, \"name\": \"Action\"}, {\"id\": 12, \"nam...|2787965087|\n",
                "|Spectre|[{\"id\": 28, \"name\": \"Action\"}, {\"id\": 12, \"nam...|880674609|\n",
                "\n",
                "'Avatar'  = {'genre': ['Action', 'Adventure', 'Fantasy', 'Science Fiction'],  'revenue' : 2787965087 } and \n",
                "'Spectre' = {'genre': ['Action', 'Adventure', 'Crime'], 'revenue' : 880674609}\n",
                "\n",
                "Therefore, here is a sample output that you should get.\n",
                "\n",
                "|genre|average_revenue|movie_count|\n",
                "|-----|---------------|-----------|\n",
                "|Action|495274737.375|2|\n",
                "|Adventure|495274737.375|2|\n",
                "|Fantasy|696991271.75|1|\n",
                "|Science Fiction|696991271.75|1|\n",
                "|Crime|293558203|1|\n",
                "\n",
                "The average_revenue for Action = ```mean(2787965087\/4,880674609\/3)```\n",
                "The average_revenue for Adventure = ```mean(2787965087\/4,880674609\/3)```\n",
                "The average_revenue for Fantasy = ```mean(2787965087\/4)```\n",
                "The average_revenue for Science fiction = ```mean(2787965087\/4)```\n",
                "The average_revenue for Crime = ```mean(880674609\/3)```\n",
                "\n",
                "*Hints*:\n",
                "1. The type of entries in genres in filtered data is currently `'str'`. It will be easier to first convert the entries to a list of dictionaries. (Try searching for [`ast.literal_eval`](https:\/\/docs.python.org\/3\/library\/ast.html).)\n",
                "2. You can use default dictionaries to add the revenue contribution from each movie to each genre.\n",
                "3. You can use default dictionaries to count the number of movies in each genre.\n",
                "4. For each genre, using results from 2 and 3, $$average\\_revenue = \\frac{(total\\_revenue)}{(movie\\_count)}$$ \n",
                "\n",
                "To help you solve this problem, we've broken it up into two parts."
            ]
        },
        {
            "cell_type": "markdown",
            "metadata": {
                "nbgrader": {
                    "grade": false,
                    "locked": true,
                    "solution": false
                },
                "editable": false,
                "deletable": false
            },
            "source": [
                "**Exercise 3** (3 points) Let's consider the first part of this problem. Create two dictionaries, **`revenue_by_genre`** and **`movie_count_by_genre`**, that contain a genre's total revenue and genre's movie count, respectively.\n",
                "\n",
                "- **`revenue_by_genre`**: the key is a genre's name, value is the genre's total revenue.\n",
                "- **`movie_count_by_genre`**: the key is the genre's name and value is the number of movies associated with the genre."
            ]
        },
        {
            "cell_type": "code",
            "execution_count": null,
            "metadata": {},
            "outputs": [],
            "source": [
                "ast.literal_eval(filtered_data.loc[2,\"genres\"])"
            ]
        },
        {
            "cell_type": "code",
            "execution_count": null,
            "metadata": {
                "nbgrader": {
                    "grade": false,
                    "grade_id": "Exercise3_response",
                    "locked": false,
                    "solution": true
                },
                "scrolled": true
            },
            "outputs": [],
            "source": [
                "from collections import defaultdict # Hint\n",
                "import ast # Hint\n",
                "\n",
                "revenue_by_genre = defaultdict(float)\n",
                "movie_count_by_genre = defaultdict(int)\n",
                "###\n",
                "### YOUR CODE HERE\n",
                "###\n",
                "\n",
                "print(revenue_by_genre)\n",
                "print()\n",
                "print(movie_count_by_genre)"
            ]
        },
        {
            "cell_type": "code",
            "execution_count": null,
            "metadata": {
                "nbgrader": {
                    "grade": true,
                    "grade_id": "Exercise3",
                    "locked": true,
                    "points": "3",
                    "solution": false
                },
                "editable": false,
                "deletable": false
            },
            "outputs": [],
            "source": [
                "## Test cell: Exercise 3\n",
                "assert isinstance(revenue_by_genre, dict), \"type of revenue_by_genre is not dict\"\n",
                "assert isinstance(movie_count_by_genre, dict), \"type of movie_count_by_genre is not dict\"\n",
                "\n",
                "all_revs__ = sum(revenue_by_genre.values())\n",
                "all_revs_true__ = 390406088153.0\n",
                "rel_delta_all_revs__ = (all_revs__ - all_revs_true__) \/ all_revs_true__\n",
                "assert abs(rel_delta_all_revs__) <= 1e-7, \\\n",
                "       \"Your total sum of revenue: {} does not match the instructor's: {}\".format(all_revs__, all_revs_true__)\n",
                "\n",
                "all_movies__ = sum(movie_count_by_genre.values())\n",
                "assert all_movies__ == 8188, \"Your total sum of movie count, {}, does not match the instructor's sum, {}.\".format(all_movies__, 8188)\n",
                "\n",
                "assert len(revenue_by_genre) & len(movie_count_by_genre) == 18\n",
                "genres = ['Mystery', 'Romance', 'History', 'Family', 'Science Fiction', \n",
                "          'Horror', 'Crime', 'Drama', 'Fantasy', 'Animation', 'Music', 'Adventure',\n",
                "          'Action', 'Comedy', 'Documentary', 'War', 'Thriller', 'Western']\n",
                "\n",
                "for gen in genres:\n",
                "    assert gen in revenue_by_genre.keys(), \"{} is not in your revenue_by_genre dictionary\".format(gen)\n",
                "    assert gen in movie_count_by_genre.keys(), \"{} is not in your movie_count_by_genre dictionary\".format(gen)\n",
                "    \n",
                "sample_genres = {'Documentary': [525228204.0, 27],\n",
                "                 'Animation': [16092739561.0, 181],\n",
                "                 'Western': [1448994102.0, 54],\n",
                "                 'Mystery': [8111172141.0, 254]}\n",
                "\n",
                "for gen in sample_genres:\n",
                "    rev__ = revenue_by_genre[gen]\n",
                "    rev_true__ = sample_genres[gen][0]\n",
                "    rel_delta__ = (rev__ - rev_true__) \/ rev_true__\n",
                "    assert abs(rel_delta__) <= 1e-7, \"revenue for {} should be {} but you have {}\".format(gen, rev_true__, rev__)\n",
                "    assert movie_count_by_genre[gen] == sample_genres[gen][1], \"movie count for {} should be {} but you have {}\".format(gen, sample_genres[gen][1], movie_count_by_genre[gen])\n",
                "\n",
                "print(\"\\n(Passed!)\")"
            ]
        },
        {
            "cell_type": "markdown",
            "metadata": {
                "nbgrader": {
                    "grade": false,
                    "locked": true,
                    "solution": false
                },
                "editable": false,
                "deletable": false
            },
            "source": [
                "**Exercise 4** (3 points): Write some code to create a dataframe **`avg_revenue_by_genre`** from `filtered_data`. The dataframe should include the following columns:\n",
                "\n",
                "- `'genre'`: a unique identifier in the dataframe.\n",
                "- `'average_revenue'` : the average revenue for a genre.\n",
                "- `'movie_count'`: the number of movies that list this genre as one of its genres.\n",
                "\n",
                "> *Hint: You can use the dictionaries created in Exercise 3 as a starting point!*"
            ]
        },
        {
            "cell_type": "code",
            "execution_count": null,
            "metadata": {
                "nbgrader": {
                    "grade": false,
                    "grade_id": "Exercise4_response",
                    "locked": false,
                    "solution": true
                }
            },
            "outputs": [],
            "source": [
                "###\n",
                "### YOUR CODE HERE\n",
                "###\n",
                "\n",
                "# print your solution\n",
                "display(average_revenue_by_genre)"
            ]
        },
        {
            "cell_type": "code",
            "execution_count": null,
            "metadata": {
                "nbgrader": {
                    "grade": true,
                    "grade_id": "Exercise4",
                    "locked": true,
                    "points": "3",
                    "solution": false
                },
                "editable": false,
                "deletable": false
            },
            "outputs": [],
            "source": [
                "## Test cell : Exercise 4\n",
                "\n",
                "assert isinstance(average_revenue_by_genre, pd.DataFrame)\n",
                "assert len(average_revenue_by_genre) == len(revenue_by_genre)\n",
                "cols = ['genre', 'average_revenue', 'movie_count']\n",
                "for c in cols:\n",
                "    assert c in average_revenue_by_genre.columns\n",
                "\n",
                "test = average_revenue_by_genre.set_index('genre')\n",
                "for sample in sample_genres:\n",
                "    a__ = test.loc[sample, 'average_revenue']\n",
                "    b__ = sample_genres[sample][0] \/ sample_genres[sample][1]\n",
                "    assert (a__ - b__) \/ a__ <= 1e-7\n",
                "\n",
                "assert sum(average_revenue_by_genre['movie_count']) == 8188, \"Your total sum of movie count: {} does not match the instructor's sum of movie count: {}\".format(sum(movie_count_by_genre.values()), 8188)\n",
                "assert np.isclose(sum(average_revenue_by_genre['movie_count']*average_revenue_by_genre['average_revenue']),\n",
                "                  390406088153.0), \"Your total sum of revenue: {} does not match the instructor's sum of revenue: {}\".format(sum(revenue_by_genre.values()), 390406088153.0)\n",
                "\n",
                "print(\"\\n(Passed!)\")"
            ]
        },
        {
            "cell_type": "markdown",
            "metadata": {
                "nbgrader": {
                    "grade": false,
                    "locked": true,
                    "solution": false
                },
                "editable": false,
                "deletable": false
            },
            "source": [
                "Let's make one last observation, looking specifically at the `average_revenues` by genre."
            ]
        },
        {
            "cell_type": "code",
            "execution_count": null,
            "metadata": {
                "nbgrader": {
                    "grade": false,
                    "locked": true,
                    "solution": false
                },
                "editable": false,
                "deletable": false
            },
            "outputs": [],
            "source": [
                "import seaborn as sns\n",
                "sns.barplot(x=\"average_revenue\", y=\"genre\", data=average_revenue_by_genre.sort_values(['average_revenue'],ascending=False))"
            ]
        },
        {
            "cell_type": "markdown",
            "metadata": {
                "nbgrader": {
                    "grade": false,
                    "locked": true,
                    "solution": false
                },
                "editable": false,
                "deletable": false
            },
            "source": [
                "Genre is indeed associated with revenue. While adventure and action movies have high revenues, documentaries and history movies have lower revenue. What other exploratory analysis can you think of using this dataset?"
            ]
        },
        {
            "cell_type": "markdown",
            "metadata": {
                "nbgrader": {
                    "grade": false,
                    "locked": true,
                    "solution": false
                },
                "editable": false,
                "deletable": false
            },
            "source": [
                "\n",
                "**Fin!** That's the end of this problem. Don't forget to restart and run this notebook from the beginning to verify that it works top-to-bottom before submitting. You can move on to the next problem"
            ]
        }
    ],
    "metadata": {
        "celltoolbar": "Create Assignment",
        "kernel_info": {
            "name": "python3"
        },
        "kernelspec": {
            "display_name": "Python 3.7",
            "language": "python",
            "name": "python37"
        },
        "language_info": {
            "codemirror_mode": {
                "name": "ipython",
                "version": 3
            },
            "file_extension": ".py",
            "mimetype": "text\/x-python",
            "name": "python",
            "nbconvert_exporter": "python",
            "pygments_lexer": "ipython3",
            "version": "3.7.5"
        },
        "nteract": {
            "version": "0.11.9"
        }
    },
    "nbformat": 4,
    "nbformat_minor": 2
}