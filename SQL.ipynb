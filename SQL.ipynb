{
 "cells": [
  {
   "cell_type": "markdown",
   "id": "8ffb610a",
   "metadata": {},
   "source": [
    "# JOINS"
   ]
  },
  {
   "cell_type": "markdown",
   "id": "0cefc7ff",
   "metadata": {},
   "source": [
    "### multiple FROM table1, table2     vs   JOIN \n",
    "https://learnsql.com/blog/joins-vs-multiple-tables-in-from/"
   ]
  }
 ],
 "metadata": {
  "kernelspec": {
   "display_name": "Python 3",
   "language": "python",
   "name": "python3"
  },
  "language_info": {
   "codemirror_mode": {
    "name": "ipython",
    "version": 3
   },
   "file_extension": ".py",
   "mimetype": "text/x-python",
   "name": "python",
   "nbconvert_exporter": "python",
   "pygments_lexer": "ipython3",
   "version": "3.8.5"
  }
 },
 "nbformat": 4,
 "nbformat_minor": 5
}
