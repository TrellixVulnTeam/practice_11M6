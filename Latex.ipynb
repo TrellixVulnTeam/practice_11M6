{
 "cells": [
  {
   "cell_type": "markdown",
   "id": "7343cbaf",
   "metadata": {},
   "source": [
    "## In markdown cell"
   ]
  },
  {
   "cell_type": "markdown",
   "id": "151d8b4f",
   "metadata": {},
   "source": [
    "a) store text within dollar signs $$ "
   ]
  },
  {
   "cell_type": "markdown",
   "id": "d9de0f86",
   "metadata": {},
   "source": [
    "$$c= \\sqrt{a^2 + b^2}$$"
   ]
  },
  {
   "cell_type": "markdown",
   "id": "32ebb28d",
   "metadata": {},
   "source": [
    "b) store text within r'$$'"
   ]
  },
  {
   "cell_type": "markdown",
   "id": "627aa94f",
   "metadata": {},
   "source": [
    "r'$\\sum_{i=0}^\\infty x_i$'"
   ]
  },
  {
   "cell_type": "markdown",
   "id": "7a0b3a83",
   "metadata": {},
   "source": [
    "## In python cell"
   ]
  },
  {
   "cell_type": "code",
   "execution_count": 107,
   "id": "3bf672c3",
   "metadata": {},
   "outputs": [],
   "source": [
    "from IPython.display import display, Math, Latex"
   ]
  },
  {
   "cell_type": "code",
   "execution_count": 108,
   "id": "65f36c9b",
   "metadata": {},
   "outputs": [
    {
     "data": {
      "text/latex": [
       "$\\displaystyle F(k) = \\int_{-\\infty}^{\\infty} f(x) e^{2\\pi i k} dx$"
      ],
      "text/plain": [
       "<IPython.core.display.Math object>"
      ]
     },
     "metadata": {},
     "output_type": "display_data"
    }
   ],
   "source": [
    "display(Math(r'F(k) = \\int_{-\\infty}^{\\infty} f(x) e^{2\\pi i k} dx'))"
   ]
  },
  {
   "cell_type": "markdown",
   "id": "cd283647",
   "metadata": {},
   "source": [
    "## sub/super scripts"
   ]
  },
  {
   "cell_type": "markdown",
   "id": "5bb2bc8e",
   "metadata": {},
   "source": [
    "subscript\n",
    "_"
   ]
  },
  {
   "cell_type": "code",
   "execution_count": 109,
   "id": "f00a230c",
   "metadata": {},
   "outputs": [
    {
     "data": {
      "text/latex": [
       "$\\displaystyle \\alpha_i> \\beta_i$"
      ],
      "text/plain": [
       "<IPython.core.display.Math object>"
      ]
     },
     "metadata": {},
     "output_type": "display_data"
    }
   ],
   "source": [
    "display(Math(r'\\alpha_i> \\beta_i'))"
   ]
  },
  {
   "cell_type": "markdown",
   "id": "685b743b",
   "metadata": {},
   "source": [
    "superscript ^"
   ]
  },
  {
   "cell_type": "code",
   "execution_count": 110,
   "id": "de8571bc",
   "metadata": {},
   "outputs": [
    {
     "data": {
      "text/latex": [
       "$\\displaystyle \\sum_{i=0}^\\infty x_i$"
      ],
      "text/plain": [
       "<IPython.core.display.Math object>"
      ]
     },
     "metadata": {},
     "output_type": "display_data"
    }
   ],
   "source": [
    "display(Math(r'$\\sum_{i=0}^\\infty x_i$'))"
   ]
  },
  {
   "cell_type": "markdown",
   "id": "57ecd730",
   "metadata": {},
   "source": [
    "## fraction, binomials, stacked numbers\n",
    "frac{}{"
   ]
  },
  {
   "cell_type": "code",
   "execution_count": 111,
   "id": "acae978e",
   "metadata": {},
   "outputs": [
    {
     "ename": "SyntaxError",
     "evalue": "invalid syntax (<ipython-input-111-3f5cc98104ad>, line 1)",
     "output_type": "error",
     "traceback": [
      "\u001b[0;36m  File \u001b[0;32m\"<ipython-input-111-3f5cc98104ad>\"\u001b[0;36m, line \u001b[0;32m1\u001b[0m\n\u001b[0;31m    $$\\frac{3}{4} \\binom{3}{4} \\stackrel{3}{4}$$\u001b[0m\n\u001b[0m    ^\u001b[0m\n\u001b[0;31mSyntaxError\u001b[0m\u001b[0;31m:\u001b[0m invalid syntax\n"
     ]
    }
   ],
   "source": [
    "$$\\frac{3}{4} \\binom{3}{4} \\stackrel{3}{4}$$"
   ]
  },
  {
   "cell_type": "markdown",
   "id": "e8d78d8f",
   "metadata": {},
   "source": [
    "$$\\frac{3}{4} \\binom{3}{4} \\stackrel{3}{4}$$"
   ]
  },
  {
   "cell_type": "markdown",
   "id": "9a315da8",
   "metadata": {},
   "source": [
    "nest fractions"
   ]
  },
  {
   "cell_type": "markdown",
   "id": "d1abe0cc",
   "metadata": {},
   "source": [
    "$$ \\frac{1}{x} $$"
   ]
  },
  {
   "cell_type": "markdown",
   "id": "87a31216",
   "metadata": {},
   "source": [
    "## square\n",
    "^"
   ]
  },
  {
   "cell_type": "code",
   "execution_count": 112,
   "id": "5cffe677",
   "metadata": {},
   "outputs": [
    {
     "data": {
      "text/latex": [
       "$\\displaystyle  a^2 + b^2 = c^2 $"
      ],
      "text/plain": [
       "<IPython.core.display.Math object>"
      ]
     },
     "metadata": {},
     "output_type": "display_data"
    }
   ],
   "source": [
    "display(Math(r'$ a^2 + b^2 = c^2 $'))"
   ]
  },
  {
   "cell_type": "markdown",
   "id": "73968774",
   "metadata": {},
   "source": [
    "## sqrt\n",
    "\\sqrt{}"
   ]
  },
  {
   "cell_type": "code",
   "execution_count": 113,
   "id": "deba865d",
   "metadata": {},
   "outputs": [
    {
     "data": {
      "text/latex": [
       "$\\displaystyle  \\sqrt{a^2 + b^2} $"
      ],
      "text/plain": [
       "<IPython.core.display.Math object>"
      ]
     },
     "metadata": {},
     "output_type": "display_data"
    }
   ],
   "source": [
    "display(Math(r'$ \\sqrt{a^2 + b^2} $'))"
   ]
  },
  {
   "cell_type": "markdown",
   "id": "1b2fddd5",
   "metadata": {},
   "source": [
    "## operands and conditions"
   ]
  },
  {
   "cell_type": "code",
   "execution_count": 114,
   "id": "a3196ade",
   "metadata": {},
   "outputs": [
    {
     "data": {
      "text/latex": [
       "$\\displaystyle  x \\geq 0 $"
      ],
      "text/plain": [
       "<IPython.core.display.Math object>"
      ]
     },
     "metadata": {},
     "output_type": "display_data"
    }
   ],
   "source": [
    "display(Math(r'$ x \\geq 0 $'))"
   ]
  },
  {
   "cell_type": "code",
   "execution_count": 115,
   "id": "4524f61e",
   "metadata": {},
   "outputs": [
    {
     "data": {
      "text/latex": [
       "$\\displaystyle  \\forall x \\in \\mathbf{R} $"
      ],
      "text/plain": [
       "<IPython.core.display.Math object>"
      ]
     },
     "metadata": {},
     "output_type": "display_data"
    }
   ],
   "source": [
    "display(Math(r'$ \\forall x \\in \\mathbf{R} $'))"
   ]
  },
  {
   "cell_type": "markdown",
   "id": "0612bb11",
   "metadata": {},
   "source": [
    "## delimiters"
   ]
  },
  {
   "cell_type": "markdown",
   "id": "9b3487b4",
   "metadata": {},
   "source": [
    "use / left and / right to mark start and end of bracket"
   ]
  },
  {
   "cell_type": "markdown",
   "id": "cf7536a5",
   "metadata": {},
   "source": [
    "\\begin{equation*}\n",
    "    1- \\left( \\frac{1}{1-x^2} \\right) ^3\n",
    "\\end{equation*}"
   ]
  },
  {
   "cell_type": "markdown",
   "id": "820d789c",
   "metadata": {},
   "source": [
    "## over under set"
   ]
  },
  {
   "cell_type": "markdown",
   "id": "f5316fd2",
   "metadata": {},
   "source": [
    "overset{} "
   ]
  },
  {
   "cell_type": "markdown",
   "id": "dc86d163",
   "metadata": {},
   "source": [
    "$  \\overset{\\wedge} \\Sigma $"
   ]
  },
  {
   "cell_type": "markdown",
   "id": "cb016c92",
   "metadata": {},
   "source": [
    "$  \\underset{\\wedge} \\Sigma $"
   ]
  },
  {
   "cell_type": "markdown",
   "id": "9935e7a6",
   "metadata": {},
   "source": [
    "## Sets"
   ]
  },
  {
   "cell_type": "markdown",
   "id": "34820e9a",
   "metadata": {},
   "source": [
    "mathbb{}"
   ]
  },
  {
   "cell_type": "markdown",
   "id": "cc497301",
   "metadata": {},
   "source": [
    "$$  x \\in \\mathbb{R} $$"
   ]
  },
  {
   "cell_type": "markdown",
   "id": "a48fcc1a",
   "metadata": {},
   "source": [
    "$$  x \\in \\mathbb{C} $$"
   ]
  },
  {
   "cell_type": "markdown",
   "id": "2b0dee40",
   "metadata": {},
   "source": [
    "## vector"
   ]
  },
  {
   "cell_type": "code",
   "execution_count": 116,
   "id": "5817150d",
   "metadata": {},
   "outputs": [
    {
     "data": {
      "text/latex": [
       "$\\displaystyle  \\vec{ab} $"
      ],
      "text/plain": [
       "<IPython.core.display.Math object>"
      ]
     },
     "metadata": {},
     "output_type": "display_data"
    }
   ],
   "source": [
    "display(Math(r'$ \\vec{ab} $'))"
   ]
  },
  {
   "cell_type": "code",
   "execution_count": 117,
   "id": "0dd8017c",
   "metadata": {},
   "outputs": [
    {
     "data": {
      "text/latex": [
       "$\\displaystyle  \\overrightarrow{AB}  $"
      ],
      "text/plain": [
       "<IPython.core.display.Math object>"
      ]
     },
     "metadata": {},
     "output_type": "display_data"
    }
   ],
   "source": [
    "display(Math(r'$ \\overrightarrow{AB}  $'))"
   ]
  },
  {
   "cell_type": "code",
   "execution_count": 118,
   "id": "8b06ea9d",
   "metadata": {},
   "outputs": [
    {
     "data": {
      "text/latex": [
       "$\\displaystyle  \\overleftarrow{AB}  $"
      ],
      "text/plain": [
       "<IPython.core.display.Math object>"
      ]
     },
     "metadata": {},
     "output_type": "display_data"
    }
   ],
   "source": [
    "display(Math(r'$ \\overleftarrow{AB}  $'))"
   ]
  },
  {
   "cell_type": "code",
   "execution_count": 119,
   "id": "1ad85b45",
   "metadata": {},
   "outputs": [
    {
     "data": {
      "text/latex": [
       "$\\displaystyle  \\lim_{x \\rightarrow 0} \\frac{\\sin x}{x}= 1  $"
      ],
      "text/plain": [
       "<IPython.core.display.Math object>"
      ]
     },
     "metadata": {},
     "output_type": "display_data"
    }
   ],
   "source": [
    "display(Math(r'$ \\lim_{x \\rightarrow 0} \\frac{\\sin x}{x}= 1  $'))"
   ]
  },
  {
   "cell_type": "markdown",
   "id": "4bac4f1a",
   "metadata": {},
   "source": [
    "## Matrix"
   ]
  },
  {
   "cell_type": "markdown",
   "id": "511d1f9c",
   "metadata": {},
   "source": [
    "### a) array{} method"
   ]
  },
  {
   "cell_type": "markdown",
   "id": "6715afec",
   "metadata": {},
   "source": [
    "begin{array} \n",
    "\n",
    "- use \\ \\ to break lines\n",
    "\n",
    "end{array}"
   ]
  },
  {
   "cell_type": "markdown",
   "id": "1e9bfeae",
   "metadata": {},
   "source": [
    "- vdots (vertical)\n",
    "- ldots (lateral)\n",
    "- ddots (diagonal) "
   ]
  },
  {
   "cell_type": "markdown",
   "id": "b8107994",
   "metadata": {},
   "source": [
    "\\begin{equation*}\n",
    "    X = \\left(\n",
    "        \\begin{array}{ccc}\n",
    "            x_1 & x_2 & \\ldots \\\\\n",
    "            x_3 & x_4 & \\ldots \\\\\n",
    "        \\vdots & \\vdots & \\ddots\n",
    "    \\end{array} \\right)\n",
    "\\end{equation*}"
   ]
  },
  {
   "cell_type": "markdown",
   "id": "063a8083",
   "metadata": {},
   "source": [
    "{array} can also be use for piecewise functions by using a \".\" as an invisible \\right delimiter"
   ]
  },
  {
   "cell_type": "markdown",
   "id": "3a4250bc",
   "metadata": {},
   "source": [
    "\\begin{equation*}\n",
    "    |x| = \\left\\{\n",
    "        \\begin{array}{rl}\n",
    "            -x  & \\text{if } x < 0, \\\\\n",
    "            0 & \\text{if } x = 0 ,\\\\\n",
    "            x & \\text{if } x > 0.\n",
    "        \\end{array} \\right.\n",
    "\\end{equation*}"
   ]
  },
  {
   "cell_type": "markdown",
   "id": "9109187f",
   "metadata": {},
   "source": [
    "amsmath cases environment syntax"
   ]
  },
  {
   "cell_type": "markdown",
   "id": "319f4665",
   "metadata": {},
   "source": [
    "\\begin{equation*}\n",
    "    |x| =\n",
    "    \\begin{cases}\n",
    "        -x & \\text{if } x < 0,\\\\\n",
    "        0 & \\text{if } x = 0,\\\\\n",
    "        x & \\text{if } x > 0.\n",
    "    \\end{cases}\n",
    "\\end{equation*}"
   ]
  },
  {
   "cell_type": "markdown",
   "id": "e4fa3f4e",
   "metadata": {},
   "source": [
    "### b) amsmath matrix method "
   ]
  },
  {
   "cell_type": "markdown",
   "id": "5743d8f1",
   "metadata": {},
   "source": [
    "There are six versions with different delimiters: matrix (none), pmatrix (, bmatrix [, Bmatrix {, vmatrix\n",
    "| and Vmatrix k. \n",
    "\n",
    "You don’t have to specify the number of columns as with array. The maximum number is 10, but it is customisable (though it is not\n",
    "very often you need 10 columns!):"
   ]
  },
  {
   "cell_type": "markdown",
   "id": "55f1d835",
   "metadata": {},
   "source": [
    "#### matrix (plain)"
   ]
  },
  {
   "cell_type": "markdown",
   "id": "9cac0db9",
   "metadata": {},
   "source": [
    "\\begin{equation*}\n",
    "    \\begin{matrix}\n",
    "    1 & 2 & 3\\\\\n",
    "    a & b & c\n",
    "    \\end{matrix}\n",
    "\\end{equation*}"
   ]
  },
  {
   "cell_type": "markdown",
   "id": "a83957ae",
   "metadata": {},
   "source": [
    "#### pmatrix (round brackets)"
   ]
  },
  {
   "cell_type": "markdown",
   "id": "d3f9058b",
   "metadata": {},
   "source": [
    "\\begin{pmatrix}\n",
    "    1 & 2 & 3\\\\\n",
    "    a & b & c\n",
    "\\end{pmatrix}"
   ]
  },
  {
   "cell_type": "markdown",
   "id": "1adc2cd3",
   "metadata": {},
   "source": [
    "#### bmatrix (square brackets)"
   ]
  },
  {
   "cell_type": "markdown",
   "id": "da269327",
   "metadata": {},
   "source": [
    "\\begin{equation*}\n",
    "    \\begin{bmatrix}\n",
    "        p_{11} & p_{12} & \\ldots\n",
    "        & p_{1n} \\\\\n",
    "        p_{21} & p_{22} & \\ldots\n",
    "        & p_{2n} \\\\\n",
    "        \\vdots & \\vdots & \\ddots\n",
    "        & \\vdots \\\\\n",
    "        p_{m1} & p_{m2} & \\ldots\n",
    "        & p_{mn}\n",
    "    \\end{bmatrix}\n",
    "\\end{equation*}"
   ]
  },
  {
   "cell_type": "markdown",
   "id": "e9f8eab1",
   "metadata": {},
   "source": [
    "#### vmatrix (pipes)"
   ]
  },
  {
   "cell_type": "markdown",
   "id": "35100910",
   "metadata": {},
   "source": [
    "\\begin{vmatrix}\n",
    "1 & 2 & 3\\\\\n",
    "a & b & c\n",
    "\\end{vmatrix}"
   ]
  },
  {
   "cell_type": "markdown",
   "id": "3d18d571",
   "metadata": {},
   "source": [
    "#### Vmatrix(double pipes)"
   ]
  },
  {
   "cell_type": "markdown",
   "id": "4147861f",
   "metadata": {},
   "source": [
    "\\begin{Vmatrix}\n",
    "1 & 2 & 3\\\\\n",
    "a & b & c\n",
    "\\end{Vmatrix}"
   ]
  },
  {
   "cell_type": "markdown",
   "id": "bf516075",
   "metadata": {},
   "source": [
    "## einstein notation"
   ]
  },
  {
   "cell_type": "code",
   "execution_count": 120,
   "id": "e02d5f85",
   "metadata": {},
   "outputs": [
    {
     "data": {
      "text/latex": [
       "$\\displaystyle  \\sum_{k= 1} ^n  $"
      ],
      "text/plain": [
       "<IPython.core.display.Math object>"
      ]
     },
     "metadata": {},
     "output_type": "display_data"
    }
   ],
   "source": [
    "display(Math(r'$ \\sum_{k= 1} ^n  $'))"
   ]
  },
  {
   "cell_type": "code",
   "execution_count": 121,
   "id": "327e3c2c",
   "metadata": {},
   "outputs": [
    {
     "data": {
      "text/latex": [
       "$\\displaystyle  \\prod_{k=1} ^n  $"
      ],
      "text/plain": [
       "<IPython.core.display.Math object>"
      ]
     },
     "metadata": {},
     "output_type": "display_data"
    }
   ],
   "source": [
    "display(Math(r'$ \\prod_{k=1} ^n  $'))"
   ]
  },
  {
   "cell_type": "code",
   "execution_count": 122,
   "id": "9d68adb3",
   "metadata": {},
   "outputs": [
    {
     "data": {
      "text/latex": [
       "$\\displaystyle  \\int_0^\\frac{\\pi}{2}  $"
      ],
      "text/plain": [
       "<IPython.core.display.Math object>"
      ]
     },
     "metadata": {},
     "output_type": "display_data"
    }
   ],
   "source": [
    "display(Math(r'$ \\int_0^\\frac{\\pi}{2}  $'))"
   ]
  },
  {
   "cell_type": "markdown",
   "id": "4e1558ee",
   "metadata": {},
   "source": [
    "## distribution"
   ]
  },
  {
   "cell_type": "markdown",
   "id": "81a5aed7",
   "metadata": {},
   "source": [
    "### binom"
   ]
  },
  {
   "cell_type": "code",
   "execution_count": 123,
   "id": "a7f6041e",
   "metadata": {},
   "outputs": [
    {
     "data": {
      "text/latex": [
       "$\\displaystyle  \\binom{n}{k} = \\binom{n-1}{k} + \\binom{n-1}{k-1} $"
      ],
      "text/plain": [
       "<IPython.core.display.Math object>"
      ]
     },
     "metadata": {},
     "output_type": "display_data"
    }
   ],
   "source": [
    "display(Math(r'$ \\binom{n}{k} = \\binom{n-1}{k} + \\binom{n-1}{k-1} $'))"
   ]
  },
  {
   "cell_type": "markdown",
   "id": "34aa0b3d",
   "metadata": {},
   "source": [
    "## align\n",
    "begin{align} end{align}\n",
    "\n",
    "use & to mark alignment start"
   ]
  },
  {
   "cell_type": "code",
   "execution_count": 124,
   "id": "e09d5e24",
   "metadata": {},
   "outputs": [
    {
     "data": {
      "text/latex": [
       "$\\displaystyle  \\begin{align} a &= b + c + d \\\\  & = e + f \\end{align} $"
      ],
      "text/plain": [
       "<IPython.core.display.Math object>"
      ]
     },
     "metadata": {},
     "output_type": "display_data"
    }
   ],
   "source": [
    "display(Math(r'$ \\begin{align} a &= b + c + d \\\\  & = e + f \\end{align} $'))"
   ]
  },
  {
   "cell_type": "markdown",
   "id": "35adc44f",
   "metadata": {},
   "source": [
    "## multiline\n",
    "\\\\\\"
   ]
  },
  {
   "cell_type": "code",
   "execution_count": 125,
   "id": "1fa7956c",
   "metadata": {},
   "outputs": [
    {
     "data": {
      "text/latex": [
       "$\\displaystyle  a = b + c + d \\\\  = e + f $"
      ],
      "text/plain": [
       "<IPython.core.display.Math object>"
      ]
     },
     "metadata": {},
     "output_type": "display_data"
    }
   ],
   "source": [
    "display(Math(r'$ a = b + c + d \\\\  = e + f $'))"
   ]
  },
  {
   "cell_type": "markdown",
   "id": "d10ee116",
   "metadata": {},
   "source": [
    "## font"
   ]
  },
  {
   "cell_type": "markdown",
   "id": "bb31ef49",
   "metadata": {},
   "source": [
    "### bold"
   ]
  },
  {
   "cell_type": "code",
   "execution_count": 126,
   "id": "17c9bc72",
   "metadata": {},
   "outputs": [
    {
     "data": {
      "text/latex": [
       "$\\displaystyle  \\mathbf{x} x $"
      ],
      "text/plain": [
       "<IPython.core.display.Math object>"
      ]
     },
     "metadata": {},
     "output_type": "display_data"
    }
   ],
   "source": [
    "display(Math(r'$ \\mathbf{x} x $'))"
   ]
  }
 ],
 "metadata": {
  "kernelspec": {
   "display_name": "Python 3",
   "language": "python",
   "name": "python3"
  },
  "language_info": {
   "codemirror_mode": {
    "name": "ipython",
    "version": 3
   },
   "file_extension": ".py",
   "mimetype": "text/x-python",
   "name": "python",
   "nbconvert_exporter": "python",
   "pygments_lexer": "ipython3",
   "version": "3.8.5"
  }
 },
 "nbformat": 4,
 "nbformat_minor": 5
}
