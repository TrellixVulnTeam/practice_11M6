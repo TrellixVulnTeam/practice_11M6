{
 "cells": [
  {
   "cell_type": "markdown",
   "id": "8e10a24a",
   "metadata": {},
   "source": [
    "## In markdown cell"
   ]
  },
  {
   "cell_type": "markdown",
   "id": "155b9779",
   "metadata": {},
   "source": [
    "a) store text within dollar signs $$ "
   ]
  },
  {
   "cell_type": "markdown",
   "id": "a33ff23c",
   "metadata": {},
   "source": [
    "$$c= \\sqrt{a^2 + b^2}$$"
   ]
  },
  {
   "cell_type": "markdown",
   "id": "58ed9a82",
   "metadata": {},
   "source": [
    "b) store text within r'$$'"
   ]
  },
  {
   "cell_type": "markdown",
   "id": "b39d6f5e",
   "metadata": {},
   "source": [
    "r'$\\sum_{i=0}^\\infty x_i$'"
   ]
  },
  {
   "cell_type": "markdown",
   "id": "815960a5",
   "metadata": {},
   "source": [
    "## In python cell"
   ]
  },
  {
   "cell_type": "code",
   "execution_count": 10,
   "id": "61f0b3de",
   "metadata": {},
   "outputs": [],
   "source": [
    "from IPython.display import display, Math, Latex"
   ]
  },
  {
   "cell_type": "code",
   "execution_count": 14,
   "id": "302f8e8c",
   "metadata": {},
   "outputs": [
    {
     "data": {
      "text/latex": [
       "$\\displaystyle F(k) = \\int_{-\\infty}^{\\infty} f(x) e^{2\\pi i k} dx$"
      ],
      "text/plain": [
       "<IPython.core.display.Math object>"
      ]
     },
     "metadata": {},
     "output_type": "display_data"
    }
   ],
   "source": [
    "display(Math(r'F(k) = \\int_{-\\infty}^{\\infty} f(x) e^{2\\pi i k} dx'))"
   ]
  },
  {
   "cell_type": "markdown",
   "id": "cd14ec2a",
   "metadata": {},
   "source": [
    "## sub/super scripts"
   ]
  },
  {
   "cell_type": "markdown",
   "id": "9448ec1d",
   "metadata": {},
   "source": [
    "subscript\n",
    "_"
   ]
  },
  {
   "cell_type": "code",
   "execution_count": 16,
   "id": "c49b54b4",
   "metadata": {},
   "outputs": [
    {
     "data": {
      "text/latex": [
       "$\\displaystyle \\alpha_i> \\beta_i$"
      ],
      "text/plain": [
       "<IPython.core.display.Math object>"
      ]
     },
     "metadata": {},
     "output_type": "display_data"
    }
   ],
   "source": [
    "display(Math(r'\\alpha_i> \\beta_i'))"
   ]
  },
  {
   "cell_type": "markdown",
   "id": "5752aebc",
   "metadata": {},
   "source": [
    "superscript ^"
   ]
  },
  {
   "cell_type": "code",
   "execution_count": 18,
   "id": "5c9aed1d",
   "metadata": {},
   "outputs": [
    {
     "data": {
      "text/latex": [
       "$\\displaystyle \\sum_{i=0}^\\infty x_i$"
      ],
      "text/plain": [
       "<IPython.core.display.Math object>"
      ]
     },
     "metadata": {},
     "output_type": "display_data"
    }
   ],
   "source": [
    "display(Math(r'$\\sum_{i=0}^\\infty x_i$'))"
   ]
  },
  {
   "cell_type": "markdown",
   "id": "24a687f4",
   "metadata": {},
   "source": [
    "## fraction, binomials, stacked numbers\n",
    "frac{}{}"
   ]
  },
  {
   "cell_type": "code",
   "execution_count": 24,
   "id": "abc34a47",
   "metadata": {},
   "outputs": [
    {
     "ename": "SyntaxError",
     "evalue": "invalid syntax (<ipython-input-24-3f5cc98104ad>, line 1)",
     "output_type": "error",
     "traceback": [
      "\u001b[0;36m  File \u001b[0;32m\"<ipython-input-24-3f5cc98104ad>\"\u001b[0;36m, line \u001b[0;32m1\u001b[0m\n\u001b[0;31m    $$\\frac{3}{4} \\binom{3}{4} \\stackrel{3}{4}$$\u001b[0m\n\u001b[0m    ^\u001b[0m\n\u001b[0;31mSyntaxError\u001b[0m\u001b[0;31m:\u001b[0m invalid syntax\n"
     ]
    }
   ],
   "source": [
    "$$\\frac{3}{4} \\binom{3}{4} \\stackrel{3}{4}$$"
   ]
  },
  {
   "cell_type": "markdown",
   "id": "4173d95c",
   "metadata": {},
   "source": [
    "$$\\frac{3}{4} \\binom{3}{4} \\stackrel{3}{4}$$"
   ]
  },
  {
   "cell_type": "markdown",
   "id": "4903a23f",
   "metadata": {},
   "source": [
    "nest fractions"
   ]
  },
  {
   "cell_type": "markdown",
   "id": "3a1fb1db",
   "metadata": {},
   "source": [
    "$$ \\frac{1}{x} $$"
   ]
  },
  {
   "cell_type": "markdown",
   "id": "44a6c1f5",
   "metadata": {},
   "source": [
    "## square\n",
    "^"
   ]
  },
  {
   "cell_type": "code",
   "execution_count": 28,
   "id": "c57becda",
   "metadata": {},
   "outputs": [
    {
     "data": {
      "text/latex": [
       "$\\displaystyle  a^2 + b^2 = c^2 $"
      ],
      "text/plain": [
       "<IPython.core.display.Math object>"
      ]
     },
     "metadata": {},
     "output_type": "display_data"
    }
   ],
   "source": [
    "display(Math(r'$ a^2 + b^2 = c^2 $'))"
   ]
  },
  {
   "cell_type": "markdown",
   "id": "64a0b2ab",
   "metadata": {},
   "source": [
    "## sqrt\n",
    "\\sqrt{}"
   ]
  },
  {
   "cell_type": "code",
   "execution_count": 34,
   "id": "a75ac0e7",
   "metadata": {},
   "outputs": [
    {
     "data": {
      "text/latex": [
       "$\\displaystyle  \\sqrt{a^2 + b^2} $"
      ],
      "text/plain": [
       "<IPython.core.display.Math object>"
      ]
     },
     "metadata": {},
     "output_type": "display_data"
    }
   ],
   "source": [
    "display(Math(r'$ \\sqrt{a^2 + b^2} $'))"
   ]
  },
  {
   "cell_type": "markdown",
   "id": "953dcfdf",
   "metadata": {},
   "source": [
    "## operands and conditions"
   ]
  },
  {
   "cell_type": "code",
   "execution_count": 32,
   "id": "6361ffba",
   "metadata": {},
   "outputs": [
    {
     "data": {
      "text/latex": [
       "$\\displaystyle  x \\geq 0 $"
      ],
      "text/plain": [
       "<IPython.core.display.Math object>"
      ]
     },
     "metadata": {},
     "output_type": "display_data"
    }
   ],
   "source": [
    "display(Math(r'$ x \\geq 0 $'))"
   ]
  },
  {
   "cell_type": "code",
   "execution_count": 29,
   "id": "294cfcc1",
   "metadata": {},
   "outputs": [
    {
     "data": {
      "text/latex": [
       "$\\displaystyle  \\forall x \\in \\mathbf{R} $"
      ],
      "text/plain": [
       "<IPython.core.display.Math object>"
      ]
     },
     "metadata": {},
     "output_type": "display_data"
    }
   ],
   "source": [
    "display(Math(r'$ \\forall x \\in \\mathbf{R} $'))"
   ]
  },
  {
   "cell_type": "markdown",
   "id": "e37fecd0",
   "metadata": {},
   "source": [
    "## delimiters"
   ]
  },
  {
   "cell_type": "markdown",
   "id": "c1cc37a5",
   "metadata": {},
   "source": [
    "use / left and / right to mark start and end of bracket"
   ]
  },
  {
   "cell_type": "markdown",
   "id": "13c3a881",
   "metadata": {},
   "source": [
    "\\begin{equation*}\n",
    "    1- \\left( \\frac{1}{1-x^2} \\right) ^3\n",
    "\\end{equation*}"
   ]
  },
  {
   "cell_type": "markdown",
   "id": "e765d59c",
   "metadata": {},
   "source": [
    "## vector"
   ]
  },
  {
   "cell_type": "code",
   "execution_count": 39,
   "id": "b93df9e6",
   "metadata": {},
   "outputs": [
    {
     "data": {
      "text/latex": [
       "$\\displaystyle  \\vec{ab} $"
      ],
      "text/plain": [
       "<IPython.core.display.Math object>"
      ]
     },
     "metadata": {},
     "output_type": "display_data"
    }
   ],
   "source": [
    "display(Math(r'$ \\vec{ab} $'))"
   ]
  },
  {
   "cell_type": "code",
   "execution_count": 40,
   "id": "023a1e60",
   "metadata": {},
   "outputs": [
    {
     "data": {
      "text/latex": [
       "$\\displaystyle  \\overrightarrow{AB}  $"
      ],
      "text/plain": [
       "<IPython.core.display.Math object>"
      ]
     },
     "metadata": {},
     "output_type": "display_data"
    }
   ],
   "source": [
    "display(Math(r'$ \\overrightarrow{AB}  $'))"
   ]
  },
  {
   "cell_type": "code",
   "execution_count": 41,
   "id": "cdc80107",
   "metadata": {},
   "outputs": [
    {
     "data": {
      "text/latex": [
       "$\\displaystyle  \\overleftarrow{AB}  $"
      ],
      "text/plain": [
       "<IPython.core.display.Math object>"
      ]
     },
     "metadata": {},
     "output_type": "display_data"
    }
   ],
   "source": [
    "display(Math(r'$ \\overleftarrow{AB}  $'))"
   ]
  },
  {
   "cell_type": "code",
   "execution_count": 44,
   "id": "7f9759fe",
   "metadata": {},
   "outputs": [
    {
     "data": {
      "text/latex": [
       "$\\displaystyle  \\lim_{x \\rightarrow 0} \\frac{\\sin x}{x}= 1  $"
      ],
      "text/plain": [
       "<IPython.core.display.Math object>"
      ]
     },
     "metadata": {},
     "output_type": "display_data"
    }
   ],
   "source": [
    "display(Math(r'$ \\lim_{x \\rightarrow 0} \\frac{\\sin x}{x}= 1  $'))"
   ]
  },
  {
   "cell_type": "markdown",
   "id": "ba82223e",
   "metadata": {},
   "source": [
    "## Matrix"
   ]
  },
  {
   "cell_type": "markdown",
   "id": "10b1d5b6",
   "metadata": {},
   "source": [
    "### a) array{} method"
   ]
  },
  {
   "cell_type": "markdown",
   "id": "56c4be60",
   "metadata": {},
   "source": [
    "begin{array} \n",
    "\n",
    "- use \\ \\ to break lines\n",
    "\n",
    "end{array}"
   ]
  },
  {
   "cell_type": "markdown",
   "id": "46de3cc7",
   "metadata": {},
   "source": [
    "- vdots (vertical)\n",
    "- ldots (lateral)\n",
    "- ddots (diagonal) "
   ]
  },
  {
   "cell_type": "markdown",
   "id": "b0f335df",
   "metadata": {},
   "source": [
    "\\begin{equation*}\n",
    "    X = \\left(\n",
    "        \\begin{array}{ccc}\n",
    "            x_1 & x_2 & \\ldots \\\\\n",
    "            x_3 & x_4 & \\ldots \\\\\n",
    "        \\vdots & \\vdots & \\ddots\n",
    "    \\end{array} \\right)\n",
    "\\end{equation*}"
   ]
  },
  {
   "cell_type": "markdown",
   "id": "3b2d8486",
   "metadata": {},
   "source": [
    "{array} can also be use for piecewise functions by using a \".\" as an invisible \\right delimiter"
   ]
  },
  {
   "cell_type": "markdown",
   "id": "fbaca99a",
   "metadata": {},
   "source": [
    "\\begin{equation*}\n",
    "    |x| = \\left\\{\n",
    "        \\begin{array}{rl}\n",
    "            -x  & \\text{if } x < 0, \\\\\n",
    "            0 & \\text{if } x = 0 ,\\\\\n",
    "            x & \\text{if } x > 0.\n",
    "        \\end{array} \\right.\n",
    "\\end{equation*}"
   ]
  },
  {
   "cell_type": "markdown",
   "id": "fa427bef",
   "metadata": {},
   "source": [
    "amsmath cases environment syntax"
   ]
  },
  {
   "cell_type": "markdown",
   "id": "77317429",
   "metadata": {},
   "source": [
    "\\begin{equation*}\n",
    "    |x| =\n",
    "    \\begin{cases}\n",
    "        -x & \\text{if } x < 0,\\\\\n",
    "        0 & \\text{if } x = 0,\\\\\n",
    "        x & \\text{if } x > 0.\n",
    "    \\end{cases}\n",
    "\\end{equation*}"
   ]
  },
  {
   "cell_type": "markdown",
   "id": "1fa8bb91",
   "metadata": {},
   "source": [
    "### b) amsmath matrix method "
   ]
  },
  {
   "cell_type": "markdown",
   "id": "7b4ca7a4",
   "metadata": {},
   "source": [
    "There are six versions with different delimiters: matrix (none), pmatrix (, bmatrix [, Bmatrix {, vmatrix\n",
    "| and Vmatrix k. \n",
    "\n",
    "You don’t have to specify the number of columns as with array. The maximum number is 10, but it is customisable (though it is not\n",
    "very often you need 10 columns!):"
   ]
  },
  {
   "cell_type": "markdown",
   "id": "954de775",
   "metadata": {},
   "source": [
    "#### matrix (plain)"
   ]
  },
  {
   "cell_type": "markdown",
   "id": "94364539",
   "metadata": {},
   "source": [
    "\\begin{equation*}\n",
    "    \\begin{matrix}\n",
    "    1 & 2 & 3\\\\\n",
    "    a & b & c\n",
    "    \\end{matrix}\n",
    "\\end{equation*}"
   ]
  },
  {
   "cell_type": "markdown",
   "id": "49a0fcdd",
   "metadata": {},
   "source": [
    "#### pmatrix (round brackets)"
   ]
  },
  {
   "cell_type": "markdown",
   "id": "d831b063",
   "metadata": {},
   "source": [
    "\\begin{pmatrix}\n",
    "    1 & 2 & 3\\\\\n",
    "    a & b & c\n",
    "\\end{pmatrix}"
   ]
  },
  {
   "cell_type": "markdown",
   "id": "12cb3808",
   "metadata": {},
   "source": [
    "#### bmatrix (square brackets)"
   ]
  },
  {
   "cell_type": "markdown",
   "id": "cd30ed20",
   "metadata": {},
   "source": [
    "\\begin{equation*}\n",
    "    \\begin{bmatrix}\n",
    "        p_{11} & p_{12} & \\ldots\n",
    "        & p_{1n} \\\\\n",
    "        p_{21} & p_{22} & \\ldots\n",
    "        & p_{2n} \\\\\n",
    "        \\vdots & \\vdots & \\ddots\n",
    "        & \\vdots \\\\\n",
    "        p_{m1} & p_{m2} & \\ldots\n",
    "        & p_{mn}\n",
    "    \\end{bmatrix}\n",
    "\\end{equation*}"
   ]
  },
  {
   "cell_type": "markdown",
   "id": "80f17531",
   "metadata": {},
   "source": [
    "#### vmatrix (pipes)"
   ]
  },
  {
   "cell_type": "markdown",
   "id": "7f99c051",
   "metadata": {},
   "source": [
    "\\begin{vmatrix}\n",
    "1 & 2 & 3\\\\\n",
    "a & b & c\n",
    "\\end{vmatrix}"
   ]
  },
  {
   "cell_type": "markdown",
   "id": "70f6b06a",
   "metadata": {},
   "source": [
    "#### Vmatrix(double pipes)"
   ]
  },
  {
   "cell_type": "markdown",
   "id": "e0fe9da3",
   "metadata": {},
   "source": [
    "\\begin{Vmatrix}\n",
    "1 & 2 & 3\\\\\n",
    "a & b & c\n",
    "\\end{Vmatrix}"
   ]
  },
  {
   "cell_type": "markdown",
   "id": "0689bda6",
   "metadata": {},
   "source": [
    "## einstein notation"
   ]
  },
  {
   "cell_type": "code",
   "execution_count": 53,
   "id": "9b14e142",
   "metadata": {},
   "outputs": [
    {
     "data": {
      "text/latex": [
       "$\\displaystyle  \\sum_{k= 1} ^n  $"
      ],
      "text/plain": [
       "<IPython.core.display.Math object>"
      ]
     },
     "metadata": {},
     "output_type": "display_data"
    }
   ],
   "source": [
    "display(Math(r'$ \\sum_{k= 1} ^n  $'))"
   ]
  },
  {
   "cell_type": "code",
   "execution_count": 51,
   "id": "5bea8c47",
   "metadata": {},
   "outputs": [
    {
     "data": {
      "text/latex": [
       "$\\displaystyle  \\prod_{k=1} ^n  $"
      ],
      "text/plain": [
       "<IPython.core.display.Math object>"
      ]
     },
     "metadata": {},
     "output_type": "display_data"
    }
   ],
   "source": [
    "display(Math(r'$ \\prod_{k=1} ^n  $'))"
   ]
  },
  {
   "cell_type": "code",
   "execution_count": 61,
   "id": "55dcb923",
   "metadata": {},
   "outputs": [
    {
     "data": {
      "text/latex": [
       "$\\displaystyle  \\int_0^\\frac{\\pi}{2}  $"
      ],
      "text/plain": [
       "<IPython.core.display.Math object>"
      ]
     },
     "metadata": {},
     "output_type": "display_data"
    }
   ],
   "source": [
    "display(Math(r'$ \\int_0^\\frac{\\pi}{2}  $'))"
   ]
  },
  {
   "cell_type": "markdown",
   "id": "fcb681df",
   "metadata": {},
   "source": [
    "## distribution"
   ]
  },
  {
   "cell_type": "markdown",
   "id": "1be0dfcf",
   "metadata": {},
   "source": [
    "### binom"
   ]
  },
  {
   "cell_type": "code",
   "execution_count": 58,
   "id": "fc332d8a",
   "metadata": {},
   "outputs": [
    {
     "data": {
      "text/latex": [
       "$\\displaystyle  \\binom{n}{k} = \\binom{n-1}{k} + \\binom{n-1}{k-1} $"
      ],
      "text/plain": [
       "<IPython.core.display.Math object>"
      ]
     },
     "metadata": {},
     "output_type": "display_data"
    }
   ],
   "source": [
    "display(Math(r'$ \\binom{n}{k} = \\binom{n-1}{k} + \\binom{n-1}{k-1} $'))"
   ]
  },
  {
   "cell_type": "markdown",
   "id": "27699e74",
   "metadata": {},
   "source": [
    "## align\n",
    "begin{align} end{align}\n",
    "\n",
    "use & to mark alignment start"
   ]
  },
  {
   "cell_type": "code",
   "execution_count": 76,
   "id": "58de7ee9",
   "metadata": {},
   "outputs": [
    {
     "data": {
      "text/latex": [
       "$\\displaystyle  \\begin{align} a &= b + c + d \\\\  & = e + f \\end{align} $"
      ],
      "text/plain": [
       "<IPython.core.display.Math object>"
      ]
     },
     "metadata": {},
     "output_type": "display_data"
    }
   ],
   "source": [
    "display(Math(r'$ \\begin{align} a &= b + c + d \\\\  & = e + f \\end{align} $'))"
   ]
  },
  {
   "cell_type": "markdown",
   "id": "3848c1c1",
   "metadata": {},
   "source": [
    "## multiline\n",
    "\\\\\\"
   ]
  },
  {
   "cell_type": "code",
   "execution_count": 73,
   "id": "9c6977c0",
   "metadata": {},
   "outputs": [
    {
     "data": {
      "text/latex": [
       "$\\displaystyle  a = b + c + d \\\\  = e + f $"
      ],
      "text/plain": [
       "<IPython.core.display.Math object>"
      ]
     },
     "metadata": {},
     "output_type": "display_data"
    }
   ],
   "source": [
    "display(Math(r'$ a = b + c + d \\\\  = e + f $'))"
   ]
  },
  {
   "cell_type": "markdown",
   "id": "88721e8a",
   "metadata": {},
   "source": [
    "## font"
   ]
  },
  {
   "cell_type": "markdown",
   "id": "ce8ebb11",
   "metadata": {},
   "source": [
    "### bold"
   ]
  },
  {
   "cell_type": "code",
   "execution_count": 90,
   "id": "2b073381",
   "metadata": {},
   "outputs": [
    {
     "data": {
      "text/latex": [
       "$\\displaystyle  \\mathbf{x} x $"
      ],
      "text/plain": [
       "<IPython.core.display.Math object>"
      ]
     },
     "metadata": {},
     "output_type": "display_data"
    }
   ],
   "source": [
    "display(Math(r'$ \\mathbf{x} x $'))"
   ]
  }
 ],
 "metadata": {
  "kernelspec": {
   "display_name": "Python 3",
   "language": "python",
   "name": "python3"
  },
  "language_info": {
   "codemirror_mode": {
    "name": "ipython",
    "version": 3
   },
   "file_extension": ".py",
   "mimetype": "text/x-python",
   "name": "python",
   "nbconvert_exporter": "python",
   "pygments_lexer": "ipython3",
   "version": "3.8.5"
  }
 },
 "nbformat": 4,
 "nbformat_minor": 5
}
