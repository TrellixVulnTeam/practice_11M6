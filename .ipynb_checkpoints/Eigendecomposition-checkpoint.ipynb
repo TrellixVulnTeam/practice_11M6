{
 "cells": [
  {
   "cell_type": "markdown",
   "id": "7f5324cc",
   "metadata": {},
   "source": [
    "## Overview"
   ]
  },
  {
   "cell_type": "markdown",
   "id": "000a0f0c",
   "metadata": {},
   "source": [
    "remember that applying matrix to vector, transforms the vector"
   ]
  },
  {
   "cell_type": "markdown",
   "id": "d73a7ecc",
   "metadata": {},
   "source": [
    "Now imagine that the transformation of the initial vector gives us a new vector that has the exact same direction. <b> The scale can be different but the direction is the same.</b> Applying the matrix doesn’t change the direction of the vector. <b> This special vector is called an eigenvector of the matrix. </b>"
   ]
  },
  {
   "cell_type": "markdown",
   "id": "b1b4e94b",
   "metadata": {},
   "source": [
    "$$ Av = \\lambda v$$ \n",
    "- $A$ is matrix\n",
    "- $v$ is vector\n",
    "- $v$ is <b> eigenvector </b> of $A$:\n",
    "    - if $v$ and $Av$ (the transformed vector) are in the same direction\n",
    "- the output vector is jus a scaled version of the input vector\n",
    "- $\\lambda$ is <b> eigenvalue </b> of $A$ (scaling factor)\n",
    "- thus $Av$ is just scaled version of $v$"
   ]
  },
  {
   "cell_type": "markdown",
   "id": "4f20dbc7",
   "metadata": {},
   "source": [
    "Required:\n",
    "- only every <b> square matrix </b> has an eigenvalue (non-square matrix can have complex eigenvalues)"
   ]
  },
  {
   "cell_type": "markdown",
   "id": "2e31078a",
   "metadata": {},
   "source": [
    "## Manual Math derivation"
   ]
  },
  {
   "cell_type": "code",
   "execution_count": null,
   "id": "2641674b",
   "metadata": {},
   "outputs": [],
   "source": []
  },
  {
   "cell_type": "markdown",
   "id": "3088c280",
   "metadata": {},
   "source": [
    "## Numpy derivation"
   ]
  },
  {
   "cell_type": "code",
   "execution_count": 19,
   "id": "7bbc5634",
   "metadata": {},
   "outputs": [],
   "source": [
    "import numpy as np"
   ]
  },
  {
   "cell_type": "code",
   "execution_count": 20,
   "id": "6b183c01",
   "metadata": {},
   "outputs": [
    {
     "data": {
      "text/plain": [
       "array([[5, 1],\n",
       "       [3, 3]])"
      ]
     },
     "execution_count": 20,
     "metadata": {},
     "output_type": "execute_result"
    }
   ],
   "source": [
    "A = np.array([[5, 1], [3, 3]])\n",
    "A"
   ]
  },
  {
   "cell_type": "code",
   "execution_count": 21,
   "id": "10637939",
   "metadata": {},
   "outputs": [
    {
     "data": {
      "text/plain": [
       "array([6., 2.])"
      ]
     },
     "execution_count": 21,
     "metadata": {},
     "output_type": "execute_result"
    }
   ],
   "source": [
    "# get eigenvalue and eigenvectors(lambda) of square matrix\n",
    "eigvals , eigvec = np.linalg.eig(A)\n",
    "eigvals"
   ]
  },
  {
   "cell_type": "code",
   "execution_count": 22,
   "id": "39b29b85",
   "metadata": {},
   "outputs": [
    {
     "data": {
      "text/plain": [
       "array([[ 0.70710678, -0.31622777],\n",
       "       [ 0.70710678,  0.9486833 ]])"
      ]
     },
     "execution_count": 22,
     "metadata": {},
     "output_type": "execute_result"
    }
   ],
   "source": [
    "eigvec"
   ]
  },
  {
   "cell_type": "markdown",
   "id": "c8c6a52e",
   "metadata": {},
   "source": [
    "## Decompose matrix $A$ with eigenvectors and eigenvalues\n",
    "\n",
    "$$A = V.diag(\\lambda).V^-1 $$"
   ]
  },
  {
   "cell_type": "markdown",
   "id": "870191ac",
   "metadata": {},
   "source": [
    "continuing with example above with $A $"
   ]
  },
  {
   "cell_type": "code",
   "execution_count": 24,
   "id": "bb4a9242",
   "metadata": {},
   "outputs": [
    {
     "data": {
      "text/plain": [
       "array([[ 1,  1],\n",
       "       [ 1, -3]])"
      ]
     },
     "execution_count": 24,
     "metadata": {},
     "output_type": "execute_result"
    }
   ],
   "source": [
    "V = np.array([[1, 1], [1, -3]])\n",
    "V"
   ]
  },
  {
   "cell_type": "code",
   "execution_count": 26,
   "id": "3c3df8b0",
   "metadata": {},
   "outputs": [
    {
     "data": {
      "text/plain": [
       "array([[ 0.75,  0.25],\n",
       "       [ 0.25, -0.25]])"
      ]
     },
     "execution_count": 26,
     "metadata": {},
     "output_type": "execute_result"
    }
   ],
   "source": [
    "V_inv= np.linalg.inv(V)\n",
    "V_inv"
   ]
  },
  {
   "cell_type": "code",
   "execution_count": 33,
   "id": "b4964748",
   "metadata": {},
   "outputs": [
    {
     "data": {
      "text/plain": [
       "array([[5., 1.],\n",
       "       [3., 3.]])"
      ]
     },
     "execution_count": 33,
     "metadata": {},
     "output_type": "execute_result"
    }
   ],
   "source": [
    "# diagonalize the eigenvalue first\n",
    "lambdas = np.diag(eigvals)\n",
    "A = V.dot(lambdas).dot(V_inv)\n",
    "A\n",
    "# A is derived, as above"
   ]
  },
  {
   "cell_type": "markdown",
   "id": "d82a934e",
   "metadata": {},
   "source": [
    "\n",
    "\n",
    "http://www.onmyphd.com/?p=eigen.decomposition\n",
    "    "
   ]
  },
  {
   "cell_type": "markdown",
   "id": "7c635e2b",
   "metadata": {},
   "source": [
    "## Special properties"
   ]
  },
  {
   "cell_type": "markdown",
   "id": "d925137c",
   "metadata": {},
   "source": [
    "### 1. Real symmetric matrix"
   ]
  },
  {
   "cell_type": "markdown",
   "id": "2cf45896",
   "metadata": {},
   "source": [
    "#### a. Symmetric matrix definition"
   ]
  },
  {
   "cell_type": "code",
   "execution_count": 35,
   "id": "e3d0c462",
   "metadata": {},
   "outputs": [
    {
     "data": {
      "image/png": "[encoded data removed]",
      "text/plain": [
       "<IPython.core.display.Image object>"
      ]
     },
     "execution_count": 35,
     "metadata": {},
     "output_type": "execute_result"
    }
   ],
   "source": [
    "from IPython import display\n",
    "display.Image(\"./Assets/symmetric_matrix.png\")"
   ]
  },
  {
   "cell_type": "markdown",
   "id": "2c4c0d1c",
   "metadata": {},
   "source": [
    "The matrix A is symmetric if it is equal to its transpose:\n",
    "$$ A = A^T $$\n",
    "\n",
    "thus must be square matrix"
   ]
  },
  {
   "cell_type": "markdown",
   "id": "7c396c2e",
   "metadata": {},
   "source": [
    "#### b. Eigendecomposition"
   ]
  },
  {
   "cell_type": "markdown",
   "id": "9b4c0466",
   "metadata": {},
   "source": [
    "For real symmetric matrices ($A $), the eigendecomposition can be expressed as \n",
    "$$ A = Q \\Lambda Q^T $$\n",
    "\n",
    "where $Q$ is matrix with eigenvectors as columns and $ \\Lambda $ is  diag($\\lambda$)\n",
    "- quite similar to general $A = V.diag(\\lambda).V^-1 $"
   ]
  },
  {
   "cell_type": "code",
   "execution_count": 40,
   "id": "3bf0af2b",
   "metadata": {},
   "outputs": [
    {
     "data": {
      "text/plain": [
       "array([[6, 2],\n",
       "       [2, 3]])"
      ]
     },
     "execution_count": 40,
     "metadata": {},
     "output_type": "execute_result"
    }
   ],
   "source": [
    "# Given real symmetric matrix A\n",
    "\n",
    "A = np.array([[6, 2], [2, 3]])\n",
    "A"
   ]
  },
  {
   "cell_type": "code",
   "execution_count": 38,
   "id": "9c82948d",
   "metadata": {},
   "outputs": [
    {
     "data": {
      "text/plain": [
       "array([[ 0.89442719, -0.4472136 ],\n",
       "       [ 0.4472136 ,  0.89442719]])"
      ]
     },
     "execution_count": 38,
     "metadata": {},
     "output_type": "execute_result"
    }
   ],
   "source": [
    "eigVals, eigVecs = np.linalg.eig(A)\n",
    "eigVecs"
   ]
  },
  {
   "cell_type": "code",
   "execution_count": 43,
   "id": "c59978fc",
   "metadata": {},
   "outputs": [
    {
     "data": {
      "text/plain": [
       "array([[6., 2.],\n",
       "       [2., 3.]])"
      ]
     },
     "execution_count": 43,
     "metadata": {},
     "output_type": "execute_result"
    }
   ],
   "source": [
    "eigVecs.dot(np.diag(eigVals)).dot(eigVecs.T)\n",
    "# we get back matrix A thus rule is true"
   ]
  },
  {
   "cell_type": "markdown",
   "id": "5d5815d6",
   "metadata": {},
   "source": [
    "## Uses of eigendecomposition"
   ]
  },
  {
   "cell_type": "markdown",
   "id": "c086ac35",
   "metadata": {},
   "source": [
    "### 1. Optimize quadratic functions"
   ]
  },
  {
   "cell_type": "markdown",
   "id": "1c63e5fe",
   "metadata": {},
   "source": [
    "#### linear equations can be expressed as vector form\n",
    "\n",
    "$ ax + by + cz$ expressed as\n",
    "\n",
    "$\n",
    "\\begin{bmatrix}\n",
    "a \\\\\n",
    "b \\\\ \n",
    "c\n",
    "\\end{bmatrix}\n",
    ".\n",
    "\\begin{bmatrix}\n",
    "x \\\\\n",
    "y \\\\ \n",
    "z\n",
    "\\end{bmatrix}\n",
    "$"
   ]
  },
  {
   "cell_type": "markdown",
   "id": "5884aff3",
   "metadata": {},
   "source": [
    "####  Similiary quadratic equations can be expressed as matrix \n",
    "http://youtube.com/watch?v=0yEiCV-xEWQ\n",
    "\n",
    "when x takes the values of $v$, $ f(x) $ takes the value of its corresponding $\\lambda$.\n",
    "\n",
    "$$ f(x) = ax_1^2 + (b+c)x_1 x_2 + dx^2_2 $$"
   ]
  },
  {
   "cell_type": "markdown",
   "id": "155e1b40",
   "metadata": {},
   "source": [
    "in matrix form\n",
    "\n",
    "$\n",
    "f(x) = x^TAx = \n",
    "\\begin{bmatrix}\n",
    "x_1 & x_2 \n",
    "\\end{bmatrix}\n",
    "\\begin{bmatrix}\n",
    "a & b \\\\\n",
    "c & d \n",
    "\\end{bmatrix}\n",
    "\\begin{bmatrix}\n",
    "x_1 \\\\\n",
    "x_2 \n",
    "\\end{bmatrix}\n",
    "$\n"
   ]
  },
  {
   "cell_type": "markdown",
   "id": "d90dae20",
   "metadata": {},
   "source": [
    "note that (b + c) can be any number, as long as the sum is the same to give the same coefficient. Thus lets sub b and c to make $A$ <b> symmetric </b>"
   ]
  },
  {
   "cell_type": "markdown",
   "id": "58944da3",
   "metadata": {},
   "source": [
    "### 2. Change of variable / linear substitution"
   ]
  },
  {
   "cell_type": "markdown",
   "id": "e0116a32",
   "metadata": {},
   "source": [
    "This simply means that we replace a variable by another one. We will see that it can be used to remove the cross terms in our quadratic equation. Without the cross term ($x_1 x_2$), it will then be easier to characterize the function and eventually optimize it (i.e finding its maximum or minimum)."
   ]
  },
  {
   "cell_type": "markdown",
   "id": "2f9f7a73",
   "metadata": {},
   "source": [
    "example: \n",
    "- given $ 6x_1^2 + 4x_1 x_2 + 3x_2^2 $ we want to replace $x_1$ and $x_2$ with any combination of $y_1$ and $y_2$\n",
    "- we can find a specific combination to rid the cross terms ($x_1 x_2$)\n",
    "- the matrix form is \n",
    "$\n",
    "f(x) = x^TAx = \n",
    "\\begin{bmatrix}\n",
    "x_1 & x_2 \n",
    "\\end{bmatrix}\n",
    "\\begin{bmatrix}\n",
    "6 & 2 \\\\\n",
    "2 & 3 \n",
    "\\end{bmatrix}\n",
    "\\begin{bmatrix}\n",
    "x_1 \\\\\n",
    "x_2 \n",
    "\\end{bmatrix}\n",
    "$\n"
   ]
  },
  {
   "cell_type": "code",
   "execution_count": 55,
   "id": "61669228",
   "metadata": {},
   "outputs": [
    {
     "data": {
      "text/plain": [
       "array([[ 0.89442719, -0.4472136 ],\n",
       "       [ 0.4472136 ,  0.89442719]])"
      ]
     },
     "execution_count": 55,
     "metadata": {},
     "output_type": "execute_result"
    }
   ],
   "source": [
    "# eigenvectors of A\n",
    "eigVecs"
   ]
  },
  {
   "cell_type": "code",
   "execution_count": null,
   "id": "f7c2b4c0",
   "metadata": {},
   "outputs": [],
   "source": []
  },
  {
   "cell_type": "code",
   "execution_count": 58,
   "id": "73e771a6",
   "metadata": {},
   "outputs": [
    {
     "data": {
      "image/png": "[encoded data removed]",
      "text/plain": [
       "<IPython.core.display.Image object>"
      ]
     },
     "execution_count": 58,
     "metadata": {},
     "output_type": "execute_result"
    }
   ],
   "source": [
    "from IPython import display\n",
    "display.Image(\"./Assets/eigen_sub_var.png\")"
   ]
  },
  {
   "cell_type": "markdown",
   "id": "aedcef59",
   "metadata": {},
   "source": [
    "thus we can see that subbing A with $ \\lamda$ "
   ]
  }
 ],
 "metadata": {
  "kernelspec": {
   "display_name": "Python 3",
   "language": "python",
   "name": "python3"
  },
  "language_info": {
   "codemirror_mode": {
    "name": "ipython",
    "version": 3
   },
   "file_extension": ".py",
   "mimetype": "text/x-python",
   "name": "python",
   "nbconvert_exporter": "python",
   "pygments_lexer": "ipython3",
   "version": "3.8.5"
  }
 },
 "nbformat": 4,
 "nbformat_minor": 5
}
