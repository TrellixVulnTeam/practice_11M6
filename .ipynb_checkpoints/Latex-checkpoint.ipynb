{
 "cells": [
  {
   "cell_type": "markdown",
   "id": "1004e964",
   "metadata": {},
   "source": [
    "## In markdown cell"
   ]
  },
  {
   "cell_type": "markdown",
   "id": "837bc6ee",
   "metadata": {},
   "source": [
    "a) store text within dollar signs $$ "
   ]
  },
  {
   "cell_type": "markdown",
   "id": "1595ba25",
   "metadata": {},
   "source": [
    "$$c= \\sqrt{a^2 + b^2}$$"
   ]
  },
  {
   "cell_type": "markdown",
   "id": "752ea603",
   "metadata": {},
   "source": [
    "b) store text within r'$$'"
   ]
  },
  {
   "cell_type": "markdown",
   "id": "7a25907c",
   "metadata": {},
   "source": [
    "r'$\\sum_{i=0}^\\infty x_i$'"
   ]
  },
  {
   "cell_type": "markdown",
   "id": "eaea908f",
   "metadata": {},
   "source": [
    "## In python cell"
   ]
  },
  {
   "cell_type": "code",
   "execution_count": 10,
   "id": "3d85e247",
   "metadata": {},
   "outputs": [],
   "source": [
    "from IPython.display import display, Math, Latex"
   ]
  },
  {
   "cell_type": "code",
   "execution_count": 14,
   "id": "b344fee4",
   "metadata": {},
   "outputs": [
    {
     "data": {
      "text/latex": [
       "$\\displaystyle F(k) = \\int_{-\\infty}^{\\infty} f(x) e^{2\\pi i k} dx$"
      ],
      "text/plain": [
       "<IPython.core.display.Math object>"
      ]
     },
     "metadata": {},
     "output_type": "display_data"
    }
   ],
   "source": [
    "display(Math(r'F(k) = \\int_{-\\infty}^{\\infty} f(x) e^{2\\pi i k} dx'))"
   ]
  },
  {
   "cell_type": "markdown",
   "id": "3e8eb691",
   "metadata": {},
   "source": [
    "## sub/super scripts"
   ]
  },
  {
   "cell_type": "markdown",
   "id": "75c83ce0",
   "metadata": {},
   "source": [
    "subscript\n",
    "_"
   ]
  },
  {
   "cell_type": "code",
   "execution_count": 16,
   "id": "84f547a1",
   "metadata": {},
   "outputs": [
    {
     "data": {
      "text/latex": [
       "$\\displaystyle \\alpha_i> \\beta_i$"
      ],
      "text/plain": [
       "<IPython.core.display.Math object>"
      ]
     },
     "metadata": {},
     "output_type": "display_data"
    }
   ],
   "source": [
    "display(Math(r'\\alpha_i> \\beta_i'))"
   ]
  },
  {
   "cell_type": "markdown",
   "id": "6f4c896b",
   "metadata": {},
   "source": [
    "superscript ^"
   ]
  },
  {
   "cell_type": "code",
   "execution_count": 18,
   "id": "8c6a1bf6",
   "metadata": {},
   "outputs": [
    {
     "data": {
      "text/latex": [
       "$\\displaystyle \\sum_{i=0}^\\infty x_i$"
      ],
      "text/plain": [
       "<IPython.core.display.Math object>"
      ]
     },
     "metadata": {},
     "output_type": "display_data"
    }
   ],
   "source": [
    "display(Math(r'$\\sum_{i=0}^\\infty x_i$'))"
   ]
  },
  {
   "cell_type": "markdown",
   "id": "49e25ac2",
   "metadata": {},
   "source": [
    "## fraction, binomials, stacked numbers\n",
    "frac{}{}"
   ]
  },
  {
   "cell_type": "code",
   "execution_count": 24,
   "id": "f35b1f64",
   "metadata": {},
   "outputs": [
    {
     "ename": "SyntaxError",
     "evalue": "invalid syntax (<ipython-input-24-3f5cc98104ad>, line 1)",
     "output_type": "error",
     "traceback": [
      "\u001b[0;36m  File \u001b[0;32m\"<ipython-input-24-3f5cc98104ad>\"\u001b[0;36m, line \u001b[0;32m1\u001b[0m\n\u001b[0;31m    $$\\frac{3}{4} \\binom{3}{4} \\stackrel{3}{4}$$\u001b[0m\n\u001b[0m    ^\u001b[0m\n\u001b[0;31mSyntaxError\u001b[0m\u001b[0;31m:\u001b[0m invalid syntax\n"
     ]
    }
   ],
   "source": [
    "$$\\frac{3}{4} \\binom{3}{4} \\stackrel{3}{4}$$"
   ]
  },
  {
   "cell_type": "markdown",
   "id": "f36d352d",
   "metadata": {},
   "source": [
    "$$\\frac{3}{4} \\binom{3}{4} \\stackrel{3}{4}$$"
   ]
  },
  {
   "cell_type": "markdown",
   "id": "4c5b52b2",
   "metadata": {},
   "source": [
    "nest fractions"
   ]
  },
  {
   "cell_type": "markdown",
   "id": "3e43e83b",
   "metadata": {},
   "source": [
    "$$ \\frac{1}{x} $$"
   ]
  },
  {
   "cell_type": "markdown",
   "id": "9de584f7",
   "metadata": {},
   "source": [
    "## square\n",
    "^"
   ]
  },
  {
   "cell_type": "code",
   "execution_count": 28,
   "id": "6fd4d3ed",
   "metadata": {},
   "outputs": [
    {
     "data": {
      "text/latex": [
       "$\\displaystyle  a^2 + b^2 = c^2 $"
      ],
      "text/plain": [
       "<IPython.core.display.Math object>"
      ]
     },
     "metadata": {},
     "output_type": "display_data"
    }
   ],
   "source": [
    "display(Math(r'$ a^2 + b^2 = c^2 $'))"
   ]
  },
  {
   "cell_type": "markdown",
   "id": "2f464d5f",
   "metadata": {},
   "source": [
    "## sqrt\n",
    "\\sqrt{}"
   ]
  },
  {
   "cell_type": "code",
   "execution_count": 34,
   "id": "c81432ac",
   "metadata": {},
   "outputs": [
    {
     "data": {
      "text/latex": [
       "$\\displaystyle  \\sqrt{a^2 + b^2} $"
      ],
      "text/plain": [
       "<IPython.core.display.Math object>"
      ]
     },
     "metadata": {},
     "output_type": "display_data"
    }
   ],
   "source": [
    "display(Math(r'$ \\sqrt{a^2 + b^2} $'))"
   ]
  },
  {
   "cell_type": "markdown",
   "id": "004c143b",
   "metadata": {},
   "source": [
    "## operands and conditions"
   ]
  },
  {
   "cell_type": "code",
   "execution_count": 32,
   "id": "e00977dd",
   "metadata": {},
   "outputs": [
    {
     "data": {
      "text/latex": [
       "$\\displaystyle  x \\geq 0 $"
      ],
      "text/plain": [
       "<IPython.core.display.Math object>"
      ]
     },
     "metadata": {},
     "output_type": "display_data"
    }
   ],
   "source": [
    "display(Math(r'$ x \\geq 0 $'))"
   ]
  },
  {
   "cell_type": "code",
   "execution_count": 29,
   "id": "644e1d35",
   "metadata": {},
   "outputs": [
    {
     "data": {
      "text/latex": [
       "$\\displaystyle  \\forall x \\in \\mathbf{R} $"
      ],
      "text/plain": [
       "<IPython.core.display.Math object>"
      ]
     },
     "metadata": {},
     "output_type": "display_data"
    }
   ],
   "source": [
    "display(Math(r'$ \\forall x \\in \\mathbf{R} $'))"
   ]
  },
  {
   "cell_type": "markdown",
   "id": "d119da9e",
   "metadata": {},
   "source": [
    "## vector"
   ]
  },
  {
   "cell_type": "code",
   "execution_count": 39,
   "id": "7a5e3ee8",
   "metadata": {},
   "outputs": [
    {
     "data": {
      "text/latex": [
       "$\\displaystyle  \\vec{ab} $"
      ],
      "text/plain": [
       "<IPython.core.display.Math object>"
      ]
     },
     "metadata": {},
     "output_type": "display_data"
    }
   ],
   "source": [
    "display(Math(r'$ \\vec{ab} $'))"
   ]
  },
  {
   "cell_type": "code",
   "execution_count": 40,
   "id": "6e2861c9",
   "metadata": {},
   "outputs": [
    {
     "data": {
      "text/latex": [
       "$\\displaystyle  \\overrightarrow{AB}  $"
      ],
      "text/plain": [
       "<IPython.core.display.Math object>"
      ]
     },
     "metadata": {},
     "output_type": "display_data"
    }
   ],
   "source": [
    "display(Math(r'$ \\overrightarrow{AB}  $'))"
   ]
  },
  {
   "cell_type": "code",
   "execution_count": 41,
   "id": "a8a52365",
   "metadata": {},
   "outputs": [
    {
     "data": {
      "text/latex": [
       "$\\displaystyle  \\overleftarrow{AB}  $"
      ],
      "text/plain": [
       "<IPython.core.display.Math object>"
      ]
     },
     "metadata": {},
     "output_type": "display_data"
    }
   ],
   "source": [
    "display(Math(r'$ \\overleftarrow{AB}  $'))"
   ]
  },
  {
   "cell_type": "code",
   "execution_count": 44,
   "id": "0f2daa1c",
   "metadata": {},
   "outputs": [
    {
     "data": {
      "text/latex": [
       "$\\displaystyle  \\lim_{x \\rightarrow 0} \\frac{\\sin x}{x}= 1  $"
      ],
      "text/plain": [
       "<IPython.core.display.Math object>"
      ]
     },
     "metadata": {},
     "output_type": "display_data"
    }
   ],
   "source": [
    "display(Math(r'$ \\lim_{x \\rightarrow 0} \\frac{\\sin x}{x}= 1  $'))"
   ]
  },
  {
   "cell_type": "markdown",
   "id": "2c7343f6",
   "metadata": {},
   "source": [
    "## matrix"
   ]
  },
  {
   "cell_type": "code",
   "execution_count": 85,
   "id": "321f50b9",
   "metadata": {},
   "outputs": [
    {
     "ename": "SyntaxError",
     "evalue": "unexpected character after line continuation character (<ipython-input-85-f153b2e9e666>, line 1)",
     "output_type": "error",
     "traceback": [
      "\u001b[0;36m  File \u001b[0;32m\"<ipython-input-85-f153b2e9e666>\"\u001b[0;36m, line \u001b[0;32m1\u001b[0m\n\u001b[0;31m    \\begin{equation*}\u001b[0m\n\u001b[0m                     ^\u001b[0m\n\u001b[0;31mSyntaxError\u001b[0m\u001b[0;31m:\u001b[0m unexpected character after line continuation character\n"
     ]
    }
   ],
   "source": [
    "\\begin{equation*}\n",
    "    \\mathbf{X} = \\left(\n",
    "        \\begin{array}{ccc}\n",
    "            x_1 & x_2 & \\ldots \\\\\n",
    "            x_3 & x_4 & \\ldots \\\\\n",
    "        \\vdots & \\vdots & \\ddots\n",
    "    \\end{array} \\right)\n",
    "\\end{equation*}"
   ]
  },
  {
   "cell_type": "markdown",
   "id": "c74405c6",
   "metadata": {},
   "source": [
    "use \\ \\ to break lines\n",
    "\n"
   ]
  },
  {
   "cell_type": "markdown",
   "id": "dcd4d1d2",
   "metadata": {},
   "source": [
    "\\begin{equation*}\n",
    "    X = \\left(\n",
    "        \\begin{array}{ccc}\n",
    "            x_1 & x_2 & \\ldots \\\\\n",
    "            x_3 & x_4 & \\ldots \\\\\n",
    "        \\vdots & \\vdots & \\ddots\n",
    "    \\end{array} \\right)\n",
    "\\end{equation*}"
   ]
  },
  {
   "cell_type": "markdown",
   "id": "52c48047",
   "metadata": {},
   "source": [
    "## einstein notation"
   ]
  },
  {
   "cell_type": "code",
   "execution_count": 53,
   "id": "a97be0b3",
   "metadata": {},
   "outputs": [
    {
     "data": {
      "text/latex": [
       "$\\displaystyle  \\sum_{k= 1} ^n  $"
      ],
      "text/plain": [
       "<IPython.core.display.Math object>"
      ]
     },
     "metadata": {},
     "output_type": "display_data"
    }
   ],
   "source": [
    "display(Math(r'$ \\sum_{k= 1} ^n  $'))"
   ]
  },
  {
   "cell_type": "code",
   "execution_count": 51,
   "id": "b4356061",
   "metadata": {},
   "outputs": [
    {
     "data": {
      "text/latex": [
       "$\\displaystyle  \\prod_{k=1} ^n  $"
      ],
      "text/plain": [
       "<IPython.core.display.Math object>"
      ]
     },
     "metadata": {},
     "output_type": "display_data"
    }
   ],
   "source": [
    "display(Math(r'$ \\prod_{k=1} ^n  $'))"
   ]
  },
  {
   "cell_type": "code",
   "execution_count": 61,
   "id": "b90846c8",
   "metadata": {},
   "outputs": [
    {
     "data": {
      "text/latex": [
       "$\\displaystyle  \\int_0^\\frac{\\pi}{2}  $"
      ],
      "text/plain": [
       "<IPython.core.display.Math object>"
      ]
     },
     "metadata": {},
     "output_type": "display_data"
    }
   ],
   "source": [
    "display(Math(r'$ \\int_0^\\frac{\\pi}{2}  $'))"
   ]
  },
  {
   "cell_type": "markdown",
   "id": "9eae218f",
   "metadata": {},
   "source": [
    "## distribution"
   ]
  },
  {
   "cell_type": "markdown",
   "id": "ff14c065",
   "metadata": {},
   "source": [
    "### binom"
   ]
  },
  {
   "cell_type": "code",
   "execution_count": 58,
   "id": "d6f1c45b",
   "metadata": {},
   "outputs": [
    {
     "data": {
      "text/latex": [
       "$\\displaystyle  \\binom{n}{k} = \\binom{n-1}{k} + \\binom{n-1}{k-1} $"
      ],
      "text/plain": [
       "<IPython.core.display.Math object>"
      ]
     },
     "metadata": {},
     "output_type": "display_data"
    }
   ],
   "source": [
    "display(Math(r'$ \\binom{n}{k} = \\binom{n-1}{k} + \\binom{n-1}{k-1} $'))"
   ]
  },
  {
   "cell_type": "markdown",
   "id": "798124c9",
   "metadata": {},
   "source": [
    "## align\n",
    "begin{align} end{align}\n",
    "\n",
    "use & to mark alignment start"
   ]
  },
  {
   "cell_type": "code",
   "execution_count": 76,
   "id": "b345fee6",
   "metadata": {},
   "outputs": [
    {
     "data": {
      "text/latex": [
       "$\\displaystyle  \\begin{align} a &= b + c + d \\\\  & = e + f \\end{align} $"
      ],
      "text/plain": [
       "<IPython.core.display.Math object>"
      ]
     },
     "metadata": {},
     "output_type": "display_data"
    }
   ],
   "source": [
    "display(Math(r'$ \\begin{align} a &= b + c + d \\\\  & = e + f \\end{align} $'))"
   ]
  },
  {
   "cell_type": "markdown",
   "id": "2f8bd781",
   "metadata": {},
   "source": [
    "## multiline\n",
    "\\\\\\"
   ]
  },
  {
   "cell_type": "code",
   "execution_count": 73,
   "id": "f5b1540f",
   "metadata": {},
   "outputs": [
    {
     "data": {
      "text/latex": [
       "$\\displaystyle  a = b + c + d \\\\  = e + f $"
      ],
      "text/plain": [
       "<IPython.core.display.Math object>"
      ]
     },
     "metadata": {},
     "output_type": "display_data"
    }
   ],
   "source": [
    "display(Math(r'$ a = b + c + d \\\\  = e + f $'))"
   ]
  },
  {
   "cell_type": "markdown",
   "id": "5e15d254",
   "metadata": {},
   "source": [
    "## font"
   ]
  },
  {
   "cell_type": "markdown",
   "id": "da28966c",
   "metadata": {},
   "source": [
    "### bold"
   ]
  },
  {
   "cell_type": "code",
   "execution_count": 90,
   "id": "fb8fd89a",
   "metadata": {},
   "outputs": [
    {
     "data": {
      "text/latex": [
       "$\\displaystyle  \\mathbf{x} x $"
      ],
      "text/plain": [
       "<IPython.core.display.Math object>"
      ]
     },
     "metadata": {},
     "output_type": "display_data"
    }
   ],
   "source": [
    "display(Math(r'$ \\mathbf{x} x $'))"
   ]
  }
 ],
 "metadata": {
  "kernelspec": {
   "display_name": "Python 3",
   "language": "python",
   "name": "python3"
  },
  "language_info": {
   "codemirror_mode": {
    "name": "ipython",
    "version": 3
   },
   "file_extension": ".py",
   "mimetype": "text/x-python",
   "name": "python",
   "nbconvert_exporter": "python",
   "pygments_lexer": "ipython3",
   "version": "3.8.5"
  }
 },
 "nbformat": 4,
 "nbformat_minor": 5
}
