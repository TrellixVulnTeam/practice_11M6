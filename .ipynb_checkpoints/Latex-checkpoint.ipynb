{
 "cells": [
  {
   "cell_type": "markdown",
   "id": "9422794a",
   "metadata": {},
   "source": [
    "## In markdown cell"
   ]
  },
  {
   "cell_type": "markdown",
   "id": "068d0bc6",
   "metadata": {},
   "source": [
    "a) store text within dollar signs $$ "
   ]
  },
  {
   "cell_type": "markdown",
   "id": "3bc06b26",
   "metadata": {},
   "source": [
    "$$c= \\sqrt{a^2 + b^2}$$"
   ]
  },
  {
   "cell_type": "markdown",
   "id": "f3a9501b",
   "metadata": {},
   "source": [
    "b) store text within r'$$'"
   ]
  },
  {
   "cell_type": "markdown",
   "id": "2afaaa60",
   "metadata": {},
   "source": [
    "r'$\\sum_{i=0}^\\infty x_i$'"
   ]
  },
  {
   "cell_type": "markdown",
   "id": "e2bbcc56",
   "metadata": {},
   "source": [
    "## In python cell"
   ]
  },
  {
   "cell_type": "code",
   "execution_count": 107,
   "id": "a299f7ec",
   "metadata": {},
   "outputs": [],
   "source": [
    "from IPython.display import display, Math, Latex"
   ]
  },
  {
   "cell_type": "code",
   "execution_count": 108,
   "id": "ca543ac0",
   "metadata": {},
   "outputs": [
    {
     "data": {
      "text/latex": [
       "$\\displaystyle F(k) = \\int_{-\\infty}^{\\infty} f(x) e^{2\\pi i k} dx$"
      ],
      "text/plain": [
       "<IPython.core.display.Math object>"
      ]
     },
     "metadata": {},
     "output_type": "display_data"
    }
   ],
   "source": [
    "display(Math(r'F(k) = \\int_{-\\infty}^{\\infty} f(x) e^{2\\pi i k} dx'))"
   ]
  },
  {
   "cell_type": "markdown",
   "id": "eb6dec5b",
   "metadata": {},
   "source": [
    "## sub/super scripts"
   ]
  },
  {
   "cell_type": "markdown",
   "id": "2fc0f1f2",
   "metadata": {},
   "source": [
    "subscript\n",
    "_"
   ]
  },
  {
   "cell_type": "code",
   "execution_count": 109,
   "id": "fd3f3515",
   "metadata": {},
   "outputs": [
    {
     "data": {
      "text/latex": [
       "$\\displaystyle \\alpha_i> \\beta_i$"
      ],
      "text/plain": [
       "<IPython.core.display.Math object>"
      ]
     },
     "metadata": {},
     "output_type": "display_data"
    }
   ],
   "source": [
    "display(Math(r'\\alpha_i> \\beta_i'))"
   ]
  },
  {
   "cell_type": "markdown",
   "id": "163bfb52",
   "metadata": {},
   "source": [
    "superscript ^"
   ]
  },
  {
   "cell_type": "code",
   "execution_count": 110,
   "id": "c1a7bb3d",
   "metadata": {},
   "outputs": [
    {
     "data": {
      "text/latex": [
       "$\\displaystyle \\sum_{i=0}^\\infty x_i$"
      ],
      "text/plain": [
       "<IPython.core.display.Math object>"
      ]
     },
     "metadata": {},
     "output_type": "display_data"
    }
   ],
   "source": [
    "display(Math(r'$\\sum_{i=0}^\\infty x_i$'))"
   ]
  },
  {
   "cell_type": "markdown",
   "id": "519152fc",
   "metadata": {},
   "source": [
    "## fraction, binomials, stacked numbers\n",
    "frac{}{}"
   ]
  },
  {
   "cell_type": "code",
   "execution_count": 111,
   "id": "2d12589e",
   "metadata": {},
   "outputs": [
    {
     "ename": "SyntaxError",
     "evalue": "invalid syntax (<ipython-input-111-3f5cc98104ad>, line 1)",
     "output_type": "error",
     "traceback": [
      "\u001b[0;36m  File \u001b[0;32m\"<ipython-input-111-3f5cc98104ad>\"\u001b[0;36m, line \u001b[0;32m1\u001b[0m\n\u001b[0;31m    $$\\frac{3}{4} \\binom{3}{4} \\stackrel{3}{4}$$\u001b[0m\n\u001b[0m    ^\u001b[0m\n\u001b[0;31mSyntaxError\u001b[0m\u001b[0;31m:\u001b[0m invalid syntax\n"
     ]
    }
   ],
   "source": [
    "$$\\frac{3}{4} \\binom{3}{4} \\stackrel{3}{4}$$"
   ]
  },
  {
   "cell_type": "markdown",
   "id": "87fde5fc",
   "metadata": {},
   "source": [
    "$$\\frac{3}{4} \\binom{3}{4} \\stackrel{3}{4}$$"
   ]
  },
  {
   "cell_type": "markdown",
   "id": "f7f371fa",
   "metadata": {},
   "source": [
    "nest fractions"
   ]
  },
  {
   "cell_type": "markdown",
   "id": "064796a1",
   "metadata": {},
   "source": [
    "$$ \\frac{1}{x} $$"
   ]
  },
  {
   "cell_type": "markdown",
   "id": "dbf855b3",
   "metadata": {},
   "source": [
    "## square\n",
    "^"
   ]
  },
  {
   "cell_type": "code",
   "execution_count": 112,
   "id": "43cb1464",
   "metadata": {},
   "outputs": [
    {
     "data": {
      "text/latex": [
       "$\\displaystyle  a^2 + b^2 = c^2 $"
      ],
      "text/plain": [
       "<IPython.core.display.Math object>"
      ]
     },
     "metadata": {},
     "output_type": "display_data"
    }
   ],
   "source": [
    "display(Math(r'$ a^2 + b^2 = c^2 $'))"
   ]
  },
  {
   "cell_type": "markdown",
   "id": "2b82de26",
   "metadata": {},
   "source": [
    "## sqrt\n",
    "\\sqrt{}"
   ]
  },
  {
   "cell_type": "code",
   "execution_count": 113,
   "id": "2a8805b3",
   "metadata": {},
   "outputs": [
    {
     "data": {
      "text/latex": [
       "$\\displaystyle  \\sqrt{a^2 + b^2} $"
      ],
      "text/plain": [
       "<IPython.core.display.Math object>"
      ]
     },
     "metadata": {},
     "output_type": "display_data"
    }
   ],
   "source": [
    "display(Math(r'$ \\sqrt{a^2 + b^2} $'))"
   ]
  },
  {
   "cell_type": "markdown",
   "id": "9e2ebf73",
   "metadata": {},
   "source": [
    "## operands and conditions"
   ]
  },
  {
   "cell_type": "code",
   "execution_count": 114,
   "id": "e0683dc4",
   "metadata": {},
   "outputs": [
    {
     "data": {
      "text/latex": [
       "$\\displaystyle  x \\geq 0 $"
      ],
      "text/plain": [
       "<IPython.core.display.Math object>"
      ]
     },
     "metadata": {},
     "output_type": "display_data"
    }
   ],
   "source": [
    "display(Math(r'$ x \\geq 0 $'))"
   ]
  },
  {
   "cell_type": "code",
   "execution_count": 115,
   "id": "5b697c8f",
   "metadata": {},
   "outputs": [
    {
     "data": {
      "text/latex": [
       "$\\displaystyle  \\forall x \\in \\mathbf{R} $"
      ],
      "text/plain": [
       "<IPython.core.display.Math object>"
      ]
     },
     "metadata": {},
     "output_type": "display_data"
    }
   ],
   "source": [
    "display(Math(r'$ \\forall x \\in \\mathbf{R} $'))"
   ]
  },
  {
   "cell_type": "markdown",
   "id": "b35106c2",
   "metadata": {},
   "source": [
    "## delimiters"
   ]
  },
  {
   "cell_type": "markdown",
   "id": "e20097e3",
   "metadata": {},
   "source": [
    "use / left and / right to mark start and end of bracket"
   ]
  },
  {
   "cell_type": "markdown",
   "id": "099fd3a8",
   "metadata": {},
   "source": [
    "\\begin{equation*}\n",
    "    1- \\left( \\frac{1}{1-x^2} \\right) ^3\n",
    "\\end{equation*}"
   ]
  },
  {
   "cell_type": "markdown",
   "id": "922d41d0",
   "metadata": {},
   "source": [
    "## Sets"
   ]
  },
  {
   "cell_type": "markdown",
   "id": "89d50576",
   "metadata": {},
   "source": [
    "mathbb{}"
   ]
  },
  {
   "cell_type": "markdown",
   "id": "a4962e3d",
   "metadata": {},
   "source": [
    "$$  x \\in \\mathbb{R} $$"
   ]
  },
  {
   "cell_type": "markdown",
   "id": "da54e166",
   "metadata": {},
   "source": [
    "$$  x \\in \\mathbb{C} $$"
   ]
  },
  {
   "cell_type": "markdown",
   "id": "b905a413",
   "metadata": {},
   "source": [
    "## vector"
   ]
  },
  {
   "cell_type": "code",
   "execution_count": 116,
   "id": "266bc037",
   "metadata": {},
   "outputs": [
    {
     "data": {
      "text/latex": [
       "$\\displaystyle  \\vec{ab} $"
      ],
      "text/plain": [
       "<IPython.core.display.Math object>"
      ]
     },
     "metadata": {},
     "output_type": "display_data"
    }
   ],
   "source": [
    "display(Math(r'$ \\vec{ab} $'))"
   ]
  },
  {
   "cell_type": "code",
   "execution_count": 117,
   "id": "68cb6997",
   "metadata": {},
   "outputs": [
    {
     "data": {
      "text/latex": [
       "$\\displaystyle  \\overrightarrow{AB}  $"
      ],
      "text/plain": [
       "<IPython.core.display.Math object>"
      ]
     },
     "metadata": {},
     "output_type": "display_data"
    }
   ],
   "source": [
    "display(Math(r'$ \\overrightarrow{AB}  $'))"
   ]
  },
  {
   "cell_type": "code",
   "execution_count": 118,
   "id": "13774a1a",
   "metadata": {},
   "outputs": [
    {
     "data": {
      "text/latex": [
       "$\\displaystyle  \\overleftarrow{AB}  $"
      ],
      "text/plain": [
       "<IPython.core.display.Math object>"
      ]
     },
     "metadata": {},
     "output_type": "display_data"
    }
   ],
   "source": [
    "display(Math(r'$ \\overleftarrow{AB}  $'))"
   ]
  },
  {
   "cell_type": "code",
   "execution_count": 119,
   "id": "e0c6a221",
   "metadata": {},
   "outputs": [
    {
     "data": {
      "text/latex": [
       "$\\displaystyle  \\lim_{x \\rightarrow 0} \\frac{\\sin x}{x}= 1  $"
      ],
      "text/plain": [
       "<IPython.core.display.Math object>"
      ]
     },
     "metadata": {},
     "output_type": "display_data"
    }
   ],
   "source": [
    "display(Math(r'$ \\lim_{x \\rightarrow 0} \\frac{\\sin x}{x}= 1  $'))"
   ]
  },
  {
   "cell_type": "markdown",
   "id": "c32e12eb",
   "metadata": {},
   "source": [
    "## Matrix"
   ]
  },
  {
   "cell_type": "markdown",
   "id": "6eea10ea",
   "metadata": {},
   "source": [
    "### a) array{} method"
   ]
  },
  {
   "cell_type": "markdown",
   "id": "0aa46cb5",
   "metadata": {},
   "source": [
    "begin{array} \n",
    "\n",
    "- use \\ \\ to break lines\n",
    "\n",
    "end{array}"
   ]
  },
  {
   "cell_type": "markdown",
   "id": "66eac86c",
   "metadata": {},
   "source": [
    "- vdots (vertical)\n",
    "- ldots (lateral)\n",
    "- ddots (diagonal) "
   ]
  },
  {
   "cell_type": "markdown",
   "id": "2951930d",
   "metadata": {},
   "source": [
    "\\begin{equation*}\n",
    "    X = \\left(\n",
    "        \\begin{array}{ccc}\n",
    "            x_1 & x_2 & \\ldots \\\\\n",
    "            x_3 & x_4 & \\ldots \\\\\n",
    "        \\vdots & \\vdots & \\ddots\n",
    "    \\end{array} \\right)\n",
    "\\end{equation*}"
   ]
  },
  {
   "cell_type": "markdown",
   "id": "7aa372a7",
   "metadata": {},
   "source": [
    "{array} can also be use for piecewise functions by using a \".\" as an invisible \\right delimiter"
   ]
  },
  {
   "cell_type": "markdown",
   "id": "1da960b9",
   "metadata": {},
   "source": [
    "\\begin{equation*}\n",
    "    |x| = \\left\\{\n",
    "        \\begin{array}{rl}\n",
    "            -x  & \\text{if } x < 0, \\\\\n",
    "            0 & \\text{if } x = 0 ,\\\\\n",
    "            x & \\text{if } x > 0.\n",
    "        \\end{array} \\right.\n",
    "\\end{equation*}"
   ]
  },
  {
   "cell_type": "markdown",
   "id": "476481e4",
   "metadata": {},
   "source": [
    "amsmath cases environment syntax"
   ]
  },
  {
   "cell_type": "markdown",
   "id": "c33ec790",
   "metadata": {},
   "source": [
    "\\begin{equation*}\n",
    "    |x| =\n",
    "    \\begin{cases}\n",
    "        -x & \\text{if } x < 0,\\\\\n",
    "        0 & \\text{if } x = 0,\\\\\n",
    "        x & \\text{if } x > 0.\n",
    "    \\end{cases}\n",
    "\\end{equation*}"
   ]
  },
  {
   "cell_type": "markdown",
   "id": "0ce5bbc2",
   "metadata": {},
   "source": [
    "### b) amsmath matrix method "
   ]
  },
  {
   "cell_type": "markdown",
   "id": "c87a59e7",
   "metadata": {},
   "source": [
    "There are six versions with different delimiters: matrix (none), pmatrix (, bmatrix [, Bmatrix {, vmatrix\n",
    "| and Vmatrix k. \n",
    "\n",
    "You don’t have to specify the number of columns as with array. The maximum number is 10, but it is customisable (though it is not\n",
    "very often you need 10 columns!):"
   ]
  },
  {
   "cell_type": "markdown",
   "id": "3a546452",
   "metadata": {},
   "source": [
    "#### matrix (plain)"
   ]
  },
  {
   "cell_type": "markdown",
   "id": "d2712f3d",
   "metadata": {},
   "source": [
    "\\begin{equation*}\n",
    "    \\begin{matrix}\n",
    "    1 & 2 & 3\\\\\n",
    "    a & b & c\n",
    "    \\end{matrix}\n",
    "\\end{equation*}"
   ]
  },
  {
   "cell_type": "markdown",
   "id": "d42dc71c",
   "metadata": {},
   "source": [
    "#### pmatrix (round brackets)"
   ]
  },
  {
   "cell_type": "markdown",
   "id": "0b68794e",
   "metadata": {},
   "source": [
    "\\begin{pmatrix}\n",
    "    1 & 2 & 3\\\\\n",
    "    a & b & c\n",
    "\\end{pmatrix}"
   ]
  },
  {
   "cell_type": "markdown",
   "id": "2d8ede75",
   "metadata": {},
   "source": [
    "#### bmatrix (square brackets)"
   ]
  },
  {
   "cell_type": "markdown",
   "id": "bca17d89",
   "metadata": {},
   "source": [
    "\\begin{equation*}\n",
    "    \\begin{bmatrix}\n",
    "        p_{11} & p_{12} & \\ldots\n",
    "        & p_{1n} \\\\\n",
    "        p_{21} & p_{22} & \\ldots\n",
    "        & p_{2n} \\\\\n",
    "        \\vdots & \\vdots & \\ddots\n",
    "        & \\vdots \\\\\n",
    "        p_{m1} & p_{m2} & \\ldots\n",
    "        & p_{mn}\n",
    "    \\end{bmatrix}\n",
    "\\end{equation*}"
   ]
  },
  {
   "cell_type": "markdown",
   "id": "7c1d9076",
   "metadata": {},
   "source": [
    "#### vmatrix (pipes)"
   ]
  },
  {
   "cell_type": "markdown",
   "id": "d4d97a68",
   "metadata": {},
   "source": [
    "\\begin{vmatrix}\n",
    "1 & 2 & 3\\\\\n",
    "a & b & c\n",
    "\\end{vmatrix}"
   ]
  },
  {
   "cell_type": "markdown",
   "id": "e2187ed2",
   "metadata": {},
   "source": [
    "#### Vmatrix(double pipes)"
   ]
  },
  {
   "cell_type": "markdown",
   "id": "d8737d3f",
   "metadata": {},
   "source": [
    "\\begin{Vmatrix}\n",
    "1 & 2 & 3\\\\\n",
    "a & b & c\n",
    "\\end{Vmatrix}"
   ]
  },
  {
   "cell_type": "markdown",
   "id": "39f77939",
   "metadata": {},
   "source": [
    "## einstein notation"
   ]
  },
  {
   "cell_type": "code",
   "execution_count": 120,
   "id": "85474b42",
   "metadata": {},
   "outputs": [
    {
     "data": {
      "text/latex": [
       "$\\displaystyle  \\sum_{k= 1} ^n  $"
      ],
      "text/plain": [
       "<IPython.core.display.Math object>"
      ]
     },
     "metadata": {},
     "output_type": "display_data"
    }
   ],
   "source": [
    "display(Math(r'$ \\sum_{k= 1} ^n  $'))"
   ]
  },
  {
   "cell_type": "code",
   "execution_count": 121,
   "id": "8ed793ef",
   "metadata": {},
   "outputs": [
    {
     "data": {
      "text/latex": [
       "$\\displaystyle  \\prod_{k=1} ^n  $"
      ],
      "text/plain": [
       "<IPython.core.display.Math object>"
      ]
     },
     "metadata": {},
     "output_type": "display_data"
    }
   ],
   "source": [
    "display(Math(r'$ \\prod_{k=1} ^n  $'))"
   ]
  },
  {
   "cell_type": "code",
   "execution_count": 122,
   "id": "c9f04db8",
   "metadata": {},
   "outputs": [
    {
     "data": {
      "text/latex": [
       "$\\displaystyle  \\int_0^\\frac{\\pi}{2}  $"
      ],
      "text/plain": [
       "<IPython.core.display.Math object>"
      ]
     },
     "metadata": {},
     "output_type": "display_data"
    }
   ],
   "source": [
    "display(Math(r'$ \\int_0^\\frac{\\pi}{2}  $'))"
   ]
  },
  {
   "cell_type": "markdown",
   "id": "69f4badb",
   "metadata": {},
   "source": [
    "## distribution"
   ]
  },
  {
   "cell_type": "markdown",
   "id": "818c3ad8",
   "metadata": {},
   "source": [
    "### binom"
   ]
  },
  {
   "cell_type": "code",
   "execution_count": 123,
   "id": "237a31bc",
   "metadata": {},
   "outputs": [
    {
     "data": {
      "text/latex": [
       "$\\displaystyle  \\binom{n}{k} = \\binom{n-1}{k} + \\binom{n-1}{k-1} $"
      ],
      "text/plain": [
       "<IPython.core.display.Math object>"
      ]
     },
     "metadata": {},
     "output_type": "display_data"
    }
   ],
   "source": [
    "display(Math(r'$ \\binom{n}{k} = \\binom{n-1}{k} + \\binom{n-1}{k-1} $'))"
   ]
  },
  {
   "cell_type": "markdown",
   "id": "e0a1fb94",
   "metadata": {},
   "source": [
    "## align\n",
    "begin{align} end{align}\n",
    "\n",
    "use & to mark alignment start"
   ]
  },
  {
   "cell_type": "code",
   "execution_count": 124,
   "id": "61cd6af3",
   "metadata": {},
   "outputs": [
    {
     "data": {
      "text/latex": [
       "$\\displaystyle  \\begin{align} a &= b + c + d \\\\  & = e + f \\end{align} $"
      ],
      "text/plain": [
       "<IPython.core.display.Math object>"
      ]
     },
     "metadata": {},
     "output_type": "display_data"
    }
   ],
   "source": [
    "display(Math(r'$ \\begin{align} a &= b + c + d \\\\  & = e + f \\end{align} $'))"
   ]
  },
  {
   "cell_type": "markdown",
   "id": "3d57dfee",
   "metadata": {},
   "source": [
    "## multiline\n",
    "\\\\\\"
   ]
  },
  {
   "cell_type": "code",
   "execution_count": 125,
   "id": "84fab936",
   "metadata": {},
   "outputs": [
    {
     "data": {
      "text/latex": [
       "$\\displaystyle  a = b + c + d \\\\  = e + f $"
      ],
      "text/plain": [
       "<IPython.core.display.Math object>"
      ]
     },
     "metadata": {},
     "output_type": "display_data"
    }
   ],
   "source": [
    "display(Math(r'$ a = b + c + d \\\\  = e + f $'))"
   ]
  },
  {
   "cell_type": "markdown",
   "id": "e86a35ff",
   "metadata": {},
   "source": [
    "## font"
   ]
  },
  {
   "cell_type": "markdown",
   "id": "178510ea",
   "metadata": {},
   "source": [
    "### bold"
   ]
  },
  {
   "cell_type": "code",
   "execution_count": 126,
   "id": "612f7051",
   "metadata": {},
   "outputs": [
    {
     "data": {
      "text/latex": [
       "$\\displaystyle  \\mathbf{x} x $"
      ],
      "text/plain": [
       "<IPython.core.display.Math object>"
      ]
     },
     "metadata": {},
     "output_type": "display_data"
    }
   ],
   "source": [
    "display(Math(r'$ \\mathbf{x} x $'))"
   ]
  }
 ],
 "metadata": {
  "kernelspec": {
   "display_name": "Python 3",
   "language": "python",
   "name": "python3"
  },
  "language_info": {
   "codemirror_mode": {
    "name": "ipython",
    "version": 3
   },
   "file_extension": ".py",
   "mimetype": "text/x-python",
   "name": "python",
   "nbconvert_exporter": "python",
   "pygments_lexer": "ipython3",
   "version": "3.8.5"
  }
 },
 "nbformat": 4,
 "nbformat_minor": 5
}
