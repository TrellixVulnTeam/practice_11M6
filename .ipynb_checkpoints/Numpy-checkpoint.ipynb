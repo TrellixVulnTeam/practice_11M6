{
 "cells": [
  {
   "cell_type": "markdown",
   "id": "0b40565e",
   "metadata": {},
   "source": [
    "# Matrix"
   ]
  },
  {
   "cell_type": "code",
   "execution_count": 2,
   "id": "4f850ee2",
   "metadata": {},
   "outputs": [],
   "source": [
    "import numpy as np"
   ]
  },
  {
   "cell_type": "markdown",
   "id": "f566df85",
   "metadata": {},
   "source": [
    "## Create Matrices"
   ]
  },
  {
   "cell_type": "code",
   "execution_count": 7,
   "id": "58ab664c",
   "metadata": {},
   "outputs": [
    {
     "data": {
      "text/plain": [
       "array([0, 1, 2, 3, 4, 5, 6, 7, 8, 9])"
      ]
     },
     "execution_count": 7,
     "metadata": {},
     "output_type": "execute_result"
    }
   ],
   "source": [
    "A= np.arange(10)\n",
    "A"
   ]
  },
  {
   "cell_type": "code",
   "execution_count": 9,
   "id": "70225b2b",
   "metadata": {},
   "outputs": [
    {
     "data": {
      "text/plain": [
       "array([[0.59578286, 0.93271242, 0.14158801],\n",
       "       [0.42563384, 0.33023238, 0.67849557],\n",
       "       [0.03705646, 0.7408546 , 0.37783947]])"
      ]
     },
     "execution_count": 9,
     "metadata": {},
     "output_type": "execute_result"
    }
   ],
   "source": [
    "B= np.random.random((3,3))\n",
    "B"
   ]
  },
  {
   "cell_type": "code",
   "execution_count": 10,
   "id": "4f38abf3",
   "metadata": {},
   "outputs": [
    {
     "data": {
      "text/plain": [
       "array([[[0.36309999, 0.27607605, 0.59934025],\n",
       "        [0.85372172, 0.57099199, 0.82774999],\n",
       "        [0.75020928, 0.16897947, 0.01534647]],\n",
       "\n",
       "       [[0.18404053, 0.94734592, 0.52945569],\n",
       "        [0.62293747, 0.2888201 , 0.65131465],\n",
       "        [0.43035393, 0.97244163, 0.11622145]],\n",
       "\n",
       "       [[0.4225607 , 0.76126189, 0.83816784],\n",
       "        [0.80465157, 0.62119797, 0.73389598],\n",
       "        [0.72152497, 0.23475936, 0.77598625]]])"
      ]
     },
     "execution_count": 10,
     "metadata": {},
     "output_type": "execute_result"
    }
   ],
   "source": [
    "# 3D matrix \n",
    "C = np.random.random((3,3,3))\n",
    "C"
   ]
  },
  {
   "cell_type": "code",
   "execution_count": 16,
   "id": "5179b40c",
   "metadata": {},
   "outputs": [
    {
     "data": {
      "text/plain": [
       "array([[1., 0., 0.],\n",
       "       [0., 1., 0.],\n",
       "       [0., 0., 1.]])"
      ]
     },
     "execution_count": 16,
     "metadata": {},
     "output_type": "execute_result"
    }
   ],
   "source": [
    "# identity matrix\n",
    "\n",
    "np.eye(3)"
   ]
  },
  {
   "cell_type": "markdown",
   "id": "7cdf0abb",
   "metadata": {},
   "source": [
    "## See Matrix details"
   ]
  },
  {
   "cell_type": "code",
   "execution_count": 6,
   "id": "367e25ca",
   "metadata": {},
   "outputs": [
    {
     "name": "stdout",
     "output_type": "stream",
     "text": [
      "1\n"
     ]
    }
   ],
   "source": [
    "print(A.ndim)"
   ]
  },
  {
   "cell_type": "code",
   "execution_count": 7,
   "id": "3602fde1",
   "metadata": {},
   "outputs": [
    {
     "name": "stdout",
     "output_type": "stream",
     "text": [
      "(10,)\n"
     ]
    }
   ],
   "source": [
    "print(A.shape)"
   ]
  },
  {
   "cell_type": "markdown",
   "id": "43efb495",
   "metadata": {},
   "source": [
    "## Index/ Slice\n",
    "\n",
    "- [start: stop: steps, start: stop: steps]\n",
    "- steps --> if 1 step\n",
    "- note: slices are views (copy by reference)"
   ]
  },
  {
   "cell_type": "code",
   "execution_count": 27,
   "id": "59e68a58",
   "metadata": {},
   "outputs": [
    {
     "data": {
      "text/plain": [
       "array([0.44614158, 0.95792499, 0.69729418])"
      ]
     },
     "execution_count": 27,
     "metadata": {},
     "output_type": "execute_result"
    }
   ],
   "source": [
    "# get x= 0, y = 2 for 3D array \n",
    "\n",
    "C[0, 2, :]"
   ]
  },
  {
   "cell_type": "markdown",
   "id": "bf427dce",
   "metadata": {},
   "source": [
    "### Practice\n",
    "\n",
    "get colored subsets"
   ]
  },
  {
   "cell_type": "markdown",
   "id": "1ecdcbca",
   "metadata": {},
   "source": [
    "<img src=\"https://github.com/cse6040/labs-fa17/raw/master/lab10-numpy/slicing-exercise.png\" alt=\"Exercise: Extract these slices\" width=\"240\">"
   ]
  },
  {
   "cell_type": "code",
   "execution_count": 29,
   "id": "5670cc10",
   "metadata": {},
   "outputs": [
    {
     "data": {
      "text/plain": [
       "array([[ 0,  1,  2,  3,  4,  5],\n",
       "       [10, 11, 12, 13, 14, 15],\n",
       "       [20, 21, 22, 23, 24, 25],\n",
       "       [30, 31, 32, 33, 34, 35],\n",
       "       [40, 41, 42, 43, 44, 45],\n",
       "       [50, 51, 52, 53, 54, 55]])"
      ]
     },
     "execution_count": 29,
     "metadata": {},
     "output_type": "execute_result"
    }
   ],
   "source": [
    "Z= np.array([[0,1,2,3,4,5],[10,11,12,13,14,15],[20,21,22,23,24,25],[30,31,32,33,34,35],[40,41,42,43,44,45],[50,51,52,53,54,55]])\n",
    "Z"
   ]
  },
  {
   "cell_type": "code",
   "execution_count": 42,
   "id": "035b3144",
   "metadata": {},
   "outputs": [
    {
     "data": {
      "text/plain": [
       "array([[20, 22, 24],\n",
       "       [40, 42, 44]])"
      ]
     },
     "execution_count": 42,
     "metadata": {},
     "output_type": "execute_result"
    }
   ],
   "source": [
    "# green\n",
    "Z[2:: 2, 0::2]"
   ]
  },
  {
   "cell_type": "markdown",
   "id": "8cdee671",
   "metadata": {},
   "source": [
    "### check whether share memory"
   ]
  },
  {
   "cell_type": "code",
   "execution_count": 44,
   "id": "23c93ffd",
   "metadata": {},
   "outputs": [
    {
     "data": {
      "text/plain": [
       "False"
      ]
     },
     "execution_count": 44,
     "metadata": {},
     "output_type": "execute_result"
    }
   ],
   "source": [
    "np.may_share_memory(Z, Z.copy())"
   ]
  },
  {
   "cell_type": "code",
   "execution_count": 45,
   "id": "34062cc9",
   "metadata": {},
   "outputs": [
    {
     "data": {
      "text/plain": [
       "True"
      ]
     },
     "execution_count": 45,
     "metadata": {},
     "output_type": "execute_result"
    }
   ],
   "source": [
    "np.may_share_memory(Z, Z)"
   ]
  },
  {
   "cell_type": "markdown",
   "id": "76aefa3b",
   "metadata": {},
   "source": [
    "### Boolean mask"
   ]
  },
  {
   "cell_type": "code",
   "execution_count": 49,
   "id": "d9e92d28",
   "metadata": {},
   "outputs": [
    {
     "data": {
      "text/plain": [
       "array([[ True, False, False,  True, False, False],\n",
       "       [False, False,  True, False, False,  True],\n",
       "       [False,  True, False, False,  True, False],\n",
       "       [ True, False, False,  True, False, False],\n",
       "       [False, False,  True, False, False,  True],\n",
       "       [False,  True, False, False,  True, False]])"
      ]
     },
     "execution_count": 49,
     "metadata": {},
     "output_type": "execute_result"
    }
   ],
   "source": [
    "# boolean matrix if number is positive multiple of 3\n",
    "mask = Z%3 == 0\n",
    "mask"
   ]
  },
  {
   "cell_type": "code",
   "execution_count": 35,
   "id": "3c875825",
   "metadata": {},
   "outputs": [
    {
     "data": {
      "text/plain": [
       "array([[ True, False],\n",
       "       [False, False],\n",
       "       [False, False]])"
      ]
     },
     "execution_count": 35,
     "metadata": {},
     "output_type": "execute_result"
    }
   ],
   "source": [
    "is_prime = np.empty(n+1, dtype = bool)\n",
    "is_prime[:3]\n"
   ]
  },
  {
   "cell_type": "markdown",
   "id": "6b36cc1b",
   "metadata": {},
   "source": [
    "## .norm"
   ]
  },
  {
   "cell_type": "code",
   "execution_count": 52,
   "id": "0441b7c8",
   "metadata": {},
   "outputs": [
    {
     "data": {
      "text/plain": [
       "array([[0.59578286, 0.93271242, 0.14158801],\n",
       "       [0.42563384, 0.33023238, 0.67849557],\n",
       "       [0.03705646, 0.7408546 , 0.37783947]])"
      ]
     },
     "execution_count": 52,
     "metadata": {},
     "output_type": "execute_result"
    }
   ],
   "source": [
    "B"
   ]
  },
  {
   "cell_type": "code",
   "execution_count": 64,
   "id": "934677fb",
   "metadata": {},
   "outputs": [
    {
     "data": {
      "text/plain": [
       "array([1.11577634, 0.86635664, 0.83246705])"
      ]
     },
     "execution_count": 64,
     "metadata": {},
     "output_type": "execute_result"
    }
   ],
   "source": [
    "B_norm = np.linalg.norm(B, ord=2, axis = 1)\n",
    "B_norm"
   ]
  },
  {
   "cell_type": "markdown",
   "id": "a8c0bc8f",
   "metadata": {},
   "source": [
    "# random.choice\n",
    "- choice( 1D array/ int, size = int/ tuple, replace= True, p )\n",
    "- if int used instead of array population, then sample generated as if it were np.arange(int)\n",
    "- size by tuple i.e. (m, n, k ) = m* n * k\n",
    "- replace -> sample replacement or not\n",
    "- p -> probabilities associated with each data entry, else uniform"
   ]
  },
  {
   "cell_type": "code",
   "execution_count": 5,
   "id": "d1a4375f",
   "metadata": {},
   "outputs": [
    {
     "data": {
      "text/plain": [
       "array([0, 2])"
      ]
     },
     "execution_count": 5,
     "metadata": {},
     "output_type": "execute_result"
    }
   ],
   "source": [
    "np.random.choice(5,2, replace = True)"
   ]
  },
  {
   "cell_type": "markdown",
   "id": "836249de",
   "metadata": {},
   "source": [
    "## a) use len(arr) if array > 1D --> to randomize the row"
   ]
  },
  {
   "cell_type": "code",
   "execution_count": 32,
   "id": "b6eeb692",
   "metadata": {},
   "outputs": [
    {
     "data": {
      "text/plain": [
       "array([[5.1, 3.5, 1.4, 0.2, 'setosa'],\n",
       "       [4.9, 3.0, 1.4, 0.2, 'setosa'],\n",
       "       [4.7, 3.2, 1.3, 0.2, 'setosa'],\n",
       "       [4.6, 3.1, 1.5, 0.2, 'setosa']], dtype=object)"
      ]
     },
     "execution_count": 32,
     "metadata": {},
     "output_type": "execute_result"
    }
   ],
   "source": [
    "# 2D array here\n",
    "import seaborn as sns\n",
    "iris = sns.load_dataset('iris')[:4]\n",
    "iris_arr= iris.to_numpy()\n",
    "iris_arr"
   ]
  },
  {
   "cell_type": "code",
   "execution_count": 33,
   "id": "0b4b99b7",
   "metadata": {},
   "outputs": [
    {
     "data": {
      "text/plain": [
       "array([3, 1])"
      ]
     },
     "execution_count": 33,
     "metadata": {},
     "output_type": "execute_result"
    }
   ],
   "source": [
    "from numpy.random import choice\n",
    "# get random rows\n",
    "n = choice(len(iris), size= 2)\n",
    "n"
   ]
  },
  {
   "cell_type": "code",
   "execution_count": 31,
   "id": "446ed394",
   "metadata": {},
   "outputs": [
    {
     "data": {
      "text/plain": [
       "array([[5.1, 3.5, 1.4, 0.2, 'setosa'],\n",
       "       [4.9, 3.0, 1.4, 0.2, 'setosa']], dtype=object)"
      ]
     },
     "execution_count": 31,
     "metadata": {},
     "output_type": "execute_result"
    }
   ],
   "source": [
    "iris_arr[n,:]"
   ]
  }
 ],
 "metadata": {
  "kernelspec": {
   "display_name": "Python 3",
   "language": "python",
   "name": "python3"
  },
  "language_info": {
   "codemirror_mode": {
    "name": "ipython",
    "version": 3
   },
   "file_extension": ".py",
   "mimetype": "text/x-python",
   "name": "python",
   "nbconvert_exporter": "python",
   "pygments_lexer": "ipython3",
   "version": "3.8.5"
  }
 },
 "nbformat": 4,
 "nbformat_minor": 5
}
