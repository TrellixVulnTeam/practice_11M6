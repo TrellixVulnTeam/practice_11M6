{
 "cells": [
  {
   "cell_type": "markdown",
   "id": "0b40565e",
   "metadata": {},
   "source": [
    "# Matrix"
   ]
  },
  {
   "cell_type": "code",
   "execution_count": 2,
   "id": "4f850ee2",
   "metadata": {},
   "outputs": [],
   "source": [
    "import numpy as np"
   ]
  },
  {
   "cell_type": "markdown",
   "id": "f566df85",
   "metadata": {},
   "source": [
    "## Create Matrices"
   ]
  },
  {
   "cell_type": "code",
   "execution_count": 5,
   "id": "58ab664c",
   "metadata": {},
   "outputs": [
    {
     "data": {
      "text/plain": [
       "array([0, 1, 2, 3, 4, 5, 6, 7, 8, 9])"
      ]
     },
     "execution_count": 5,
     "metadata": {},
     "output_type": "execute_result"
    }
   ],
   "source": [
    "A= np.arange(10)\n",
    "A"
   ]
  },
  {
   "cell_type": "code",
   "execution_count": 12,
   "id": "70225b2b",
   "metadata": {},
   "outputs": [
    {
     "data": {
      "text/plain": [
       "array([[0.63156294, 0.83791311, 0.54075354],\n",
       "       [0.65465748, 0.14661214, 0.77815925],\n",
       "       [0.04325745, 0.01999264, 0.01372964]])"
      ]
     },
     "execution_count": 12,
     "metadata": {},
     "output_type": "execute_result"
    }
   ],
   "source": [
    "B= np.random.random((3,3))\n",
    "B"
   ]
  },
  {
   "cell_type": "code",
   "execution_count": 23,
   "id": "4f38abf3",
   "metadata": {},
   "outputs": [
    {
     "data": {
      "text/plain": [
       "array([[[0.37588391, 0.23696579, 0.1140225 ],\n",
       "        [0.52817119, 0.20249194, 0.80738964],\n",
       "        [0.44614158, 0.95792499, 0.69729418]],\n",
       "\n",
       "       [[0.16677464, 0.1398562 , 0.47115186],\n",
       "        [0.34646884, 0.16044287, 0.61260063],\n",
       "        [0.9901498 , 0.07520596, 0.85723326]],\n",
       "\n",
       "       [[0.98094584, 0.0466296 , 0.39090678],\n",
       "        [0.31571668, 0.19290348, 0.06994099],\n",
       "        [0.28737113, 0.21922455, 0.40919275]]])"
      ]
     },
     "execution_count": 23,
     "metadata": {},
     "output_type": "execute_result"
    }
   ],
   "source": [
    "# 3D matrix \n",
    "C = np.random.random((3,3,3))\n",
    "C"
   ]
  },
  {
   "cell_type": "code",
   "execution_count": 16,
   "id": "5179b40c",
   "metadata": {},
   "outputs": [
    {
     "data": {
      "text/plain": [
       "array([[1., 0., 0.],\n",
       "       [0., 1., 0.],\n",
       "       [0., 0., 1.]])"
      ]
     },
     "execution_count": 16,
     "metadata": {},
     "output_type": "execute_result"
    }
   ],
   "source": [
    "# identity matrix\n",
    "\n",
    "np.eye(3)"
   ]
  },
  {
   "cell_type": "markdown",
   "id": "7cdf0abb",
   "metadata": {},
   "source": [
    "## See Matrix details"
   ]
  },
  {
   "cell_type": "code",
   "execution_count": 6,
   "id": "367e25ca",
   "metadata": {},
   "outputs": [
    {
     "name": "stdout",
     "output_type": "stream",
     "text": [
      "1\n"
     ]
    }
   ],
   "source": [
    "print(A.ndim)"
   ]
  },
  {
   "cell_type": "code",
   "execution_count": 7,
   "id": "3602fde1",
   "metadata": {},
   "outputs": [
    {
     "name": "stdout",
     "output_type": "stream",
     "text": [
      "(10,)\n"
     ]
    }
   ],
   "source": [
    "print(A.shape)"
   ]
  },
  {
   "cell_type": "markdown",
   "id": "43efb495",
   "metadata": {},
   "source": [
    "## Index/ Slice\n",
    "\n",
    "- [start: stop: steps, start: stop: steps]\n",
    "- steps --> if 1 step\n",
    "- note: slices are views (copy by reference)"
   ]
  },
  {
   "cell_type": "code",
   "execution_count": 27,
   "id": "59e68a58",
   "metadata": {},
   "outputs": [
    {
     "data": {
      "text/plain": [
       "array([0.44614158, 0.95792499, 0.69729418])"
      ]
     },
     "execution_count": 27,
     "metadata": {},
     "output_type": "execute_result"
    }
   ],
   "source": [
    "# get x= 0, y = 2 for 3D array \n",
    "\n",
    "C[0, 2, :]"
   ]
  },
  {
   "cell_type": "markdown",
   "id": "bf427dce",
   "metadata": {},
   "source": [
    "### Practice\n",
    "\n",
    "get colored subsets"
   ]
  },
  {
   "cell_type": "markdown",
   "id": "1ecdcbca",
   "metadata": {},
   "source": [
    "<img src=\"https://github.com/cse6040/labs-fa17/raw/master/lab10-numpy/slicing-exercise.png\" alt=\"Exercise: Extract these slices\" width=\"240\">"
   ]
  },
  {
   "cell_type": "code",
   "execution_count": 29,
   "id": "5670cc10",
   "metadata": {},
   "outputs": [
    {
     "data": {
      "text/plain": [
       "array([[ 0,  1,  2,  3,  4,  5],\n",
       "       [10, 11, 12, 13, 14, 15],\n",
       "       [20, 21, 22, 23, 24, 25],\n",
       "       [30, 31, 32, 33, 34, 35],\n",
       "       [40, 41, 42, 43, 44, 45],\n",
       "       [50, 51, 52, 53, 54, 55]])"
      ]
     },
     "execution_count": 29,
     "metadata": {},
     "output_type": "execute_result"
    }
   ],
   "source": [
    "Z= np.array([[0,1,2,3,4,5],[10,11,12,13,14,15],[20,21,22,23,24,25],[30,31,32,33,34,35],[40,41,42,43,44,45],[50,51,52,53,54,55]])\n",
    "Z"
   ]
  },
  {
   "cell_type": "code",
   "execution_count": 42,
   "id": "035b3144",
   "metadata": {},
   "outputs": [
    {
     "data": {
      "text/plain": [
       "array([[20, 22, 24],\n",
       "       [40, 42, 44]])"
      ]
     },
     "execution_count": 42,
     "metadata": {},
     "output_type": "execute_result"
    }
   ],
   "source": [
    "# green\n",
    "Z[2:: 2, 0::2]"
   ]
  },
  {
   "cell_type": "markdown",
   "id": "8cdee671",
   "metadata": {},
   "source": [
    "### check whether share memory"
   ]
  },
  {
   "cell_type": "code",
   "execution_count": 44,
   "id": "23c93ffd",
   "metadata": {},
   "outputs": [
    {
     "data": {
      "text/plain": [
       "False"
      ]
     },
     "execution_count": 44,
     "metadata": {},
     "output_type": "execute_result"
    }
   ],
   "source": [
    "np.may_share_memory(Z, Z.copy())"
   ]
  },
  {
   "cell_type": "code",
   "execution_count": 45,
   "id": "34062cc9",
   "metadata": {},
   "outputs": [
    {
     "data": {
      "text/plain": [
       "True"
      ]
     },
     "execution_count": 45,
     "metadata": {},
     "output_type": "execute_result"
    }
   ],
   "source": [
    "np.may_share_memory(Z, Z)"
   ]
  },
  {
   "cell_type": "markdown",
   "id": "76aefa3b",
   "metadata": {},
   "source": [
    "### Boolean mask"
   ]
  },
  {
   "cell_type": "code",
   "execution_count": 49,
   "id": "d9e92d28",
   "metadata": {},
   "outputs": [
    {
     "data": {
      "text/plain": [
       "array([[ True, False, False,  True, False, False],\n",
       "       [False, False,  True, False, False,  True],\n",
       "       [False,  True, False, False,  True, False],\n",
       "       [ True, False, False,  True, False, False],\n",
       "       [False, False,  True, False, False,  True],\n",
       "       [False,  True, False, False,  True, False]])"
      ]
     },
     "execution_count": 49,
     "metadata": {},
     "output_type": "execute_result"
    }
   ],
   "source": [
    "# boolean matrix if number is positive multiple of 3\n",
    "mask = Z%3 == 0\n",
    "mask"
   ]
  },
  {
   "cell_type": "code",
   "execution_count": 54,
   "id": "3c875825",
   "metadata": {},
   "outputs": [
    {
     "ename": "SyntaxError",
     "evalue": "invalid syntax (<ipython-input-54-3b87580827ae>, line 2)",
     "output_type": "error",
     "traceback": [
      "\u001b[0;36m  File \u001b[0;32m\"<ipython-input-54-3b87580827ae>\"\u001b[0;36m, line \u001b[0;32m2\u001b[0m\n\u001b[0;31m    is_prime[]\u001b[0m\n\u001b[0m             ^\u001b[0m\n\u001b[0;31mSyntaxError\u001b[0m\u001b[0;31m:\u001b[0m invalid syntax\n"
     ]
    }
   ],
   "source": [
    "is_prime = np.empty(n+1, dtype = bool)\n",
    "is_prime[]\n"
   ]
  },
  {
   "cell_type": "code",
   "execution_count": 53,
   "id": "4bd553e9",
   "metadata": {},
   "outputs": [
    {
     "ename": "NameError",
     "evalue": "name 'sqrt' is not defined",
     "output_type": "error",
     "traceback": [
      "\u001b[0;31m---------------------------------------------------------------------------\u001b[0m",
      "\u001b[0;31mNameError\u001b[0m                                 Traceback (most recent call last)",
      "\u001b[0;32m<ipython-input-53-7b96b0cb41ba>\u001b[0m in \u001b[0;36m<module>\u001b[0;34m\u001b[0m\n\u001b[1;32m     10\u001b[0m     \u001b[0;32mreturn\u001b[0m \u001b[0mis_prime\u001b[0m\u001b[0;34m\u001b[0m\u001b[0;34m\u001b[0m\u001b[0m\n\u001b[1;32m     11\u001b[0m \u001b[0;34m\u001b[0m\u001b[0m\n\u001b[0;32m---> 12\u001b[0;31m \u001b[0mnp\u001b[0m\u001b[0;34m.\u001b[0m\u001b[0mnonzero\u001b[0m\u001b[0;34m(\u001b[0m\u001b[0msieve\u001b[0m\u001b[0;34m(\u001b[0m\u001b[0;36m40\u001b[0m\u001b[0;34m)\u001b[0m\u001b[0;34m[\u001b[0m\u001b[0;36m0\u001b[0m\u001b[0;34m]\u001b[0m\u001b[0;34m)\u001b[0m\u001b[0;34m\u001b[0m\u001b[0;34m\u001b[0m\u001b[0m\n\u001b[0m",
      "\u001b[0;32m<ipython-input-53-7b96b0cb41ba>\u001b[0m in \u001b[0;36msieve\u001b[0;34m(n)\u001b[0m\n\u001b[1;32m      5\u001b[0m     \u001b[0mis_prime\u001b[0m\u001b[0;34m[\u001b[0m\u001b[0;36m2\u001b[0m\u001b[0;34m:\u001b[0m\u001b[0;34m]\u001b[0m\u001b[0;34m=\u001b[0m \u001b[0;32mTrue\u001b[0m\u001b[0;34m\u001b[0m\u001b[0;34m\u001b[0m\u001b[0m\n\u001b[1;32m      6\u001b[0m \u001b[0;34m\u001b[0m\u001b[0m\n\u001b[0;32m----> 7\u001b[0;31m     \u001b[0;32mfor\u001b[0m \u001b[0mi\u001b[0m \u001b[0;32min\u001b[0m \u001b[0mrange\u001b[0m\u001b[0;34m(\u001b[0m\u001b[0;36m2\u001b[0m\u001b[0;34m,\u001b[0m \u001b[0mint\u001b[0m\u001b[0;34m(\u001b[0m\u001b[0msqrt\u001b[0m\u001b[0;34m(\u001b[0m\u001b[0mn\u001b[0m\u001b[0;34m)\u001b[0m\u001b[0;34m)\u001b[0m\u001b[0;34m)\u001b[0m\u001b[0;34m:\u001b[0m\u001b[0;34m\u001b[0m\u001b[0;34m\u001b[0m\u001b[0m\n\u001b[0m\u001b[1;32m      8\u001b[0m         \u001b[0mis_prime\u001b[0m\u001b[0;34m[\u001b[0m\u001b[0;36m2\u001b[0m\u001b[0;34m*\u001b[0m\u001b[0mi\u001b[0m \u001b[0;34m:\u001b[0m \u001b[0;34m:\u001b[0m \u001b[0mi\u001b[0m\u001b[0;34m]\u001b[0m \u001b[0;34m=\u001b[0m \u001b[0;32mFalse\u001b[0m\u001b[0;34m\u001b[0m\u001b[0;34m\u001b[0m\u001b[0m\n\u001b[1;32m      9\u001b[0m \u001b[0;34m\u001b[0m\u001b[0m\n",
      "\u001b[0;31mNameError\u001b[0m: name 'sqrt' is not defined"
     ]
    }
   ],
   "source": [
    "def sieve(n):\n",
    "    is_prime = np.empty(n+1, dtype = bool)\n",
    "    \n",
    "    is_prime[0:2] = False\n",
    "    is_prime[2:]= True\n",
    "\n",
    "    for i in range(2, int(sqrt(n))):\n",
    "        is_prime[2*i : : i] = False\n",
    "        \n",
    "    return is_prime\n",
    "\n",
    "np.nonzero(sieve(40)[0])"
   ]
  },
  {
   "cell_type": "markdown",
   "id": "4bab3a5d",
   "metadata": {},
   "source": [
    "# random.choice\n",
    "- choice(1D array/ int, size = int/ tuple, replace= True, p )\n",
    "- if int used instead of array population, then sample generated as if it were np.arange(int)\n",
    "- size by tuple i.e. (m, n, k ) = m* n * k\n",
    "- replace -> sample replacement or not\n",
    "- p -> probabilities associated with each data entry, else uniform"
   ]
  },
  {
   "cell_type": "code",
   "execution_count": 5,
   "id": "ac6065e7",
   "metadata": {},
   "outputs": [
    {
     "data": {
      "text/plain": [
       "array([0, 2])"
      ]
     },
     "execution_count": 5,
     "metadata": {},
     "output_type": "execute_result"
    }
   ],
   "source": [
    "np.random.choice(5,2, replace = True)"
   ]
  }
 ],
 "metadata": {
  "kernelspec": {
   "display_name": "Python 3",
   "language": "python",
   "name": "python3"
  },
  "language_info": {
   "codemirror_mode": {
    "name": "ipython",
    "version": 3
   },
   "file_extension": ".py",
   "mimetype": "text/x-python",
   "name": "python",
   "nbconvert_exporter": "python",
   "pygments_lexer": "ipython3",
   "version": "3.8.5"
  }
 },
 "nbformat": 4,
 "nbformat_minor": 5
}
