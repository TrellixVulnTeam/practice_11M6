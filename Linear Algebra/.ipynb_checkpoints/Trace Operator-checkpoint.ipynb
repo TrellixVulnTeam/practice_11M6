{
 "cells": [
  {
   "cell_type": "markdown",
   "id": "0d9df0bd",
   "metadata": {},
   "source": [
    "## Definition"
   ]
  },
  {
   "cell_type": "markdown",
   "id": "498083cd",
   "metadata": {},
   "source": [
    "The trace is the sum of all values in the diagonal of a square matrix."
   ]
  },
  {
   "cell_type": "code",
   "execution_count": 1,
   "id": "f6e630c4",
   "metadata": {},
   "outputs": [
    {
     "data": {
      "image/png": "[encoded data removed]",
      "text/plain": [
       "<IPython.core.display.Image object>"
      ]
     },
     "execution_count": 1,
     "metadata": {},
     "output_type": "execute_result"
    }
   ],
   "source": [
    "from IPython import display\n",
    "display.Image(\"./matrix_trace.png\")"
   ]
  },
  {
   "cell_type": "code",
   "execution_count": 5,
   "id": "4840d97c",
   "metadata": {},
   "outputs": [
    {
     "data": {
      "text/plain": [
       "array([[2, 9, 8],\n",
       "       [4, 7, 1],\n",
       "       [8, 2, 5]])"
      ]
     },
     "execution_count": 5,
     "metadata": {},
     "output_type": "execute_result"
    }
   ],
   "source": [
    "import numpy as np\n",
    "A = np.array([[2, 9, 8], [4, 7, 1], [8, 2, 5]])\n",
    "A"
   ]
  },
  {
   "cell_type": "code",
   "execution_count": 7,
   "id": "38292bc0",
   "metadata": {},
   "outputs": [
    {
     "data": {
      "text/plain": [
       "14"
      ]
     },
     "execution_count": 7,
     "metadata": {},
     "output_type": "execute_result"
    }
   ],
   "source": [
    "A_tr = np.trace(A)\n",
    "A_tr"
   ]
  },
  {
   "cell_type": "markdown",
   "id": "3c1243ec",
   "metadata": {},
   "source": [
    "## Properties"
   ]
  },
  {
   "cell_type": "markdown",
   "id": "b3feba07",
   "metadata": {},
   "source": [
    "1. $ Tr(A) = Tr(A^T)$\n",
    "\n",
    "- Since the transposition of a matrix doesn’t change the diagonal, the trace of the matrix is equal to the trace of its transpose.\n",
    "\n"
   ]
  },
  {
   "cell_type": "markdown",
   "id": "19341f12",
   "metadata": {},
   "source": [
    "2. $ Tr(ABC) = Tr(CAB) = Tr(BCA) $\n",
    "- diagonalizable matries are always <b> commutative </b>"
   ]
  },
  {
   "cell_type": "code",
   "execution_count": 14,
   "id": "2f2db5ec",
   "metadata": {},
   "outputs": [
    {
     "data": {
      "text/plain": [
       "531"
      ]
     },
     "execution_count": 14,
     "metadata": {},
     "output_type": "execute_result"
    }
   ],
   "source": [
    "A = np.array([[4, 12], [7, 6]])\n",
    "B = np.array([[1, -3], [4, 3]])\n",
    "C = np.array([[6, 6], [2, 5]])\n",
    "\n",
    "np.trace(A.dot(B).dot(C))"
   ]
  },
  {
   "cell_type": "code",
   "execution_count": 15,
   "id": "475556de",
   "metadata": {},
   "outputs": [
    {
     "data": {
      "text/plain": [
       "531"
      ]
     },
     "execution_count": 15,
     "metadata": {},
     "output_type": "execute_result"
    }
   ],
   "source": [
    "np.trace(C.dot(A).dot(B))"
   ]
  },
  {
   "cell_type": "code",
   "execution_count": 16,
   "id": "f76b6476",
   "metadata": {},
   "outputs": [
    {
     "data": {
      "text/plain": [
       "531"
      ]
     },
     "execution_count": 16,
     "metadata": {},
     "output_type": "execute_result"
    }
   ],
   "source": [
    "np.trace(B.dot(C).dot(A))"
   ]
  },
  {
   "cell_type": "markdown",
   "id": "05d63a68",
   "metadata": {},
   "source": [
    "## Purpose"
   ]
  },
  {
   "cell_type": "markdown",
   "id": "85a8b49e",
   "metadata": {},
   "source": [
    "- relevant in PCA"
   ]
  },
  {
   "cell_type": "markdown",
   "id": "4397848c",
   "metadata": {},
   "source": [
    "### 1. specify the Frobenius norm \n",
    "$ ∥A∥_F= \\sqrt{ \\Sigma_{ij} A_{ij}^2 }$\n",
    "\n",
    "using trace (Tr) of matrix:\n",
    "\n",
    "$ ∥A∥_F= \\sqrt{ Tr( AA^T)  }$"
   ]
  },
  {
   "cell_type": "code",
   "execution_count": 12,
   "id": "b2ecfad4",
   "metadata": {},
   "outputs": [
    {
     "data": {
      "text/plain": [
       "17.549928774784245"
      ]
     },
     "execution_count": 12,
     "metadata": {},
     "output_type": "execute_result"
    }
   ],
   "source": [
    "np.linalg.norm(A)"
   ]
  },
  {
   "cell_type": "code",
   "execution_count": 13,
   "id": "496e96f9",
   "metadata": {},
   "outputs": [
    {
     "data": {
      "text/plain": [
       "17.549928774784245"
      ]
     },
     "execution_count": 13,
     "metadata": {},
     "output_type": "execute_result"
    }
   ],
   "source": [
    "np.sqrt(np.trace(A @ A.T))"
   ]
  },
  {
   "cell_type": "code",
   "execution_count": null,
   "id": "2fc141f8",
   "metadata": {},
   "outputs": [],
   "source": []
  }
 ],
 "metadata": {
  "kernelspec": {
   "display_name": "Python 3",
   "language": "python",
   "name": "python3"
  },
  "language_info": {
   "codemirror_mode": {
    "name": "ipython",
    "version": 3
   },
   "file_extension": ".py",
   "mimetype": "text/x-python",
   "name": "python",
   "nbconvert_exporter": "python",
   "pygments_lexer": "ipython3",
   "version": "3.8.5"
  }
 },
 "nbformat": 4,
 "nbformat_minor": 5
}
