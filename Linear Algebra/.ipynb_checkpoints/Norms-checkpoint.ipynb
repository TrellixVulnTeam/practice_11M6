{
 "cells": [
  {
   "cell_type": "markdown",
   "id": "f398d2e3",
   "metadata": {},
   "source": [
    "## Uses"
   ]
  },
  {
   "cell_type": "markdown",
   "id": "1949496c",
   "metadata": {},
   "source": [
    "- generally used to evaluate the error of a model. \n",
    "    - For instance it is used to calculate the error between the output of a neural network and what is expected (the actual label or value). \n",
    "- You can think of the norm as the length of a vector. It is a function that maps a vector to a positive value."
   ]
  },
  {
   "cell_type": "markdown",
   "id": "290f3f9c",
   "metadata": {},
   "source": [
    "## Definition"
   ]
  },
  {
   "cell_type": "markdown",
   "id": "9e4dc407",
   "metadata": {},
   "source": [
    "Norms (usually written as ∥x∥) are any function with following properties:\n",
    "\n",
    "1. Norms are non-negative values. If you think of the norms as a length, you easily see why it can’t be negative.\n",
    "\n",
    "2. Norms are 0 if and only if the vector is a zero vector\n",
    "\n",
    "3. Norms respect the triangle inequality. $ ∥u+v∥≤∥u∥+∥v∥ $\n",
    "\n",
    "4. $ ∥k⋅u∥=|k|⋅∥u∥ $. The norm of a vector multiplied by a scalar is equal to the absolute value of this scalar multiplied by the norm of the vector."
   ]
  },
  {
   "cell_type": "code",
   "execution_count": 5,
   "id": "c9aa86ff",
   "metadata": {},
   "outputs": [
    {
     "data": {
      "image/png": "[encoded data removed]",
      "text/plain": [
       "<Figure size 432x288 with 1 Axes>"
      ]
     },
     "metadata": {
      "needs_background": "light"
     },
     "output_type": "display_data"
    }
   ],
   "source": [
    "# proving triangle inequality \n",
    "\n",
    "import matplotlib.pyplot as plt \n",
    "import seaborn as sns\n",
    "\n",
    "\n",
    "u = [0,0,1,6]\n",
    "v = [0,0,4,2]\n",
    "u_bis = [1,6,v[2],v[3]]\n",
    "w = [0,0,5,8]\n",
    "plt.quiver([u[0], u_bis[0], w[0]],\n",
    "           [u[1], u_bis[1], w[1]],\n",
    "           [u[2], u_bis[2], w[2]],\n",
    "           [u[3], u_bis[3], w[3]],\n",
    "           angles='xy', scale_units='xy', scale=1, color=sns.color_palette())\n",
    "# plt.rc('text', usetex=True)\n",
    "plt.xlim(-2, 6)\n",
    "plt.ylim(-2, 9)\n",
    "plt.axvline(x=0, color='grey')\n",
    "plt.axhline(y=0, color='grey')\n",
    "\n",
    "plt.text(-1, 3.5, r'$||\\vec{u}||$', color=sns.color_palette()[0], size=20)\n",
    "plt.text(2.5, 7.5, r'$||\\vec{v}||$', color=sns.color_palette()[1], size=20)\n",
    "plt.text(2, 2, r'$||\\vec{u}+\\vec{v}||$', color=sns.color_palette()[2], size=20)\n",
    "\n",
    "plt.show()\n",
    "plt.close()"
   ]
  },
  {
   "cell_type": "markdown",
   "id": "0d819ad3",
   "metadata": {},
   "source": [
    "## Types of Norms"
   ]
  },
  {
   "cell_type": "markdown",
   "id": "b17464b7",
   "metadata": {},
   "source": [
    "### P norms "
   ]
  },
  {
   "cell_type": "markdown",
   "id": "4c4c8ccf",
   "metadata": {},
   "source": [
    "$ ∥x∥^p=( \\sum_i|x_i|^p)^{1/p} $\n",
    "\n",
    "1. Calculate the absolute value of each element $x_i$\n",
    "2. Take the power p of these absolute values  $|x_i|^p$\n",
    "3. Sum all these powered absolute values \n",
    "4. Take the power $1/p$ of this result"
   ]
  },
  {
   "cell_type": "markdown",
   "id": "08cd0825",
   "metadata": {},
   "source": [
    "### L1 norm (Manhattan distance) "
   ]
  },
  {
   "cell_type": "markdown",
   "id": "19e36112",
   "metadata": {},
   "source": [
    "p=1 so this norm is simply the sum of the absolute values:\n",
    "\n",
    "$  ||x ||=\\sum_i |x_i| $"
   ]
  },
  {
   "cell_type": "markdown",
   "id": "df913dd5",
   "metadata": {},
   "source": [
    "###  L2 norm (Euclidean)"
   ]
  },
  {
   "cell_type": "markdown",
   "id": "90694c3e",
   "metadata": {},
   "source": [
    "$ ∥x∥^2=(\\Sigma_i x_i^2)^{1/2} $"
   ]
  },
  {
   "cell_type": "code",
   "execution_count": 12,
   "id": "5ef69c93",
   "metadata": {},
   "outputs": [],
   "source": [
    "import numpy as np"
   ]
  },
  {
   "cell_type": "code",
   "execution_count": 13,
   "id": "26e2692d",
   "metadata": {},
   "outputs": [
    {
     "data": {
      "text/plain": [
       "5.0"
      ]
     },
     "execution_count": 13,
     "metadata": {},
     "output_type": "execute_result"
    }
   ],
   "source": [
    "np.linalg.norm([3, 4])"
   ]
  },
  {
   "cell_type": "code",
   "execution_count": 14,
   "id": "c6dbeb85",
   "metadata": {},
   "outputs": [
    {
     "data": {
      "image/png": "[encoded data removed]",
      "text/plain": [
       "<Figure size 432x288 with 1 Axes>"
      ]
     },
     "metadata": {
      "needs_background": "light"
     },
     "output_type": "display_data"
    }
   ],
   "source": [
    "u = [0,0,3,4]\n",
    "\n",
    "plt.quiver([u[0]],\n",
    "           [u[1]],\n",
    "           [u[2]],\n",
    "           [u[3]],\n",
    "           angles='xy', scale_units='xy', scale=1)\n",
    "\n",
    "plt.xlim(-2, 4)\n",
    "plt.ylim(-2, 5)\n",
    "plt.axvline(x=0, color='grey')\n",
    "plt.axhline(y=0, color='grey')\n",
    "\n",
    "plt.annotate('', xy = (3.2, 0), xytext = (3.2, 4),\n",
    "             arrowprops=dict(edgecolor='black', arrowstyle = '<->'))\n",
    "plt.annotate('', xy = (0, -0.2), xytext = (3, -0.2),\n",
    "             arrowprops=dict(edgecolor='black', arrowstyle = '<->'))\n",
    "\n",
    "plt.text(1, 2.5, r'$\\vec{u}$', size=18)\n",
    "plt.text(3.3, 2, r'$\\vec{u}_y$', size=18)\n",
    "plt.text(1.5, -1, r'$\\vec{u}_x$', size=18)\n",
    "\n",
    "plt.show()\n",
    "plt.close()"
   ]
  },
  {
   "cell_type": "markdown",
   "id": "b638775e",
   "metadata": {},
   "source": [
    "### Square Euclidean norm"
   ]
  },
  {
   "cell_type": "markdown",
   "id": "8b6fcbcd",
   "metadata": {},
   "source": [
    "$ ∥x∥^2=\\Sigma_i x_i^2 $\n",
    "\n",
    "- convenient because it removes the square root and we end up with the simple sum of every squared values of the vector.\n",
    "\n",
    "- The squared Euclidean norm is widely used in machine learning partly because it can be calculated with the vector operation $x^Tx$ . There can be performance gain due to the optimization\n",
    "- Another advantage of the squared L2 norm is that its partial derivative is easily computed\n",
    "\n",
    "Cons\n",
    "- hardly discriminates between 0 and small values because the increase of the function is slow.\n"
   ]
  },
  {
   "cell_type": "code",
   "execution_count": 16,
   "id": "ead775ba",
   "metadata": {},
   "outputs": [
    {
     "data": {
      "text/plain": [
       "array([[2],\n",
       "       [5],\n",
       "       [3],\n",
       "       [3]])"
      ]
     },
     "execution_count": 16,
     "metadata": {},
     "output_type": "execute_result"
    }
   ],
   "source": [
    "x = np.array([[2], [5], [3], [3]])\n",
    "x"
   ]
  },
  {
   "cell_type": "code",
   "execution_count": 19,
   "id": "f13879fe",
   "metadata": {},
   "outputs": [
    {
     "data": {
      "text/plain": [
       "array([[47]])"
      ]
     },
     "execution_count": 19,
     "metadata": {},
     "output_type": "execute_result"
    }
   ],
   "source": [
    "euclideanNorm = x.T.dot(x)\n",
    "euclideanNorm"
   ]
  },
  {
   "cell_type": "code",
   "execution_count": 18,
   "id": "9b088bd0",
   "metadata": {},
   "outputs": [
    {
     "data": {
      "text/plain": [
       "47.0"
      ]
     },
     "execution_count": 18,
     "metadata": {},
     "output_type": "execute_result"
    }
   ],
   "source": [
    "np.linalg.norm(x)**2"
   ]
  },
  {
   "cell_type": "markdown",
   "id": "96c4ffcb",
   "metadata": {},
   "source": [
    "### Frobenius norm"
   ]
  },
  {
   "cell_type": "markdown",
   "id": "18fd3037",
   "metadata": {},
   "source": [
    "$ ∥A∥_F= \\sqrt{ \\Sigma_{ij} A_{ij}^2 }$\n",
    "\n",
    "- equivalent to take the L2 norm of the matrix after <b> flattening </b>.\n",
    "- in other words, Frobenius Norm is also equivalent to the Euclidean norm generalised to matrices instead of vectors."
   ]
  },
  {
   "cell_type": "code",
   "execution_count": 22,
   "id": "dc359a43",
   "metadata": {},
   "outputs": [
    {
     "data": {
      "text/plain": [
       "array([[1, 2],\n",
       "       [6, 4],\n",
       "       [3, 2]])"
      ]
     },
     "execution_count": 22,
     "metadata": {},
     "output_type": "execute_result"
    }
   ],
   "source": [
    "A = np.array([[1, 2], [6, 4], [3, 2]])\n",
    "A"
   ]
  },
  {
   "cell_type": "code",
   "execution_count": 23,
   "id": "10a94b04",
   "metadata": {},
   "outputs": [
    {
     "data": {
      "text/plain": [
       "8.366600265340756"
      ]
     },
     "execution_count": 23,
     "metadata": {},
     "output_type": "execute_result"
    }
   ],
   "source": [
    "np.linalg.norm(A)"
   ]
  }
 ],
 "metadata": {
  "kernelspec": {
   "display_name": "Python 3",
   "language": "python",
   "name": "python3"
  },
  "language_info": {
   "codemirror_mode": {
    "name": "ipython",
    "version": 3
   },
   "file_extension": ".py",
   "mimetype": "text/x-python",
   "name": "python",
   "nbconvert_exporter": "python",
   "pygments_lexer": "ipython3",
   "version": "3.8.5"
  }
 },
 "nbformat": 4,
 "nbformat_minor": 5
}
