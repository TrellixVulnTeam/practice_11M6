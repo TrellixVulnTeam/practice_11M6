{
 "cells": [
  {
   "cell_type": "markdown",
   "id": "24909b51",
   "metadata": {},
   "source": [
    "## Purpose"
   ]
  },
  {
   "cell_type": "markdown",
   "id": "f05c5fa9",
   "metadata": {},
   "source": [
    "We saw that not all matrices have an inverse. It is unfortunate because the inverse is used to solve system of equations (since $ A^{-1}A = I $). In some cases, a system of equation has no solution, and thus the inverse doesn’t exist. However it can be useful to find a value that is almost a solution (in term of minimizing the error). We will see for instance how we can find the best-fit line of a set of data points with the pseudoinverse."
   ]
  },
  {
   "cell_type": "markdown",
   "id": "f6b6c674",
   "metadata": {},
   "source": [
    "Example of solving equation $Ax = b $ with inverse\n",
    "\n",
    "$$ A^{−1}Ax=A^{−1}b $$\n",
    "$$ x =A^{−1}b $$"
   ]
  },
  {
   "cell_type": "markdown",
   "id": "e943732f",
   "metadata": {},
   "source": [
    "### Finding psuedoinverse ($+$)"
   ]
  },
  {
   "cell_type": "markdown",
   "id": "dcaee82f",
   "metadata": {},
   "source": [
    "$$ AA^+ \\approx I_n $$\n",
    "then minimizing frobenius norm \n",
    "\n",
    "$$ ||  AA^+ - I_n  ||_2 $$\n",
    "\n",
    "we get $$ A^+ = VD^+U^T \\tag{1} $$\n",
    "\n",
    "- as per SVD, U , D and V respectively the left singular vectors, the singular values and the right singular vectors of A \n",
    "- $A^+$ is the pseudoinverse of $A$\n",
    "- $D^+$ is the pseudoinverse of $D$\n",
    "    - since $D$ is diagonal matrix, $D^+$ can be calculated via reciprocal of non zero values of D"
   ]
  },
  {
   "cell_type": "code",
   "execution_count": 5,
   "id": "9692c83e",
   "metadata": {},
   "outputs": [
    {
     "data": {
      "text/plain": [
       "array([[ 0.16666667, -0.10606061,  0.03030303],\n",
       "       [-0.16666667,  0.28787879,  0.06060606]])"
      ]
     },
     "execution_count": 5,
     "metadata": {},
     "output_type": "execute_result"
    }
   ],
   "source": [
    "import numpy as np\n",
    "\n",
    "A = np.array([[7, 2], [3, 4], [5, 3]])\n",
    "U, D, V = np.linalg.svd(A)\n",
    "\n",
    "D_plus = np.zeros((A.shape[0], A.shape[1])).T\n",
    "D_plus[:D.shape[0], :D.shape[0]] = np.linalg.inv(np.diag(D))\n",
    "\n",
    "A_plus = V.T.dot(D_plus).dot(U.T)\n",
    "A_plus"
   ]
  },
  {
   "cell_type": "code",
   "execution_count": 14,
   "id": "47173320",
   "metadata": {},
   "outputs": [
    {
     "data": {
      "text/plain": [
       "array([[ 0.16666667, -0.10606061,  0.03030303],\n",
       "       [-0.16666667,  0.28787879,  0.06060606]])"
      ]
     },
     "execution_count": 14,
     "metadata": {},
     "output_type": "execute_result"
    }
   ],
   "source": [
    "# check that psuedoinverse is correct per numpy. numpy uses SVD\n",
    "np.linalg.pinv(A)"
   ]
  },
  {
   "cell_type": "markdown",
   "id": "f9c69867",
   "metadata": {},
   "source": [
    "It looks good! We can now check that it is really near the real $A^{-1}$"
   ]
  },
  {
   "cell_type": "code",
   "execution_count": 12,
   "id": "7e20ee80",
   "metadata": {},
   "outputs": [
    {
     "data": {
      "text/plain": [
       "array([[1.00000000e+00, 2.70616862e-16],\n",
       "       [2.28983499e-16, 1.00000000e+00]])"
      ]
     },
     "execution_count": 12,
     "metadata": {},
     "output_type": "execute_result"
    }
   ],
   "source": [
    "A_plus @ A"
   ]
  },
  {
   "cell_type": "markdown",
   "id": "fd2300ce",
   "metadata": {},
   "source": [
    "result is almost the identity matrix"
   ]
  },
  {
   "cell_type": "markdown",
   "id": "118bfbf7",
   "metadata": {},
   "source": [
    "Another way of computing it, which is less accurate than SVD method\n",
    "\n",
    "$$ A^+ = (A^TA)^{-1} A^T  \\tag{2} $$"
   ]
  },
  {
   "cell_type": "code",
   "execution_count": 13,
   "id": "a25b7dd9",
   "metadata": {},
   "outputs": [
    {
     "data": {
      "text/plain": [
       "array([[ 0.16666667, -0.10606061,  0.03030303],\n",
       "       [-0.16666667,  0.28787879,  0.06060606]])"
      ]
     },
     "execution_count": 13,
     "metadata": {},
     "output_type": "execute_result"
    }
   ],
   "source": [
    "A_plus_1 = np.linalg.inv(A.T.dot(A)).dot(A.T)\n",
    "A_plus_1"
   ]
  },
  {
   "cell_type": "markdown",
   "id": "0e3229d1",
   "metadata": {},
   "source": [
    "## 1. Solving overdetermined (equations > variables) equations "
   ]
  },
  {
   "cell_type": "markdown",
   "id": "3a178d49",
   "metadata": {},
   "source": [
    "3 equations, 2 unknowns\n",
    "\n",
    "$\n",
    "Ax = b\n",
    "\\longleftrightarrow\n",
    "\\begin{bmatrix}\n",
    "-2 & -1 \\\\\n",
    "4 & -1 \\\\\n",
    "-1 & -1 \n",
    "\\end{bmatrix}\n",
    "\\begin{bmatrix}\n",
    "x_1  \\\\\n",
    "x_2 \n",
    "\\end{bmatrix}\n",
    "=\n",
    "\\begin{bmatrix}\n",
    "-2 \\\\\n",
    "-8 \\\\\n",
    "-2\n",
    "\\end{bmatrix}\n",
    "$"
   ]
  },
  {
   "cell_type": "code",
   "execution_count": 41,
   "id": "da08bdfd",
   "metadata": {},
   "outputs": [
    {
     "data": {
      "image/png": "[encoded data removed]",
      "text/plain": [
       "<Figure size 432x288 with 1 Axes>"
      ]
     },
     "metadata": {
      "needs_background": "light"
     },
     "output_type": "display_data"
    }
   ],
   "source": [
    "import matplotlib.pyplot as plt\n",
    "x1 = np.linspace(-5, 5, 1000)\n",
    "x2_1 = -2*x1 + 2\n",
    "x2_2 = 4*x1 + 8\n",
    "x2_3 = -1*x1 + 2\n",
    "\n",
    "plt.plot(x1, x2_1)\n",
    "plt.plot(x1, x2_2)\n",
    "plt.plot(x1, x2_3)\n",
    "plt.xlim(-2., 1)\n",
    "plt.ylim(1, 5)\n",
    "plt.show()"
   ]
  },
  {
   "cell_type": "markdown",
   "id": "028b07cf",
   "metadata": {},
   "source": [
    "Find $A^+$"
   ]
  },
  {
   "cell_type": "code",
   "execution_count": 23,
   "id": "ae953ee7",
   "metadata": {},
   "outputs": [
    {
     "data": {
      "text/plain": [
       "array([[-0.11290323,  0.17741935, -0.06451613],\n",
       "       [-0.37096774, -0.27419355, -0.35483871]])"
      ]
     },
     "execution_count": 23,
     "metadata": {},
     "output_type": "execute_result"
    }
   ],
   "source": [
    "A = np.array([[-2, -1], [4, -1], [-1, -1]])\n",
    "A_plus = np.linalg.pinv(A)\n",
    "A_plus"
   ]
  },
  {
   "cell_type": "code",
   "execution_count": 28,
   "id": "72c57ddf",
   "metadata": {},
   "outputs": [
    {
     "data": {
      "text/plain": [
       "array([[-1.06451613],\n",
       "       [ 3.64516129]])"
      ]
     },
     "execution_count": 28,
     "metadata": {},
     "output_type": "execute_result"
    }
   ],
   "source": [
    "b = np.array([[-2], [-8], [-2]])\n",
    "\n",
    "res = A_plus.dot(b)\n",
    "res"
   ]
  },
  {
   "cell_type": "markdown",
   "id": "dee17d2e",
   "metadata": {},
   "source": [
    "plug into $ x = A^+ b $"
   ]
  },
  {
   "cell_type": "code",
   "execution_count": 27,
   "id": "c2a15eda",
   "metadata": {},
   "outputs": [
    {
     "data": {
      "text/plain": [
       "array([[-1.06451613],\n",
       "       [ 3.64516129]])"
      ]
     },
     "execution_count": 27,
     "metadata": {},
     "output_type": "execute_result"
    }
   ],
   "source": [
    "res = A_plus.dot(b)\n",
    "res"
   ]
  },
  {
   "cell_type": "code",
   "execution_count": 30,
   "id": "706ee0b6",
   "metadata": {},
   "outputs": [
    {
     "data": {
      "image/png": "[encoded data removed]",
      "text/plain": [
       "<Figure size 432x288 with 1 Axes>"
      ]
     },
     "metadata": {
      "needs_background": "light"
     },
     "output_type": "display_data"
    }
   ],
   "source": [
    "# x point as plotted below\n",
    "plt.plot(x1, x2_1)\n",
    "plt.plot(x1, x2_2)\n",
    "plt.plot(x1, x2_3)\n",
    "plt.xlim(-2., 1)\n",
    "plt.ylim(1, 5)\n",
    "\n",
    "plt.scatter(res[0], res[1])\n",
    "\n",
    "plt.show()\n"
   ]
  },
  {
   "cell_type": "markdown",
   "id": "edccea62",
   "metadata": {},
   "source": [
    "Maybe you would have expected the point being at the barycenter of the triangle (cf. Least square solution in the triangle center). This is not the case becase the equations are not scaled the same way. Actually the point is at the intersection of the three symmedians of the triangle."
   ]
  },
  {
   "cell_type": "markdown",
   "id": "1d338f71",
   "metadata": {},
   "source": [
    "## 2.  Fit line to set of points"
   ]
  },
  {
   "cell_type": "code",
   "execution_count": 34,
   "id": "8b2ae7b2",
   "metadata": {},
   "outputs": [
    {
     "data": {
      "image/png": "[encoded data removed]",
      "text/plain": [
       "<IPython.core.display.Image object>"
      ]
     },
     "execution_count": 34,
     "metadata": {},
     "output_type": "execute_result"
    }
   ],
   "source": [
    "from IPython import display\n",
    "display.Image(\"psuedo2.png\")"
   ]
  },
  {
   "cell_type": "markdown",
   "id": "ff590429",
   "metadata": {},
   "source": [
    "we are looking for best fit line for $ y = mx +b $\n",
    "\n",
    "Represent data points in matrix \n",
    "\n",
    "$\n",
    "Ax = b\n",
    "\\longleftrightarrow\n",
    "\\begin{bmatrix}\n",
    "0 & 1 \\\\\n",
    "1 & 1 \\\\\n",
    "2 & 1 \\\\\n",
    "3 & 1 \\\\\n",
    "3 & 1 \\\\\n",
    "4 & 1 \\\\\n",
    "\\end{bmatrix}\n",
    "\\begin{bmatrix}\n",
    "m  \\\\\n",
    "b \n",
    "\\end{bmatrix}\n",
    "=\n",
    "\\begin{bmatrix}\n",
    "2 \\\\\n",
    "4 \\\\\n",
    "0 \\\\\n",
    "2 \\\\\n",
    "5 \\\\\n",
    "3\n",
    "\\end{bmatrix}\n",
    "$\n",
    "\n",
    "this matrix gives eg. 0m +1b = y, where A matrix of coefficients"
   ]
  },
  {
   "cell_type": "code",
   "execution_count": 32,
   "id": "59b49493",
   "metadata": {},
   "outputs": [],
   "source": [
    "A = np.array([[0, 1], [1, 1], [2, 1], [3, 1], [3, 1], [4, 1]])\n",
    "b = np.array([[2], [4], [0], [2], [5], [3]])"
   ]
  },
  {
   "cell_type": "code",
   "execution_count": 35,
   "id": "e8ac7e26",
   "metadata": {},
   "outputs": [
    {
     "data": {
      "text/plain": [
       "array([[-2.00000000e-01, -1.07692308e-01, -1.53846154e-02,\n",
       "         7.69230769e-02,  7.69230769e-02,  1.69230769e-01],\n",
       "       [ 6.00000000e-01,  4.00000000e-01,  2.00000000e-01,\n",
       "         4.00160154e-17,  4.00160154e-17, -2.00000000e-01]])"
      ]
     },
     "execution_count": 35,
     "metadata": {},
     "output_type": "execute_result"
    }
   ],
   "source": [
    "A_plus = np.linalg.pinv(A)\n",
    "A_plus"
   ]
  },
  {
   "cell_type": "code",
   "execution_count": 38,
   "id": "c06c582b",
   "metadata": {},
   "outputs": [
    {
     "data": {
      "text/plain": [
       "array([[0.21538462],\n",
       "       [2.2       ]])"
      ]
     },
     "execution_count": 38,
     "metadata": {},
     "output_type": "execute_result"
    }
   ],
   "source": [
    "coefs = A_plus @ b\n",
    "coefs\n",
    "\n",
    "# thus m = 0.215 and b = 2.2"
   ]
  },
  {
   "cell_type": "code",
   "execution_count": 39,
   "id": "ab2a7af3",
   "metadata": {},
   "outputs": [
    {
     "data": {
      "image/png": "[encoded data removed]",
      "text/plain": [
       "<Figure size 432x288 with 1 Axes>"
      ]
     },
     "metadata": {
      "needs_background": "light"
     },
     "output_type": "display_data"
    }
   ],
   "source": [
    "x = np.linspace(-1, 5, 1000)\n",
    "y = coefs[0]*x + coefs[1]\n",
    "\n",
    "plt.plot(A[:, 0], b, '*')\n",
    "plt.plot(x, y)\n",
    "plt.xlim(-1., 6)\n",
    "plt.ylim(-0.5, 5.5)\n",
    "\n",
    "plt.show()"
   ]
  },
  {
   "cell_type": "code",
   "execution_count": 40,
   "id": "b5390648",
   "metadata": {},
   "outputs": [
    {
     "data": {
      "text/plain": [
       "array([[0.21538462],\n",
       "       [2.2       ]])"
      ]
     },
     "execution_count": 40,
     "metadata": {},
     "output_type": "execute_result"
    }
   ],
   "source": [
    "#check \n",
    "np.polyfit(A[:, 0], b, 1)"
   ]
  }
 ],
 "metadata": {
  "kernelspec": {
   "display_name": "Python 3",
   "language": "python",
   "name": "python3"
  },
  "language_info": {
   "codemirror_mode": {
    "name": "ipython",
    "version": 3
   },
   "file_extension": ".py",
   "mimetype": "text/x-python",
   "name": "python",
   "nbconvert_exporter": "python",
   "pygments_lexer": "ipython3",
   "version": "3.8.5"
  }
 },
 "nbformat": 4,
 "nbformat_minor": 5
}
