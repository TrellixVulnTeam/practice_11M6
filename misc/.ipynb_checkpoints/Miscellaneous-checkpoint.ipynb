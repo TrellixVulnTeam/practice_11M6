{
 "cells": [
  {
   "cell_type": "markdown",
   "id": "f90dbe68",
   "metadata": {},
   "source": [
    "## How to create own modules and import "
   ]
  },
  {
   "cell_type": "markdown",
   "id": "968be7af",
   "metadata": {},
   "source": [
    "https://www.youtube.com/watch?v=53VCqbceq2U\n",
    "\n",
    "1. create functions in ipynb\n",
    "2. download as .py\n",
    "3. upload back .py file\n",
    "4. import normally in notebook"
   ]
  }
 ],
 "metadata": {
  "kernelspec": {
   "display_name": "Python 3",
   "language": "python",
   "name": "python3"
  },
  "language_info": {
   "codemirror_mode": {
    "name": "ipython",
    "version": 3
   },
   "file_extension": ".py",
   "mimetype": "text/x-python",
   "name": "python",
   "nbconvert_exporter": "python",
   "pygments_lexer": "ipython3",
   "version": "3.8.5"
  }
 },
 "nbformat": 4,
 "nbformat_minor": 5
}
