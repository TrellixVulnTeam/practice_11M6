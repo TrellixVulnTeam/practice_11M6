{
 "cells": [
  {
   "cell_type": "markdown",
   "id": "51bdf2d8",
   "metadata": {},
   "source": [
    "## install"
   ]
  },
  {
   "cell_type": "code",
   "execution_count": null,
   "id": "657d4d81",
   "metadata": {},
   "outputs": [],
   "source": [
    "pip install celery"
   ]
  },
  {
   "cell_type": "code",
   "execution_count": null,
   "id": "41c05ccb",
   "metadata": {},
   "outputs": [],
   "source": [
    "sudo apt-get install rabbitmq-server"
   ]
  },
  {
   "cell_type": "markdown",
   "id": "da927eae",
   "metadata": {},
   "source": [
    "## start"
   ]
  },
  {
   "cell_type": "code",
   "execution_count": null,
   "id": "b40cd5dd",
   "metadata": {},
   "outputs": [],
   "source": [
    "sudo systemctl enable rabbitmq-server"
   ]
  },
  {
   "cell_type": "code",
   "execution_count": null,
   "id": "c0ceb704",
   "metadata": {},
   "outputs": [],
   "source": [
    "sudo systemctl start rabbitmq-server"
   ]
  },
  {
   "cell_type": "markdown",
   "id": "136662e0",
   "metadata": {},
   "source": [
    "## check status"
   ]
  },
  {
   "cell_type": "code",
   "execution_count": null,
   "id": "b094620a",
   "metadata": {},
   "outputs": [],
   "source": [
    "sudo systemctl status rabbitmq-server"
   ]
  }
 ],
 "metadata": {
  "kernelspec": {
   "display_name": "Python 3",
   "language": "python",
   "name": "python3"
  },
  "language_info": {
   "codemirror_mode": {
    "name": "ipython",
    "version": 3
   },
   "file_extension": ".py",
   "mimetype": "text/x-python",
   "name": "python",
   "nbconvert_exporter": "python",
   "pygments_lexer": "ipython3",
   "version": "3.8.5"
  }
 },
 "nbformat": 4,
 "nbformat_minor": 5
}
