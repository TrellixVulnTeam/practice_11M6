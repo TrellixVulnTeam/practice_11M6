{
 "cells": [
  {
   "cell_type": "markdown",
   "id": "0b40565e",
   "metadata": {},
   "source": [
    "# Matrix"
   ]
  },
  {
   "cell_type": "code",
   "execution_count": 74,
   "id": "4f850ee2",
   "metadata": {},
   "outputs": [],
   "source": [
    "import numpy as np"
   ]
  },
  {
   "cell_type": "markdown",
   "id": "f566df85",
   "metadata": {},
   "source": [
    "## Create Matrices"
   ]
  },
  {
   "cell_type": "code",
   "execution_count": 75,
   "id": "58ab664c",
   "metadata": {},
   "outputs": [
    {
     "data": {
      "text/plain": [
       "array([0, 1, 2, 3, 4, 5, 6, 7, 8, 9])"
      ]
     },
     "execution_count": 75,
     "metadata": {},
     "output_type": "execute_result"
    }
   ],
   "source": [
    "A= np.arange(10)\n",
    "A"
   ]
  },
  {
   "cell_type": "code",
   "execution_count": 76,
   "id": "70225b2b",
   "metadata": {},
   "outputs": [
    {
     "data": {
      "text/plain": [
       "array([[0.20147439, 0.15105735, 0.08022594],\n",
       "       [0.84696552, 0.47530222, 0.16676384],\n",
       "       [0.87180369, 0.49248805, 0.99908437]])"
      ]
     },
     "execution_count": 76,
     "metadata": {},
     "output_type": "execute_result"
    }
   ],
   "source": [
    "B= np.random.random((3,3))\n",
    "B"
   ]
  },
  {
   "cell_type": "code",
   "execution_count": 77,
   "id": "4f38abf3",
   "metadata": {},
   "outputs": [
    {
     "data": {
      "text/plain": [
       "array([[[0.23887191, 0.15462816, 0.5534093 ],\n",
       "        [0.83750594, 0.66006365, 0.38456949],\n",
       "        [0.48499366, 0.50117303, 0.27433906]],\n",
       "\n",
       "       [[0.86466722, 0.20621068, 0.68426398],\n",
       "        [0.18625618, 0.35363068, 0.14519649],\n",
       "        [0.08085351, 0.30885535, 0.69268136]],\n",
       "\n",
       "       [[0.57949838, 0.97970693, 0.81671027],\n",
       "        [0.69541647, 0.11136814, 0.30457574],\n",
       "        [0.41990102, 0.44052963, 0.77270872]]])"
      ]
     },
     "execution_count": 77,
     "metadata": {},
     "output_type": "execute_result"
    }
   ],
   "source": [
    "# 3D matrix \n",
    "C = np.random.random((3,3,3))\n",
    "C"
   ]
  },
  {
   "cell_type": "code",
   "execution_count": 78,
   "id": "5179b40c",
   "metadata": {},
   "outputs": [
    {
     "data": {
      "text/plain": [
       "array([[1., 0., 0.],\n",
       "       [0., 1., 0.],\n",
       "       [0., 0., 1.]])"
      ]
     },
     "execution_count": 78,
     "metadata": {},
     "output_type": "execute_result"
    }
   ],
   "source": [
    "# identity matrix\n",
    "\n",
    "np.eye(3)"
   ]
  },
  {
   "cell_type": "markdown",
   "id": "7cdf0abb",
   "metadata": {},
   "source": [
    "## See Matrix details"
   ]
  },
  {
   "cell_type": "code",
   "execution_count": 79,
   "id": "367e25ca",
   "metadata": {},
   "outputs": [
    {
     "name": "stdout",
     "output_type": "stream",
     "text": [
      "1\n"
     ]
    }
   ],
   "source": [
    "print(A.ndim)"
   ]
  },
  {
   "cell_type": "code",
   "execution_count": 80,
   "id": "3602fde1",
   "metadata": {},
   "outputs": [
    {
     "name": "stdout",
     "output_type": "stream",
     "text": [
      "(10,)\n"
     ]
    }
   ],
   "source": [
    "print(A.shape)"
   ]
  },
  {
   "cell_type": "markdown",
   "id": "43efb495",
   "metadata": {},
   "source": [
    "## Index/ Slice\n",
    "\n",
    "- [start: stop: steps, start: stop: steps]\n",
    "- steps --> if 1 step\n",
    "- note: slices are views (copy by reference)"
   ]
  },
  {
   "cell_type": "code",
   "execution_count": 81,
   "id": "59e68a58",
   "metadata": {},
   "outputs": [
    {
     "data": {
      "text/plain": [
       "array([0.48499366, 0.50117303, 0.27433906])"
      ]
     },
     "execution_count": 81,
     "metadata": {},
     "output_type": "execute_result"
    }
   ],
   "source": [
    "# get x= 0, y = 2 for 3D array \n",
    "\n",
    "C[0, 2, :]"
   ]
  },
  {
   "cell_type": "markdown",
   "id": "bf427dce",
   "metadata": {},
   "source": [
    "### Practice\n",
    "\n",
    "get colored subsets"
   ]
  },
  {
   "cell_type": "markdown",
   "id": "1ecdcbca",
   "metadata": {},
   "source": [
    "<img src=\"https://github.com/cse6040/labs-fa17/raw/master/lab10-numpy/slicing-exercise.png\" alt=\"Exercise: Extract these slices\" width=\"240\">"
   ]
  },
  {
   "cell_type": "code",
   "execution_count": 82,
   "id": "5670cc10",
   "metadata": {},
   "outputs": [
    {
     "data": {
      "text/plain": [
       "array([[ 0,  1,  2,  3,  4,  5],\n",
       "       [10, 11, 12, 13, 14, 15],\n",
       "       [20, 21, 22, 23, 24, 25],\n",
       "       [30, 31, 32, 33, 34, 35],\n",
       "       [40, 41, 42, 43, 44, 45],\n",
       "       [50, 51, 52, 53, 54, 55]])"
      ]
     },
     "execution_count": 82,
     "metadata": {},
     "output_type": "execute_result"
    }
   ],
   "source": [
    "Z= np.array([[0,1,2,3,4,5],[10,11,12,13,14,15],[20,21,22,23,24,25],[30,31,32,33,34,35],[40,41,42,43,44,45],[50,51,52,53,54,55]])\n",
    "Z"
   ]
  },
  {
   "cell_type": "code",
   "execution_count": 83,
   "id": "035b3144",
   "metadata": {},
   "outputs": [
    {
     "data": {
      "text/plain": [
       "array([[20, 22, 24],\n",
       "       [40, 42, 44]])"
      ]
     },
     "execution_count": 83,
     "metadata": {},
     "output_type": "execute_result"
    }
   ],
   "source": [
    "# green\n",
    "Z[2:: 2, 0::2]"
   ]
  },
  {
   "cell_type": "markdown",
   "id": "8cdee671",
   "metadata": {},
   "source": [
    "### check whether share memory"
   ]
  },
  {
   "cell_type": "code",
   "execution_count": 84,
   "id": "23c93ffd",
   "metadata": {},
   "outputs": [
    {
     "data": {
      "text/plain": [
       "False"
      ]
     },
     "execution_count": 84,
     "metadata": {},
     "output_type": "execute_result"
    }
   ],
   "source": [
    "np.may_share_memory(Z, Z.copy())"
   ]
  },
  {
   "cell_type": "code",
   "execution_count": 85,
   "id": "34062cc9",
   "metadata": {},
   "outputs": [
    {
     "data": {
      "text/plain": [
       "True"
      ]
     },
     "execution_count": 85,
     "metadata": {},
     "output_type": "execute_result"
    }
   ],
   "source": [
    "np.may_share_memory(Z, Z)"
   ]
  },
  {
   "cell_type": "markdown",
   "id": "76aefa3b",
   "metadata": {},
   "source": [
    "### Boolean mask"
   ]
  },
  {
   "cell_type": "code",
   "execution_count": 86,
   "id": "d9e92d28",
   "metadata": {},
   "outputs": [
    {
     "data": {
      "text/plain": [
       "array([[ True, False, False,  True, False, False],\n",
       "       [False, False,  True, False, False,  True],\n",
       "       [False,  True, False, False,  True, False],\n",
       "       [ True, False, False,  True, False, False],\n",
       "       [False, False,  True, False, False,  True],\n",
       "       [False,  True, False, False,  True, False]])"
      ]
     },
     "execution_count": 86,
     "metadata": {},
     "output_type": "execute_result"
    }
   ],
   "source": [
    "# boolean matrix if number is positive multiple of 3\n",
    "mask = Z%3 == 0\n",
    "mask"
   ]
  },
  {
   "cell_type": "code",
   "execution_count": 87,
   "id": "3c875825",
   "metadata": {},
   "outputs": [
    {
     "data": {
      "text/plain": [
       "array([[ True, False],\n",
       "       [False, False],\n",
       "       [False, False]])"
      ]
     },
     "execution_count": 87,
     "metadata": {},
     "output_type": "execute_result"
    }
   ],
   "source": [
    "is_prime = np.empty(n+1, dtype = bool)\n",
    "is_prime[:3]\n"
   ]
  },
  {
   "cell_type": "markdown",
   "id": "5b9308b4",
   "metadata": {},
   "source": [
    "## .norm"
   ]
  },
  {
   "cell_type": "code",
   "execution_count": 88,
   "id": "49f7b4e2",
   "metadata": {},
   "outputs": [
    {
     "data": {
      "text/plain": [
       "array([[0.20147439, 0.15105735, 0.08022594],\n",
       "       [0.84696552, 0.47530222, 0.16676384],\n",
       "       [0.87180369, 0.49248805, 0.99908437]])"
      ]
     },
     "execution_count": 88,
     "metadata": {},
     "output_type": "execute_result"
    }
   ],
   "source": [
    "B"
   ]
  },
  {
   "cell_type": "code",
   "execution_count": 89,
   "id": "deb2dfa4",
   "metadata": {},
   "outputs": [
    {
     "data": {
      "text/plain": [
       "array([0.2642848 , 0.98543035, 1.41448072])"
      ]
     },
     "execution_count": 89,
     "metadata": {},
     "output_type": "execute_result"
    }
   ],
   "source": [
    "B_norm = np.linalg.norm(B, ord=2, axis = 1)\n",
    "B_norm"
   ]
  },
  {
   "cell_type": "markdown",
   "id": "a0cf5d8f",
   "metadata": {},
   "source": [
    "## .argmin\n",
    "- axis default is flattened array"
   ]
  },
  {
   "cell_type": "code",
   "execution_count": 117,
   "id": "d81248b2",
   "metadata": {},
   "outputs": [
    {
     "data": {
      "text/plain": [
       "array([2, 2, 1])"
      ]
     },
     "execution_count": 117,
     "metadata": {},
     "output_type": "execute_result"
    }
   ],
   "source": [
    "argmin1= np.argmin(B, axis = 1)\n",
    "argmin1"
   ]
  },
  {
   "cell_type": "code",
   "execution_count": 118,
   "id": "5f66e2d0",
   "metadata": {},
   "outputs": [
    {
     "data": {
      "text/plain": [
       "(array([0, 0, 0]), array([2, 2, 1]))"
      ]
     },
     "execution_count": 118,
     "metadata": {},
     "output_type": "execute_result"
    }
   ],
   "source": [
    "noob = np.unravel_index(argmin1, B.shape)\n",
    "noob"
   ]
  },
  {
   "cell_type": "code",
   "execution_count": 119,
   "id": "dcf3dcc1",
   "metadata": {},
   "outputs": [
    {
     "data": {
      "text/plain": [
       "array([0.08022594, 0.08022594, 0.15105735])"
      ]
     },
     "execution_count": 119,
     "metadata": {},
     "output_type": "execute_result"
    }
   ],
   "source": [
    "B[noob]"
   ]
  },
  {
   "cell_type": "code",
   "execution_count": 91,
   "id": "d4e945ba",
   "metadata": {},
   "outputs": [
    {
     "data": {
      "text/plain": [
       "array([0, 0, 0])"
      ]
     },
     "execution_count": 91,
     "metadata": {},
     "output_type": "execute_result"
    }
   ],
   "source": [
    "argmin= np.argmin(B, axis = 0)\n",
    "argmin"
   ]
  },
  {
   "cell_type": "code",
   "execution_count": 92,
   "id": "76924c23",
   "metadata": {},
   "outputs": [
    {
     "data": {
      "text/plain": [
       "2"
      ]
     },
     "execution_count": 92,
     "metadata": {},
     "output_type": "execute_result"
    }
   ],
   "source": [
    "np.argmin(B)"
   ]
  },
  {
   "cell_type": "markdown",
   "id": "4336f31e",
   "metadata": {},
   "source": [
    "## .unravel_index"
   ]
  },
  {
   "cell_type": "code",
   "execution_count": 120,
   "id": "2b5eb85a",
   "metadata": {},
   "outputs": [
    {
     "data": {
      "text/plain": [
       "array([ 0,  1,  2,  3,  4,  5,  6,  7,  8,  9, 10, 11, 12, 13, 14, 15, 16,\n",
       "       17, 18, 19, 20, 21, 22, 23, 24, 25, 26, 27, 28, 29, 30, 31, 32, 33,\n",
       "       34, 35, 36, 37, 38, 39])"
      ]
     },
     "execution_count": 120,
     "metadata": {},
     "output_type": "execute_result"
    }
   ],
   "source": [
    "arr = np.arange(40)\n",
    "arr"
   ]
  },
  {
   "cell_type": "code",
   "execution_count": null,
   "id": "7cedbd6f",
   "metadata": {},
   "outputs": [],
   "source": [
    "np.unravel_idnex"
   ]
  },
  {
   "cell_type": "markdown",
   "id": "e0e4b1f2",
   "metadata": {},
   "source": [
    "# random.choice\n",
    "- choice( 1D array/ int, size = int/ tuple, replace= True, p )\n",
    "- if int used instead of array population, then sample generated as if it were np.arange(int)\n",
    "- size by tuple i.e. (m, n, k ) = m* n * k\n",
    "- replace -> sample replacement or not\n",
    "- p -> probabilities associated with each data entry, else uniform"
   ]
  },
  {
   "cell_type": "code",
   "execution_count": 5,
   "id": "b7786df6",
   "metadata": {},
   "outputs": [
    {
     "data": {
      "text/plain": [
       "array([0, 2])"
      ]
     },
     "execution_count": 5,
     "metadata": {},
     "output_type": "execute_result"
    }
   ],
   "source": [
    "np.random.choice(5,2, replace = True)"
   ]
  },
  {
   "cell_type": "markdown",
   "id": "e029d6f0",
   "metadata": {},
   "source": [
    "## a) use len(arr) if array > 1D --> to randomize the row"
   ]
  },
  {
   "cell_type": "code",
   "execution_count": 32,
   "id": "c860a197",
   "metadata": {},
   "outputs": [
    {
     "data": {
      "text/plain": [
       "array([[5.1, 3.5, 1.4, 0.2, 'setosa'],\n",
       "       [4.9, 3.0, 1.4, 0.2, 'setosa'],\n",
       "       [4.7, 3.2, 1.3, 0.2, 'setosa'],\n",
       "       [4.6, 3.1, 1.5, 0.2, 'setosa']], dtype=object)"
      ]
     },
     "execution_count": 32,
     "metadata": {},
     "output_type": "execute_result"
    }
   ],
   "source": [
    "# 2D array here\n",
    "import seaborn as sns\n",
    "iris = sns.load_dataset('iris')[:4]\n",
    "iris_arr= iris.to_numpy()\n",
    "iris_arr"
   ]
  },
  {
   "cell_type": "code",
   "execution_count": 33,
   "id": "ffa3bb49",
   "metadata": {},
   "outputs": [
    {
     "data": {
      "text/plain": [
       "array([3, 1])"
      ]
     },
     "execution_count": 33,
     "metadata": {},
     "output_type": "execute_result"
    }
   ],
   "source": [
    "from numpy.random import choice\n",
    "# get random rows\n",
    "n = choice(len(iris), size= 2)\n",
    "n"
   ]
  },
  {
   "cell_type": "code",
   "execution_count": 31,
   "id": "f0989c36",
   "metadata": {},
   "outputs": [
    {
     "data": {
      "text/plain": [
       "array([[5.1, 3.5, 1.4, 0.2, 'setosa'],\n",
       "       [4.9, 3.0, 1.4, 0.2, 'setosa']], dtype=object)"
      ]
     },
     "execution_count": 31,
     "metadata": {},
     "output_type": "execute_result"
    }
   ],
   "source": [
    "iris_arr[n,:]"
   ]
  }
 ],
 "metadata": {
  "kernelspec": {
   "display_name": "Python 3",
   "language": "python",
   "name": "python3"
  },
  "language_info": {
   "codemirror_mode": {
    "name": "ipython",
    "version": 3
   },
   "file_extension": ".py",
   "mimetype": "text/x-python",
   "name": "python",
   "nbconvert_exporter": "python",
   "pygments_lexer": "ipython3",
   "version": "3.8.5"
  }
 },
 "nbformat": 4,
 "nbformat_minor": 5
}
